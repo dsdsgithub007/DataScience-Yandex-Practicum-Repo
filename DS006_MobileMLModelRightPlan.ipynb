{
 "cells": [
  {
   "cell_type": "markdown",
   "metadata": {},
   "source": [
    "# Project description\n",
    "\n",
    "- Mobile carrier Megaline has found out that many of their subscribers use legacy plans. \n",
    "\n",
    "What we have:\n",
    "- You have access to behavior data about subscribers who have already switched to the new plans (from the project for the Statistical Data Analysis course). \n",
    "- Since you’ve already performed the data preprocessing step, you can move straight to creating the model.\n",
    "\n",
    "What we need to do:\n",
    "- **They want to develop a model that would analyze subscribers' behavior and recommend one of Megaline's newer plans: Smart or Ultra.**\n",
    "\n",
    "- **For this classification task, you need to develop a model that will pick the right plan.**\n",
    "\n",
    "- **Develop a model with the highest possible accuracy. In this project, the threshold for accuracy is 0.75. Check the accuracy using the test dataset.**"
   ]
  },
  {
   "cell_type": "code",
   "execution_count": 595,
   "metadata": {},
   "outputs": [],
   "source": [
    "import pandas as pd\n",
    "import matplotlib.pyplot as plt\n",
    "import numpy as np \n",
    "from scipy import stats as st\n",
    "from time import time\n",
    "\n",
    "%matplotlib inline"
   ]
  },
  {
   "cell_type": "code",
   "execution_count": 596,
   "metadata": {},
   "outputs": [],
   "source": [
    "#import libraries for categorical classification based on is_ultra\n",
    "\n",
    "from sklearn.model_selection import train_test_split\n",
    "\n",
    "#Decision tree import\n",
    "from sklearn.tree import DecisionTreeClassifier\n",
    "\n",
    "#Random Forest library\n",
    "from sklearn.ensemble import RandomForestClassifier\n",
    "\n",
    "#Logistic Regression\n",
    "from sklearn.linear_model import LogisticRegression\n",
    "\n",
    "#Accuracy score library\n",
    "from sklearn.metrics import accuracy_score"
   ]
  },
  {
   "cell_type": "markdown",
   "metadata": {},
   "source": [
    "# STEP 1\n",
    "\n",
    "- Open and look through the data file. Path to the file:datasets/users_behavior.csv Download dataset."
   ]
  },
  {
   "cell_type": "code",
   "execution_count": 597,
   "metadata": {},
   "outputs": [],
   "source": [
    "#Open the .csv file and load into a dataframe\n",
    "path = '/datasets/'\n",
    "path1 = path + 'users_behavior.csv'\n",
    "df = pd.read_csv(path1 ,sep=',')\n",
    "accuracy_threshold=0.75"
   ]
  },
  {
   "cell_type": "code",
   "execution_count": 598,
   "metadata": {},
   "outputs": [
    {
     "name": "stdout",
     "output_type": "stream",
     "text": [
      "Index(['calls', 'minutes', 'messages', 'mb_used', 'is_ultra'], dtype='object')\n"
     ]
    },
    {
     "data": {
      "text/plain": [
       "'SHAPE'"
      ]
     },
     "metadata": {},
     "output_type": "display_data"
    },
    {
     "data": {
      "text/plain": [
       "(3214, 5)"
      ]
     },
     "metadata": {},
     "output_type": "display_data"
    }
   ],
   "source": [
    "#Print the columns and shape of the dataframe\n",
    "print(df.columns)\n",
    "display('SHAPE',df.shape)"
   ]
  },
  {
   "cell_type": "markdown",
   "metadata": {},
   "source": [
    "## Data description\n",
    "Every observation in the dataset contains monthly behavior information about one user. The information given is as follows:\n",
    "- сalls — number of calls,\n",
    "- minutes — total call duration in minutes,\n",
    "- messages — number of text messages,\n",
    "- mb_used — Internet traffic used in MB,\n",
    "- is_ultra — plan for the current month (Ultra - 1, Smart - 0)."
   ]
  },
  {
   "cell_type": "code",
   "execution_count": 599,
   "metadata": {
    "scrolled": true
   },
   "outputs": [
    {
     "name": "stdout",
     "output_type": "stream",
     "text": [
      "<class 'pandas.core.frame.DataFrame'>\n",
      "RangeIndex: 3214 entries, 0 to 3213\n",
      "Data columns (total 5 columns):\n",
      "calls       3214 non-null float64\n",
      "minutes     3214 non-null float64\n",
      "messages    3214 non-null float64\n",
      "mb_used     3214 non-null float64\n",
      "is_ultra    3214 non-null int64\n",
      "dtypes: float64(4), int64(1)\n",
      "memory usage: 125.7 KB\n"
     ]
    },
    {
     "data": {
      "text/plain": [
       "None"
      ]
     },
     "metadata": {},
     "output_type": "display_data"
    }
   ],
   "source": [
    "#Check the dataframe info for blank datatypes\n",
    "display(df.info())"
   ]
  },
  {
   "cell_type": "markdown",
   "metadata": {},
   "source": [
    "## CONCLUSION ##\n",
    "- Dataframe has no blank data\n",
    "- Data types are correct"
   ]
  },
  {
   "cell_type": "code",
   "execution_count": 600,
   "metadata": {},
   "outputs": [
    {
     "data": {
      "text/html": [
       "<div>\n",
       "<style scoped>\n",
       "    .dataframe tbody tr th:only-of-type {\n",
       "        vertical-align: middle;\n",
       "    }\n",
       "\n",
       "    .dataframe tbody tr th {\n",
       "        vertical-align: top;\n",
       "    }\n",
       "\n",
       "    .dataframe thead th {\n",
       "        text-align: right;\n",
       "    }\n",
       "</style>\n",
       "<table border=\"1\" class=\"dataframe\">\n",
       "  <thead>\n",
       "    <tr style=\"text-align: right;\">\n",
       "      <th></th>\n",
       "      <th>calls</th>\n",
       "      <th>minutes</th>\n",
       "      <th>messages</th>\n",
       "      <th>mb_used</th>\n",
       "      <th>is_ultra</th>\n",
       "    </tr>\n",
       "  </thead>\n",
       "  <tbody>\n",
       "    <tr>\n",
       "      <td>0</td>\n",
       "      <td>40.0</td>\n",
       "      <td>311.90</td>\n",
       "      <td>83.0</td>\n",
       "      <td>19915.42</td>\n",
       "      <td>0</td>\n",
       "    </tr>\n",
       "    <tr>\n",
       "      <td>1</td>\n",
       "      <td>85.0</td>\n",
       "      <td>516.75</td>\n",
       "      <td>56.0</td>\n",
       "      <td>22696.96</td>\n",
       "      <td>0</td>\n",
       "    </tr>\n",
       "    <tr>\n",
       "      <td>2</td>\n",
       "      <td>77.0</td>\n",
       "      <td>467.66</td>\n",
       "      <td>86.0</td>\n",
       "      <td>21060.45</td>\n",
       "      <td>0</td>\n",
       "    </tr>\n",
       "    <tr>\n",
       "      <td>3</td>\n",
       "      <td>106.0</td>\n",
       "      <td>745.53</td>\n",
       "      <td>81.0</td>\n",
       "      <td>8437.39</td>\n",
       "      <td>1</td>\n",
       "    </tr>\n",
       "    <tr>\n",
       "      <td>4</td>\n",
       "      <td>66.0</td>\n",
       "      <td>418.74</td>\n",
       "      <td>1.0</td>\n",
       "      <td>14502.75</td>\n",
       "      <td>0</td>\n",
       "    </tr>\n",
       "  </tbody>\n",
       "</table>\n",
       "</div>"
      ],
      "text/plain": [
       "   calls  minutes  messages   mb_used  is_ultra\n",
       "0   40.0   311.90      83.0  19915.42         0\n",
       "1   85.0   516.75      56.0  22696.96         0\n",
       "2   77.0   467.66      86.0  21060.45         0\n",
       "3  106.0   745.53      81.0   8437.39         1\n",
       "4   66.0   418.74       1.0  14502.75         0"
      ]
     },
     "metadata": {},
     "output_type": "display_data"
    },
    {
     "data": {
      "text/html": [
       "<div>\n",
       "<style scoped>\n",
       "    .dataframe tbody tr th:only-of-type {\n",
       "        vertical-align: middle;\n",
       "    }\n",
       "\n",
       "    .dataframe tbody tr th {\n",
       "        vertical-align: top;\n",
       "    }\n",
       "\n",
       "    .dataframe thead th {\n",
       "        text-align: right;\n",
       "    }\n",
       "</style>\n",
       "<table border=\"1\" class=\"dataframe\">\n",
       "  <thead>\n",
       "    <tr style=\"text-align: right;\">\n",
       "      <th></th>\n",
       "      <th>calls</th>\n",
       "      <th>minutes</th>\n",
       "      <th>messages</th>\n",
       "      <th>mb_used</th>\n",
       "      <th>is_ultra</th>\n",
       "    </tr>\n",
       "  </thead>\n",
       "  <tbody>\n",
       "    <tr>\n",
       "      <td>3209</td>\n",
       "      <td>122.0</td>\n",
       "      <td>910.98</td>\n",
       "      <td>20.0</td>\n",
       "      <td>35124.90</td>\n",
       "      <td>1</td>\n",
       "    </tr>\n",
       "    <tr>\n",
       "      <td>3210</td>\n",
       "      <td>25.0</td>\n",
       "      <td>190.36</td>\n",
       "      <td>0.0</td>\n",
       "      <td>3275.61</td>\n",
       "      <td>0</td>\n",
       "    </tr>\n",
       "    <tr>\n",
       "      <td>3211</td>\n",
       "      <td>97.0</td>\n",
       "      <td>634.44</td>\n",
       "      <td>70.0</td>\n",
       "      <td>13974.06</td>\n",
       "      <td>0</td>\n",
       "    </tr>\n",
       "    <tr>\n",
       "      <td>3212</td>\n",
       "      <td>64.0</td>\n",
       "      <td>462.32</td>\n",
       "      <td>90.0</td>\n",
       "      <td>31239.78</td>\n",
       "      <td>0</td>\n",
       "    </tr>\n",
       "    <tr>\n",
       "      <td>3213</td>\n",
       "      <td>80.0</td>\n",
       "      <td>566.09</td>\n",
       "      <td>6.0</td>\n",
       "      <td>29480.52</td>\n",
       "      <td>1</td>\n",
       "    </tr>\n",
       "  </tbody>\n",
       "</table>\n",
       "</div>"
      ],
      "text/plain": [
       "      calls  minutes  messages   mb_used  is_ultra\n",
       "3209  122.0   910.98      20.0  35124.90         1\n",
       "3210   25.0   190.36       0.0   3275.61         0\n",
       "3211   97.0   634.44      70.0  13974.06         0\n",
       "3212   64.0   462.32      90.0  31239.78         0\n",
       "3213   80.0   566.09       6.0  29480.52         1"
      ]
     },
     "metadata": {},
     "output_type": "display_data"
    }
   ],
   "source": [
    "#Display the 5 top and bottom rows of the dataframe\n",
    "display(df.head(), df.tail())"
   ]
  },
  {
   "cell_type": "code",
   "execution_count": 601,
   "metadata": {
    "scrolled": false
   },
   "outputs": [
    {
     "data": {
      "text/html": [
       "<div>\n",
       "<style scoped>\n",
       "    .dataframe tbody tr th:only-of-type {\n",
       "        vertical-align: middle;\n",
       "    }\n",
       "\n",
       "    .dataframe tbody tr th {\n",
       "        vertical-align: top;\n",
       "    }\n",
       "\n",
       "    .dataframe thead tr th {\n",
       "        text-align: left;\n",
       "    }\n",
       "\n",
       "    .dataframe thead tr:last-of-type th {\n",
       "        text-align: right;\n",
       "    }\n",
       "</style>\n",
       "<table border=\"1\" class=\"dataframe\">\n",
       "  <thead>\n",
       "    <tr>\n",
       "      <th></th>\n",
       "      <th colspan=\"4\" halign=\"left\">mean</th>\n",
       "      <th colspan=\"4\" halign=\"left\">sum</th>\n",
       "      <th colspan=\"4\" halign=\"left\">count</th>\n",
       "    </tr>\n",
       "    <tr>\n",
       "      <th></th>\n",
       "      <th>calls</th>\n",
       "      <th>mb_used</th>\n",
       "      <th>messages</th>\n",
       "      <th>minutes</th>\n",
       "      <th>calls</th>\n",
       "      <th>mb_used</th>\n",
       "      <th>messages</th>\n",
       "      <th>minutes</th>\n",
       "      <th>calls</th>\n",
       "      <th>mb_used</th>\n",
       "      <th>messages</th>\n",
       "      <th>minutes</th>\n",
       "    </tr>\n",
       "    <tr>\n",
       "      <th>is_ultra</th>\n",
       "      <th></th>\n",
       "      <th></th>\n",
       "      <th></th>\n",
       "      <th></th>\n",
       "      <th></th>\n",
       "      <th></th>\n",
       "      <th></th>\n",
       "      <th></th>\n",
       "      <th></th>\n",
       "      <th></th>\n",
       "      <th></th>\n",
       "      <th></th>\n",
       "    </tr>\n",
       "  </thead>\n",
       "  <tbody>\n",
       "    <tr>\n",
       "      <td>0</td>\n",
       "      <td>58.463437</td>\n",
       "      <td>16208.466949</td>\n",
       "      <td>33.384029</td>\n",
       "      <td>405.942952</td>\n",
       "      <td>130315.0</td>\n",
       "      <td>36128672.83</td>\n",
       "      <td>74413.0</td>\n",
       "      <td>904846.84</td>\n",
       "      <td>2229</td>\n",
       "      <td>2229</td>\n",
       "      <td>2229</td>\n",
       "      <td>2229</td>\n",
       "    </tr>\n",
       "    <tr>\n",
       "      <td>1</td>\n",
       "      <td>73.392893</td>\n",
       "      <td>19468.823228</td>\n",
       "      <td>49.363452</td>\n",
       "      <td>511.224569</td>\n",
       "      <td>72292.0</td>\n",
       "      <td>19176790.88</td>\n",
       "      <td>48623.0</td>\n",
       "      <td>503556.20</td>\n",
       "      <td>985</td>\n",
       "      <td>985</td>\n",
       "      <td>985</td>\n",
       "      <td>985</td>\n",
       "    </tr>\n",
       "  </tbody>\n",
       "</table>\n",
       "</div>"
      ],
      "text/plain": [
       "               mean                                            sum  \\\n",
       "              calls       mb_used   messages     minutes     calls   \n",
       "is_ultra                                                             \n",
       "0         58.463437  16208.466949  33.384029  405.942952  130315.0   \n",
       "1         73.392893  19468.823228  49.363452  511.224569   72292.0   \n",
       "\n",
       "                                          count                           \n",
       "              mb_used messages    minutes calls mb_used messages minutes  \n",
       "is_ultra                                                                  \n",
       "0         36128672.83  74413.0  904846.84  2229    2229     2229    2229  \n",
       "1         19176790.88  48623.0  503556.20   985     985      985     985  "
      ]
     },
     "metadata": {},
     "output_type": "display_data"
    },
    {
     "data": {
      "text/html": [
       "<div>\n",
       "<style scoped>\n",
       "    .dataframe tbody tr th:only-of-type {\n",
       "        vertical-align: middle;\n",
       "    }\n",
       "\n",
       "    .dataframe tbody tr th {\n",
       "        vertical-align: top;\n",
       "    }\n",
       "\n",
       "    .dataframe thead tr th {\n",
       "        text-align: left;\n",
       "    }\n",
       "\n",
       "    .dataframe thead tr:last-of-type th {\n",
       "        text-align: right;\n",
       "    }\n",
       "</style>\n",
       "<table border=\"1\" class=\"dataframe\">\n",
       "  <thead>\n",
       "    <tr>\n",
       "      <th></th>\n",
       "      <th>&lt;lambda&gt;</th>\n",
       "    </tr>\n",
       "    <tr>\n",
       "      <th></th>\n",
       "      <th>calls</th>\n",
       "    </tr>\n",
       "    <tr>\n",
       "      <th>is_ultra</th>\n",
       "      <th></th>\n",
       "    </tr>\n",
       "  </thead>\n",
       "  <tbody>\n",
       "    <tr>\n",
       "      <td>0</td>\n",
       "      <td>69.0</td>\n",
       "    </tr>\n",
       "    <tr>\n",
       "      <td>1</td>\n",
       "      <td>31.0</td>\n",
       "    </tr>\n",
       "  </tbody>\n",
       "</table>\n",
       "</div>"
      ],
      "text/plain": [
       "         <lambda>\n",
       "            calls\n",
       "is_ultra         \n",
       "0            69.0\n",
       "1            31.0"
      ]
     },
     "metadata": {},
     "output_type": "display_data"
    }
   ],
   "source": [
    "#Check the number of ultra and smart plan users\n",
    "#ultra users have is_ultra = 1, smart plan users have is_ultra = 0\n",
    "func_percent = lambda x: round(100*x.count()/df.shape[0])\n",
    "display(df.pivot_table(index='is_ultra',values=['calls','minutes','messages','mb_used'],aggfunc=['mean','sum','count']))\n",
    "display(df.pivot_table(index='is_ultra',values=['calls'],aggfunc=[func_percent]))"
   ]
  },
  {
   "cell_type": "markdown",
   "metadata": {},
   "source": [
    "## CONCLUSION ##\n",
    "- There are 2229 (71%) smart plan users, 985 (31%) ultra-plan users"
   ]
  },
  {
   "cell_type": "markdown",
   "metadata": {},
   "source": [
    "# STEP 2\n",
    "- Split the source data into a training set, a validation set, and a test set."
   ]
  },
  {
   "cell_type": "code",
   "execution_count": 602,
   "metadata": {
    "scrolled": true
   },
   "outputs": [
    {
     "name": "stdout",
     "output_type": "stream",
     "text": [
      "training set  : 60% (1928, 5)\n",
      "validation set: 20% (643, 5)\n",
      "test set      : 20% (643, 5)\n"
     ]
    }
   ],
   "source": [
    "#SPLIT THE DATASET INTO TRAINING, VALIDATION and TEST\n",
    "\n",
    "#FIRST SPLIT INTO TRAINING(60%) AND VALID_TEST (40%)\n",
    "df_train, df_valid_test = train_test_split(df, test_size=0.40, random_state=12345)\n",
    "\n",
    "#SPLIT VALID_TEST INTO VALIDATION and TEST (20% each)\n",
    "df_valid, df_test = train_test_split(df_valid_test, test_size=0.5,random_state=12345)\n",
    "\n",
    "totsize = len(df)\n",
    "\n",
    "print('training set  : {0:.0%}'.format(len(df_train) /totsize),df_train.shape)\n",
    "print('validation set: {0:.0%}'.format(len(df_valid)/totsize),df_valid.shape)\n",
    "print('test set      : {0:.0%}'.format(len(df_test)/totsize),df_test.shape)"
   ]
  },
  {
   "cell_type": "code",
   "execution_count": 603,
   "metadata": {},
   "outputs": [
    {
     "data": {
      "text/html": [
       "<div>\n",
       "<style scoped>\n",
       "    .dataframe tbody tr th:only-of-type {\n",
       "        vertical-align: middle;\n",
       "    }\n",
       "\n",
       "    .dataframe tbody tr th {\n",
       "        vertical-align: top;\n",
       "    }\n",
       "\n",
       "    .dataframe thead tr th {\n",
       "        text-align: left;\n",
       "    }\n",
       "\n",
       "    .dataframe thead tr:last-of-type th {\n",
       "        text-align: right;\n",
       "    }\n",
       "</style>\n",
       "<table border=\"1\" class=\"dataframe\">\n",
       "  <thead>\n",
       "    <tr>\n",
       "      <th></th>\n",
       "      <th>count</th>\n",
       "      <th>&lt;lambda&gt;</th>\n",
       "    </tr>\n",
       "    <tr>\n",
       "      <th></th>\n",
       "      <th>calls</th>\n",
       "      <th>calls</th>\n",
       "    </tr>\n",
       "    <tr>\n",
       "      <th>is_ultra</th>\n",
       "      <th></th>\n",
       "      <th></th>\n",
       "    </tr>\n",
       "  </thead>\n",
       "  <tbody>\n",
       "    <tr>\n",
       "      <td>0</td>\n",
       "      <td>1335</td>\n",
       "      <td>69.0</td>\n",
       "    </tr>\n",
       "    <tr>\n",
       "      <td>1</td>\n",
       "      <td>593</td>\n",
       "      <td>31.0</td>\n",
       "    </tr>\n",
       "  </tbody>\n",
       "</table>\n",
       "</div>"
      ],
      "text/plain": [
       "         count <lambda>\n",
       "         calls    calls\n",
       "is_ultra               \n",
       "0         1335     69.0\n",
       "1          593     31.0"
      ]
     },
     "metadata": {},
     "output_type": "display_data"
    }
   ],
   "source": [
    "func_percent_train = lambda x: round(100*x.count()/df_train.shape[0])\n",
    "display(df_train.pivot_table(index='is_ultra',values=['calls'],aggfunc=['count',func_percent_train]))"
   ]
  },
  {
   "cell_type": "markdown",
   "metadata": {},
   "source": [
    "## CONCLUSION ##\n",
    "**TRAINING DATASET**\n",
    "- There are 1335 (69%) smart plan users, 593 (31%) ultra-plan users"
   ]
  },
  {
   "cell_type": "code",
   "execution_count": 604,
   "metadata": {},
   "outputs": [
    {
     "data": {
      "text/html": [
       "<div>\n",
       "<style scoped>\n",
       "    .dataframe tbody tr th:only-of-type {\n",
       "        vertical-align: middle;\n",
       "    }\n",
       "\n",
       "    .dataframe tbody tr th {\n",
       "        vertical-align: top;\n",
       "    }\n",
       "\n",
       "    .dataframe thead tr th {\n",
       "        text-align: left;\n",
       "    }\n",
       "\n",
       "    .dataframe thead tr:last-of-type th {\n",
       "        text-align: right;\n",
       "    }\n",
       "</style>\n",
       "<table border=\"1\" class=\"dataframe\">\n",
       "  <thead>\n",
       "    <tr>\n",
       "      <th></th>\n",
       "      <th>count</th>\n",
       "      <th>&lt;lambda&gt;</th>\n",
       "    </tr>\n",
       "    <tr>\n",
       "      <th></th>\n",
       "      <th>calls</th>\n",
       "      <th>calls</th>\n",
       "    </tr>\n",
       "    <tr>\n",
       "      <th>is_ultra</th>\n",
       "      <th></th>\n",
       "      <th></th>\n",
       "    </tr>\n",
       "  </thead>\n",
       "  <tbody>\n",
       "    <tr>\n",
       "      <td>0</td>\n",
       "      <td>454</td>\n",
       "      <td>71.0</td>\n",
       "    </tr>\n",
       "    <tr>\n",
       "      <td>1</td>\n",
       "      <td>189</td>\n",
       "      <td>29.0</td>\n",
       "    </tr>\n",
       "  </tbody>\n",
       "</table>\n",
       "</div>"
      ],
      "text/plain": [
       "         count <lambda>\n",
       "         calls    calls\n",
       "is_ultra               \n",
       "0          454     71.0\n",
       "1          189     29.0"
      ]
     },
     "metadata": {},
     "output_type": "display_data"
    }
   ],
   "source": [
    "func_percent_valid = lambda x: round(100*x.count()/df_valid.shape[0])\n",
    "display(df_valid.pivot_table(index='is_ultra',values=['calls'],aggfunc=['count',func_percent_valid]))"
   ]
  },
  {
   "cell_type": "markdown",
   "metadata": {},
   "source": [
    "## CONCLUSION ##\n",
    "**VALIDATION DATASET**\n",
    "- There are 454 (71%) smart plan users, 189 (29%) ultra-plan users"
   ]
  },
  {
   "cell_type": "code",
   "execution_count": 605,
   "metadata": {},
   "outputs": [
    {
     "data": {
      "text/html": [
       "<div>\n",
       "<style scoped>\n",
       "    .dataframe tbody tr th:only-of-type {\n",
       "        vertical-align: middle;\n",
       "    }\n",
       "\n",
       "    .dataframe tbody tr th {\n",
       "        vertical-align: top;\n",
       "    }\n",
       "\n",
       "    .dataframe thead tr th {\n",
       "        text-align: left;\n",
       "    }\n",
       "\n",
       "    .dataframe thead tr:last-of-type th {\n",
       "        text-align: right;\n",
       "    }\n",
       "</style>\n",
       "<table border=\"1\" class=\"dataframe\">\n",
       "  <thead>\n",
       "    <tr>\n",
       "      <th></th>\n",
       "      <th>count</th>\n",
       "      <th>&lt;lambda&gt;</th>\n",
       "    </tr>\n",
       "    <tr>\n",
       "      <th></th>\n",
       "      <th>calls</th>\n",
       "      <th>calls</th>\n",
       "    </tr>\n",
       "    <tr>\n",
       "      <th>is_ultra</th>\n",
       "      <th></th>\n",
       "      <th></th>\n",
       "    </tr>\n",
       "  </thead>\n",
       "  <tbody>\n",
       "    <tr>\n",
       "      <td>0</td>\n",
       "      <td>440</td>\n",
       "      <td>68.0</td>\n",
       "    </tr>\n",
       "    <tr>\n",
       "      <td>1</td>\n",
       "      <td>203</td>\n",
       "      <td>32.0</td>\n",
       "    </tr>\n",
       "  </tbody>\n",
       "</table>\n",
       "</div>"
      ],
      "text/plain": [
       "         count <lambda>\n",
       "         calls    calls\n",
       "is_ultra               \n",
       "0          440     68.0\n",
       "1          203     32.0"
      ]
     },
     "metadata": {},
     "output_type": "display_data"
    }
   ],
   "source": [
    "func_percent_test = lambda x: round(100*x.count()/df_test.shape[0])\n",
    "display(df_test.pivot_table(index='is_ultra',values=['calls'],aggfunc=['count',func_percent_test]))"
   ]
  },
  {
   "cell_type": "markdown",
   "metadata": {},
   "source": [
    "## CONCLUSION ##\n",
    "\n",
    "**TEST DATASET**\n",
    "- There are 440 (68%) smart plan users, 203 (32%) ultra-plan users"
   ]
  },
  {
   "cell_type": "markdown",
   "metadata": {},
   "source": [
    "## CONCLUSION ##\n",
    "- Divided the plan into 3 sets: (Training Set, Validation Set, Test Set)\n",
    "For the split between smart and ultra plan users\n",
    "    - The main dataset had a split of 69%,21% \n",
    "    - The training dataset has the same split\n",
    "    - The validation dataset has 71%, 29% split\n",
    "    - The test dataset has 68%, 32% split\n",
    "\n",
    "- Looks like the validation dataset has more smart plan users than ultra plan users.\n",
    "- Since we want the validation dataset to be as close to the main dataset, we can switch the test dataset and the validation dataset."
   ]
  },
  {
   "cell_type": "markdown",
   "metadata": {},
   "source": []
  },
  {
   "cell_type": "code",
   "execution_count": 606,
   "metadata": {},
   "outputs": [
    {
     "data": {
      "text/plain": [
       "'TEST DATASET'"
      ]
     },
     "metadata": {},
     "output_type": "display_data"
    },
    {
     "data": {
      "text/html": [
       "<div>\n",
       "<style scoped>\n",
       "    .dataframe tbody tr th:only-of-type {\n",
       "        vertical-align: middle;\n",
       "    }\n",
       "\n",
       "    .dataframe tbody tr th {\n",
       "        vertical-align: top;\n",
       "    }\n",
       "\n",
       "    .dataframe thead tr th {\n",
       "        text-align: left;\n",
       "    }\n",
       "\n",
       "    .dataframe thead tr:last-of-type th {\n",
       "        text-align: right;\n",
       "    }\n",
       "</style>\n",
       "<table border=\"1\" class=\"dataframe\">\n",
       "  <thead>\n",
       "    <tr>\n",
       "      <th></th>\n",
       "      <th>count</th>\n",
       "      <th>&lt;lambda&gt;</th>\n",
       "    </tr>\n",
       "    <tr>\n",
       "      <th></th>\n",
       "      <th>calls</th>\n",
       "      <th>calls</th>\n",
       "    </tr>\n",
       "    <tr>\n",
       "      <th>is_ultra</th>\n",
       "      <th></th>\n",
       "      <th></th>\n",
       "    </tr>\n",
       "  </thead>\n",
       "  <tbody>\n",
       "    <tr>\n",
       "      <td>0</td>\n",
       "      <td>454</td>\n",
       "      <td>71.0</td>\n",
       "    </tr>\n",
       "    <tr>\n",
       "      <td>1</td>\n",
       "      <td>189</td>\n",
       "      <td>29.0</td>\n",
       "    </tr>\n",
       "  </tbody>\n",
       "</table>\n",
       "</div>"
      ],
      "text/plain": [
       "         count <lambda>\n",
       "         calls    calls\n",
       "is_ultra               \n",
       "0          454     71.0\n",
       "1          189     29.0"
      ]
     },
     "metadata": {},
     "output_type": "display_data"
    },
    {
     "data": {
      "text/plain": [
       "'VALIDATION DATASET'"
      ]
     },
     "metadata": {},
     "output_type": "display_data"
    },
    {
     "data": {
      "text/html": [
       "<div>\n",
       "<style scoped>\n",
       "    .dataframe tbody tr th:only-of-type {\n",
       "        vertical-align: middle;\n",
       "    }\n",
       "\n",
       "    .dataframe tbody tr th {\n",
       "        vertical-align: top;\n",
       "    }\n",
       "\n",
       "    .dataframe thead tr th {\n",
       "        text-align: left;\n",
       "    }\n",
       "\n",
       "    .dataframe thead tr:last-of-type th {\n",
       "        text-align: right;\n",
       "    }\n",
       "</style>\n",
       "<table border=\"1\" class=\"dataframe\">\n",
       "  <thead>\n",
       "    <tr>\n",
       "      <th></th>\n",
       "      <th>count</th>\n",
       "      <th>&lt;lambda&gt;</th>\n",
       "    </tr>\n",
       "    <tr>\n",
       "      <th></th>\n",
       "      <th>calls</th>\n",
       "      <th>calls</th>\n",
       "    </tr>\n",
       "    <tr>\n",
       "      <th>is_ultra</th>\n",
       "      <th></th>\n",
       "      <th></th>\n",
       "    </tr>\n",
       "  </thead>\n",
       "  <tbody>\n",
       "    <tr>\n",
       "      <td>0</td>\n",
       "      <td>440</td>\n",
       "      <td>68.0</td>\n",
       "    </tr>\n",
       "    <tr>\n",
       "      <td>1</td>\n",
       "      <td>203</td>\n",
       "      <td>32.0</td>\n",
       "    </tr>\n",
       "  </tbody>\n",
       "</table>\n",
       "</div>"
      ],
      "text/plain": [
       "         count <lambda>\n",
       "         calls    calls\n",
       "is_ultra               \n",
       "0          440     68.0\n",
       "1          203     32.0"
      ]
     },
     "metadata": {},
     "output_type": "display_data"
    }
   ],
   "source": [
    "tmp = df_test\n",
    "df_test = df_valid\n",
    "df_valid = tmp\n",
    "\n",
    "display('TEST DATASET',df_test.pivot_table(index='is_ultra',values=['calls'],aggfunc=['count',func_percent_test]))\n",
    "display('VALIDATION DATASET',df_valid.pivot_table(index='is_ultra',values=['calls'],aggfunc=['count',func_percent_valid]))"
   ]
  },
  {
   "cell_type": "markdown",
   "metadata": {},
   "source": [
    "## CONCLUSION ##\n",
    "- NOW our main dataset, training dataset have 69%, 31% split on is_ultra\n",
    "- The validation dataset has 68%%, 32% split\n",
    "- The test dataset has 71%, 29% split\n",
    "- The validation dataset split is closer to the main dataset split\n",
    "- Now we do use the classification models to identify the best model(s) with best Hyperparameters."
   ]
  },
  {
   "cell_type": "code",
   "execution_count": 607,
   "metadata": {},
   "outputs": [],
   "source": [
    "#Prepare the feature and target dataset from the Training dataset\n",
    "features_train = df_train.drop(['is_ultra'], axis=1)\n",
    "target_train = df_train['is_ultra']\n",
    "\n",
    "#Prepare the validation dataset and validation target dataset\n",
    "features_valid = df_valid.drop(['is_ultra'], axis=1)\n",
    "target_valid = df_valid['is_ultra']\n",
    "\n",
    "#Prepare test dataset and test target dataset\n",
    "features_test = df_test.drop(['is_ultra'], axis=1)\n",
    "target_test = df_test['is_ultra']"
   ]
  },
  {
   "cell_type": "code",
   "execution_count": 608,
   "metadata": {},
   "outputs": [],
   "source": [
    "#Create a dataframe to store function, accuracy results and if they meet or exceeed the accuracy threshold\n",
    "\n",
    "column_names = [\"function\", \"hyperparameters\", \"classification_time\",\"accuracy_score validation\",\"accuracy_score test\",'above_threshold?']\n",
    "\n",
    "df_results = pd.DataFrame(columns = column_names)\n"
   ]
  },
  {
   "cell_type": "markdown",
   "metadata": {},
   "source": [
    "# STEP 3\n",
    "\n",
    "- Investigate the quality of different models by changing hyperparameters. Briefly describe the findings of the study.\n",
    "- Check the quality of the model using the test set.\n",
    "- Additional task: sanity check the model. \n",
    "- 3 Binary classification models to be tested:\n",
    "  - Decision Tree Classifier\n",
    "  - Forest Classifier\n",
    "  - Regression Classifier"
   ]
  },
  {
   "cell_type": "code",
   "execution_count": 609,
   "metadata": {},
   "outputs": [
    {
     "name": "stdout",
     "output_type": "stream",
     "text": [
      "0.7325038880248833 0.71850699844479\n"
     ]
    }
   ],
   "source": [
    "#Decision Tree Classifier without any Hyperparameter\n",
    "\n",
    "model = DecisionTreeClassifier()\n",
    "\n",
    "t0 = time()\n",
    "model.fit(features_train, target_train)\n",
    "time_fit = np.round(time() - t0,decimals=4)\n",
    "\n",
    "predictions_valid = model.predict(features_valid)\n",
    "predictions_test = model.predict(features_test)\n",
    "\n",
    "accuracy_valid = accuracy_score(target_valid, predictions_valid)\n",
    "accuracy_test = accuracy_score(target_test, predictions_test)\n",
    "\n",
    "print(accuracy_valid, accuracy_test)"
   ]
  },
  {
   "cell_type": "code",
   "execution_count": 610,
   "metadata": {},
   "outputs": [
    {
     "data": {
      "text/html": [
       "<div>\n",
       "<style scoped>\n",
       "    .dataframe tbody tr th:only-of-type {\n",
       "        vertical-align: middle;\n",
       "    }\n",
       "\n",
       "    .dataframe tbody tr th {\n",
       "        vertical-align: top;\n",
       "    }\n",
       "\n",
       "    .dataframe thead th {\n",
       "        text-align: right;\n",
       "    }\n",
       "</style>\n",
       "<table border=\"1\" class=\"dataframe\">\n",
       "  <thead>\n",
       "    <tr style=\"text-align: right;\">\n",
       "      <th></th>\n",
       "      <th>function</th>\n",
       "      <th>hyperparameters</th>\n",
       "      <th>classification_time</th>\n",
       "      <th>accuracy_score validation</th>\n",
       "      <th>accuracy_score test</th>\n",
       "      <th>above_threshold?</th>\n",
       "    </tr>\n",
       "  </thead>\n",
       "  <tbody>\n",
       "    <tr>\n",
       "      <td>0</td>\n",
       "      <td>DecisionTree</td>\n",
       "      <td>None</td>\n",
       "      <td>0.0155</td>\n",
       "      <td>0.7325</td>\n",
       "      <td>0.7185</td>\n",
       "      <td>False</td>\n",
       "    </tr>\n",
       "  </tbody>\n",
       "</table>\n",
       "</div>"
      ],
      "text/plain": [
       "       function hyperparameters classification_time  \\\n",
       "0  DecisionTree            None              0.0155   \n",
       "\n",
       "   accuracy_score validation  accuracy_score test above_threshold?  \n",
       "0                     0.7325               0.7185            False  "
      ]
     },
     "execution_count": 610,
     "metadata": {},
     "output_type": "execute_result"
    }
   ],
   "source": [
    "above_threshold = np.where(accuracy_test > accuracy_threshold, True, False)\n",
    "rows = [pd.Series(['DecisionTree', 'None', str(time_fit),accuracy_valid,accuracy_test,above_threshold], index=df_results.columns)]\n",
    "# append the rows\n",
    "df_results = df_results.append(rows)\n",
    "# check the rows \n",
    "df_results.round(decimals=4)"
   ]
  },
  {
   "cell_type": "markdown",
   "metadata": {},
   "source": [
    "## CONCLUSION ##\n",
    "- The Decision Tree Classifier results in an accuracy score of 72% on test data.\n",
    "- We need an accuracy score of 75% or more.\n",
    "- We need to use Hyperparameters and we will do that in the following code."
   ]
  },
  {
   "cell_type": "code",
   "execution_count": 611,
   "metadata": {
    "scrolled": true
   },
   "outputs": [
    {
     "name": "stdout",
     "output_type": "stream",
     "text": [
      "max_depth = 1 :  accuracy score: 0.7356143079315708\n",
      "max_depth = 2 :  accuracy score: 0.7744945567651633\n",
      "max_depth = 3 :  accuracy score: 0.7791601866251944\n",
      "max_depth = 4 :  accuracy score: 0.7744945567651633\n",
      "max_depth = 5 :  accuracy score: 0.7838258164852255\n",
      "Highest depth:  5 Highest Accuracy Score 0.7838258164852255\n",
      "Test Data Accuracy Score 0.7791601866251944 Depth:  5\n"
     ]
    }
   ],
   "source": [
    "#Decision Tree Classifier with Hyperparameter 'max_depth'\n",
    "# < create a loop for max_depth from 1 to 5 >\n",
    "highest_score=0\n",
    "for depth in range(1,6):\n",
    "    model = DecisionTreeClassifier(random_state=12345, max_depth=depth)\n",
    "    model.fit(features_train, target_train)\n",
    "\n",
    "    accuracy_valid  = model.score(features_valid, target_valid)\n",
    "    \n",
    "    print(\"max_depth =\",depth,\": \", 'accuracy score:',accuracy_valid)\n",
    "\n",
    "    if (accuracy_valid > highest_score):\n",
    "        highest_score = accuracy_valid\n",
    "        highest_depth = depth\n",
    " \n",
    "print('Highest depth: ', highest_depth,'Highest Accuracy Score', highest_score)\n",
    "\n",
    "model = DecisionTreeClassifier(random_state=12345, max_depth=highest_depth)\n",
    "\n",
    "\n",
    "t0 = time()\n",
    "model.fit(features_train, target_train)\n",
    "time_fit = np.round(time() - t0,decimals=4)\n",
    "\n",
    "accuracy_test = model.score(features_test, target_test)\n",
    "print('Test Data Accuracy Score', accuracy_test,'Depth: ', highest_depth)"
   ]
  },
  {
   "cell_type": "code",
   "execution_count": 612,
   "metadata": {
    "scrolled": true
   },
   "outputs": [
    {
     "data": {
      "image/png": "[encoded data removed]",
      "text/plain": [
       "<Figure size 2880x1440 with 1 Axes>"
      ]
     },
     "metadata": {
      "needs_background": "light"
     },
     "output_type": "display_data"
    }
   ],
   "source": [
    "from sklearn import tree\n",
    "plt.figure(figsize=(40,20))  \n",
    "tree.plot_tree(model, feature_names = features_train.columns,filled=True, fontsize=6, rounded = True)\n",
    "plt.show()"
   ]
  },
  {
   "cell_type": "code",
   "execution_count": 613,
   "metadata": {},
   "outputs": [
    {
     "data": {
      "text/html": [
       "<div>\n",
       "<style scoped>\n",
       "    .dataframe tbody tr th:only-of-type {\n",
       "        vertical-align: middle;\n",
       "    }\n",
       "\n",
       "    .dataframe tbody tr th {\n",
       "        vertical-align: top;\n",
       "    }\n",
       "\n",
       "    .dataframe thead th {\n",
       "        text-align: right;\n",
       "    }\n",
       "</style>\n",
       "<table border=\"1\" class=\"dataframe\">\n",
       "  <thead>\n",
       "    <tr style=\"text-align: right;\">\n",
       "      <th></th>\n",
       "      <th>function</th>\n",
       "      <th>hyperparameters</th>\n",
       "      <th>classification_time</th>\n",
       "      <th>accuracy_score validation</th>\n",
       "      <th>accuracy_score test</th>\n",
       "      <th>above_threshold?</th>\n",
       "    </tr>\n",
       "  </thead>\n",
       "  <tbody>\n",
       "    <tr>\n",
       "      <td>0</td>\n",
       "      <td>DecisionTree</td>\n",
       "      <td>None</td>\n",
       "      <td>0.0155</td>\n",
       "      <td>0.7325</td>\n",
       "      <td>0.7185</td>\n",
       "      <td>False</td>\n",
       "    </tr>\n",
       "    <tr>\n",
       "      <td>0</td>\n",
       "      <td>DecisionTree</td>\n",
       "      <td>max_depth =5</td>\n",
       "      <td>0.009</td>\n",
       "      <td>0.7838</td>\n",
       "      <td>0.7792</td>\n",
       "      <td>True</td>\n",
       "    </tr>\n",
       "  </tbody>\n",
       "</table>\n",
       "</div>"
      ],
      "text/plain": [
       "       function hyperparameters classification_time  \\\n",
       "0  DecisionTree            None              0.0155   \n",
       "0  DecisionTree    max_depth =5               0.009   \n",
       "\n",
       "   accuracy_score validation  accuracy_score test above_threshold?  \n",
       "0                     0.7325               0.7185            False  \n",
       "0                     0.7838               0.7792             True  "
      ]
     },
     "execution_count": 613,
     "metadata": {},
     "output_type": "execute_result"
    }
   ],
   "source": [
    "above_threshold = np.where(accuracy_test > accuracy_threshold, True, False)\n",
    "rows = [pd.Series(['DecisionTree', 'max_depth ='+ str(highest_depth) , str(time_fit),highest_score,accuracy_test,above_threshold], index=df_results.columns)]\n",
    "# append the rows\n",
    "df_results = df_results.append(rows)\n",
    "# check the rows\n",
    "df_results.round(decimals=4)"
   ]
  },
  {
   "cell_type": "markdown",
   "metadata": {},
   "source": [
    "## CONCLUSION ##\n",
    "- The Decision Tree classifier with Hyperparameter  max_depth = 5 gave the maximum accuracy score of 78% on Validation data\n",
    "- We will use the max_depth = 5 for test dataset.\n",
    "- On test dataset, the accuracy score is 77.9%"
   ]
  },
  {
   "cell_type": "code",
   "execution_count": 614,
   "metadata": {},
   "outputs": [
    {
     "name": "stdout",
     "output_type": "stream",
     "text": [
      "Estimator:  1  Accuracy Score 0.7402799377916018\n",
      "Estimator:  2  Accuracy Score 0.7589424572317263\n",
      "Estimator:  3  Accuracy Score 0.7573872472783826\n",
      "Estimator:  4  Accuracy Score 0.7729393468118196\n",
      "Estimator:  5  Accuracy Score 0.7667185069984448\n",
      "Estimator:  6  Accuracy Score 0.7791601866251944\n",
      "Estimator:  7  Accuracy Score 0.7807153965785381\n",
      "Estimator:  8  Accuracy Score 0.7869362363919129\n",
      "Estimator:  9  Accuracy Score 0.7838258164852255\n",
      "Estimator:  10  Accuracy Score 0.7807153965785381\n",
      "Highest Estimator:  8 Highest Accuracy Score 0.7869362363919129\n",
      "Test Data Accuracy Score 0.7822706065318819 Estimator:  8\n"
     ]
    }
   ],
   "source": [
    "#RandomForest Classifier\n",
    "#Testing Accuracy_score on the Validation dataset to identify the best Hyperparameter\n",
    "#Test the hyperparameter n_estimators from 1 - 14.\n",
    "highest_score = 0.0\n",
    "for forest_estimator in range(1,11):\n",
    "    model = RandomForestClassifier(random_state=12345, n_estimators=forest_estimator)\n",
    "    model.fit(features_train, target_train)\n",
    "    accuracy_valid = model.score(features_valid, target_valid)\n",
    "    print('Estimator: ', forest_estimator,' Accuracy Score', accuracy_valid)\n",
    "        \n",
    "    if (accuracy_valid > highest_score):\n",
    "        highest_score = accuracy_valid\n",
    "        highest_estimator = forest_estimator\n",
    " \n",
    "print('Highest Estimator: ', highest_estimator,'Highest Accuracy Score', highest_score)\n",
    " \n",
    "model = RandomForestClassifier(random_state=12345, n_estimators=highest_estimator)\n",
    "t0 = time()\n",
    "model.fit(features_train, target_train)\n",
    "time_fit = np.round(time() - t0, decimals=4)\n",
    "\n",
    "accuracy_test = model.score(features_test, target_test)\n",
    "print('Test Data Accuracy Score', accuracy_test,'Estimator: ', highest_estimator)"
   ]
  },
  {
   "cell_type": "code",
   "execution_count": 615,
   "metadata": {},
   "outputs": [],
   "source": [
    "#fig, axes = plt.subplots(nrows = 1,ncols = 1,figsize = (40,20))\n",
    "#tree.plot_tree(model.estimators_[0],\n",
    "#               feature_names = features_train.columns, \n",
    "#               filled = True)\n",
    "#plt.show();\n",
    "#This code displays very good forest graph however, it creates issue with saving the file, hence I have commented this code."
   ]
  },
  {
   "cell_type": "code",
   "execution_count": 616,
   "metadata": {},
   "outputs": [
    {
     "data": {
      "text/html": [
       "<div>\n",
       "<style scoped>\n",
       "    .dataframe tbody tr th:only-of-type {\n",
       "        vertical-align: middle;\n",
       "    }\n",
       "\n",
       "    .dataframe tbody tr th {\n",
       "        vertical-align: top;\n",
       "    }\n",
       "\n",
       "    .dataframe thead th {\n",
       "        text-align: right;\n",
       "    }\n",
       "</style>\n",
       "<table border=\"1\" class=\"dataframe\">\n",
       "  <thead>\n",
       "    <tr style=\"text-align: right;\">\n",
       "      <th></th>\n",
       "      <th>function</th>\n",
       "      <th>hyperparameters</th>\n",
       "      <th>classification_time</th>\n",
       "      <th>accuracy_score validation</th>\n",
       "      <th>accuracy_score test</th>\n",
       "      <th>above_threshold?</th>\n",
       "    </tr>\n",
       "  </thead>\n",
       "  <tbody>\n",
       "    <tr>\n",
       "      <td>0</td>\n",
       "      <td>DecisionTree</td>\n",
       "      <td>None</td>\n",
       "      <td>0.0155</td>\n",
       "      <td>0.7325</td>\n",
       "      <td>0.7185</td>\n",
       "      <td>False</td>\n",
       "    </tr>\n",
       "    <tr>\n",
       "      <td>0</td>\n",
       "      <td>DecisionTree</td>\n",
       "      <td>max_depth =5</td>\n",
       "      <td>0.009</td>\n",
       "      <td>0.7838</td>\n",
       "      <td>0.7792</td>\n",
       "      <td>True</td>\n",
       "    </tr>\n",
       "    <tr>\n",
       "      <td>0</td>\n",
       "      <td>RandomForest</td>\n",
       "      <td>n_estimators =8</td>\n",
       "      <td>0.0467</td>\n",
       "      <td>0.7869</td>\n",
       "      <td>0.7823</td>\n",
       "      <td>True</td>\n",
       "    </tr>\n",
       "  </tbody>\n",
       "</table>\n",
       "</div>"
      ],
      "text/plain": [
       "       function  hyperparameters classification_time  \\\n",
       "0  DecisionTree             None              0.0155   \n",
       "0  DecisionTree     max_depth =5               0.009   \n",
       "0  RandomForest  n_estimators =8              0.0467   \n",
       "\n",
       "   accuracy_score validation  accuracy_score test above_threshold?  \n",
       "0                     0.7325               0.7185            False  \n",
       "0                     0.7838               0.7792             True  \n",
       "0                     0.7869               0.7823             True  "
      ]
     },
     "execution_count": 616,
     "metadata": {},
     "output_type": "execute_result"
    }
   ],
   "source": [
    "above_threshold = np.where(accuracy_test > accuracy_threshold, True, False)\n",
    "rows = [pd.Series(['RandomForest', 'n_estimators ='+ str(highest_estimator) ,time_fit, highest_score,accuracy_test,above_threshold], index=df_results.columns)]\n",
    "# append the rows\n",
    "df_results = df_results.append(rows)\n",
    "# check the rows\n",
    "df_results.round(decimals=4)"
   ]
  },
  {
   "cell_type": "markdown",
   "metadata": {},
   "source": [
    "## CONCLUSION ##\n",
    "- The Random Forest classifier with Hyperparameter  n_estimators = 8 gave the maximum accuracy score of 78.6% on Validation data\n",
    "- We will use the max_depth = 8 for test dataset.\n",
    "- On test dataset, the accuracy score is 78\n",
    "- The results on test dataset are same as on the validation test dataset\n",
    "- This test seems to be better in the consistency of results in Validation and Test Datasets"
   ]
  },
  {
   "cell_type": "code",
   "execution_count": 617,
   "metadata": {},
   "outputs": [
    {
     "name": "stdout",
     "output_type": "stream",
     "text": [
      "0.0205 0.7402799377916018 0.7589424572317263\n"
     ]
    }
   ],
   "source": [
    "#Logistic Regression model\n",
    "#This model has no Hyperparameters\n",
    "\n",
    "model= LogisticRegression(random_state=12345, solver='liblinear')\n",
    "\n",
    "t0 = time()\n",
    "model.fit(features_train, target_train)\n",
    "time_fit = np.round(time() - t0,decimals=4)\n",
    "\n",
    "accuracy_valid = model.score(features_valid, target_valid)\n",
    "accuracy_test = model.score(features_test, target_test)\n",
    "print(time_fit,accuracy_valid, accuracy_test)"
   ]
  },
  {
   "cell_type": "code",
   "execution_count": 618,
   "metadata": {},
   "outputs": [
    {
     "data": {
      "text/html": [
       "<div>\n",
       "<style scoped>\n",
       "    .dataframe tbody tr th:only-of-type {\n",
       "        vertical-align: middle;\n",
       "    }\n",
       "\n",
       "    .dataframe tbody tr th {\n",
       "        vertical-align: top;\n",
       "    }\n",
       "\n",
       "    .dataframe thead th {\n",
       "        text-align: right;\n",
       "    }\n",
       "</style>\n",
       "<table border=\"1\" class=\"dataframe\">\n",
       "  <thead>\n",
       "    <tr style=\"text-align: right;\">\n",
       "      <th></th>\n",
       "      <th>function</th>\n",
       "      <th>hyperparameters</th>\n",
       "      <th>classification_time</th>\n",
       "      <th>accuracy_score validation</th>\n",
       "      <th>accuracy_score test</th>\n",
       "      <th>above_threshold?</th>\n",
       "    </tr>\n",
       "  </thead>\n",
       "  <tbody>\n",
       "    <tr>\n",
       "      <td>0</td>\n",
       "      <td>DecisionTree</td>\n",
       "      <td>None</td>\n",
       "      <td>0.0155</td>\n",
       "      <td>0.7325</td>\n",
       "      <td>0.7185</td>\n",
       "      <td>False</td>\n",
       "    </tr>\n",
       "    <tr>\n",
       "      <td>0</td>\n",
       "      <td>DecisionTree</td>\n",
       "      <td>max_depth =5</td>\n",
       "      <td>0.009</td>\n",
       "      <td>0.7838</td>\n",
       "      <td>0.7792</td>\n",
       "      <td>True</td>\n",
       "    </tr>\n",
       "    <tr>\n",
       "      <td>0</td>\n",
       "      <td>RandomForest</td>\n",
       "      <td>n_estimators =8</td>\n",
       "      <td>0.0467</td>\n",
       "      <td>0.7869</td>\n",
       "      <td>0.7823</td>\n",
       "      <td>True</td>\n",
       "    </tr>\n",
       "    <tr>\n",
       "      <td>0</td>\n",
       "      <td>LogisticRegression</td>\n",
       "      <td>None</td>\n",
       "      <td>0.0205</td>\n",
       "      <td>0.7403</td>\n",
       "      <td>0.7589</td>\n",
       "      <td>True</td>\n",
       "    </tr>\n",
       "  </tbody>\n",
       "</table>\n",
       "</div>"
      ],
      "text/plain": [
       "             function  hyperparameters classification_time  \\\n",
       "0        DecisionTree             None              0.0155   \n",
       "0        DecisionTree     max_depth =5               0.009   \n",
       "0        RandomForest  n_estimators =8              0.0467   \n",
       "0  LogisticRegression             None              0.0205   \n",
       "\n",
       "   accuracy_score validation  accuracy_score test above_threshold?  \n",
       "0                     0.7325               0.7185            False  \n",
       "0                     0.7838               0.7792             True  \n",
       "0                     0.7869               0.7823             True  \n",
       "0                     0.7403               0.7589             True  "
      ]
     },
     "execution_count": 618,
     "metadata": {},
     "output_type": "execute_result"
    }
   ],
   "source": [
    "above_threshold = np.where(accuracy_test > accuracy_threshold, True, False)\n",
    "rows = [pd.Series(['LogisticRegression', 'None' ,time_fit, accuracy_valid,accuracy_test,above_threshold], index=df_results.columns)]\n",
    "# append the rows\n",
    "df_results = df_results.append(rows)\n",
    "# check the rows\n",
    "df_results.round(decimals=4)"
   ]
  },
  {
   "cell_type": "markdown",
   "metadata": {},
   "source": [
    "## CONCLUSION ##\n",
    "- For the Logistic Regression, I tested with three datasets - Training, Validation and Test.\n",
    "- The result shows accuracy score of 76%\n",
    "\n",
    "- We need only two datasets - Training and Test for Logistic Regression and will do that in the following code. This will make our training dataset bigger and may help in a better model."
   ]
  },
  {
   "cell_type": "code",
   "execution_count": 619,
   "metadata": {},
   "outputs": [
    {
     "name": "stdout",
     "output_type": "stream",
     "text": [
      "0.7445043550394027\n"
     ]
    }
   ],
   "source": [
    "#For logistic regression, we need only training and test dataset\n",
    "df_train2, df_test2 = train_test_split(df, test_size=0.75, random_state=12345)\n",
    "\n",
    "features_train2 = df_train2.drop(['is_ultra'], axis=1)\n",
    "target_train2 = df_train2['is_ultra']\n",
    "\n",
    "#Prepare test dataet\n",
    "features_test2 = df_test2.drop(['is_ultra'], axis=1)\n",
    "target_test2 = df_test2['is_ultra']\n",
    "model.fit(features_train2, target_train2)\n",
    "accuracy_test = model.score(features_test2, target_test2)\n",
    "print(accuracy_test)"
   ]
  },
  {
   "cell_type": "markdown",
   "metadata": {},
   "source": [
    "## CONCLUSION ##\n",
    "\n",
    "- I tested with two datasets - Training (75%) and Test (25%). This made our training dataset bigger.\n",
    "- The accuracy score for the test dataset decreased from 74% to 74.45%"
   ]
  },
  {
   "cell_type": "code",
   "execution_count": 620,
   "metadata": {
    "scrolled": false
   },
   "outputs": [
    {
     "name": "stdout",
     "output_type": "stream",
     "text": [
      "SIZE of DATASETS\n",
      "training set  : 60% (1928, 5)\n",
      "validation set: 20% (643, 5)\n",
      "test set      : 20% (643, 5)\n",
      "----\n",
      "ANALYSIS REPORT ON VARIOUS CLASSIFICATION FUNCTIONS\n"
     ]
    },
    {
     "data": {
      "text/html": [
       "<div>\n",
       "<style scoped>\n",
       "    .dataframe tbody tr th:only-of-type {\n",
       "        vertical-align: middle;\n",
       "    }\n",
       "\n",
       "    .dataframe tbody tr th {\n",
       "        vertical-align: top;\n",
       "    }\n",
       "\n",
       "    .dataframe thead th {\n",
       "        text-align: right;\n",
       "    }\n",
       "</style>\n",
       "<table border=\"1\" class=\"dataframe\">\n",
       "  <thead>\n",
       "    <tr style=\"text-align: right;\">\n",
       "      <th></th>\n",
       "      <th>function</th>\n",
       "      <th>hyperparameters</th>\n",
       "      <th>classification_time</th>\n",
       "      <th>accuracy_score validation</th>\n",
       "      <th>accuracy_score test</th>\n",
       "      <th>above_threshold?</th>\n",
       "    </tr>\n",
       "  </thead>\n",
       "  <tbody>\n",
       "    <tr>\n",
       "      <td>0</td>\n",
       "      <td>DecisionTree</td>\n",
       "      <td>None</td>\n",
       "      <td>0.0155</td>\n",
       "      <td>0.7325</td>\n",
       "      <td>0.7185</td>\n",
       "      <td>False</td>\n",
       "    </tr>\n",
       "    <tr>\n",
       "      <td>0</td>\n",
       "      <td>DecisionTree</td>\n",
       "      <td>max_depth =5</td>\n",
       "      <td>0.009</td>\n",
       "      <td>0.7838</td>\n",
       "      <td>0.7792</td>\n",
       "      <td>True</td>\n",
       "    </tr>\n",
       "    <tr>\n",
       "      <td>0</td>\n",
       "      <td>RandomForest</td>\n",
       "      <td>n_estimators =8</td>\n",
       "      <td>0.0467</td>\n",
       "      <td>0.7869</td>\n",
       "      <td>0.7823</td>\n",
       "      <td>True</td>\n",
       "    </tr>\n",
       "    <tr>\n",
       "      <td>0</td>\n",
       "      <td>LogisticRegression</td>\n",
       "      <td>None</td>\n",
       "      <td>0.0205</td>\n",
       "      <td>0.7403</td>\n",
       "      <td>0.7589</td>\n",
       "      <td>True</td>\n",
       "    </tr>\n",
       "  </tbody>\n",
       "</table>\n",
       "</div>"
      ],
      "text/plain": [
       "             function  hyperparameters classification_time  \\\n",
       "0        DecisionTree             None              0.0155   \n",
       "0        DecisionTree     max_depth =5               0.009   \n",
       "0        RandomForest  n_estimators =8              0.0467   \n",
       "0  LogisticRegression             None              0.0205   \n",
       "\n",
       "   accuracy_score validation  accuracy_score test above_threshold?  \n",
       "0                     0.7325               0.7185            False  \n",
       "0                     0.7838               0.7792             True  \n",
       "0                     0.7869               0.7823             True  \n",
       "0                     0.7403               0.7589             True  "
      ]
     },
     "metadata": {},
     "output_type": "display_data"
    }
   ],
   "source": [
    "print('SIZE of DATASETS')\n",
    "print('training set  : {0:.0%}'.format(len(df_train) /totsize),df_train.shape)\n",
    "print('validation set: {0:.0%}'.format(len(df_valid)/totsize),df_valid.shape)\n",
    "print('test set      : {0:.0%}'.format(len(df_test)/totsize),df_test.shape)\n",
    "print('----')\n",
    "print('ANALYSIS REPORT ON VARIOUS CLASSIFICATION FUNCTIONS')\n",
    "display(df_results.round(decimals=4))"
   ]
  },
  {
   "cell_type": "markdown",
   "metadata": {},
   "source": [
    "# OVERALL CONCLUSION\n",
    "\n",
    "**The above tables display the**\n",
    "  - size of training, validation and test data sets\n",
    "  - classification model (with / without hyper-parameters), \n",
    "  - total time taken to train the data, \n",
    "  - accuracy_score for validation, \n",
    "  - accuracy_score for test data, and \n",
    "  - if the accuracy score of test_data was above 0.75.\n",
    "\n",
    "**Based on this table**\n",
    "\n",
    "  - Decision Tree without Hyperparameters didn't qualify because the accuracy_score was  72%\n",
    "  - Least time taken was 0.006 seconds by Decision Tree with max_depth = 5, \n",
    "  - Most  time taken was 0.044 seconds by Random Forest, with n_estimators=8, \n",
    "  - Highest accuracy_score was in Random_Forest of 78.2% \n",
    "  - Lowest Accuracy_score was in Logistic Regression of 75.9%"
   ]
  },
  {
   "cell_type": "markdown",
   "metadata": {},
   "source": [
    "# Project Checklist\n",
    "\n",
    "X-  How did you look into data after downloading?\n",
    "\n",
    "X-  Have you correctly split the data into train, validation, and test sets?\n",
    "\n",
    "X-  How have you chosen the sets' sizes?\n",
    "\n",
    "X-  Did you evaluate the quality of the models correctly?\n",
    "\n",
    "X-  What models and hyperparameters did you use?\n",
    "\n",
    "X-  What are your findings?\n",
    "\n",
    "X-  Did you test the models correctly?\n",
    "\n",
    "X-  What is your accuracy score?\n",
    "\n",
    "X-  Have you stuck to the project structure and kept the code neat?"
   ]
  },
  {
   "cell_type": "code",
   "execution_count": null,
   "metadata": {},
   "outputs": [],
   "source": []
  }
 ],
 "metadata": {
  "kernelspec": {
   "display_name": "Python 3",
   "language": "python",
   "name": "python3"
  },
  "language_info": {
   "codemirror_mode": {
    "name": "ipython",
    "version": 3
   },
   "file_extension": ".py",
   "mimetype": "text/x-python",
   "name": "python",
   "nbconvert_exporter": "python",
   "pygments_lexer": "ipython3",
   "version": "3.7.8"
  },
  "toc": {
   "base_numbering": 1,
   "nav_menu": {},
   "number_sections": true,
   "sideBar": true,
   "skip_h1_title": true,
   "title_cell": "Table of Contents",
   "title_sidebar": "Contents",
   "toc_cell": false,
   "toc_position": {},
   "toc_section_display": true,
   "toc_window_display": false
  }
 },
 "nbformat": 4,
 "nbformat_minor": 2
}
