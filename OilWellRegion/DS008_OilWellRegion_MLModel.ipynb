{
 "cells": [
  {
   "cell_type": "markdown",
   "metadata": {
    "id": "h7U-YY46pvpN"
   },
   "source": [
    "# Project description\n",
    "\n",
    "You work for the OilyGiant mining company. Your task is to find the best place for a new well.\n",
    "\n",
    "**Steps to choose the location:**\n",
    "- Collect the oil well parameters in the selected region: oil quality and volume of reserves;\n",
    "- Build a model for predicting the volume of reserves in the new wells;\n",
    "- Pick the oil wells with the highest estimated values;\n",
    "- Pick the region with the highest total profit for the selected oil wells.\n",
    "- You have data on oil samples from three regions. Parameters of each oil well in the region are already known. Build a model that will help to pick the region with the highest profit margin. Analyze potential profit and risks using the Bootstrapping technique.\n",
    "\n",
    "**Data description**\n",
    "- Geological exploration data for the three regions are stored in files:\n",
    "- geo_data_0.csv. download dataset\n",
    "- geo_data_1.csv. download dataset\n",
    "- geo_data_2.csv. download dataset\n",
    "- id — unique oil well identifier\n",
    "- f0, f1, f2 — three features of points (their specific meaning is unimportant, but the features themselves are significant)\n",
    "- product — volume of reserves in the oil well (thousand barrels).\n",
    "\n",
    "\n",
    "\n"
   ]
  },
  {
   "cell_type": "code",
   "execution_count": 50,
   "metadata": {
    "colab": {
     "base_uri": "https://localhost:8080/"
    },
    "id": "4-mwsbpzpvpO",
    "outputId": "1e0aa72e-2a4a-498b-f8fb-7c7ceea6191e"
   },
   "outputs": [
    {
     "name": "stdout",
     "output_type": "stream",
     "text": [
      "3.7.6 | packaged by conda-forge | (default, Jun  1 2020, 18:57:50) \n",
      "[GCC 7.5.0]\n"
     ]
    }
   ],
   "source": [
    "#Import all libraries\n",
    "import pandas as pd\n",
    "import numpy as np \n",
    "\n",
    "import matplotlib.pyplot as plt\n",
    "import seaborn as sns#visualization\n",
    "sns.set(style=\"ticks\", color_codes=True)\n",
    "\n",
    "import warnings\n",
    "warnings.filterwarnings('ignore')\n",
    "\n",
    "from sklearn.model_selection import train_test_split\n",
    "\n",
    "from sklearn import metrics\n",
    "from sklearn.metrics import accuracy_score\n",
    "from sklearn.preprocessing import StandardScaler\n",
    "from sklearn.linear_model import LinearRegression\n",
    "from sklearn.model_selection import cross_val_score\n",
    "from sklearn.metrics import r2_score\n",
    "\n",
    "from sklearn.model_selection import cross_val_score\n",
    "from sklearn.metrics import mean_squared_error\n",
    "\n",
    "#define most used variables\n",
    "RANDOM_STATE=12345\n",
    "BUDGET_IN_MILLION = 100  #The budget for development of 200 oil wells is 100 USD million.\n",
    "REVENUE_PER_PRODUCT_UNIT = 4500 #One barrel of raw materials brings 4.5 USD of revenue The revenue from one unit of product is 4,500 dollars (volume of reserves is in thousand barrels).\n",
    "REVENUE_IN_MILLION = REVENUE_PER_PRODUCT_UNIT / 1000000\n",
    "PRINT_SEPARATOR = '*' * 80\n",
    "\n",
    "import sys\n",
    "print (sys.version)"
   ]
  },
  {
   "cell_type": "markdown",
   "metadata": {
    "id": "Iu9qvBMspvpU"
   },
   "source": [
    "# STEP 1 - DATA PREPROCESSING\n",
    "\n",
    "**Project instructions**\n",
    "- Download and prepare the data. \n",
    "- Explain the procedure.\n",
    "- Build one dataframe for each region.\n",
    " - df0 for geo_data_0\n",
    " - df1 for geo_data_1\n",
    " - df2 for geo_data_2\n"
   ]
  },
  {
   "cell_type": "markdown",
   "metadata": {
    "id": "UKil2jzIpvpV"
   },
   "source": [
    "**Data description**\n",
    "- Geological exploration data for the three regions are stored in files:\n",
    "- geo_data_0.csv. download dataset\n",
    "- geo_data_1.csv. download dataset\n",
    "- geo_data_2.csv. download dataset\n",
    "- id — unique oil well identifier\n",
    "- f0, f1, f2 — three features of points (their specific meaning is unimportant, but the features themselves are significant)\n",
    "- product — volume of reserves in the oil well (thousand barrels)."
   ]
  },
  {
   "cell_type": "code",
   "execution_count": 51,
   "metadata": {
    "id": "Fv8g25RnpvpV"
   },
   "outputs": [],
   "source": [
    "#Import the file and create the dataset\n",
    "path = '/datasets'\n",
    "df0 = pd.read_csv(path+'/geo_data_0.csv')\n",
    "df1 = pd.read_csv(path+'/geo_data_1.csv')\n",
    "df2 = pd.read_csv(path+'/geo_data_2.csv')"
   ]
  },
  {
   "cell_type": "markdown",
   "metadata": {
    "id": "uOES_mAp0Eth"
   },
   "source": [
    "**BUILD A RESULT DATA FRAME**\n",
    "- Build a list of all dataframes for processing.\n",
    "- One dataframe corresponds to one regions.\n",
    "- Build a result dataframe to store the model prediction results for each dataframe."
   ]
  },
  {
   "cell_type": "code",
   "execution_count": 52,
   "metadata": {
    "colab": {
     "base_uri": "https://localhost:8080/",
     "height": 49
    },
    "id": "nAcmDfuwG7cL",
    "outputId": "976f1274-7a6a-40f6-c393-8c10ac532dfa"
   },
   "outputs": [
    {
     "data": {
      "text/html": [
       "<div>\n",
       "<style scoped>\n",
       "    .dataframe tbody tr th:only-of-type {\n",
       "        vertical-align: middle;\n",
       "    }\n",
       "\n",
       "    .dataframe tbody tr th {\n",
       "        vertical-align: top;\n",
       "    }\n",
       "\n",
       "    .dataframe thead th {\n",
       "        text-align: right;\n",
       "    }\n",
       "</style>\n",
       "<table border=\"1\" class=\"dataframe\">\n",
       "  <thead>\n",
       "    <tr style=\"text-align: right;\">\n",
       "      <th></th>\n",
       "      <th>region</th>\n",
       "      <th>R2score</th>\n",
       "      <th>mean</th>\n",
       "      <th>rmse</th>\n",
       "      <th>Confidence_low</th>\n",
       "      <th>Confidence_up</th>\n",
       "      <th>totalGainOrLoss</th>\n",
       "      <th>profitProbability</th>\n",
       "      <th>lossProbability</th>\n",
       "      <th>lossRisk %</th>\n",
       "      <th>profitAverage</th>\n",
       "      <th>lossAverage</th>\n",
       "    </tr>\n",
       "  </thead>\n",
       "  <tbody>\n",
       "  </tbody>\n",
       "</table>\n",
       "</div>"
      ],
      "text/plain": [
       "Empty DataFrame\n",
       "Columns: [region, R2score, mean, rmse, Confidence_low, Confidence_up, totalGainOrLoss, profitProbability, lossProbability, lossRisk %, profitAverage, lossAverage]\n",
       "Index: []"
      ]
     },
     "metadata": {},
     "output_type": "display_data"
    }
   ],
   "source": [
    "#Create a dataframe to store the dataframes (df0,df1,df2) annd the source data\n",
    "df_all=[df0,df1,df2]\n",
    "df_all_names=['df0_geo0','df1_geo1','df2_geo2']\n",
    "\n",
    "#Create a dataframe to dataframe name, Model name and model results\n",
    "column_names = [\"region\",\"R2score\",\"mean\",\"rmse\",\"Confidence_low\",\"Confidence_up\",\"totalGainOrLoss\",\"profitProbability\",\"lossProbability\",\"lossRisk %\",\"profitAverage\",\"lossAverage\"]\n",
    "# Intitialize lists data. \n",
    "\n",
    "#data = [{'df': 'df0', 'df_name': 'geo_0'}, {'df': 'df1', 'df_name': 'geo_1'},{'df':'df2','df_name':'geo_2'}] \n",
    "df_results = pd.DataFrame(columns = column_names)\n",
    "display(df_results)"
   ]
  },
  {
   "cell_type": "code",
   "execution_count": 53,
   "metadata": {
    "id": "wZiiaM57kUHJ"
   },
   "outputs": [],
   "source": [
    "def display_information(df):\n",
    "    print('Head:')\n",
    "    print()\n",
    "    display(df.head())\n",
    "    print ('-'*100)\n",
    "    print('Info:')\n",
    "    print()\n",
    "    display(df.info())\n",
    "    print ('-'*100)\n",
    "    print('Describe:')\n",
    "    print()\n",
    "    display(df.describe())\n",
    "    print ('-'*100)\n",
    "    display(df.describe(include='object'))\n",
    "    print()\n",
    "    print('Columns with nulls:')\n",
    "    display(get_precent_of_na_df(df,4))\n",
    "    print ('-'*100)\n",
    "    print('Shape:')\n",
    "    print(df.shape)\n",
    "    print ('-'*100)\n",
    "    print('Duplicated:')\n",
    "    print(\"\\033[1m\" + 'We have {} duplicated rows.'.format(df.duplicated().sum()) + \"\\033[0m\")\n",
    "    \n",
    "def get_precent_of_na_df(df,num):\n",
    "    df_nulls = pd.DataFrame(df.isna().sum(),columns=['Missing Values'])\n",
    "    df_nulls['Percent of Nulls'] = round(df_nulls['Missing Values'] / df.shape[0],num) *100\n",
    "    return df_nulls\n",
    "\n",
    "def get_percent_of_na(df):\n",
    "    count = 0\n",
    "    df = df.copy()\n",
    "    s = (df.isna().sum() / df.shape[0])\n",
    "    for column, percent in zip(s.index,s.values):\n",
    "        \n",
    "        num_of_nulls = df[column].isna().sum()\n",
    "        if num_of_nulls == 0:\n",
    "            continue\n",
    "        else:\n",
    "            count += 1\n",
    "        print('Column {} has {:.{}%} percent of Nulls, and {} of nulls'.format(column, percent,num,num_of_nulls))\n",
    "        \n",
    "    if count !=0:\n",
    "        print('There are {} columns with NA!'.format(count))\n",
    "    else:\n",
    "        print()\n",
    "        print('There are no columns with NA!')"
   ]
  },
  {
   "cell_type": "code",
   "execution_count": 54,
   "metadata": {
    "colab": {
     "base_uri": "https://localhost:8080/",
     "height": 1000
    },
    "id": "zht6sYrwtUZS",
    "outputId": "ee745ead-cf4b-4497-8dd4-c296581b7d04"
   },
   "outputs": [
    {
     "name": "stdout",
     "output_type": "stream",
     "text": [
      "REGION NAME:  df0_geo0\n",
      "Head:\n",
      "\n"
     ]
    },
    {
     "data": {
      "text/html": [
       "<div>\n",
       "<style scoped>\n",
       "    .dataframe tbody tr th:only-of-type {\n",
       "        vertical-align: middle;\n",
       "    }\n",
       "\n",
       "    .dataframe tbody tr th {\n",
       "        vertical-align: top;\n",
       "    }\n",
       "\n",
       "    .dataframe thead th {\n",
       "        text-align: right;\n",
       "    }\n",
       "</style>\n",
       "<table border=\"1\" class=\"dataframe\">\n",
       "  <thead>\n",
       "    <tr style=\"text-align: right;\">\n",
       "      <th></th>\n",
       "      <th>id</th>\n",
       "      <th>f0</th>\n",
       "      <th>f1</th>\n",
       "      <th>f2</th>\n",
       "      <th>product</th>\n",
       "    </tr>\n",
       "  </thead>\n",
       "  <tbody>\n",
       "    <tr>\n",
       "      <td>0</td>\n",
       "      <td>txEyH</td>\n",
       "      <td>0.705745</td>\n",
       "      <td>-0.497823</td>\n",
       "      <td>1.221170</td>\n",
       "      <td>105.280062</td>\n",
       "    </tr>\n",
       "    <tr>\n",
       "      <td>1</td>\n",
       "      <td>2acmU</td>\n",
       "      <td>1.334711</td>\n",
       "      <td>-0.340164</td>\n",
       "      <td>4.365080</td>\n",
       "      <td>73.037750</td>\n",
       "    </tr>\n",
       "    <tr>\n",
       "      <td>2</td>\n",
       "      <td>409Wp</td>\n",
       "      <td>1.022732</td>\n",
       "      <td>0.151990</td>\n",
       "      <td>1.419926</td>\n",
       "      <td>85.265647</td>\n",
       "    </tr>\n",
       "    <tr>\n",
       "      <td>3</td>\n",
       "      <td>iJLyR</td>\n",
       "      <td>-0.032172</td>\n",
       "      <td>0.139033</td>\n",
       "      <td>2.978566</td>\n",
       "      <td>168.620776</td>\n",
       "    </tr>\n",
       "    <tr>\n",
       "      <td>4</td>\n",
       "      <td>Xdl7t</td>\n",
       "      <td>1.988431</td>\n",
       "      <td>0.155413</td>\n",
       "      <td>4.751769</td>\n",
       "      <td>154.036647</td>\n",
       "    </tr>\n",
       "  </tbody>\n",
       "</table>\n",
       "</div>"
      ],
      "text/plain": [
       "      id        f0        f1        f2     product\n",
       "0  txEyH  0.705745 -0.497823  1.221170  105.280062\n",
       "1  2acmU  1.334711 -0.340164  4.365080   73.037750\n",
       "2  409Wp  1.022732  0.151990  1.419926   85.265647\n",
       "3  iJLyR -0.032172  0.139033  2.978566  168.620776\n",
       "4  Xdl7t  1.988431  0.155413  4.751769  154.036647"
      ]
     },
     "metadata": {},
     "output_type": "display_data"
    },
    {
     "name": "stdout",
     "output_type": "stream",
     "text": [
      "----------------------------------------------------------------------------------------------------\n",
      "Info:\n",
      "\n",
      "<class 'pandas.core.frame.DataFrame'>\n",
      "RangeIndex: 100000 entries, 0 to 99999\n",
      "Data columns (total 5 columns):\n",
      "id         100000 non-null object\n",
      "f0         100000 non-null float64\n",
      "f1         100000 non-null float64\n",
      "f2         100000 non-null float64\n",
      "product    100000 non-null float64\n",
      "dtypes: float64(4), object(1)\n",
      "memory usage: 3.8+ MB\n"
     ]
    },
    {
     "data": {
      "text/plain": [
       "None"
      ]
     },
     "metadata": {},
     "output_type": "display_data"
    },
    {
     "name": "stdout",
     "output_type": "stream",
     "text": [
      "----------------------------------------------------------------------------------------------------\n",
      "Describe:\n",
      "\n"
     ]
    },
    {
     "data": {
      "text/html": [
       "<div>\n",
       "<style scoped>\n",
       "    .dataframe tbody tr th:only-of-type {\n",
       "        vertical-align: middle;\n",
       "    }\n",
       "\n",
       "    .dataframe tbody tr th {\n",
       "        vertical-align: top;\n",
       "    }\n",
       "\n",
       "    .dataframe thead th {\n",
       "        text-align: right;\n",
       "    }\n",
       "</style>\n",
       "<table border=\"1\" class=\"dataframe\">\n",
       "  <thead>\n",
       "    <tr style=\"text-align: right;\">\n",
       "      <th></th>\n",
       "      <th>f0</th>\n",
       "      <th>f1</th>\n",
       "      <th>f2</th>\n",
       "      <th>product</th>\n",
       "    </tr>\n",
       "  </thead>\n",
       "  <tbody>\n",
       "    <tr>\n",
       "      <td>count</td>\n",
       "      <td>100000.000000</td>\n",
       "      <td>100000.000000</td>\n",
       "      <td>100000.000000</td>\n",
       "      <td>100000.000000</td>\n",
       "    </tr>\n",
       "    <tr>\n",
       "      <td>mean</td>\n",
       "      <td>0.500419</td>\n",
       "      <td>0.250143</td>\n",
       "      <td>2.502647</td>\n",
       "      <td>92.500000</td>\n",
       "    </tr>\n",
       "    <tr>\n",
       "      <td>std</td>\n",
       "      <td>0.871832</td>\n",
       "      <td>0.504433</td>\n",
       "      <td>3.248248</td>\n",
       "      <td>44.288691</td>\n",
       "    </tr>\n",
       "    <tr>\n",
       "      <td>min</td>\n",
       "      <td>-1.408605</td>\n",
       "      <td>-0.848218</td>\n",
       "      <td>-12.088328</td>\n",
       "      <td>0.000000</td>\n",
       "    </tr>\n",
       "    <tr>\n",
       "      <td>25%</td>\n",
       "      <td>-0.072580</td>\n",
       "      <td>-0.200881</td>\n",
       "      <td>0.287748</td>\n",
       "      <td>56.497507</td>\n",
       "    </tr>\n",
       "    <tr>\n",
       "      <td>50%</td>\n",
       "      <td>0.502360</td>\n",
       "      <td>0.250252</td>\n",
       "      <td>2.515969</td>\n",
       "      <td>91.849972</td>\n",
       "    </tr>\n",
       "    <tr>\n",
       "      <td>75%</td>\n",
       "      <td>1.073581</td>\n",
       "      <td>0.700646</td>\n",
       "      <td>4.715088</td>\n",
       "      <td>128.564089</td>\n",
       "    </tr>\n",
       "    <tr>\n",
       "      <td>max</td>\n",
       "      <td>2.362331</td>\n",
       "      <td>1.343769</td>\n",
       "      <td>16.003790</td>\n",
       "      <td>185.364347</td>\n",
       "    </tr>\n",
       "  </tbody>\n",
       "</table>\n",
       "</div>"
      ],
      "text/plain": [
       "                  f0             f1             f2        product\n",
       "count  100000.000000  100000.000000  100000.000000  100000.000000\n",
       "mean        0.500419       0.250143       2.502647      92.500000\n",
       "std         0.871832       0.504433       3.248248      44.288691\n",
       "min        -1.408605      -0.848218     -12.088328       0.000000\n",
       "25%        -0.072580      -0.200881       0.287748      56.497507\n",
       "50%         0.502360       0.250252       2.515969      91.849972\n",
       "75%         1.073581       0.700646       4.715088     128.564089\n",
       "max         2.362331       1.343769      16.003790     185.364347"
      ]
     },
     "metadata": {},
     "output_type": "display_data"
    },
    {
     "name": "stdout",
     "output_type": "stream",
     "text": [
      "----------------------------------------------------------------------------------------------------\n"
     ]
    },
    {
     "data": {
      "text/html": [
       "<div>\n",
       "<style scoped>\n",
       "    .dataframe tbody tr th:only-of-type {\n",
       "        vertical-align: middle;\n",
       "    }\n",
       "\n",
       "    .dataframe tbody tr th {\n",
       "        vertical-align: top;\n",
       "    }\n",
       "\n",
       "    .dataframe thead th {\n",
       "        text-align: right;\n",
       "    }\n",
       "</style>\n",
       "<table border=\"1\" class=\"dataframe\">\n",
       "  <thead>\n",
       "    <tr style=\"text-align: right;\">\n",
       "      <th></th>\n",
       "      <th>id</th>\n",
       "    </tr>\n",
       "  </thead>\n",
       "  <tbody>\n",
       "    <tr>\n",
       "      <td>count</td>\n",
       "      <td>100000</td>\n",
       "    </tr>\n",
       "    <tr>\n",
       "      <td>unique</td>\n",
       "      <td>99990</td>\n",
       "    </tr>\n",
       "    <tr>\n",
       "      <td>top</td>\n",
       "      <td>bxg6G</td>\n",
       "    </tr>\n",
       "    <tr>\n",
       "      <td>freq</td>\n",
       "      <td>2</td>\n",
       "    </tr>\n",
       "  </tbody>\n",
       "</table>\n",
       "</div>"
      ],
      "text/plain": [
       "            id\n",
       "count   100000\n",
       "unique   99990\n",
       "top      bxg6G\n",
       "freq         2"
      ]
     },
     "metadata": {},
     "output_type": "display_data"
    },
    {
     "name": "stdout",
     "output_type": "stream",
     "text": [
      "\n",
      "Columns with nulls:\n"
     ]
    },
    {
     "data": {
      "text/html": [
       "<div>\n",
       "<style scoped>\n",
       "    .dataframe tbody tr th:only-of-type {\n",
       "        vertical-align: middle;\n",
       "    }\n",
       "\n",
       "    .dataframe tbody tr th {\n",
       "        vertical-align: top;\n",
       "    }\n",
       "\n",
       "    .dataframe thead th {\n",
       "        text-align: right;\n",
       "    }\n",
       "</style>\n",
       "<table border=\"1\" class=\"dataframe\">\n",
       "  <thead>\n",
       "    <tr style=\"text-align: right;\">\n",
       "      <th></th>\n",
       "      <th>Missing Values</th>\n",
       "      <th>Percent of Nulls</th>\n",
       "    </tr>\n",
       "  </thead>\n",
       "  <tbody>\n",
       "    <tr>\n",
       "      <td>id</td>\n",
       "      <td>0</td>\n",
       "      <td>0.0</td>\n",
       "    </tr>\n",
       "    <tr>\n",
       "      <td>f0</td>\n",
       "      <td>0</td>\n",
       "      <td>0.0</td>\n",
       "    </tr>\n",
       "    <tr>\n",
       "      <td>f1</td>\n",
       "      <td>0</td>\n",
       "      <td>0.0</td>\n",
       "    </tr>\n",
       "    <tr>\n",
       "      <td>f2</td>\n",
       "      <td>0</td>\n",
       "      <td>0.0</td>\n",
       "    </tr>\n",
       "    <tr>\n",
       "      <td>product</td>\n",
       "      <td>0</td>\n",
       "      <td>0.0</td>\n",
       "    </tr>\n",
       "  </tbody>\n",
       "</table>\n",
       "</div>"
      ],
      "text/plain": [
       "         Missing Values  Percent of Nulls\n",
       "id                    0               0.0\n",
       "f0                    0               0.0\n",
       "f1                    0               0.0\n",
       "f2                    0               0.0\n",
       "product               0               0.0"
      ]
     },
     "metadata": {},
     "output_type": "display_data"
    },
    {
     "name": "stdout",
     "output_type": "stream",
     "text": [
      "----------------------------------------------------------------------------------------------------\n",
      "Shape:\n",
      "(100000, 5)\n",
      "----------------------------------------------------------------------------------------------------\n",
      "Duplicated:\n",
      "\u001b[1mWe have 0 duplicated rows.\u001b[0m\n",
      "\n",
      "REGION NAME:  df1_geo1\n",
      "Head:\n",
      "\n"
     ]
    },
    {
     "data": {
      "text/html": [
       "<div>\n",
       "<style scoped>\n",
       "    .dataframe tbody tr th:only-of-type {\n",
       "        vertical-align: middle;\n",
       "    }\n",
       "\n",
       "    .dataframe tbody tr th {\n",
       "        vertical-align: top;\n",
       "    }\n",
       "\n",
       "    .dataframe thead th {\n",
       "        text-align: right;\n",
       "    }\n",
       "</style>\n",
       "<table border=\"1\" class=\"dataframe\">\n",
       "  <thead>\n",
       "    <tr style=\"text-align: right;\">\n",
       "      <th></th>\n",
       "      <th>id</th>\n",
       "      <th>f0</th>\n",
       "      <th>f1</th>\n",
       "      <th>f2</th>\n",
       "      <th>product</th>\n",
       "    </tr>\n",
       "  </thead>\n",
       "  <tbody>\n",
       "    <tr>\n",
       "      <td>0</td>\n",
       "      <td>kBEdx</td>\n",
       "      <td>-15.001348</td>\n",
       "      <td>-8.276000</td>\n",
       "      <td>-0.005876</td>\n",
       "      <td>3.179103</td>\n",
       "    </tr>\n",
       "    <tr>\n",
       "      <td>1</td>\n",
       "      <td>62mP7</td>\n",
       "      <td>14.272088</td>\n",
       "      <td>-3.475083</td>\n",
       "      <td>0.999183</td>\n",
       "      <td>26.953261</td>\n",
       "    </tr>\n",
       "    <tr>\n",
       "      <td>2</td>\n",
       "      <td>vyE1P</td>\n",
       "      <td>6.263187</td>\n",
       "      <td>-5.948386</td>\n",
       "      <td>5.001160</td>\n",
       "      <td>134.766305</td>\n",
       "    </tr>\n",
       "    <tr>\n",
       "      <td>3</td>\n",
       "      <td>KcrkZ</td>\n",
       "      <td>-13.081196</td>\n",
       "      <td>-11.506057</td>\n",
       "      <td>4.999415</td>\n",
       "      <td>137.945408</td>\n",
       "    </tr>\n",
       "    <tr>\n",
       "      <td>4</td>\n",
       "      <td>AHL4O</td>\n",
       "      <td>12.702195</td>\n",
       "      <td>-8.147433</td>\n",
       "      <td>5.004363</td>\n",
       "      <td>134.766305</td>\n",
       "    </tr>\n",
       "  </tbody>\n",
       "</table>\n",
       "</div>"
      ],
      "text/plain": [
       "      id         f0         f1        f2     product\n",
       "0  kBEdx -15.001348  -8.276000 -0.005876    3.179103\n",
       "1  62mP7  14.272088  -3.475083  0.999183   26.953261\n",
       "2  vyE1P   6.263187  -5.948386  5.001160  134.766305\n",
       "3  KcrkZ -13.081196 -11.506057  4.999415  137.945408\n",
       "4  AHL4O  12.702195  -8.147433  5.004363  134.766305"
      ]
     },
     "metadata": {},
     "output_type": "display_data"
    },
    {
     "name": "stdout",
     "output_type": "stream",
     "text": [
      "----------------------------------------------------------------------------------------------------\n",
      "Info:\n",
      "\n",
      "<class 'pandas.core.frame.DataFrame'>\n",
      "RangeIndex: 100000 entries, 0 to 99999\n",
      "Data columns (total 5 columns):\n",
      "id         100000 non-null object\n",
      "f0         100000 non-null float64\n",
      "f1         100000 non-null float64\n",
      "f2         100000 non-null float64\n",
      "product    100000 non-null float64\n",
      "dtypes: float64(4), object(1)\n",
      "memory usage: 3.8+ MB\n"
     ]
    },
    {
     "data": {
      "text/plain": [
       "None"
      ]
     },
     "metadata": {},
     "output_type": "display_data"
    },
    {
     "name": "stdout",
     "output_type": "stream",
     "text": [
      "----------------------------------------------------------------------------------------------------\n",
      "Describe:\n",
      "\n"
     ]
    },
    {
     "data": {
      "text/html": [
       "<div>\n",
       "<style scoped>\n",
       "    .dataframe tbody tr th:only-of-type {\n",
       "        vertical-align: middle;\n",
       "    }\n",
       "\n",
       "    .dataframe tbody tr th {\n",
       "        vertical-align: top;\n",
       "    }\n",
       "\n",
       "    .dataframe thead th {\n",
       "        text-align: right;\n",
       "    }\n",
       "</style>\n",
       "<table border=\"1\" class=\"dataframe\">\n",
       "  <thead>\n",
       "    <tr style=\"text-align: right;\">\n",
       "      <th></th>\n",
       "      <th>f0</th>\n",
       "      <th>f1</th>\n",
       "      <th>f2</th>\n",
       "      <th>product</th>\n",
       "    </tr>\n",
       "  </thead>\n",
       "  <tbody>\n",
       "    <tr>\n",
       "      <td>count</td>\n",
       "      <td>100000.000000</td>\n",
       "      <td>100000.000000</td>\n",
       "      <td>100000.000000</td>\n",
       "      <td>100000.000000</td>\n",
       "    </tr>\n",
       "    <tr>\n",
       "      <td>mean</td>\n",
       "      <td>1.141296</td>\n",
       "      <td>-4.796579</td>\n",
       "      <td>2.494541</td>\n",
       "      <td>68.825000</td>\n",
       "    </tr>\n",
       "    <tr>\n",
       "      <td>std</td>\n",
       "      <td>8.965932</td>\n",
       "      <td>5.119872</td>\n",
       "      <td>1.703572</td>\n",
       "      <td>45.944423</td>\n",
       "    </tr>\n",
       "    <tr>\n",
       "      <td>min</td>\n",
       "      <td>-31.609576</td>\n",
       "      <td>-26.358598</td>\n",
       "      <td>-0.018144</td>\n",
       "      <td>0.000000</td>\n",
       "    </tr>\n",
       "    <tr>\n",
       "      <td>25%</td>\n",
       "      <td>-6.298551</td>\n",
       "      <td>-8.267985</td>\n",
       "      <td>1.000021</td>\n",
       "      <td>26.953261</td>\n",
       "    </tr>\n",
       "    <tr>\n",
       "      <td>50%</td>\n",
       "      <td>1.153055</td>\n",
       "      <td>-4.813172</td>\n",
       "      <td>2.011479</td>\n",
       "      <td>57.085625</td>\n",
       "    </tr>\n",
       "    <tr>\n",
       "      <td>75%</td>\n",
       "      <td>8.621015</td>\n",
       "      <td>-1.332816</td>\n",
       "      <td>3.999904</td>\n",
       "      <td>107.813044</td>\n",
       "    </tr>\n",
       "    <tr>\n",
       "      <td>max</td>\n",
       "      <td>29.421755</td>\n",
       "      <td>18.734063</td>\n",
       "      <td>5.019721</td>\n",
       "      <td>137.945408</td>\n",
       "    </tr>\n",
       "  </tbody>\n",
       "</table>\n",
       "</div>"
      ],
      "text/plain": [
       "                  f0             f1             f2        product\n",
       "count  100000.000000  100000.000000  100000.000000  100000.000000\n",
       "mean        1.141296      -4.796579       2.494541      68.825000\n",
       "std         8.965932       5.119872       1.703572      45.944423\n",
       "min       -31.609576     -26.358598      -0.018144       0.000000\n",
       "25%        -6.298551      -8.267985       1.000021      26.953261\n",
       "50%         1.153055      -4.813172       2.011479      57.085625\n",
       "75%         8.621015      -1.332816       3.999904     107.813044\n",
       "max        29.421755      18.734063       5.019721     137.945408"
      ]
     },
     "metadata": {},
     "output_type": "display_data"
    },
    {
     "name": "stdout",
     "output_type": "stream",
     "text": [
      "----------------------------------------------------------------------------------------------------\n"
     ]
    },
    {
     "data": {
      "text/html": [
       "<div>\n",
       "<style scoped>\n",
       "    .dataframe tbody tr th:only-of-type {\n",
       "        vertical-align: middle;\n",
       "    }\n",
       "\n",
       "    .dataframe tbody tr th {\n",
       "        vertical-align: top;\n",
       "    }\n",
       "\n",
       "    .dataframe thead th {\n",
       "        text-align: right;\n",
       "    }\n",
       "</style>\n",
       "<table border=\"1\" class=\"dataframe\">\n",
       "  <thead>\n",
       "    <tr style=\"text-align: right;\">\n",
       "      <th></th>\n",
       "      <th>id</th>\n",
       "    </tr>\n",
       "  </thead>\n",
       "  <tbody>\n",
       "    <tr>\n",
       "      <td>count</td>\n",
       "      <td>100000</td>\n",
       "    </tr>\n",
       "    <tr>\n",
       "      <td>unique</td>\n",
       "      <td>99996</td>\n",
       "    </tr>\n",
       "    <tr>\n",
       "      <td>top</td>\n",
       "      <td>wt4Uk</td>\n",
       "    </tr>\n",
       "    <tr>\n",
       "      <td>freq</td>\n",
       "      <td>2</td>\n",
       "    </tr>\n",
       "  </tbody>\n",
       "</table>\n",
       "</div>"
      ],
      "text/plain": [
       "            id\n",
       "count   100000\n",
       "unique   99996\n",
       "top      wt4Uk\n",
       "freq         2"
      ]
     },
     "metadata": {},
     "output_type": "display_data"
    },
    {
     "name": "stdout",
     "output_type": "stream",
     "text": [
      "\n",
      "Columns with nulls:\n"
     ]
    },
    {
     "data": {
      "text/html": [
       "<div>\n",
       "<style scoped>\n",
       "    .dataframe tbody tr th:only-of-type {\n",
       "        vertical-align: middle;\n",
       "    }\n",
       "\n",
       "    .dataframe tbody tr th {\n",
       "        vertical-align: top;\n",
       "    }\n",
       "\n",
       "    .dataframe thead th {\n",
       "        text-align: right;\n",
       "    }\n",
       "</style>\n",
       "<table border=\"1\" class=\"dataframe\">\n",
       "  <thead>\n",
       "    <tr style=\"text-align: right;\">\n",
       "      <th></th>\n",
       "      <th>Missing Values</th>\n",
       "      <th>Percent of Nulls</th>\n",
       "    </tr>\n",
       "  </thead>\n",
       "  <tbody>\n",
       "    <tr>\n",
       "      <td>id</td>\n",
       "      <td>0</td>\n",
       "      <td>0.0</td>\n",
       "    </tr>\n",
       "    <tr>\n",
       "      <td>f0</td>\n",
       "      <td>0</td>\n",
       "      <td>0.0</td>\n",
       "    </tr>\n",
       "    <tr>\n",
       "      <td>f1</td>\n",
       "      <td>0</td>\n",
       "      <td>0.0</td>\n",
       "    </tr>\n",
       "    <tr>\n",
       "      <td>f2</td>\n",
       "      <td>0</td>\n",
       "      <td>0.0</td>\n",
       "    </tr>\n",
       "    <tr>\n",
       "      <td>product</td>\n",
       "      <td>0</td>\n",
       "      <td>0.0</td>\n",
       "    </tr>\n",
       "  </tbody>\n",
       "</table>\n",
       "</div>"
      ],
      "text/plain": [
       "         Missing Values  Percent of Nulls\n",
       "id                    0               0.0\n",
       "f0                    0               0.0\n",
       "f1                    0               0.0\n",
       "f2                    0               0.0\n",
       "product               0               0.0"
      ]
     },
     "metadata": {},
     "output_type": "display_data"
    },
    {
     "name": "stdout",
     "output_type": "stream",
     "text": [
      "----------------------------------------------------------------------------------------------------\n",
      "Shape:\n",
      "(100000, 5)\n",
      "----------------------------------------------------------------------------------------------------\n",
      "Duplicated:\n",
      "\u001b[1mWe have 0 duplicated rows.\u001b[0m\n",
      "\n",
      "REGION NAME:  df2_geo2\n",
      "Head:\n",
      "\n"
     ]
    },
    {
     "data": {
      "text/html": [
       "<div>\n",
       "<style scoped>\n",
       "    .dataframe tbody tr th:only-of-type {\n",
       "        vertical-align: middle;\n",
       "    }\n",
       "\n",
       "    .dataframe tbody tr th {\n",
       "        vertical-align: top;\n",
       "    }\n",
       "\n",
       "    .dataframe thead th {\n",
       "        text-align: right;\n",
       "    }\n",
       "</style>\n",
       "<table border=\"1\" class=\"dataframe\">\n",
       "  <thead>\n",
       "    <tr style=\"text-align: right;\">\n",
       "      <th></th>\n",
       "      <th>id</th>\n",
       "      <th>f0</th>\n",
       "      <th>f1</th>\n",
       "      <th>f2</th>\n",
       "      <th>product</th>\n",
       "    </tr>\n",
       "  </thead>\n",
       "  <tbody>\n",
       "    <tr>\n",
       "      <td>0</td>\n",
       "      <td>fwXo0</td>\n",
       "      <td>-1.146987</td>\n",
       "      <td>0.963328</td>\n",
       "      <td>-0.828965</td>\n",
       "      <td>27.758673</td>\n",
       "    </tr>\n",
       "    <tr>\n",
       "      <td>1</td>\n",
       "      <td>WJtFt</td>\n",
       "      <td>0.262778</td>\n",
       "      <td>0.269839</td>\n",
       "      <td>-2.530187</td>\n",
       "      <td>56.069697</td>\n",
       "    </tr>\n",
       "    <tr>\n",
       "      <td>2</td>\n",
       "      <td>ovLUW</td>\n",
       "      <td>0.194587</td>\n",
       "      <td>0.289035</td>\n",
       "      <td>-5.586433</td>\n",
       "      <td>62.871910</td>\n",
       "    </tr>\n",
       "    <tr>\n",
       "      <td>3</td>\n",
       "      <td>q6cA6</td>\n",
       "      <td>2.236060</td>\n",
       "      <td>-0.553760</td>\n",
       "      <td>0.930038</td>\n",
       "      <td>114.572842</td>\n",
       "    </tr>\n",
       "    <tr>\n",
       "      <td>4</td>\n",
       "      <td>WPMUX</td>\n",
       "      <td>-0.515993</td>\n",
       "      <td>1.716266</td>\n",
       "      <td>5.899011</td>\n",
       "      <td>149.600746</td>\n",
       "    </tr>\n",
       "  </tbody>\n",
       "</table>\n",
       "</div>"
      ],
      "text/plain": [
       "      id        f0        f1        f2     product\n",
       "0  fwXo0 -1.146987  0.963328 -0.828965   27.758673\n",
       "1  WJtFt  0.262778  0.269839 -2.530187   56.069697\n",
       "2  ovLUW  0.194587  0.289035 -5.586433   62.871910\n",
       "3  q6cA6  2.236060 -0.553760  0.930038  114.572842\n",
       "4  WPMUX -0.515993  1.716266  5.899011  149.600746"
      ]
     },
     "metadata": {},
     "output_type": "display_data"
    },
    {
     "name": "stdout",
     "output_type": "stream",
     "text": [
      "----------------------------------------------------------------------------------------------------\n",
      "Info:\n",
      "\n",
      "<class 'pandas.core.frame.DataFrame'>\n",
      "RangeIndex: 100000 entries, 0 to 99999\n",
      "Data columns (total 5 columns):\n",
      "id         100000 non-null object\n",
      "f0         100000 non-null float64\n",
      "f1         100000 non-null float64\n",
      "f2         100000 non-null float64\n",
      "product    100000 non-null float64\n",
      "dtypes: float64(4), object(1)\n",
      "memory usage: 3.8+ MB\n"
     ]
    },
    {
     "data": {
      "text/plain": [
       "None"
      ]
     },
     "metadata": {},
     "output_type": "display_data"
    },
    {
     "name": "stdout",
     "output_type": "stream",
     "text": [
      "----------------------------------------------------------------------------------------------------\n",
      "Describe:\n",
      "\n"
     ]
    },
    {
     "data": {
      "text/html": [
       "<div>\n",
       "<style scoped>\n",
       "    .dataframe tbody tr th:only-of-type {\n",
       "        vertical-align: middle;\n",
       "    }\n",
       "\n",
       "    .dataframe tbody tr th {\n",
       "        vertical-align: top;\n",
       "    }\n",
       "\n",
       "    .dataframe thead th {\n",
       "        text-align: right;\n",
       "    }\n",
       "</style>\n",
       "<table border=\"1\" class=\"dataframe\">\n",
       "  <thead>\n",
       "    <tr style=\"text-align: right;\">\n",
       "      <th></th>\n",
       "      <th>f0</th>\n",
       "      <th>f1</th>\n",
       "      <th>f2</th>\n",
       "      <th>product</th>\n",
       "    </tr>\n",
       "  </thead>\n",
       "  <tbody>\n",
       "    <tr>\n",
       "      <td>count</td>\n",
       "      <td>100000.000000</td>\n",
       "      <td>100000.000000</td>\n",
       "      <td>100000.000000</td>\n",
       "      <td>100000.000000</td>\n",
       "    </tr>\n",
       "    <tr>\n",
       "      <td>mean</td>\n",
       "      <td>0.002023</td>\n",
       "      <td>-0.002081</td>\n",
       "      <td>2.495128</td>\n",
       "      <td>95.000000</td>\n",
       "    </tr>\n",
       "    <tr>\n",
       "      <td>std</td>\n",
       "      <td>1.732045</td>\n",
       "      <td>1.730417</td>\n",
       "      <td>3.473445</td>\n",
       "      <td>44.749921</td>\n",
       "    </tr>\n",
       "    <tr>\n",
       "      <td>min</td>\n",
       "      <td>-8.760004</td>\n",
       "      <td>-7.084020</td>\n",
       "      <td>-11.970335</td>\n",
       "      <td>0.000000</td>\n",
       "    </tr>\n",
       "    <tr>\n",
       "      <td>25%</td>\n",
       "      <td>-1.162288</td>\n",
       "      <td>-1.174820</td>\n",
       "      <td>0.130359</td>\n",
       "      <td>59.450441</td>\n",
       "    </tr>\n",
       "    <tr>\n",
       "      <td>50%</td>\n",
       "      <td>0.009424</td>\n",
       "      <td>-0.009482</td>\n",
       "      <td>2.484236</td>\n",
       "      <td>94.925613</td>\n",
       "    </tr>\n",
       "    <tr>\n",
       "      <td>75%</td>\n",
       "      <td>1.158535</td>\n",
       "      <td>1.163678</td>\n",
       "      <td>4.858794</td>\n",
       "      <td>130.595027</td>\n",
       "    </tr>\n",
       "    <tr>\n",
       "      <td>max</td>\n",
       "      <td>7.238262</td>\n",
       "      <td>7.844801</td>\n",
       "      <td>16.739402</td>\n",
       "      <td>190.029838</td>\n",
       "    </tr>\n",
       "  </tbody>\n",
       "</table>\n",
       "</div>"
      ],
      "text/plain": [
       "                  f0             f1             f2        product\n",
       "count  100000.000000  100000.000000  100000.000000  100000.000000\n",
       "mean        0.002023      -0.002081       2.495128      95.000000\n",
       "std         1.732045       1.730417       3.473445      44.749921\n",
       "min        -8.760004      -7.084020     -11.970335       0.000000\n",
       "25%        -1.162288      -1.174820       0.130359      59.450441\n",
       "50%         0.009424      -0.009482       2.484236      94.925613\n",
       "75%         1.158535       1.163678       4.858794     130.595027\n",
       "max         7.238262       7.844801      16.739402     190.029838"
      ]
     },
     "metadata": {},
     "output_type": "display_data"
    },
    {
     "name": "stdout",
     "output_type": "stream",
     "text": [
      "----------------------------------------------------------------------------------------------------\n"
     ]
    },
    {
     "data": {
      "text/html": [
       "<div>\n",
       "<style scoped>\n",
       "    .dataframe tbody tr th:only-of-type {\n",
       "        vertical-align: middle;\n",
       "    }\n",
       "\n",
       "    .dataframe tbody tr th {\n",
       "        vertical-align: top;\n",
       "    }\n",
       "\n",
       "    .dataframe thead th {\n",
       "        text-align: right;\n",
       "    }\n",
       "</style>\n",
       "<table border=\"1\" class=\"dataframe\">\n",
       "  <thead>\n",
       "    <tr style=\"text-align: right;\">\n",
       "      <th></th>\n",
       "      <th>id</th>\n",
       "    </tr>\n",
       "  </thead>\n",
       "  <tbody>\n",
       "    <tr>\n",
       "      <td>count</td>\n",
       "      <td>100000</td>\n",
       "    </tr>\n",
       "    <tr>\n",
       "      <td>unique</td>\n",
       "      <td>99996</td>\n",
       "    </tr>\n",
       "    <tr>\n",
       "      <td>top</td>\n",
       "      <td>Vcm5J</td>\n",
       "    </tr>\n",
       "    <tr>\n",
       "      <td>freq</td>\n",
       "      <td>2</td>\n",
       "    </tr>\n",
       "  </tbody>\n",
       "</table>\n",
       "</div>"
      ],
      "text/plain": [
       "            id\n",
       "count   100000\n",
       "unique   99996\n",
       "top      Vcm5J\n",
       "freq         2"
      ]
     },
     "metadata": {},
     "output_type": "display_data"
    },
    {
     "name": "stdout",
     "output_type": "stream",
     "text": [
      "\n",
      "Columns with nulls:\n"
     ]
    },
    {
     "data": {
      "text/html": [
       "<div>\n",
       "<style scoped>\n",
       "    .dataframe tbody tr th:only-of-type {\n",
       "        vertical-align: middle;\n",
       "    }\n",
       "\n",
       "    .dataframe tbody tr th {\n",
       "        vertical-align: top;\n",
       "    }\n",
       "\n",
       "    .dataframe thead th {\n",
       "        text-align: right;\n",
       "    }\n",
       "</style>\n",
       "<table border=\"1\" class=\"dataframe\">\n",
       "  <thead>\n",
       "    <tr style=\"text-align: right;\">\n",
       "      <th></th>\n",
       "      <th>Missing Values</th>\n",
       "      <th>Percent of Nulls</th>\n",
       "    </tr>\n",
       "  </thead>\n",
       "  <tbody>\n",
       "    <tr>\n",
       "      <td>id</td>\n",
       "      <td>0</td>\n",
       "      <td>0.0</td>\n",
       "    </tr>\n",
       "    <tr>\n",
       "      <td>f0</td>\n",
       "      <td>0</td>\n",
       "      <td>0.0</td>\n",
       "    </tr>\n",
       "    <tr>\n",
       "      <td>f1</td>\n",
       "      <td>0</td>\n",
       "      <td>0.0</td>\n",
       "    </tr>\n",
       "    <tr>\n",
       "      <td>f2</td>\n",
       "      <td>0</td>\n",
       "      <td>0.0</td>\n",
       "    </tr>\n",
       "    <tr>\n",
       "      <td>product</td>\n",
       "      <td>0</td>\n",
       "      <td>0.0</td>\n",
       "    </tr>\n",
       "  </tbody>\n",
       "</table>\n",
       "</div>"
      ],
      "text/plain": [
       "         Missing Values  Percent of Nulls\n",
       "id                    0               0.0\n",
       "f0                    0               0.0\n",
       "f1                    0               0.0\n",
       "f2                    0               0.0\n",
       "product               0               0.0"
      ]
     },
     "metadata": {},
     "output_type": "display_data"
    },
    {
     "name": "stdout",
     "output_type": "stream",
     "text": [
      "----------------------------------------------------------------------------------------------------\n",
      "Shape:\n",
      "(100000, 5)\n",
      "----------------------------------------------------------------------------------------------------\n",
      "Duplicated:\n",
      "\u001b[1mWe have 0 duplicated rows.\u001b[0m\n",
      "\n"
     ]
    }
   ],
   "source": [
    "i=0\n",
    "for df_tmp in df_all:\n",
    "  print(\"REGION NAME: \",df_all_names[i])\n",
    "  display_information(df_tmp)\n",
    "  i=i+1\n",
    "  print()"
   ]
  },
  {
   "cell_type": "markdown",
   "metadata": {
    "id": "FbX1-sWKOP7r"
   },
   "source": [
    "# CONCLUSION:\n",
    "- I don't see any outliers. \n",
    "- The only data I see problematic is the IDs are mixed case. However that shouldn't impact my analysis. Hence I leave it as is.\n",
    "- There is one ID which is repeated. I will check if the entire row is the same. If yes, consider removing one row. "
   ]
  },
  {
   "cell_type": "code",
   "execution_count": 55,
   "metadata": {
    "colab": {
     "base_uri": "https://localhost:8080/",
     "height": 350
    },
    "id": "gEI7arVV_l3b",
    "outputId": "17782446-70d8-4352-a52c-768b23edce04",
    "scrolled": true
   },
   "outputs": [
    {
     "data": {
      "text/plain": [
       "'df0 duplicate_id_rows'"
      ]
     },
     "metadata": {},
     "output_type": "display_data"
    },
    {
     "data": {
      "text/html": [
       "<div>\n",
       "<style scoped>\n",
       "    .dataframe tbody tr th:only-of-type {\n",
       "        vertical-align: middle;\n",
       "    }\n",
       "\n",
       "    .dataframe tbody tr th {\n",
       "        vertical-align: top;\n",
       "    }\n",
       "\n",
       "    .dataframe thead th {\n",
       "        text-align: right;\n",
       "    }\n",
       "</style>\n",
       "<table border=\"1\" class=\"dataframe\">\n",
       "  <thead>\n",
       "    <tr style=\"text-align: right;\">\n",
       "      <th></th>\n",
       "      <th>id</th>\n",
       "      <th>f0</th>\n",
       "      <th>f1</th>\n",
       "      <th>f2</th>\n",
       "      <th>product</th>\n",
       "    </tr>\n",
       "  </thead>\n",
       "  <tbody>\n",
       "    <tr>\n",
       "      <td>931</td>\n",
       "      <td>HZww2</td>\n",
       "      <td>0.755284</td>\n",
       "      <td>0.368511</td>\n",
       "      <td>1.863211</td>\n",
       "      <td>30.681774</td>\n",
       "    </tr>\n",
       "    <tr>\n",
       "      <td>7530</td>\n",
       "      <td>HZww2</td>\n",
       "      <td>1.061194</td>\n",
       "      <td>-0.373969</td>\n",
       "      <td>10.430210</td>\n",
       "      <td>158.828695</td>\n",
       "    </tr>\n",
       "  </tbody>\n",
       "</table>\n",
       "</div>"
      ],
      "text/plain": [
       "         id        f0        f1         f2     product\n",
       "931   HZww2  0.755284  0.368511   1.863211   30.681774\n",
       "7530  HZww2  1.061194 -0.373969  10.430210  158.828695"
      ]
     },
     "metadata": {},
     "output_type": "display_data"
    },
    {
     "data": {
      "text/plain": [
       "'df1 duplicate_id_rows'"
      ]
     },
     "metadata": {},
     "output_type": "display_data"
    },
    {
     "data": {
      "text/html": [
       "<div>\n",
       "<style scoped>\n",
       "    .dataframe tbody tr th:only-of-type {\n",
       "        vertical-align: middle;\n",
       "    }\n",
       "\n",
       "    .dataframe tbody tr th {\n",
       "        vertical-align: top;\n",
       "    }\n",
       "\n",
       "    .dataframe thead th {\n",
       "        text-align: right;\n",
       "    }\n",
       "</style>\n",
       "<table border=\"1\" class=\"dataframe\">\n",
       "  <thead>\n",
       "    <tr style=\"text-align: right;\">\n",
       "      <th></th>\n",
       "      <th>id</th>\n",
       "      <th>f0</th>\n",
       "      <th>f1</th>\n",
       "      <th>f2</th>\n",
       "      <th>product</th>\n",
       "    </tr>\n",
       "  </thead>\n",
       "  <tbody>\n",
       "    <tr>\n",
       "      <td>47591</td>\n",
       "      <td>wt4Uk</td>\n",
       "      <td>-9.091098</td>\n",
       "      <td>-8.109279</td>\n",
       "      <td>-0.002314</td>\n",
       "      <td>3.179103</td>\n",
       "    </tr>\n",
       "    <tr>\n",
       "      <td>82873</td>\n",
       "      <td>wt4Uk</td>\n",
       "      <td>10.259972</td>\n",
       "      <td>-9.376355</td>\n",
       "      <td>4.994297</td>\n",
       "      <td>134.766305</td>\n",
       "    </tr>\n",
       "  </tbody>\n",
       "</table>\n",
       "</div>"
      ],
      "text/plain": [
       "          id         f0        f1        f2     product\n",
       "47591  wt4Uk  -9.091098 -8.109279 -0.002314    3.179103\n",
       "82873  wt4Uk  10.259972 -9.376355  4.994297  134.766305"
      ]
     },
     "metadata": {},
     "output_type": "display_data"
    },
    {
     "data": {
      "text/plain": [
       "'df2 duplicate_id_rows'"
      ]
     },
     "metadata": {},
     "output_type": "display_data"
    },
    {
     "data": {
      "text/html": [
       "<div>\n",
       "<style scoped>\n",
       "    .dataframe tbody tr th:only-of-type {\n",
       "        vertical-align: middle;\n",
       "    }\n",
       "\n",
       "    .dataframe tbody tr th {\n",
       "        vertical-align: top;\n",
       "    }\n",
       "\n",
       "    .dataframe thead th {\n",
       "        text-align: right;\n",
       "    }\n",
       "</style>\n",
       "<table border=\"1\" class=\"dataframe\">\n",
       "  <thead>\n",
       "    <tr style=\"text-align: right;\">\n",
       "      <th></th>\n",
       "      <th>id</th>\n",
       "      <th>f0</th>\n",
       "      <th>f1</th>\n",
       "      <th>f2</th>\n",
       "      <th>product</th>\n",
       "    </tr>\n",
       "  </thead>\n",
       "  <tbody>\n",
       "    <tr>\n",
       "      <td>44378</td>\n",
       "      <td>Vcm5J</td>\n",
       "      <td>-1.229484</td>\n",
       "      <td>-2.439204</td>\n",
       "      <td>1.222909</td>\n",
       "      <td>137.968290</td>\n",
       "    </tr>\n",
       "    <tr>\n",
       "      <td>95090</td>\n",
       "      <td>Vcm5J</td>\n",
       "      <td>2.587702</td>\n",
       "      <td>1.986875</td>\n",
       "      <td>2.482245</td>\n",
       "      <td>92.327572</td>\n",
       "    </tr>\n",
       "  </tbody>\n",
       "</table>\n",
       "</div>"
      ],
      "text/plain": [
       "          id        f0        f1        f2     product\n",
       "44378  Vcm5J -1.229484 -2.439204  1.222909  137.968290\n",
       "95090  Vcm5J  2.587702  1.986875  2.482245   92.327572"
      ]
     },
     "metadata": {},
     "output_type": "display_data"
    }
   ],
   "source": [
    "duplicate_id_rows = df0[df0['id']=='HZww2']\n",
    "display('df0 duplicate_id_rows',duplicate_id_rows)\n",
    "\n",
    "duplicate_id_rows = df1[df1['id']=='wt4Uk']\n",
    "display('df1 duplicate_id_rows',duplicate_id_rows)\n",
    "\n",
    "duplicate_id_rows = df2[df2['id']=='Vcm5J']\n",
    "display('df2 duplicate_id_rows',duplicate_id_rows)"
   ]
  },
  {
   "cell_type": "markdown",
   "metadata": {
    "id": "rp3vMd1y_l3a"
   },
   "source": [
    "# CONCLUSION:\n",
    "\n",
    "- The duplicate id rows have different values in the features set. Hence won't remove the rows.\n",
    "- The only data I see problematic is the IDs are mixed case. However that shouldn't impact my analysis. Hence I leave it as is. We may remove these IDs since they don't serve any purpose in analysis."
   ]
  },
  {
   "cell_type": "markdown",
   "metadata": {
    "id": "DyiK-55Z8nrl"
   },
   "source": [
    "# STEP-2: EXPLORATORY DATA ANALYSIS"
   ]
  },
  {
   "cell_type": "code",
   "execution_count": 56,
   "metadata": {
    "colab": {
     "base_uri": "https://localhost:8080/",
     "height": 834
    },
    "id": "-4BZYbob-5k5",
    "outputId": "91842e2a-cdb7-42bc-c772-ec104e20cc5f"
   },
   "outputs": [
    {
     "data": {
      "text/plain": [
       "<matplotlib.axes._subplots.AxesSubplot at 0x7fa10d9c2c90>"
      ]
     },
     "metadata": {},
     "output_type": "display_data"
    },
    {
     "data": {
      "image/png": "[encoded data removed]",
      "text/plain": [
       "<Figure size 432x288 with 2 Axes>"
      ]
     },
     "metadata": {},
     "output_type": "display_data"
    },
    {
     "data": {
      "text/plain": [
       "<matplotlib.axes._subplots.AxesSubplot at 0x7fa10fc74590>"
      ]
     },
     "metadata": {},
     "output_type": "display_data"
    },
    {
     "data": {
      "image/png": "[encoded data removed]",
      "text/plain": [
       "<Figure size 432x288 with 2 Axes>"
      ]
     },
     "metadata": {},
     "output_type": "display_data"
    },
    {
     "data": {
      "text/plain": [
       "<matplotlib.axes._subplots.AxesSubplot at 0x7fa10fc20890>"
      ]
     },
     "metadata": {},
     "output_type": "display_data"
    },
    {
     "data": {
      "image/png": "[encoded data removed]",
      "text/plain": [
       "<Figure size 432x288 with 2 Axes>"
      ]
     },
     "metadata": {},
     "output_type": "display_data"
    }
   ],
   "source": [
    "for df in df_all:\n",
    "  heatmap = display(sns.heatmap(df.corr()[['product']].sort_values(by='product', ascending=False), vmin=-1, vmax=1, annot=True, cmap='BrBG'))\n",
    "  plt.show()"
   ]
  },
  {
   "cell_type": "markdown",
   "metadata": {
    "id": "Bm8nrIFhBaZp"
   },
   "source": [
    "# CONCLUSION\n",
    "- The heatmap depicts that product has strong positive correlation with f2.\n",
    "- It has weaker or negative correlation with f0.\n",
    "- product has negative correlation with  f1\n"
   ]
  },
  {
   "cell_type": "code",
   "execution_count": 57,
   "metadata": {
    "colab": {
     "base_uri": "https://localhost:8080/",
     "height": 866
    },
    "id": "9Wk5xR_GdDS3",
    "outputId": "0d38341b-443a-4ea5-daf3-caf6332e8cff"
   },
   "outputs": [
    {
     "data": {
      "image/png": "[encoded data removed]",
      "text/plain": [
       "<Figure size 720x288 with 1 Axes>"
      ]
     },
     "metadata": {},
     "output_type": "display_data"
    },
    {
     "data": {
      "image/png": "[encoded data removed]",
      "text/plain": [
       "<Figure size 720x288 with 1 Axes>"
      ]
     },
     "metadata": {},
     "output_type": "display_data"
    },
    {
     "data": {
      "image/png": "[encoded data removed]",
      "text/plain": [
       "<Figure size 720x288 with 1 Axes>"
      ]
     },
     "metadata": {},
     "output_type": "display_data"
    }
   ],
   "source": [
    "for df in df_all:\n",
    "  plt.figure(figsize=(10,4))\n",
    "  df.corr()['product'].sort_values(ascending = False).plot(kind='bar')\n",
    "  plt.show()"
   ]
  },
  {
   "cell_type": "markdown",
   "metadata": {
    "id": "8g0iwDKPdNz0"
   },
   "source": [
    "# CONCLUSION\n",
    "The BAR Chart also displays that \n",
    "\n",
    "f2 has high correlation with product,\n",
    "f0 has a bit weaker or negative correlation.\n",
    "f1 has negative correlation with product."
   ]
  },
  {
   "cell_type": "code",
   "execution_count": 58,
   "metadata": {
    "colab": {
     "base_uri": "https://localhost:8080/",
     "height": 121
    },
    "id": "qTTfgxiDeRLF",
    "outputId": "21cba026-7167-4af8-c943-73313b4fbec1"
   },
   "outputs": [
    {
     "data": {
      "text/plain": [
       "(100000, 5)"
      ]
     },
     "metadata": {},
     "output_type": "display_data"
    },
    {
     "data": {
      "text/plain": [
       "(100000, 5)"
      ]
     },
     "metadata": {},
     "output_type": "display_data"
    },
    {
     "data": {
      "text/plain": [
       "(100000, 5)"
      ]
     },
     "metadata": {},
     "output_type": "display_data"
    },
    {
     "data": {
      "text/plain": [
       "(100000, 4)"
      ]
     },
     "metadata": {},
     "output_type": "display_data"
    },
    {
     "data": {
      "text/plain": [
       "(100000, 4)"
      ]
     },
     "metadata": {},
     "output_type": "display_data"
    },
    {
     "data": {
      "text/plain": [
       "(100000, 4)"
      ]
     },
     "metadata": {},
     "output_type": "display_data"
    }
   ],
   "source": [
    "#Droping id column which will have no use in the Machine Learning\n",
    "i=0\n",
    "for df in df_all:\n",
    "    display(df.shape)\n",
    "    df_all[i]=df.drop(['id'],axis=1)\n",
    "    i+=1\n",
    "\n",
    "for df in df_all:\n",
    "    display(df.shape)"
   ]
  },
  {
   "cell_type": "markdown",
   "metadata": {
    "id": "ZfDn_kxUpvpa"
   },
   "source": [
    "# CONCLUSION\n",
    "- Dropped column: id"
   ]
  },
  {
   "cell_type": "markdown",
   "metadata": {
    "id": "HwF7iHJqpvpk"
   },
   "source": [
    "# STEP-3: FEATURE ENGINEERING\n"
   ]
  },
  {
   "cell_type": "markdown",
   "metadata": {
    "id": "Ffymfl4j5ynF"
   },
   "source": [
    "# Train and test the model for each region:\n",
    "- 2.1. Split the data into a training set and validation set at a ratio of 75:25.\n",
    "- 2.2. Train the model and make predictions for the validation set.\n",
    "- 2.3. Save the predictions and correct answers for the validation set.\n",
    "- 2.4. Print the average volume of predicted reserves and model RMSE.\n",
    "- 2.5. Analyze the results.\n",
    "- FUNCTION for DEFINING TRAINING and VALIDATION SETS\n",
    "- Training set is 75%, Validation set is 25% each"
   ]
  },
  {
   "cell_type": "code",
   "execution_count": 59,
   "metadata": {
    "id": "Oq3oIZPeK_cd"
   },
   "outputs": [],
   "source": [
    "def defineTrainingValidationSets(df):\n",
    "    target = df['product']\n",
    "    features = df.drop(['product'] , axis=1)\n",
    "\n",
    "    #FIRST SPLIT INTO TRAINING(75%) AND VALIDATION_TEST (25%)\n",
    "    features_train, features_valid, target_train, target_valid = train_test_split(\n",
    "        features, target, test_size=0.25, random_state=RANDOM_STATE)\n",
    "\n",
    "    totsize = len(df)\n",
    "    print('training set  : {0:.0%}'.format(len(features_train) /totsize),features_train.shape, ', training target   :',target_train.shape)\n",
    "    print('validation set: {0:.0%}'.format(len(features_valid)/totsize),features_valid.shape,', validation target :',target_valid.shape)\n",
    "    return(target,features,features_train, features_valid, target_train, target_valid)\n",
    "\n",
    "\n",
    "    #Standardize the numerical features.\n",
    "    numeric = ['f0', 'f1', 'f2']\n",
    "    scaler = StandardScaler()\n",
    "\n",
    "    # < transform feature set >\n",
    "    scaler.fit(features_train[numeric])\n",
    "    features_train.loc[:,numeric] = scaler.transform(features_train[numeric])\n",
    "\n",
    "    # < transform validation set >\n",
    "    features_valid.loc[:,numeric] = scaler.transform(features_valid[numeric])\n",
    "    #display(features_valid.head(5),features_train.head(5))\n",
    "    return(target,features,features_train, features_valid, target_train, target_valid)"
   ]
  },
  {
   "cell_type": "markdown",
   "metadata": {
    "id": "r77_02Qkbttv"
   },
   "source": [
    "# STEP-4: TEST LINEAR REGRESSION ON DATASETS \n",
    "- Only linear regression is suitable for model training (the rest are not sufficiently predictable).\n",
    "- Use 3 features to train your model to predict the target values. \n",
    "- I you have 3 datasets and 1  model for each dataset.\n",
    "- FUNCTION FOR LINER REGRESSION\n",
    "- Calculate rmse and score\n"
   ]
  },
  {
   "cell_type": "code",
   "execution_count": 60,
   "metadata": {
    "id": "Bhf08lJdOKVt"
   },
   "outputs": [],
   "source": [
    "def applyLinearRegression(features,target,features_train,target_train,features_valid,target_valid):\n",
    "    method=\"LinearRegression\"\n",
    "    hyperparam = \"none\"\n",
    "    model = LinearRegression() \n",
    "    model.fit(features_train, target_train)\n",
    "\n",
    "    predicted_valid = model.predict(features_valid)\n",
    "    score = r2_score(target_valid,predicted_valid)\n",
    "    mean = predicted_valid.mean()\n",
    "    mse = mean_squared_error(target_valid, predicted_valid)\n",
    "    rmse = mse**0.5\n",
    "    return(score,mean,rmse,predicted_valid)"
   ]
  },
  {
   "cell_type": "markdown",
   "metadata": {},
   "source": [
    "RESPONSE: Scaled the data using StandardScaler. Thank you."
   ]
  },
  {
   "cell_type": "markdown",
   "metadata": {
    "id": "LRrQm-Y-GKUm"
   },
   "source": [
    "# Calculate risks and profit for each region: \n",
    "- FUNCTION TO CALCULATE REVENUE BASED ON SAMPLING\n",
    "- Calculate profit for each region:\n",
    "- Use the bootstrapping technique with 1000 samples to find the distribution of profit.\n",
    "- Find average profit, 95% confidence interval and risk of losses. Loss is negative profit, calculate it as a probability and then express as a percentage.\n",
    "- A 95% confidence interval is used, so the values at the 2.5 and 97.5 percentiles are selected.\n",
    "\n",
    "- In profit function we do the following:\n",
    " - Sort predictions\n",
    " - Use indexes from sorted predictions to take top 200 wells from targets\n",
    " - Calculate the revenue\n",
    " - Subtract budget from revenue to get profit\n",
    " - When exploring the region, a study of 500 points is carried with picking the best 200 points for the profit calculation.\n",
    " - The budget for development of 200 oil wells is 100 USD million.\n",
    " - One barrel of raw materials brings 4.5 USD of revenue The revenue from one unit of product is 4,500 dollars (volume of reserves is in thousand barrels)."
   ]
  },
  {
   "cell_type": "code",
   "execution_count": 61,
   "metadata": {
    "id": "UiKGx6yWmGxQ"
   },
   "outputs": [],
   "source": [
    "def revenue(target_param, predictions_param, count):    \n",
    "    predictions_sorted = predictions_param.sort_values(ascending=False)\n",
    "    selected = target_param[predictions_sorted.index][:count]\n",
    "    return  (selected.sum() * REVENUE_IN_MILLION)"
   ]
  },
  {
   "cell_type": "code",
   "execution_count": 62,
   "metadata": {
    "id": "LRBebdrQNPPy"
   },
   "outputs": [],
   "source": [
    "def calculateProfits(target_valid,predicted_valid):\n",
    "    state = np.random.RandomState(RANDOM_STATE)\n",
    "    target_valid_reindexed = target_valid.reset_index(drop=True)  \n",
    "    predicted_valid_reindexed  = pd.Series(predicted_valid)\n",
    "\n",
    "    #display(target_valid_reindexed)\n",
    "    #display(predicted_valid)\n",
    "    values = []\n",
    "    for i in range(1000):\n",
    "\n",
    "        target_subsample = target_valid_reindexed.sample(n=500,replace=True,random_state=state)\n",
    "        \n",
    "        predictions_subsample = predicted_valid_reindexed[target_subsample.index]\n",
    "        values.append(revenue(target_subsample,predictions_subsample,200))  \n",
    "\n",
    "    values = pd.Series(values)\n",
    "    #We have 1000 values of 200 regions\n",
    "    #We need to find all values for losses (revenue less that 100M) and profit (revenue more than 100M)\n",
    "    \n",
    "    values = values - 100\n",
    "    totalValues = len(values)\n",
    "    totalGainOrLoss = values.mean()\n",
    "    \n",
    "    losses = values[values < 0] \n",
    "    profits = values[values >0] \n",
    "    nLosses = len(losses)\n",
    "    nProfits = len(profits)\n",
    "    \n",
    "    print('STATTISTICS ON BOOTSTRAPPING: PROFIT OR LOSS in MILLIONS')\n",
    "    display(values.describe())\n",
    "\n",
    "    fig = plt.figure(figsize=(10,6))\n",
    "    sns.distplot(values,axlabel=\"Profit or Loss in Millions\",kde_kws={\"lw\": 3})\n",
    "    plt.show()\n",
    "\n",
    "    profitProbability = nProfits/totalValues\n",
    "    lossProbability = nLosses/totalValues\n",
    "\n",
    "    lossAverage = losses.sum()/nLosses\n",
    "    profitAverage = profits.sum()/nProfits\n",
    "    \n",
    "    #A 95% confidence interval is used, so the values at the 2.5 and 97.5 percentiles are selected.\n",
    "    lowerC = values.quantile(0.025) \n",
    "    upperC = values.quantile(.975) \n",
    "\n",
    "    #print(lowerC,upperC)\n",
    "\n",
    "    print()\n",
    "    return(lowerC,upperC,totalGainOrLoss,profitProbability,lossProbability,lossProbability*100,profitAverage,lossAverage,values)"
   ]
  },
  {
   "cell_type": "markdown",
   "metadata": {
    "id": "VSO1vTnPZlIF"
   },
   "source": [
    "# STEP-5 FUNCTION TO UPDATE RESULTS in RESULTS DATASET (df_results)\n",
    "- Update results of model prediction and bootstrapping for each region in the df_results dataset."
   ]
  },
  {
   "cell_type": "code",
   "execution_count": 63,
   "metadata": {
    "id": "piq_Cu4_Zib0"
   },
   "outputs": [],
   "source": [
    "def updateResults(df_name,score,mean,rmse,lowerC,upperC,totalGainOrLoss,profitProbability,lossProbability,lossRisk,profitAverage,lossAverage,df_results):\n",
    "    resultRowStr= [df_name,score,mean,rmse,lowerC,upperC,totalGainOrLoss,profitProbability,lossProbability,lossRisk,profitAverage,lossAverage]\n",
    "    #print(resultRowStr,df_results.columns)\n",
    "    rows = [pd.Series(resultRowStr, index=df_results.columns)]\n",
    "    # append the rows\n",
    "    df_results=df_results.append(rows,ignore_index=True).round(decimals=2)\n",
    "    # check the rows \n",
    "    return(df_results)"
   ]
  },
  {
   "cell_type": "markdown",
   "metadata": {
    "id": "0p8jZ2PEaMi1"
   },
   "source": [
    "# STEP 6\n",
    "- EVALUATE ALL DATASETS for Revenue, Profits, Confidence Intervals, Risk of Losses, Loss percentage\n",
    "#Prepare for profit calculation:\n",
    "- 3.1. Store all key values for calculations in separate variables.\n",
    "- 3.2. Calculate the volume of reserves sufficient for developing a new well without losses. Compare the obtained value with the average volume of reserves in each region.\n",
    "- 3.3. Provide the findings about the preparation for profit calculation step.\n",
    "Write a function to calculate profit from a set of selected oil wells and model predictions:\n",
    "- 4.1. Pick the wells with the highest values of predictions.\n",
    "- 4.2. Summarize the target volume of reserves in accordance with these predictions\n",
    "- 4.3. Provide findings: suggest a region for oil wells' development and justify the choice. Calculate the profit for the obtained volume of reserves."
   ]
  },
  {
   "cell_type": "code",
   "execution_count": 64,
   "metadata": {},
   "outputs": [],
   "source": [
    "def print_separator():\n",
    "  print()\n",
    "  print(PRINT_SEPARATOR)"
   ]
  },
  {
   "cell_type": "code",
   "execution_count": 65,
   "metadata": {},
   "outputs": [],
   "source": [
    "def display_final_results(values_all,df_results,df_all_names):\n",
    "\n",
    "    print_separator()\n",
    "    print(\"FINAL RESULTS\")\n",
    "    print(\"METHOD USED WAS LINEAR REGRESSION ON SCALED DATA WITH NO HYPERPARAMETERS\")\n",
    "    print(\"ALL values are in Millions\")\n",
    "    print_separator()\n",
    "    f = plt.figure(figsize=(10,6))\n",
    "    \n",
    "   \n",
    "    sns.distplot(values_all[0],  color=\"blue\", kde_kws={\"lw\": 3},axlabel=\"Profit or Loss in Millions\",label=\"GEO_0\")\n",
    "    sns.distplot(values_all[1],  color=\"red\", kde_kws={\"lw\": 3},axlabel=\"Profit or Loss in Millions\",label=\"GEO_1\")\n",
    "    sns.distplot(values_all[2],  color=\"green\",kde_kws={\"lw\": 3},axlabel=\"Profit or Loss in Millions\", label=\"GEO_2\")\n",
    "    plt.legend()\n",
    "    plt.show()   \n",
    "\n",
    "    display(df_results)\n",
    "    print_separator()"
   ]
  },
  {
   "cell_type": "code",
   "execution_count": 66,
   "metadata": {
    "colab": {
     "base_uri": "https://localhost:8080/",
     "height": 505
    },
    "id": "l7nmk2ZgyqO9",
    "outputId": "19cdcb13-5fb2-4dbb-ad10-71c65a8c4cc2",
    "scrolled": false
   },
   "outputs": [
    {
     "name": "stdout",
     "output_type": "stream",
     "text": [
      "\n",
      "********************************************************************************\n",
      "PROCESSING DATASET:  df0_geo0\n",
      "training set  : 75% (75000, 3) , training target   : (75000,)\n",
      "validation set: 25% (25000, 3) , validation target : (25000,)\n",
      "STATTISTICS ON BOOTSTRAPPING: PROFIT OR LOSS in MILLIONS\n"
     ]
    },
    {
     "data": {
      "text/plain": [
       "count    1000.000000\n",
       "mean        4.259385\n",
       "std         2.772767\n",
       "min        -3.768427\n",
       "25%         2.344665\n",
       "50%         4.206723\n",
       "75%         6.192790\n",
       "max        14.098417\n",
       "dtype: float64"
      ]
     },
     "metadata": {},
     "output_type": "display_data"
    },
    {
     "data": {
      "image/png": "[encoded data removed]",
      "text/plain": [
       "<Figure size 720x432 with 1 Axes>"
      ]
     },
     "metadata": {},
     "output_type": "display_data"
    },
    {
     "name": "stdout",
     "output_type": "stream",
     "text": [
      "\n"
     ]
    },
    {
     "data": {
      "text/html": [
       "<div>\n",
       "<style scoped>\n",
       "    .dataframe tbody tr th:only-of-type {\n",
       "        vertical-align: middle;\n",
       "    }\n",
       "\n",
       "    .dataframe tbody tr th {\n",
       "        vertical-align: top;\n",
       "    }\n",
       "\n",
       "    .dataframe thead th {\n",
       "        text-align: right;\n",
       "    }\n",
       "</style>\n",
       "<table border=\"1\" class=\"dataframe\">\n",
       "  <thead>\n",
       "    <tr style=\"text-align: right;\">\n",
       "      <th></th>\n",
       "      <th>region</th>\n",
       "      <th>R2score</th>\n",
       "      <th>mean</th>\n",
       "      <th>rmse</th>\n",
       "      <th>Confidence_low</th>\n",
       "      <th>Confidence_up</th>\n",
       "      <th>totalGainOrLoss</th>\n",
       "      <th>profitProbability</th>\n",
       "      <th>lossProbability</th>\n",
       "      <th>lossRisk %</th>\n",
       "      <th>profitAverage</th>\n",
       "      <th>lossAverage</th>\n",
       "    </tr>\n",
       "  </thead>\n",
       "  <tbody>\n",
       "    <tr>\n",
       "      <td>0</td>\n",
       "      <td>df0_geo0</td>\n",
       "      <td>0.28</td>\n",
       "      <td>92.59</td>\n",
       "      <td>37.58</td>\n",
       "      <td>-1.02</td>\n",
       "      <td>9.48</td>\n",
       "      <td>4.26</td>\n",
       "      <td>0.94</td>\n",
       "      <td>0.06</td>\n",
       "      <td>6.0</td>\n",
       "      <td>4.6</td>\n",
       "      <td>-1.15</td>\n",
       "    </tr>\n",
       "  </tbody>\n",
       "</table>\n",
       "</div>"
      ],
      "text/plain": [
       "     region  R2score   mean   rmse  Confidence_low  Confidence_up  \\\n",
       "0  df0_geo0     0.28  92.59  37.58           -1.02           9.48   \n",
       "\n",
       "   totalGainOrLoss  profitProbability  lossProbability  lossRisk %  \\\n",
       "0             4.26               0.94             0.06         6.0   \n",
       "\n",
       "   profitAverage  lossAverage  \n",
       "0            4.6        -1.15  "
      ]
     },
     "metadata": {},
     "output_type": "display_data"
    },
    {
     "name": "stdout",
     "output_type": "stream",
     "text": [
      "\n",
      "********************************************************************************\n",
      "PROCESSING DATASET:  df1_geo1\n",
      "training set  : 75% (75000, 3) , training target   : (75000,)\n",
      "validation set: 25% (25000, 3) , validation target : (25000,)\n",
      "STATTISTICS ON BOOTSTRAPPING: PROFIT OR LOSS in MILLIONS\n"
     ]
    },
    {
     "data": {
      "text/plain": [
       "count    1000.000000\n",
       "mean        5.152228\n",
       "std         2.191824\n",
       "min        -1.201163\n",
       "25%         3.726463\n",
       "50%         5.162191\n",
       "75%         6.701637\n",
       "max        13.152692\n",
       "dtype: float64"
      ]
     },
     "metadata": {},
     "output_type": "display_data"
    },
    {
     "data": {
      "image/png": "[encoded data removed]",
      "text/plain": [
       "<Figure size 720x432 with 1 Axes>"
      ]
     },
     "metadata": {},
     "output_type": "display_data"
    },
    {
     "name": "stdout",
     "output_type": "stream",
     "text": [
      "\n"
     ]
    },
    {
     "data": {
      "text/html": [
       "<div>\n",
       "<style scoped>\n",
       "    .dataframe tbody tr th:only-of-type {\n",
       "        vertical-align: middle;\n",
       "    }\n",
       "\n",
       "    .dataframe tbody tr th {\n",
       "        vertical-align: top;\n",
       "    }\n",
       "\n",
       "    .dataframe thead th {\n",
       "        text-align: right;\n",
       "    }\n",
       "</style>\n",
       "<table border=\"1\" class=\"dataframe\">\n",
       "  <thead>\n",
       "    <tr style=\"text-align: right;\">\n",
       "      <th></th>\n",
       "      <th>region</th>\n",
       "      <th>R2score</th>\n",
       "      <th>mean</th>\n",
       "      <th>rmse</th>\n",
       "      <th>Confidence_low</th>\n",
       "      <th>Confidence_up</th>\n",
       "      <th>totalGainOrLoss</th>\n",
       "      <th>profitProbability</th>\n",
       "      <th>lossProbability</th>\n",
       "      <th>lossRisk %</th>\n",
       "      <th>profitAverage</th>\n",
       "      <th>lossAverage</th>\n",
       "    </tr>\n",
       "  </thead>\n",
       "  <tbody>\n",
       "    <tr>\n",
       "      <td>0</td>\n",
       "      <td>df0_geo0</td>\n",
       "      <td>0.28</td>\n",
       "      <td>92.59</td>\n",
       "      <td>37.58</td>\n",
       "      <td>-1.02</td>\n",
       "      <td>9.48</td>\n",
       "      <td>4.26</td>\n",
       "      <td>0.94</td>\n",
       "      <td>0.06</td>\n",
       "      <td>6.0</td>\n",
       "      <td>4.60</td>\n",
       "      <td>-1.15</td>\n",
       "    </tr>\n",
       "    <tr>\n",
       "      <td>1</td>\n",
       "      <td>df1_geo1</td>\n",
       "      <td>1.00</td>\n",
       "      <td>68.73</td>\n",
       "      <td>0.89</td>\n",
       "      <td>0.69</td>\n",
       "      <td>9.32</td>\n",
       "      <td>5.15</td>\n",
       "      <td>0.99</td>\n",
       "      <td>0.01</td>\n",
       "      <td>1.0</td>\n",
       "      <td>5.21</td>\n",
       "      <td>-0.49</td>\n",
       "    </tr>\n",
       "  </tbody>\n",
       "</table>\n",
       "</div>"
      ],
      "text/plain": [
       "     region  R2score   mean   rmse  Confidence_low  Confidence_up  \\\n",
       "0  df0_geo0     0.28  92.59  37.58           -1.02           9.48   \n",
       "1  df1_geo1     1.00  68.73   0.89            0.69           9.32   \n",
       "\n",
       "   totalGainOrLoss  profitProbability  lossProbability  lossRisk %  \\\n",
       "0             4.26               0.94             0.06         6.0   \n",
       "1             5.15               0.99             0.01         1.0   \n",
       "\n",
       "   profitAverage  lossAverage  \n",
       "0           4.60        -1.15  \n",
       "1           5.21        -0.49  "
      ]
     },
     "metadata": {},
     "output_type": "display_data"
    },
    {
     "name": "stdout",
     "output_type": "stream",
     "text": [
      "\n",
      "********************************************************************************\n",
      "PROCESSING DATASET:  df2_geo2\n",
      "training set  : 75% (75000, 3) , training target   : (75000,)\n",
      "validation set: 25% (25000, 3) , validation target : (25000,)\n",
      "STATTISTICS ON BOOTSTRAPPING: PROFIT OR LOSS in MILLIONS\n"
     ]
    },
    {
     "data": {
      "text/plain": [
       "count    1000.000000\n",
       "mean        4.350084\n",
       "std         2.828926\n",
       "min        -3.976744\n",
       "25%         2.475138\n",
       "50%         4.389031\n",
       "75%         6.381758\n",
       "max        13.904547\n",
       "dtype: float64"
      ]
     },
     "metadata": {},
     "output_type": "display_data"
    },
    {
     "data": {
      "image/png": "[encoded data removed]",
      "text/plain": [
       "<Figure size 720x432 with 1 Axes>"
      ]
     },
     "metadata": {},
     "output_type": "display_data"
    },
    {
     "name": "stdout",
     "output_type": "stream",
     "text": [
      "\n"
     ]
    },
    {
     "data": {
      "text/html": [
       "<div>\n",
       "<style scoped>\n",
       "    .dataframe tbody tr th:only-of-type {\n",
       "        vertical-align: middle;\n",
       "    }\n",
       "\n",
       "    .dataframe tbody tr th {\n",
       "        vertical-align: top;\n",
       "    }\n",
       "\n",
       "    .dataframe thead th {\n",
       "        text-align: right;\n",
       "    }\n",
       "</style>\n",
       "<table border=\"1\" class=\"dataframe\">\n",
       "  <thead>\n",
       "    <tr style=\"text-align: right;\">\n",
       "      <th></th>\n",
       "      <th>region</th>\n",
       "      <th>R2score</th>\n",
       "      <th>mean</th>\n",
       "      <th>rmse</th>\n",
       "      <th>Confidence_low</th>\n",
       "      <th>Confidence_up</th>\n",
       "      <th>totalGainOrLoss</th>\n",
       "      <th>profitProbability</th>\n",
       "      <th>lossProbability</th>\n",
       "      <th>lossRisk %</th>\n",
       "      <th>profitAverage</th>\n",
       "      <th>lossAverage</th>\n",
       "    </tr>\n",
       "  </thead>\n",
       "  <tbody>\n",
       "    <tr>\n",
       "      <td>0</td>\n",
       "      <td>df0_geo0</td>\n",
       "      <td>0.28</td>\n",
       "      <td>92.59</td>\n",
       "      <td>37.58</td>\n",
       "      <td>-1.02</td>\n",
       "      <td>9.48</td>\n",
       "      <td>4.26</td>\n",
       "      <td>0.94</td>\n",
       "      <td>0.06</td>\n",
       "      <td>6.0</td>\n",
       "      <td>4.60</td>\n",
       "      <td>-1.15</td>\n",
       "    </tr>\n",
       "    <tr>\n",
       "      <td>1</td>\n",
       "      <td>df1_geo1</td>\n",
       "      <td>1.00</td>\n",
       "      <td>68.73</td>\n",
       "      <td>0.89</td>\n",
       "      <td>0.69</td>\n",
       "      <td>9.32</td>\n",
       "      <td>5.15</td>\n",
       "      <td>0.99</td>\n",
       "      <td>0.01</td>\n",
       "      <td>1.0</td>\n",
       "      <td>5.21</td>\n",
       "      <td>-0.49</td>\n",
       "    </tr>\n",
       "    <tr>\n",
       "      <td>2</td>\n",
       "      <td>df2_geo2</td>\n",
       "      <td>0.21</td>\n",
       "      <td>94.97</td>\n",
       "      <td>40.03</td>\n",
       "      <td>-1.29</td>\n",
       "      <td>9.70</td>\n",
       "      <td>4.35</td>\n",
       "      <td>0.94</td>\n",
       "      <td>0.06</td>\n",
       "      <td>6.4</td>\n",
       "      <td>4.74</td>\n",
       "      <td>-1.33</td>\n",
       "    </tr>\n",
       "  </tbody>\n",
       "</table>\n",
       "</div>"
      ],
      "text/plain": [
       "     region  R2score   mean   rmse  Confidence_low  Confidence_up  \\\n",
       "0  df0_geo0     0.28  92.59  37.58           -1.02           9.48   \n",
       "1  df1_geo1     1.00  68.73   0.89            0.69           9.32   \n",
       "2  df2_geo2     0.21  94.97  40.03           -1.29           9.70   \n",
       "\n",
       "   totalGainOrLoss  profitProbability  lossProbability  lossRisk %  \\\n",
       "0             4.26               0.94             0.06         6.0   \n",
       "1             5.15               0.99             0.01         1.0   \n",
       "2             4.35               0.94             0.06         6.4   \n",
       "\n",
       "   profitAverage  lossAverage  \n",
       "0           4.60        -1.15  \n",
       "1           5.21        -0.49  \n",
       "2           4.74        -1.33  "
      ]
     },
     "metadata": {},
     "output_type": "display_data"
    },
    {
     "name": "stdout",
     "output_type": "stream",
     "text": [
      "\n",
      "********************************************************************************\n",
      "FINAL RESULTS\n",
      "METHOD USED WAS LINEAR REGRESSION ON SCALED DATA WITH NO HYPERPARAMETERS\n",
      "ALL values are in Millions\n",
      "\n",
      "********************************************************************************\n"
     ]
    },
    {
     "data": {
      "image/png": "[encoded data removed]",
      "text/plain": [
       "<Figure size 720x432 with 1 Axes>"
      ]
     },
     "metadata": {},
     "output_type": "display_data"
    },
    {
     "data": {
      "text/html": [
       "<div>\n",
       "<style scoped>\n",
       "    .dataframe tbody tr th:only-of-type {\n",
       "        vertical-align: middle;\n",
       "    }\n",
       "\n",
       "    .dataframe tbody tr th {\n",
       "        vertical-align: top;\n",
       "    }\n",
       "\n",
       "    .dataframe thead th {\n",
       "        text-align: right;\n",
       "    }\n",
       "</style>\n",
       "<table border=\"1\" class=\"dataframe\">\n",
       "  <thead>\n",
       "    <tr style=\"text-align: right;\">\n",
       "      <th></th>\n",
       "      <th>region</th>\n",
       "      <th>R2score</th>\n",
       "      <th>mean</th>\n",
       "      <th>rmse</th>\n",
       "      <th>Confidence_low</th>\n",
       "      <th>Confidence_up</th>\n",
       "      <th>totalGainOrLoss</th>\n",
       "      <th>profitProbability</th>\n",
       "      <th>lossProbability</th>\n",
       "      <th>lossRisk %</th>\n",
       "      <th>profitAverage</th>\n",
       "      <th>lossAverage</th>\n",
       "    </tr>\n",
       "  </thead>\n",
       "  <tbody>\n",
       "    <tr>\n",
       "      <td>0</td>\n",
       "      <td>df0_geo0</td>\n",
       "      <td>0.28</td>\n",
       "      <td>92.59</td>\n",
       "      <td>37.58</td>\n",
       "      <td>-1.02</td>\n",
       "      <td>9.48</td>\n",
       "      <td>4.26</td>\n",
       "      <td>0.94</td>\n",
       "      <td>0.06</td>\n",
       "      <td>6.0</td>\n",
       "      <td>4.60</td>\n",
       "      <td>-1.15</td>\n",
       "    </tr>\n",
       "    <tr>\n",
       "      <td>1</td>\n",
       "      <td>df1_geo1</td>\n",
       "      <td>1.00</td>\n",
       "      <td>68.73</td>\n",
       "      <td>0.89</td>\n",
       "      <td>0.69</td>\n",
       "      <td>9.32</td>\n",
       "      <td>5.15</td>\n",
       "      <td>0.99</td>\n",
       "      <td>0.01</td>\n",
       "      <td>1.0</td>\n",
       "      <td>5.21</td>\n",
       "      <td>-0.49</td>\n",
       "    </tr>\n",
       "    <tr>\n",
       "      <td>2</td>\n",
       "      <td>df2_geo2</td>\n",
       "      <td>0.21</td>\n",
       "      <td>94.97</td>\n",
       "      <td>40.03</td>\n",
       "      <td>-1.29</td>\n",
       "      <td>9.70</td>\n",
       "      <td>4.35</td>\n",
       "      <td>0.94</td>\n",
       "      <td>0.06</td>\n",
       "      <td>6.4</td>\n",
       "      <td>4.74</td>\n",
       "      <td>-1.33</td>\n",
       "    </tr>\n",
       "  </tbody>\n",
       "</table>\n",
       "</div>"
      ],
      "text/plain": [
       "     region  R2score   mean   rmse  Confidence_low  Confidence_up  \\\n",
       "0  df0_geo0     0.28  92.59  37.58           -1.02           9.48   \n",
       "1  df1_geo1     1.00  68.73   0.89            0.69           9.32   \n",
       "2  df2_geo2     0.21  94.97  40.03           -1.29           9.70   \n",
       "\n",
       "   totalGainOrLoss  profitProbability  lossProbability  lossRisk %  \\\n",
       "0             4.26               0.94             0.06         6.0   \n",
       "1             5.15               0.99             0.01         1.0   \n",
       "2             4.35               0.94             0.06         6.4   \n",
       "\n",
       "   profitAverage  lossAverage  \n",
       "0           4.60        -1.15  \n",
       "1           5.21        -0.49  \n",
       "2           4.74        -1.33  "
      ]
     },
     "metadata": {},
     "output_type": "display_data"
    },
    {
     "name": "stdout",
     "output_type": "stream",
     "text": [
      "\n",
      "********************************************************************************\n"
     ]
    }
   ],
   "source": [
    "#Process all datasets one by one\n",
    "df_values_all=pd.DataFrame()\n",
    "  \n",
    "for i in range(3):\n",
    "    df = df_all[i]\n",
    "    df_name=df_all_names[i]\n",
    "    \n",
    "    print_separator()\n",
    "    print(\"PROCESSING DATASET: \", df_name)\n",
    "\n",
    "    #Set the training, validation and test datasets (features and target)\n",
    "    target,features,features_train, features_valid, target_train, target_valid = defineTrainingValidationSets(df)\n",
    "   # display(target,features,target_train,features_train)\n",
    "\n",
    "    #Apply Linear Regression model to the dataset\n",
    "    score,mean,rmse,predicted_valid = applyLinearRegression(features,target,features_train,target_train,features_valid,target_valid)\n",
    "\n",
    "    #Apply bootstrapping to evaluate revenue, profit, loss, confidence intervals\n",
    "    lowerC,upperC,totalGainOrLoss,profitProbability,lossProbability,lossRisk,profitAverage,lossAverage,values = calculateProfits(target_valid,predicted_valid)\n",
    "    \n",
    "    #save all valuyes in df_values_all\n",
    "    df_values_all = df_values_all.append(values,ignore_index=True)\n",
    "    #Save results in df_results dataframe\n",
    "    df_results = updateResults(df_name,score,mean,rmse,lowerC,upperC,totalGainOrLoss,profitProbability,lossProbability,lossRisk,profitAverage,lossAverage,df_results )\n",
    "\n",
    "    #display results\n",
    "    display(df_results)\n",
    "    \n",
    "display_final_results(df_values_all, df_results, df_all_names)"
   ]
  },
  {
   "cell_type": "markdown",
   "metadata": {},
   "source": [
    "RESPONSE: results now displayed in various stages along with distribution chart."
   ]
  },
  {
   "cell_type": "markdown",
   "metadata": {},
   "source": [
    "**RESPONSE: **\n",
    "- Updated the revenue() function to return the revenue for 200 items out of 1000.\n",
    "- Updated the calculateProfits() to calculate profit/loss in the 1000 vectored values, then calculate probability and percentage for losses. Now I am using all 1000 values of 200 collective regions each to find profit/loss.\n",
    "- Added function displayFinalResults() to display final results and one distribution chart for all regions.\n",
    "- Updated overall conclusion.\n",
    "- Thank you for your valuable feedback."
   ]
  },
  {
   "cell_type": "markdown",
   "metadata": {
    "id": "5AymlfiEo57K"
   },
   "source": [
    "# OVERALL CONCLUSION - REGION FOR DEVELOPMENT  (geo_data_1)\n",
    "#OVERALL CONCLUSION - REGION FOR DEVELOPMENT  (geo_data_1)\n",
    "- After the risk evaluation, keep only the regions with the risk of losses lower than 2.5%. From the ones that fit the criteria, the region with the highest average profit should be selected.\n",
    "- Provide findings: suggest a region for development of oil wells and justify the choice. \n",
    " - df1_geo1 dataset corresponding to  geo_data_1.csv region is suggested as the region for development.\n",
    " - As per the above calculations with rmse, confidence intervals, profit and loss percentage:\n",
    " - Region: geo_data_1.csv -  R2score of 1, rmse of 0.89, Maximum profit  is between 0.69% - 9.3% with a confidence interval of 95%, Has the highest overall profit.Its lower_confidence is 0.69 and upper_confidence is 9.32. This implies that most of the revenue is resulting in profits. This is also evident from the distribution plot. \n",
    " - Region: geo_data_0.csv - Maximum profit is between -1% - 9.5% with a confidence interval of 95%\n",
    " - Region: geo_data_2.csv - Maximum profit is between -1.3 - 9.7% with a confidence interval of 95%\n",
    " - Also as per the Exploratory Data Analysis, the F2 factor was biggest in correlation with the product, f2 correlation is 1 for geo_data_1, 0.48 for geo_data_0, 0.45 for geo_data_2. This strongly supports the conclusion that Region_1 geo_data_1 is the ideal region for development.\n",
    "\n",
    "- To avoid risk of losses, I would strongly recommend the region: df1_geo1. It displays no losses in the 95% confidence interval.\n",
    "- Although this region has slightly less %age profit in the upper_confidence interval, the avoidance of risk in the lower confidence interval and rmse, revenue, overall profits, model score make it a strong candidate for Oil Exploration and Development.\n",
    "- Region geo1 has the lowest LOSS Risk %age of 1%. Other regions have LOSS RISK %age of 6%. \n"
   ]
  },
  {
   "cell_type": "markdown",
   "metadata": {
    "id": "GujjrFE4pvqD"
   },
   "source": [
    "# Project evaluation\n",
    "- Evaluation criteria for the project.\n",
    "- Here’s what the reviewers will look at when reviewing your project:\n",
    "- How did you prepare the data for training?\n",
    "- Have you followed all the steps of the instructions?\n",
    "- Have you taken into account all the business conditions?\n",
    "- What are your findings about the task study?\n",
    "- Have you applied the Bootstrapping technique correctly?\n",
    "- Have you suggested the best region for well development? Is the choice justified?\n",
    "- Did you avoid code duplication?\n",
    "- Have you kept to the project structure and kept the code neat?\n",
    "- You have your takeaway sheets and chapter summaries, so you are ready to proceed to the project.\n",
    "\n",
    "Thank you for evaluating my project.\n"
   ]
  },
  {
   "cell_type": "code",
   "execution_count": null,
   "metadata": {},
   "outputs": [],
   "source": []
  }
 ],
 "metadata": {
  "kernelspec": {
   "display_name": "Python 3",
   "language": "python",
   "name": "python3"
  },
  "language_info": {
   "codemirror_mode": {
    "name": "ipython",
    "version": 3
   },
   "file_extension": ".py",
   "mimetype": "text/x-python",
   "name": "python",
   "nbconvert_exporter": "python",
   "pygments_lexer": "ipython3",
   "version": "3.7.8"
  },
  "toc": {
   "base_numbering": 1,
   "nav_menu": {},
   "number_sections": true,
   "sideBar": true,
   "skip_h1_title": true,
   "title_cell": "Table of Contents",
   "title_sidebar": "Contents",
   "toc_cell": false,
   "toc_position": {},
   "toc_section_display": true,
   "toc_window_display": false
  }
 },
 "nbformat": 4,
 "nbformat_minor": 2
}
