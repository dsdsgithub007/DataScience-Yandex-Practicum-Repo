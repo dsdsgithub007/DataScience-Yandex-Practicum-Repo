{
 "cells": [
  {
   "cell_type": "markdown",
   "metadata": {
    "id": "h7U-YY46pvpN"
   },
   "source": [
    "\n",
    "# Project description\n",
    "\n",
    "- Beta Bank customers are leaving: little by little, chipping away every month. The bankers figured out it’s cheaper to save the existing customers rather than to attract new ones.\n",
    "- We need to predict whether a customer will leave the bank soon. You have the data on clients’ past behavior and termination of contracts with the bank.\n",
    "- Build a model with the maximum possible F1 score. \n",
    "- To pass the project, you need an F1 score of at least 0.59. Check the F1 for the test set.\n",
    "- Additionally, measure the AUC-ROC metric and compare it with the F1."
   ]
  },
  {
   "cell_type": "code",
   "execution_count": 1,
   "metadata": {
    "id": "4-mwsbpzpvpO"
   },
   "outputs": [],
   "source": [
    "#Import all libraries\n",
    "import pandas as pd\n",
    "import numpy as np \n",
    "\n",
    "import matplotlib.pyplot as plt\n",
    "import seaborn as sns#visualization\n",
    "sns.set(style=\"ticks\", color_codes=True)\n",
    "\n",
    "\n",
    "from sklearn.model_selection import train_test_split\n",
    "from sklearn.ensemble import RandomForestClassifier\n",
    "\n",
    "from sklearn.metrics import f1_score\n",
    "from sklearn.metrics import accuracy_score\n",
    "from sklearn.preprocessing import StandardScaler\n",
    "from sklearn.tree import DecisionTreeClassifier\n",
    "\n",
    "from sklearn.linear_model import LogisticRegression\n",
    "from sklearn.metrics import precision_recall_curve\n",
    "from sklearn.metrics import roc_curve \n",
    "from sklearn.metrics import roc_auc_score\n",
    "from sklearn.metrics import precision_score\n",
    "from sklearn.metrics import recall_score\n",
    "from sklearn.utils import shuffle\n",
    "from sklearn.metrics import precision_recall_fscore_support \n",
    "from sklearn.metrics import classification_report\n",
    "from sklearn.metrics import confusion_matrix\n",
    "\n",
    "\n",
    "#define most used variables\n",
    "F1_REQUIRED=0.59  #F1 = 2 * (precision * recall) / (precision + recall)\n",
    "RANDOM_STATE=12345\n",
    "target_names = ['Exited 0', 'Exited 1']   #Used in printing classification report\n"
   ]
  },
  {
   "cell_type": "code",
   "execution_count": 2,
   "metadata": {
    "colab": {
     "base_uri": "https://localhost:8080/",
     "height": 50
    },
    "id": "wI3acfHypvpS",
    "outputId": "82ad9059-ea02-457e-ce22-ab425c8850aa"
   },
   "outputs": [
    {
     "name": "stdout",
     "output_type": "stream",
     "text": [
      "3.7.6 | packaged by conda-forge | (default, Jun  1 2020, 18:57:50) \n",
      "[GCC 7.5.0]\n"
     ]
    }
   ],
   "source": [
    "import sys\n",
    "print (sys.version)"
   ]
  },
  {
   "cell_type": "markdown",
   "metadata": {
    "id": "Iu9qvBMspvpU"
   },
   "source": [
    "# STEP 1 - DATA PREPROCESSING\n",
    "\n",
    "- Download and prepare the data. \n",
    "- Explain the procedure."
   ]
  },
  {
   "cell_type": "markdown",
   "metadata": {
    "id": "UKil2jzIpvpV"
   },
   "source": [
    "Data description\n",
    "The data can be found in /datasets/Churn.csv file. Download the dataset.\n",
    "**Features**\n",
    "- RowNumber — data string index\n",
    "- CustomerId — unique customer identifier\n",
    "- Surname — surname\n",
    "- CreditScore — credit score\n",
    "- Geography — country of residence\n",
    "- Gender — gender\n",
    "- Age — age\n",
    "- Tenure — period of maturation for a customer’s fixed deposit (years)\n",
    "- Balance — account balance\n",
    "- NumOfProducts — number of banking products used by the customer\n",
    "- HasCrCard — customer has a credit card\n",
    "- IsActiveMember — customer’s activeness\n",
    "- EstimatedSalary — estimated salary\n",
    "- Target\n",
    "- Exited — сustomer has left"
   ]
  },
  {
   "cell_type": "code",
   "execution_count": 3,
   "metadata": {
    "id": "Fv8g25RnpvpV"
   },
   "outputs": [],
   "source": [
    "#Import the file and create the dataset\n",
    "path = '/datasets'\n",
    "df = pd.read_csv(path+'/Churn.csv')"
   ]
  },
  {
   "cell_type": "code",
   "execution_count": 4,
   "metadata": {
    "id": "wZiiaM57kUHJ"
   },
   "outputs": [],
   "source": [
    "def display_information(df):\n",
    "    print('Head:')\n",
    "    print()\n",
    "    display(df.head())\n",
    "    print ('-'*100)\n",
    "    print('Info:')\n",
    "    print()\n",
    "    display(df.info())\n",
    "    print ('-'*100)\n",
    "    print('Describe:')\n",
    "    print()\n",
    "    display(df.describe())\n",
    "    print ('-'*100)\n",
    "    display(df.describe(include='object'))\n",
    "    print()\n",
    "    print('Columns with nulls:')\n",
    "    display(get_precent_of_na_df(df,4))\n",
    "    print ('-'*100)\n",
    "    print('Shape:')\n",
    "    print(df.shape)\n",
    "    print ('-'*100)\n",
    "    print('Duplicated:')\n",
    "    print(\"\\033[1m\" + 'We have {} duplicated rows.'.format(df.duplicated().sum()) + \"\\033[0m\")\n",
    "    \n",
    "def get_precent_of_na_df(df,num):\n",
    "    df_nulls = pd.DataFrame(df.isna().sum(),columns=['Missing Values'])\n",
    "    df_nulls['Percent of Nulls'] = round(df_nulls['Missing Values'] / df.shape[0],num) *100\n",
    "    return df_nulls\n",
    "\n",
    "def get_percent_of_na(df):\n",
    "    count = 0\n",
    "    df = df.copy()\n",
    "    s = (df.isna().sum() / df.shape[0])\n",
    "    for column, percent in zip(s.index,s.values):\n",
    "        \n",
    "        num_of_nulls = df[column].isna().sum()\n",
    "        if num_of_nulls == 0:\n",
    "            continue\n",
    "        else:\n",
    "            count += 1\n",
    "        print('Column {} has {:.{}%} percent of Nulls, and {} of nulls'.format(column, percent,num,num_of_nulls))\n",
    "        \n",
    "    if count !=0:\n",
    "        print('There are {} columns with NA!'.format(count))\n",
    "    else:\n",
    "        print()\n",
    "        print('There are no columns with NA!')"
   ]
  },
  {
   "cell_type": "code",
   "execution_count": 5,
   "metadata": {
    "colab": {
     "base_uri": "https://localhost:8080/",
     "height": 1000
    },
    "id": "zht6sYrwtUZS",
    "outputId": "6f6ffc17-2c95-4976-a32e-990cd43f3e22"
   },
   "outputs": [
    {
     "name": "stdout",
     "output_type": "stream",
     "text": [
      "Head:\n",
      "\n"
     ]
    },
    {
     "data": {
      "text/html": [
       "<div>\n",
       "<style scoped>\n",
       "    .dataframe tbody tr th:only-of-type {\n",
       "        vertical-align: middle;\n",
       "    }\n",
       "\n",
       "    .dataframe tbody tr th {\n",
       "        vertical-align: top;\n",
       "    }\n",
       "\n",
       "    .dataframe thead th {\n",
       "        text-align: right;\n",
       "    }\n",
       "</style>\n",
       "<table border=\"1\" class=\"dataframe\">\n",
       "  <thead>\n",
       "    <tr style=\"text-align: right;\">\n",
       "      <th></th>\n",
       "      <th>RowNumber</th>\n",
       "      <th>CustomerId</th>\n",
       "      <th>Surname</th>\n",
       "      <th>CreditScore</th>\n",
       "      <th>Geography</th>\n",
       "      <th>Gender</th>\n",
       "      <th>Age</th>\n",
       "      <th>Tenure</th>\n",
       "      <th>Balance</th>\n",
       "      <th>NumOfProducts</th>\n",
       "      <th>HasCrCard</th>\n",
       "      <th>IsActiveMember</th>\n",
       "      <th>EstimatedSalary</th>\n",
       "      <th>Exited</th>\n",
       "    </tr>\n",
       "  </thead>\n",
       "  <tbody>\n",
       "    <tr>\n",
       "      <td>0</td>\n",
       "      <td>1</td>\n",
       "      <td>15634602</td>\n",
       "      <td>Hargrave</td>\n",
       "      <td>619</td>\n",
       "      <td>France</td>\n",
       "      <td>Female</td>\n",
       "      <td>42</td>\n",
       "      <td>2.0</td>\n",
       "      <td>0.00</td>\n",
       "      <td>1</td>\n",
       "      <td>1</td>\n",
       "      <td>1</td>\n",
       "      <td>101348.88</td>\n",
       "      <td>1</td>\n",
       "    </tr>\n",
       "    <tr>\n",
       "      <td>1</td>\n",
       "      <td>2</td>\n",
       "      <td>15647311</td>\n",
       "      <td>Hill</td>\n",
       "      <td>608</td>\n",
       "      <td>Spain</td>\n",
       "      <td>Female</td>\n",
       "      <td>41</td>\n",
       "      <td>1.0</td>\n",
       "      <td>83807.86</td>\n",
       "      <td>1</td>\n",
       "      <td>0</td>\n",
       "      <td>1</td>\n",
       "      <td>112542.58</td>\n",
       "      <td>0</td>\n",
       "    </tr>\n",
       "    <tr>\n",
       "      <td>2</td>\n",
       "      <td>3</td>\n",
       "      <td>15619304</td>\n",
       "      <td>Onio</td>\n",
       "      <td>502</td>\n",
       "      <td>France</td>\n",
       "      <td>Female</td>\n",
       "      <td>42</td>\n",
       "      <td>8.0</td>\n",
       "      <td>159660.80</td>\n",
       "      <td>3</td>\n",
       "      <td>1</td>\n",
       "      <td>0</td>\n",
       "      <td>113931.57</td>\n",
       "      <td>1</td>\n",
       "    </tr>\n",
       "    <tr>\n",
       "      <td>3</td>\n",
       "      <td>4</td>\n",
       "      <td>15701354</td>\n",
       "      <td>Boni</td>\n",
       "      <td>699</td>\n",
       "      <td>France</td>\n",
       "      <td>Female</td>\n",
       "      <td>39</td>\n",
       "      <td>1.0</td>\n",
       "      <td>0.00</td>\n",
       "      <td>2</td>\n",
       "      <td>0</td>\n",
       "      <td>0</td>\n",
       "      <td>93826.63</td>\n",
       "      <td>0</td>\n",
       "    </tr>\n",
       "    <tr>\n",
       "      <td>4</td>\n",
       "      <td>5</td>\n",
       "      <td>15737888</td>\n",
       "      <td>Mitchell</td>\n",
       "      <td>850</td>\n",
       "      <td>Spain</td>\n",
       "      <td>Female</td>\n",
       "      <td>43</td>\n",
       "      <td>2.0</td>\n",
       "      <td>125510.82</td>\n",
       "      <td>1</td>\n",
       "      <td>1</td>\n",
       "      <td>1</td>\n",
       "      <td>79084.10</td>\n",
       "      <td>0</td>\n",
       "    </tr>\n",
       "  </tbody>\n",
       "</table>\n",
       "</div>"
      ],
      "text/plain": [
       "   RowNumber  CustomerId   Surname  CreditScore Geography  Gender  Age  \\\n",
       "0          1    15634602  Hargrave          619    France  Female   42   \n",
       "1          2    15647311      Hill          608     Spain  Female   41   \n",
       "2          3    15619304      Onio          502    France  Female   42   \n",
       "3          4    15701354      Boni          699    France  Female   39   \n",
       "4          5    15737888  Mitchell          850     Spain  Female   43   \n",
       "\n",
       "   Tenure    Balance  NumOfProducts  HasCrCard  IsActiveMember  \\\n",
       "0     2.0       0.00              1          1               1   \n",
       "1     1.0   83807.86              1          0               1   \n",
       "2     8.0  159660.80              3          1               0   \n",
       "3     1.0       0.00              2          0               0   \n",
       "4     2.0  125510.82              1          1               1   \n",
       "\n",
       "   EstimatedSalary  Exited  \n",
       "0        101348.88       1  \n",
       "1        112542.58       0  \n",
       "2        113931.57       1  \n",
       "3         93826.63       0  \n",
       "4         79084.10       0  "
      ]
     },
     "metadata": {},
     "output_type": "display_data"
    },
    {
     "name": "stdout",
     "output_type": "stream",
     "text": [
      "----------------------------------------------------------------------------------------------------\n",
      "Info:\n",
      "\n",
      "<class 'pandas.core.frame.DataFrame'>\n",
      "RangeIndex: 10000 entries, 0 to 9999\n",
      "Data columns (total 14 columns):\n",
      "RowNumber          10000 non-null int64\n",
      "CustomerId         10000 non-null int64\n",
      "Surname            10000 non-null object\n",
      "CreditScore        10000 non-null int64\n",
      "Geography          10000 non-null object\n",
      "Gender             10000 non-null object\n",
      "Age                10000 non-null int64\n",
      "Tenure             9091 non-null float64\n",
      "Balance            10000 non-null float64\n",
      "NumOfProducts      10000 non-null int64\n",
      "HasCrCard          10000 non-null int64\n",
      "IsActiveMember     10000 non-null int64\n",
      "EstimatedSalary    10000 non-null float64\n",
      "Exited             10000 non-null int64\n",
      "dtypes: float64(3), int64(8), object(3)\n",
      "memory usage: 1.1+ MB\n"
     ]
    },
    {
     "data": {
      "text/plain": [
       "None"
      ]
     },
     "metadata": {},
     "output_type": "display_data"
    },
    {
     "name": "stdout",
     "output_type": "stream",
     "text": [
      "----------------------------------------------------------------------------------------------------\n",
      "Describe:\n",
      "\n"
     ]
    },
    {
     "data": {
      "text/html": [
       "<div>\n",
       "<style scoped>\n",
       "    .dataframe tbody tr th:only-of-type {\n",
       "        vertical-align: middle;\n",
       "    }\n",
       "\n",
       "    .dataframe tbody tr th {\n",
       "        vertical-align: top;\n",
       "    }\n",
       "\n",
       "    .dataframe thead th {\n",
       "        text-align: right;\n",
       "    }\n",
       "</style>\n",
       "<table border=\"1\" class=\"dataframe\">\n",
       "  <thead>\n",
       "    <tr style=\"text-align: right;\">\n",
       "      <th></th>\n",
       "      <th>RowNumber</th>\n",
       "      <th>CustomerId</th>\n",
       "      <th>CreditScore</th>\n",
       "      <th>Age</th>\n",
       "      <th>Tenure</th>\n",
       "      <th>Balance</th>\n",
       "      <th>NumOfProducts</th>\n",
       "      <th>HasCrCard</th>\n",
       "      <th>IsActiveMember</th>\n",
       "      <th>EstimatedSalary</th>\n",
       "      <th>Exited</th>\n",
       "    </tr>\n",
       "  </thead>\n",
       "  <tbody>\n",
       "    <tr>\n",
       "      <td>count</td>\n",
       "      <td>10000.00000</td>\n",
       "      <td>1.000000e+04</td>\n",
       "      <td>10000.000000</td>\n",
       "      <td>10000.000000</td>\n",
       "      <td>9091.000000</td>\n",
       "      <td>10000.000000</td>\n",
       "      <td>10000.000000</td>\n",
       "      <td>10000.00000</td>\n",
       "      <td>10000.000000</td>\n",
       "      <td>10000.000000</td>\n",
       "      <td>10000.000000</td>\n",
       "    </tr>\n",
       "    <tr>\n",
       "      <td>mean</td>\n",
       "      <td>5000.50000</td>\n",
       "      <td>1.569094e+07</td>\n",
       "      <td>650.528800</td>\n",
       "      <td>38.921800</td>\n",
       "      <td>4.997690</td>\n",
       "      <td>76485.889288</td>\n",
       "      <td>1.530200</td>\n",
       "      <td>0.70550</td>\n",
       "      <td>0.515100</td>\n",
       "      <td>100090.239881</td>\n",
       "      <td>0.203700</td>\n",
       "    </tr>\n",
       "    <tr>\n",
       "      <td>std</td>\n",
       "      <td>2886.89568</td>\n",
       "      <td>7.193619e+04</td>\n",
       "      <td>96.653299</td>\n",
       "      <td>10.487806</td>\n",
       "      <td>2.894723</td>\n",
       "      <td>62397.405202</td>\n",
       "      <td>0.581654</td>\n",
       "      <td>0.45584</td>\n",
       "      <td>0.499797</td>\n",
       "      <td>57510.492818</td>\n",
       "      <td>0.402769</td>\n",
       "    </tr>\n",
       "    <tr>\n",
       "      <td>min</td>\n",
       "      <td>1.00000</td>\n",
       "      <td>1.556570e+07</td>\n",
       "      <td>350.000000</td>\n",
       "      <td>18.000000</td>\n",
       "      <td>0.000000</td>\n",
       "      <td>0.000000</td>\n",
       "      <td>1.000000</td>\n",
       "      <td>0.00000</td>\n",
       "      <td>0.000000</td>\n",
       "      <td>11.580000</td>\n",
       "      <td>0.000000</td>\n",
       "    </tr>\n",
       "    <tr>\n",
       "      <td>25%</td>\n",
       "      <td>2500.75000</td>\n",
       "      <td>1.562853e+07</td>\n",
       "      <td>584.000000</td>\n",
       "      <td>32.000000</td>\n",
       "      <td>2.000000</td>\n",
       "      <td>0.000000</td>\n",
       "      <td>1.000000</td>\n",
       "      <td>0.00000</td>\n",
       "      <td>0.000000</td>\n",
       "      <td>51002.110000</td>\n",
       "      <td>0.000000</td>\n",
       "    </tr>\n",
       "    <tr>\n",
       "      <td>50%</td>\n",
       "      <td>5000.50000</td>\n",
       "      <td>1.569074e+07</td>\n",
       "      <td>652.000000</td>\n",
       "      <td>37.000000</td>\n",
       "      <td>5.000000</td>\n",
       "      <td>97198.540000</td>\n",
       "      <td>1.000000</td>\n",
       "      <td>1.00000</td>\n",
       "      <td>1.000000</td>\n",
       "      <td>100193.915000</td>\n",
       "      <td>0.000000</td>\n",
       "    </tr>\n",
       "    <tr>\n",
       "      <td>75%</td>\n",
       "      <td>7500.25000</td>\n",
       "      <td>1.575323e+07</td>\n",
       "      <td>718.000000</td>\n",
       "      <td>44.000000</td>\n",
       "      <td>7.000000</td>\n",
       "      <td>127644.240000</td>\n",
       "      <td>2.000000</td>\n",
       "      <td>1.00000</td>\n",
       "      <td>1.000000</td>\n",
       "      <td>149388.247500</td>\n",
       "      <td>0.000000</td>\n",
       "    </tr>\n",
       "    <tr>\n",
       "      <td>max</td>\n",
       "      <td>10000.00000</td>\n",
       "      <td>1.581569e+07</td>\n",
       "      <td>850.000000</td>\n",
       "      <td>92.000000</td>\n",
       "      <td>10.000000</td>\n",
       "      <td>250898.090000</td>\n",
       "      <td>4.000000</td>\n",
       "      <td>1.00000</td>\n",
       "      <td>1.000000</td>\n",
       "      <td>199992.480000</td>\n",
       "      <td>1.000000</td>\n",
       "    </tr>\n",
       "  </tbody>\n",
       "</table>\n",
       "</div>"
      ],
      "text/plain": [
       "         RowNumber    CustomerId   CreditScore           Age       Tenure  \\\n",
       "count  10000.00000  1.000000e+04  10000.000000  10000.000000  9091.000000   \n",
       "mean    5000.50000  1.569094e+07    650.528800     38.921800     4.997690   \n",
       "std     2886.89568  7.193619e+04     96.653299     10.487806     2.894723   \n",
       "min        1.00000  1.556570e+07    350.000000     18.000000     0.000000   \n",
       "25%     2500.75000  1.562853e+07    584.000000     32.000000     2.000000   \n",
       "50%     5000.50000  1.569074e+07    652.000000     37.000000     5.000000   \n",
       "75%     7500.25000  1.575323e+07    718.000000     44.000000     7.000000   \n",
       "max    10000.00000  1.581569e+07    850.000000     92.000000    10.000000   \n",
       "\n",
       "             Balance  NumOfProducts    HasCrCard  IsActiveMember  \\\n",
       "count   10000.000000   10000.000000  10000.00000    10000.000000   \n",
       "mean    76485.889288       1.530200      0.70550        0.515100   \n",
       "std     62397.405202       0.581654      0.45584        0.499797   \n",
       "min         0.000000       1.000000      0.00000        0.000000   \n",
       "25%         0.000000       1.000000      0.00000        0.000000   \n",
       "50%     97198.540000       1.000000      1.00000        1.000000   \n",
       "75%    127644.240000       2.000000      1.00000        1.000000   \n",
       "max    250898.090000       4.000000      1.00000        1.000000   \n",
       "\n",
       "       EstimatedSalary        Exited  \n",
       "count     10000.000000  10000.000000  \n",
       "mean     100090.239881      0.203700  \n",
       "std       57510.492818      0.402769  \n",
       "min          11.580000      0.000000  \n",
       "25%       51002.110000      0.000000  \n",
       "50%      100193.915000      0.000000  \n",
       "75%      149388.247500      0.000000  \n",
       "max      199992.480000      1.000000  "
      ]
     },
     "metadata": {},
     "output_type": "display_data"
    },
    {
     "name": "stdout",
     "output_type": "stream",
     "text": [
      "----------------------------------------------------------------------------------------------------\n"
     ]
    },
    {
     "data": {
      "text/html": [
       "<div>\n",
       "<style scoped>\n",
       "    .dataframe tbody tr th:only-of-type {\n",
       "        vertical-align: middle;\n",
       "    }\n",
       "\n",
       "    .dataframe tbody tr th {\n",
       "        vertical-align: top;\n",
       "    }\n",
       "\n",
       "    .dataframe thead th {\n",
       "        text-align: right;\n",
       "    }\n",
       "</style>\n",
       "<table border=\"1\" class=\"dataframe\">\n",
       "  <thead>\n",
       "    <tr style=\"text-align: right;\">\n",
       "      <th></th>\n",
       "      <th>Surname</th>\n",
       "      <th>Geography</th>\n",
       "      <th>Gender</th>\n",
       "    </tr>\n",
       "  </thead>\n",
       "  <tbody>\n",
       "    <tr>\n",
       "      <td>count</td>\n",
       "      <td>10000</td>\n",
       "      <td>10000</td>\n",
       "      <td>10000</td>\n",
       "    </tr>\n",
       "    <tr>\n",
       "      <td>unique</td>\n",
       "      <td>2932</td>\n",
       "      <td>3</td>\n",
       "      <td>2</td>\n",
       "    </tr>\n",
       "    <tr>\n",
       "      <td>top</td>\n",
       "      <td>Smith</td>\n",
       "      <td>France</td>\n",
       "      <td>Male</td>\n",
       "    </tr>\n",
       "    <tr>\n",
       "      <td>freq</td>\n",
       "      <td>32</td>\n",
       "      <td>5014</td>\n",
       "      <td>5457</td>\n",
       "    </tr>\n",
       "  </tbody>\n",
       "</table>\n",
       "</div>"
      ],
      "text/plain": [
       "       Surname Geography Gender\n",
       "count    10000     10000  10000\n",
       "unique    2932         3      2\n",
       "top      Smith    France   Male\n",
       "freq        32      5014   5457"
      ]
     },
     "metadata": {},
     "output_type": "display_data"
    },
    {
     "name": "stdout",
     "output_type": "stream",
     "text": [
      "\n",
      "Columns with nulls:\n"
     ]
    },
    {
     "data": {
      "text/html": [
       "<div>\n",
       "<style scoped>\n",
       "    .dataframe tbody tr th:only-of-type {\n",
       "        vertical-align: middle;\n",
       "    }\n",
       "\n",
       "    .dataframe tbody tr th {\n",
       "        vertical-align: top;\n",
       "    }\n",
       "\n",
       "    .dataframe thead th {\n",
       "        text-align: right;\n",
       "    }\n",
       "</style>\n",
       "<table border=\"1\" class=\"dataframe\">\n",
       "  <thead>\n",
       "    <tr style=\"text-align: right;\">\n",
       "      <th></th>\n",
       "      <th>Missing Values</th>\n",
       "      <th>Percent of Nulls</th>\n",
       "    </tr>\n",
       "  </thead>\n",
       "  <tbody>\n",
       "    <tr>\n",
       "      <td>RowNumber</td>\n",
       "      <td>0</td>\n",
       "      <td>0.00</td>\n",
       "    </tr>\n",
       "    <tr>\n",
       "      <td>CustomerId</td>\n",
       "      <td>0</td>\n",
       "      <td>0.00</td>\n",
       "    </tr>\n",
       "    <tr>\n",
       "      <td>Surname</td>\n",
       "      <td>0</td>\n",
       "      <td>0.00</td>\n",
       "    </tr>\n",
       "    <tr>\n",
       "      <td>CreditScore</td>\n",
       "      <td>0</td>\n",
       "      <td>0.00</td>\n",
       "    </tr>\n",
       "    <tr>\n",
       "      <td>Geography</td>\n",
       "      <td>0</td>\n",
       "      <td>0.00</td>\n",
       "    </tr>\n",
       "    <tr>\n",
       "      <td>Gender</td>\n",
       "      <td>0</td>\n",
       "      <td>0.00</td>\n",
       "    </tr>\n",
       "    <tr>\n",
       "      <td>Age</td>\n",
       "      <td>0</td>\n",
       "      <td>0.00</td>\n",
       "    </tr>\n",
       "    <tr>\n",
       "      <td>Tenure</td>\n",
       "      <td>909</td>\n",
       "      <td>9.09</td>\n",
       "    </tr>\n",
       "    <tr>\n",
       "      <td>Balance</td>\n",
       "      <td>0</td>\n",
       "      <td>0.00</td>\n",
       "    </tr>\n",
       "    <tr>\n",
       "      <td>NumOfProducts</td>\n",
       "      <td>0</td>\n",
       "      <td>0.00</td>\n",
       "    </tr>\n",
       "    <tr>\n",
       "      <td>HasCrCard</td>\n",
       "      <td>0</td>\n",
       "      <td>0.00</td>\n",
       "    </tr>\n",
       "    <tr>\n",
       "      <td>IsActiveMember</td>\n",
       "      <td>0</td>\n",
       "      <td>0.00</td>\n",
       "    </tr>\n",
       "    <tr>\n",
       "      <td>EstimatedSalary</td>\n",
       "      <td>0</td>\n",
       "      <td>0.00</td>\n",
       "    </tr>\n",
       "    <tr>\n",
       "      <td>Exited</td>\n",
       "      <td>0</td>\n",
       "      <td>0.00</td>\n",
       "    </tr>\n",
       "  </tbody>\n",
       "</table>\n",
       "</div>"
      ],
      "text/plain": [
       "                 Missing Values  Percent of Nulls\n",
       "RowNumber                     0              0.00\n",
       "CustomerId                    0              0.00\n",
       "Surname                       0              0.00\n",
       "CreditScore                   0              0.00\n",
       "Geography                     0              0.00\n",
       "Gender                        0              0.00\n",
       "Age                           0              0.00\n",
       "Tenure                      909              9.09\n",
       "Balance                       0              0.00\n",
       "NumOfProducts                 0              0.00\n",
       "HasCrCard                     0              0.00\n",
       "IsActiveMember                0              0.00\n",
       "EstimatedSalary               0              0.00\n",
       "Exited                        0              0.00"
      ]
     },
     "metadata": {},
     "output_type": "display_data"
    },
    {
     "name": "stdout",
     "output_type": "stream",
     "text": [
      "----------------------------------------------------------------------------------------------------\n",
      "Shape:\n",
      "(10000, 14)\n",
      "----------------------------------------------------------------------------------------------------\n",
      "Duplicated:\n",
      "\u001b[1mWe have 0 duplicated rows.\u001b[0m\n"
     ]
    }
   ],
   "source": [
    "display_information(df)"
   ]
  },
  {
   "cell_type": "markdown",
   "metadata": {
    "id": "FbX1-sWKOP7r"
   },
   "source": [
    "# CONCLUSION:\n",
    "I don't see any outliers. \n",
    "The only data I see problematic is if we have all zeroes in Balance, HasCrCard, NumOfProducts, IsActiveMember."
   ]
  },
  {
   "cell_type": "code",
   "execution_count": 6,
   "metadata": {
    "colab": {
     "base_uri": "https://localhost:8080/",
     "height": 33
    },
    "id": "DjcXrbuXOo84",
    "outputId": "a60c8dfb-2a98-4bf1-a1c8-fc12cffce95d"
   },
   "outputs": [
    {
     "data": {
      "text/plain": [
       "(0, 14)"
      ]
     },
     "execution_count": 6,
     "metadata": {},
     "output_type": "execute_result"
    }
   ],
   "source": [
    "df_zerotest = df.query('Balance==0 & HasCrCard==0 & NumOfProducts==0')\n",
    "df_zerotest.shape"
   ]
  },
  {
   "cell_type": "markdown",
   "metadata": {
    "id": "eiuqfmitQAVD"
   },
   "source": [
    "# CONCLUSION\n",
    "Customers have atleast one of Balance, Credit Card or NumOfProducts. "
   ]
  },
  {
   "cell_type": "code",
   "execution_count": 7,
   "metadata": {
    "colab": {
     "base_uri": "https://localhost:8080/",
     "height": 365
    },
    "id": "HPN0mrvapvpY",
    "outputId": "96a9ee92-e6bc-4c47-91a2-b62bc733045c"
   },
   "outputs": [
    {
     "data": {
      "text/html": [
       "<div>\n",
       "<style scoped>\n",
       "    .dataframe tbody tr th:only-of-type {\n",
       "        vertical-align: middle;\n",
       "    }\n",
       "\n",
       "    .dataframe tbody tr th {\n",
       "        vertical-align: top;\n",
       "    }\n",
       "\n",
       "    .dataframe thead th {\n",
       "        text-align: right;\n",
       "    }\n",
       "</style>\n",
       "<table border=\"1\" class=\"dataframe\">\n",
       "  <thead>\n",
       "    <tr style=\"text-align: right;\">\n",
       "      <th></th>\n",
       "      <th>RowNumber</th>\n",
       "      <th>CustomerId</th>\n",
       "      <th>Surname</th>\n",
       "      <th>CreditScore</th>\n",
       "      <th>Geography</th>\n",
       "      <th>Gender</th>\n",
       "      <th>Age</th>\n",
       "      <th>Tenure</th>\n",
       "      <th>Balance</th>\n",
       "      <th>NumOfProducts</th>\n",
       "      <th>HasCrCard</th>\n",
       "      <th>IsActiveMember</th>\n",
       "      <th>EstimatedSalary</th>\n",
       "      <th>Exited</th>\n",
       "    </tr>\n",
       "  </thead>\n",
       "  <tbody>\n",
       "    <tr>\n",
       "      <td>0</td>\n",
       "      <td>1</td>\n",
       "      <td>15634602</td>\n",
       "      <td>Hargrave</td>\n",
       "      <td>619</td>\n",
       "      <td>France</td>\n",
       "      <td>Female</td>\n",
       "      <td>42</td>\n",
       "      <td>2.0</td>\n",
       "      <td>0.00</td>\n",
       "      <td>1</td>\n",
       "      <td>1</td>\n",
       "      <td>1</td>\n",
       "      <td>101348.88</td>\n",
       "      <td>1</td>\n",
       "    </tr>\n",
       "    <tr>\n",
       "      <td>1</td>\n",
       "      <td>2</td>\n",
       "      <td>15647311</td>\n",
       "      <td>Hill</td>\n",
       "      <td>608</td>\n",
       "      <td>Spain</td>\n",
       "      <td>Female</td>\n",
       "      <td>41</td>\n",
       "      <td>1.0</td>\n",
       "      <td>83807.86</td>\n",
       "      <td>1</td>\n",
       "      <td>0</td>\n",
       "      <td>1</td>\n",
       "      <td>112542.58</td>\n",
       "      <td>0</td>\n",
       "    </tr>\n",
       "    <tr>\n",
       "      <td>2</td>\n",
       "      <td>3</td>\n",
       "      <td>15619304</td>\n",
       "      <td>Onio</td>\n",
       "      <td>502</td>\n",
       "      <td>France</td>\n",
       "      <td>Female</td>\n",
       "      <td>42</td>\n",
       "      <td>8.0</td>\n",
       "      <td>159660.80</td>\n",
       "      <td>3</td>\n",
       "      <td>1</td>\n",
       "      <td>0</td>\n",
       "      <td>113931.57</td>\n",
       "      <td>1</td>\n",
       "    </tr>\n",
       "    <tr>\n",
       "      <td>3</td>\n",
       "      <td>4</td>\n",
       "      <td>15701354</td>\n",
       "      <td>Boni</td>\n",
       "      <td>699</td>\n",
       "      <td>France</td>\n",
       "      <td>Female</td>\n",
       "      <td>39</td>\n",
       "      <td>1.0</td>\n",
       "      <td>0.00</td>\n",
       "      <td>2</td>\n",
       "      <td>0</td>\n",
       "      <td>0</td>\n",
       "      <td>93826.63</td>\n",
       "      <td>0</td>\n",
       "    </tr>\n",
       "    <tr>\n",
       "      <td>4</td>\n",
       "      <td>5</td>\n",
       "      <td>15737888</td>\n",
       "      <td>Mitchell</td>\n",
       "      <td>850</td>\n",
       "      <td>Spain</td>\n",
       "      <td>Female</td>\n",
       "      <td>43</td>\n",
       "      <td>2.0</td>\n",
       "      <td>125510.82</td>\n",
       "      <td>1</td>\n",
       "      <td>1</td>\n",
       "      <td>1</td>\n",
       "      <td>79084.10</td>\n",
       "      <td>0</td>\n",
       "    </tr>\n",
       "  </tbody>\n",
       "</table>\n",
       "</div>"
      ],
      "text/plain": [
       "   RowNumber  CustomerId   Surname  CreditScore Geography  Gender  Age  \\\n",
       "0          1    15634602  Hargrave          619    France  Female   42   \n",
       "1          2    15647311      Hill          608     Spain  Female   41   \n",
       "2          3    15619304      Onio          502    France  Female   42   \n",
       "3          4    15701354      Boni          699    France  Female   39   \n",
       "4          5    15737888  Mitchell          850     Spain  Female   43   \n",
       "\n",
       "   Tenure    Balance  NumOfProducts  HasCrCard  IsActiveMember  \\\n",
       "0     2.0       0.00              1          1               1   \n",
       "1     1.0   83807.86              1          0               1   \n",
       "2     8.0  159660.80              3          1               0   \n",
       "3     1.0       0.00              2          0               0   \n",
       "4     2.0  125510.82              1          1               1   \n",
       "\n",
       "   EstimatedSalary  Exited  \n",
       "0        101348.88       1  \n",
       "1        112542.58       0  \n",
       "2        113931.57       1  \n",
       "3         93826.63       0  \n",
       "4         79084.10       0  "
      ]
     },
     "metadata": {},
     "output_type": "display_data"
    },
    {
     "data": {
      "text/html": [
       "<div>\n",
       "<style scoped>\n",
       "    .dataframe tbody tr th:only-of-type {\n",
       "        vertical-align: middle;\n",
       "    }\n",
       "\n",
       "    .dataframe tbody tr th {\n",
       "        vertical-align: top;\n",
       "    }\n",
       "\n",
       "    .dataframe thead th {\n",
       "        text-align: right;\n",
       "    }\n",
       "</style>\n",
       "<table border=\"1\" class=\"dataframe\">\n",
       "  <thead>\n",
       "    <tr style=\"text-align: right;\">\n",
       "      <th></th>\n",
       "      <th>RowNumber</th>\n",
       "      <th>CustomerId</th>\n",
       "      <th>Surname</th>\n",
       "      <th>CreditScore</th>\n",
       "      <th>Geography</th>\n",
       "      <th>Gender</th>\n",
       "      <th>Age</th>\n",
       "      <th>Tenure</th>\n",
       "      <th>Balance</th>\n",
       "      <th>NumOfProducts</th>\n",
       "      <th>HasCrCard</th>\n",
       "      <th>IsActiveMember</th>\n",
       "      <th>EstimatedSalary</th>\n",
       "      <th>Exited</th>\n",
       "    </tr>\n",
       "  </thead>\n",
       "  <tbody>\n",
       "    <tr>\n",
       "      <td>9995</td>\n",
       "      <td>9996</td>\n",
       "      <td>15606229</td>\n",
       "      <td>Obijiaku</td>\n",
       "      <td>771</td>\n",
       "      <td>France</td>\n",
       "      <td>Male</td>\n",
       "      <td>39</td>\n",
       "      <td>5.0</td>\n",
       "      <td>0.00</td>\n",
       "      <td>2</td>\n",
       "      <td>1</td>\n",
       "      <td>0</td>\n",
       "      <td>96270.64</td>\n",
       "      <td>0</td>\n",
       "    </tr>\n",
       "    <tr>\n",
       "      <td>9996</td>\n",
       "      <td>9997</td>\n",
       "      <td>15569892</td>\n",
       "      <td>Johnstone</td>\n",
       "      <td>516</td>\n",
       "      <td>France</td>\n",
       "      <td>Male</td>\n",
       "      <td>35</td>\n",
       "      <td>10.0</td>\n",
       "      <td>57369.61</td>\n",
       "      <td>1</td>\n",
       "      <td>1</td>\n",
       "      <td>1</td>\n",
       "      <td>101699.77</td>\n",
       "      <td>0</td>\n",
       "    </tr>\n",
       "    <tr>\n",
       "      <td>9997</td>\n",
       "      <td>9998</td>\n",
       "      <td>15584532</td>\n",
       "      <td>Liu</td>\n",
       "      <td>709</td>\n",
       "      <td>France</td>\n",
       "      <td>Female</td>\n",
       "      <td>36</td>\n",
       "      <td>7.0</td>\n",
       "      <td>0.00</td>\n",
       "      <td>1</td>\n",
       "      <td>0</td>\n",
       "      <td>1</td>\n",
       "      <td>42085.58</td>\n",
       "      <td>1</td>\n",
       "    </tr>\n",
       "    <tr>\n",
       "      <td>9998</td>\n",
       "      <td>9999</td>\n",
       "      <td>15682355</td>\n",
       "      <td>Sabbatini</td>\n",
       "      <td>772</td>\n",
       "      <td>Germany</td>\n",
       "      <td>Male</td>\n",
       "      <td>42</td>\n",
       "      <td>3.0</td>\n",
       "      <td>75075.31</td>\n",
       "      <td>2</td>\n",
       "      <td>1</td>\n",
       "      <td>0</td>\n",
       "      <td>92888.52</td>\n",
       "      <td>1</td>\n",
       "    </tr>\n",
       "    <tr>\n",
       "      <td>9999</td>\n",
       "      <td>10000</td>\n",
       "      <td>15628319</td>\n",
       "      <td>Walker</td>\n",
       "      <td>792</td>\n",
       "      <td>France</td>\n",
       "      <td>Female</td>\n",
       "      <td>28</td>\n",
       "      <td>NaN</td>\n",
       "      <td>130142.79</td>\n",
       "      <td>1</td>\n",
       "      <td>1</td>\n",
       "      <td>0</td>\n",
       "      <td>38190.78</td>\n",
       "      <td>0</td>\n",
       "    </tr>\n",
       "  </tbody>\n",
       "</table>\n",
       "</div>"
      ],
      "text/plain": [
       "      RowNumber  CustomerId    Surname  CreditScore Geography  Gender  Age  \\\n",
       "9995       9996    15606229   Obijiaku          771    France    Male   39   \n",
       "9996       9997    15569892  Johnstone          516    France    Male   35   \n",
       "9997       9998    15584532        Liu          709    France  Female   36   \n",
       "9998       9999    15682355  Sabbatini          772   Germany    Male   42   \n",
       "9999      10000    15628319     Walker          792    France  Female   28   \n",
       "\n",
       "      Tenure    Balance  NumOfProducts  HasCrCard  IsActiveMember  \\\n",
       "9995     5.0       0.00              2          1               0   \n",
       "9996    10.0   57369.61              1          1               1   \n",
       "9997     7.0       0.00              1          0               1   \n",
       "9998     3.0   75075.31              2          1               0   \n",
       "9999     NaN  130142.79              1          1               0   \n",
       "\n",
       "      EstimatedSalary  Exited  \n",
       "9995         96270.64       0  \n",
       "9996        101699.77       0  \n",
       "9997         42085.58       1  \n",
       "9998         92888.52       1  \n",
       "9999         38190.78       0  "
      ]
     },
     "metadata": {},
     "output_type": "display_data"
    }
   ],
   "source": [
    "display(df.head(5),df.tail(5))"
   ]
  },
  {
   "cell_type": "code",
   "execution_count": 8,
   "metadata": {
    "id": "qTTfgxiDeRLF"
   },
   "outputs": [],
   "source": [
    "#Droping 3 columns which will have no use in the Supervised Learning\n",
    "df=df.drop(['CustomerId','RowNumber','Surname'],axis=1)"
   ]
  },
  {
   "cell_type": "code",
   "execution_count": 9,
   "metadata": {
    "colab": {
     "base_uri": "https://localhost:8080/",
     "height": 212
    },
    "id": "jUhxFScq8QZn",
    "outputId": "fc887991-ebc9-45c5-d432-c20c935d1658"
   },
   "outputs": [
    {
     "data": {
      "text/plain": [
       "1.0     952\n",
       "2.0     950\n",
       "8.0     933\n",
       "3.0     928\n",
       "5.0     927\n",
       "7.0     925\n",
       "4.0     885\n",
       "9.0     882\n",
       "6.0     881\n",
       "10.0    446\n",
       "0.0     382\n",
       "Name: Tenure, dtype: int64"
      ]
     },
     "execution_count": 9,
     "metadata": {},
     "output_type": "execute_result"
    }
   ],
   "source": [
    "df['Tenure'].value_counts()"
   ]
  },
  {
   "cell_type": "markdown",
   "metadata": {
    "id": "ZfDn_kxUpvpa"
   },
   "source": [
    "# CONCLUSION\n",
    "- Dropped three columns: CustomerId, RowNumber, Surname. Not needed.\n",
    "- Checked 'Tenure' column has Nan values.\n",
    "- I need to identify if this column will have impact on the prediction of values.\n",
    "- I will check which columns have Nan Values for Tenure to see if they can be replaced."
   ]
  },
  {
   "cell_type": "code",
   "execution_count": 10,
   "metadata": {
    "colab": {
     "base_uri": "https://localhost:8080/"
    },
    "id": "jNv6H0Pzpvpb",
    "outputId": "3f6e9b08-c611-4d61-be37-32c7e712ba8b",
    "scrolled": true
   },
   "outputs": [
    {
     "name": "stdout",
     "output_type": "stream",
     "text": [
      "(909, 11)\n"
     ]
    },
    {
     "data": {
      "text/html": [
       "<div>\n",
       "<style scoped>\n",
       "    .dataframe tbody tr th:only-of-type {\n",
       "        vertical-align: middle;\n",
       "    }\n",
       "\n",
       "    .dataframe tbody tr th {\n",
       "        vertical-align: top;\n",
       "    }\n",
       "\n",
       "    .dataframe thead tr th {\n",
       "        text-align: left;\n",
       "    }\n",
       "\n",
       "    .dataframe thead tr:last-of-type th {\n",
       "        text-align: right;\n",
       "    }\n",
       "</style>\n",
       "<table border=\"1\" class=\"dataframe\">\n",
       "  <thead>\n",
       "    <tr>\n",
       "      <th></th>\n",
       "      <th></th>\n",
       "      <th></th>\n",
       "      <th></th>\n",
       "      <th>mean</th>\n",
       "      <th>count</th>\n",
       "    </tr>\n",
       "    <tr>\n",
       "      <th></th>\n",
       "      <th></th>\n",
       "      <th></th>\n",
       "      <th></th>\n",
       "      <th>Balance</th>\n",
       "      <th>Balance</th>\n",
       "    </tr>\n",
       "    <tr>\n",
       "      <th>Exited</th>\n",
       "      <th>Geography</th>\n",
       "      <th>CreditScore</th>\n",
       "      <th>Gender</th>\n",
       "      <th></th>\n",
       "      <th></th>\n",
       "    </tr>\n",
       "  </thead>\n",
       "  <tbody>\n",
       "    <tr>\n",
       "      <td rowspan=\"5\" valign=\"top\">0</td>\n",
       "      <td rowspan=\"5\" valign=\"top\">France</td>\n",
       "      <td>413</td>\n",
       "      <td>Male</td>\n",
       "      <td>0.00</td>\n",
       "      <td>1</td>\n",
       "    </tr>\n",
       "    <tr>\n",
       "      <td>428</td>\n",
       "      <td>Female</td>\n",
       "      <td>0.00</td>\n",
       "      <td>1</td>\n",
       "    </tr>\n",
       "    <tr>\n",
       "      <td>435</td>\n",
       "      <td>Male</td>\n",
       "      <td>0.00</td>\n",
       "      <td>1</td>\n",
       "    </tr>\n",
       "    <tr>\n",
       "      <td>438</td>\n",
       "      <td>Female</td>\n",
       "      <td>0.00</td>\n",
       "      <td>1</td>\n",
       "    </tr>\n",
       "    <tr>\n",
       "      <td>444</td>\n",
       "      <td>Male</td>\n",
       "      <td>0.00</td>\n",
       "      <td>1</td>\n",
       "    </tr>\n",
       "    <tr>\n",
       "      <td>...</td>\n",
       "      <td>...</td>\n",
       "      <td>...</td>\n",
       "      <td>...</td>\n",
       "      <td>...</td>\n",
       "      <td>...</td>\n",
       "    </tr>\n",
       "    <tr>\n",
       "      <td rowspan=\"5\" valign=\"top\">1</td>\n",
       "      <td rowspan=\"5\" valign=\"top\">Spain</td>\n",
       "      <td>738</td>\n",
       "      <td>Male</td>\n",
       "      <td>0.00</td>\n",
       "      <td>1</td>\n",
       "    </tr>\n",
       "    <tr>\n",
       "      <td>785</td>\n",
       "      <td>Female</td>\n",
       "      <td>129855.72</td>\n",
       "      <td>1</td>\n",
       "    </tr>\n",
       "    <tr>\n",
       "      <td>790</td>\n",
       "      <td>Male</td>\n",
       "      <td>182364.53</td>\n",
       "      <td>1</td>\n",
       "    </tr>\n",
       "    <tr>\n",
       "      <td>828</td>\n",
       "      <td>Male</td>\n",
       "      <td>109876.82</td>\n",
       "      <td>1</td>\n",
       "    </tr>\n",
       "    <tr>\n",
       "      <td>850</td>\n",
       "      <td>Male</td>\n",
       "      <td>103007.47</td>\n",
       "      <td>2</td>\n",
       "    </tr>\n",
       "  </tbody>\n",
       "</table>\n",
       "<p>760 rows × 2 columns</p>\n",
       "</div>"
      ],
      "text/plain": [
       "                                          mean   count\n",
       "                                       Balance Balance\n",
       "Exited Geography CreditScore Gender                   \n",
       "0      France    413         Male         0.00       1\n",
       "                 428         Female       0.00       1\n",
       "                 435         Male         0.00       1\n",
       "                 438         Female       0.00       1\n",
       "                 444         Male         0.00       1\n",
       "...                                        ...     ...\n",
       "1      Spain     738         Male         0.00       1\n",
       "                 785         Female  129855.72       1\n",
       "                 790         Male    182364.53       1\n",
       "                 828         Male    109876.82       1\n",
       "                 850         Male    103007.47       2\n",
       "\n",
       "[760 rows x 2 columns]"
      ]
     },
     "metadata": {},
     "output_type": "display_data"
    }
   ],
   "source": [
    "df1 = df[df.isna().any(axis=1)]\n",
    "print(df1.shape)\n",
    "display(df1.pivot_table(index=['Exited','Geography','CreditScore','Gender'],values='Balance',aggfunc=['mean','count']))"
   ]
  },
  {
   "cell_type": "code",
   "execution_count": 11,
   "metadata": {
    "colab": {
     "base_uri": "https://localhost:8080/"
    },
    "id": "PfLtpQ49pvpd",
    "outputId": "bc8a8d3b-b9b2-4eed-882a-cf242adbea11"
   },
   "outputs": [
    {
     "name": "stdout",
     "output_type": "stream",
     "text": [
      "5.0 5.0\n"
     ]
    }
   ],
   "source": [
    "valueFrance = df[df['Geography']=='France']['Tenure'].median()\n",
    "valueSpain =  df[df['Geography']=='Spain']['Tenure'].median()\n",
    "print(valueFrance, valueSpain)"
   ]
  },
  {
   "cell_type": "code",
   "execution_count": 12,
   "metadata": {
    "colab": {
     "base_uri": "https://localhost:8080/"
    },
    "id": "upUuI-ljpvph",
    "outputId": "577d4ddf-a368-4009-883f-7d85f77dfb05"
   },
   "outputs": [
    {
     "name": "stdout",
     "output_type": "stream",
     "text": [
      "0\n"
     ]
    }
   ],
   "source": [
    "df['Tenure'].fillna(df['Tenure'].median(),inplace=True)\n",
    "print(df['Tenure'].isnull().sum())"
   ]
  },
  {
   "cell_type": "markdown",
   "metadata": {
    "id": "vrAheIOMpvpj"
   },
   "source": [
    "# CONCLUSION\n",
    "- Replaced the null values in Tenure column with median value.\n",
    "- Reason: Tenure has Nan values for the customers in countries: France, Spain.\n",
    "- I calculated the median of Tenure for each of these countries, came out to 5\n",
    "- Hence I replaced the Nan values with the median value which is 5.\n",
    "- No more Nan values"
   ]
  },
  {
   "cell_type": "markdown",
   "metadata": {
    "id": "DyiK-55Z8nrl"
   },
   "source": [
    "# STEP-2: EXPLORATORY DATA ANALYSIS"
   ]
  },
  {
   "cell_type": "code",
   "execution_count": 13,
   "metadata": {
    "colab": {
     "base_uri": "https://localhost:8080/",
     "height": 272
    },
    "id": "-4BZYbob-5k5",
    "outputId": "12bc645e-5d97-43bb-fd97-1b07935d84b9"
   },
   "outputs": [
    {
     "data": {
      "image/png": "[encoded data removed]",
      "text/plain": [
       "<Figure size 432x288 with 2 Axes>"
      ]
     },
     "metadata": {},
     "output_type": "display_data"
    }
   ],
   "source": [
    "heatmap = sns.heatmap(df.corr()[['Exited']].sort_values(by='Exited', ascending=False), vmin=-1, vmax=1, annot=True, cmap='BrBG')"
   ]
  },
  {
   "cell_type": "markdown",
   "metadata": {
    "id": "Bm8nrIFhBaZp"
   },
   "source": [
    "# CONCLUSION\n",
    "- The heatmap depicts that Churn has positive correlation with Age, Balance and Estimated Salary. However, the correlation doesn't seem to be very strong.\n",
    "\n",
    "- Churn (Exited) also has negative correlation with HasCreditCard, tenure, CreditScore,NumOfProducts, IsActiveMember."
   ]
  },
  {
   "cell_type": "code",
   "execution_count": 14,
   "metadata": {
    "colab": {
     "base_uri": "https://localhost:8080/"
    },
    "id": "9Wk5xR_GdDS3",
    "outputId": "c253ff54-0875-447f-bfde-bedd696657ab"
   },
   "outputs": [
    {
     "data": {
      "text/plain": [
       "<matplotlib.axes._subplots.AxesSubplot at 0x7fe62f665c90>"
      ]
     },
     "execution_count": 14,
     "metadata": {},
     "output_type": "execute_result"
    },
    {
     "data": {
      "image/png": "[encoded data removed]",
      "text/plain": [
       "<Figure size 720x288 with 1 Axes>"
      ]
     },
     "metadata": {},
     "output_type": "display_data"
    }
   ],
   "source": [
    "plt.figure(figsize=(10,4))\n",
    "df.corr()['Exited'].sort_values(ascending = False).plot(kind='bar')"
   ]
  },
  {
   "cell_type": "markdown",
   "metadata": {
    "id": "8g0iwDKPdNz0"
   },
   "source": [
    "# CONCLUSION\n",
    "The BAR Chart also displays that \n",
    "\n",
    "Age,Balance, IsActiveMember, NumOfProducts seem to have high correlation with the churn."
   ]
  },
  {
   "cell_type": "code",
   "execution_count": 15,
   "metadata": {
    "colab": {
     "base_uri": "https://localhost:8080/"
    },
    "id": "FXSGsL-ldksk",
    "outputId": "91bb27e2-c93a-4707-f676-3775220bc2f0"
   },
   "outputs": [
    {
     "data": {
      "text/plain": [
       "Text(0, 0.5, 'count')"
      ]
     },
     "execution_count": 15,
     "metadata": {},
     "output_type": "execute_result"
    },
    {
     "data": {
      "image/png": "[encoded data removed]",
      "text/plain": [
       "<Figure size 864x576 with 4 Axes>"
      ]
     },
     "metadata": {},
     "output_type": "display_data"
    }
   ],
   "source": [
    "#Categorical attirbutes churn rate\n",
    "fig, axis = plt.subplots(2, 2, figsize=(12, 8))\n",
    "sns.countplot(x= df.Geography, hue = 'Exited' ,data=df, ax =axis[0][0])\n",
    "sns.countplot(x=df.Gender, hue = 'Exited' ,data=df, ax=axis[1][0])\n",
    "sns.countplot(x=df.HasCrCard, hue = 'Exited' ,data=df, ax=axis[0][1])\n",
    "sns.countplot(x=df.IsActiveMember, hue = 'Exited' ,data=df, ax=axis[1][1])\n",
    "plt.ylabel('count')"
   ]
  },
  {
   "cell_type": "markdown",
   "metadata": {
    "id": "DSCiOizqd4sE"
   },
   "source": [
    "# CONCLUSION\n",
    "- Geography: France show a huge number of customers with low churn.\n",
    "\n",
    "- CreditCard: %age of customers without credit card are churning more. There is a much bigger percentage of customers with credit card.\n",
    "\n",
    "- Gender: Female customers are churning more than male. More data is needed to confirm these exploratory findings. There are more male customers.\n",
    "\n",
    "- IsActiveMember: Inactive customers are churning more than active ones. There are more active members than inactive members."
   ]
  },
  {
   "cell_type": "markdown",
   "metadata": {
    "id": "HwF7iHJqpvpk"
   },
   "source": [
    "# STEP-3: FEATURE ENGINEERING\n",
    "\n",
    "- We have two categorical columns: Geography,Gender\n",
    "- We should OHE the columns in the dataset."
   ]
  },
  {
   "cell_type": "code",
   "execution_count": 16,
   "metadata": {
    "colab": {
     "base_uri": "https://localhost:8080/"
    },
    "id": "jtAjfUvnEugr",
    "outputId": "692dfdce-32a1-4507-db51-1b08499b9ea7"
   },
   "outputs": [
    {
     "name": "stdout",
     "output_type": "stream",
     "text": [
      "(10000, 12)\n"
     ]
    },
    {
     "data": {
      "text/html": [
       "<div>\n",
       "<style scoped>\n",
       "    .dataframe tbody tr th:only-of-type {\n",
       "        vertical-align: middle;\n",
       "    }\n",
       "\n",
       "    .dataframe tbody tr th {\n",
       "        vertical-align: top;\n",
       "    }\n",
       "\n",
       "    .dataframe thead th {\n",
       "        text-align: right;\n",
       "    }\n",
       "</style>\n",
       "<table border=\"1\" class=\"dataframe\">\n",
       "  <thead>\n",
       "    <tr style=\"text-align: right;\">\n",
       "      <th></th>\n",
       "      <th>CreditScore</th>\n",
       "      <th>Age</th>\n",
       "      <th>Tenure</th>\n",
       "      <th>Balance</th>\n",
       "      <th>NumOfProducts</th>\n",
       "      <th>HasCrCard</th>\n",
       "      <th>IsActiveMember</th>\n",
       "      <th>EstimatedSalary</th>\n",
       "      <th>Exited</th>\n",
       "      <th>Geography_Germany</th>\n",
       "      <th>Geography_Spain</th>\n",
       "      <th>Gender_Male</th>\n",
       "    </tr>\n",
       "  </thead>\n",
       "  <tbody>\n",
       "    <tr>\n",
       "      <td>0</td>\n",
       "      <td>619</td>\n",
       "      <td>42</td>\n",
       "      <td>2.0</td>\n",
       "      <td>0.00</td>\n",
       "      <td>1</td>\n",
       "      <td>1</td>\n",
       "      <td>1</td>\n",
       "      <td>101348.88</td>\n",
       "      <td>1</td>\n",
       "      <td>0</td>\n",
       "      <td>0</td>\n",
       "      <td>0</td>\n",
       "    </tr>\n",
       "    <tr>\n",
       "      <td>1</td>\n",
       "      <td>608</td>\n",
       "      <td>41</td>\n",
       "      <td>1.0</td>\n",
       "      <td>83807.86</td>\n",
       "      <td>1</td>\n",
       "      <td>0</td>\n",
       "      <td>1</td>\n",
       "      <td>112542.58</td>\n",
       "      <td>0</td>\n",
       "      <td>0</td>\n",
       "      <td>1</td>\n",
       "      <td>0</td>\n",
       "    </tr>\n",
       "    <tr>\n",
       "      <td>2</td>\n",
       "      <td>502</td>\n",
       "      <td>42</td>\n",
       "      <td>8.0</td>\n",
       "      <td>159660.80</td>\n",
       "      <td>3</td>\n",
       "      <td>1</td>\n",
       "      <td>0</td>\n",
       "      <td>113931.57</td>\n",
       "      <td>1</td>\n",
       "      <td>0</td>\n",
       "      <td>0</td>\n",
       "      <td>0</td>\n",
       "    </tr>\n",
       "    <tr>\n",
       "      <td>3</td>\n",
       "      <td>699</td>\n",
       "      <td>39</td>\n",
       "      <td>1.0</td>\n",
       "      <td>0.00</td>\n",
       "      <td>2</td>\n",
       "      <td>0</td>\n",
       "      <td>0</td>\n",
       "      <td>93826.63</td>\n",
       "      <td>0</td>\n",
       "      <td>0</td>\n",
       "      <td>0</td>\n",
       "      <td>0</td>\n",
       "    </tr>\n",
       "    <tr>\n",
       "      <td>4</td>\n",
       "      <td>850</td>\n",
       "      <td>43</td>\n",
       "      <td>2.0</td>\n",
       "      <td>125510.82</td>\n",
       "      <td>1</td>\n",
       "      <td>1</td>\n",
       "      <td>1</td>\n",
       "      <td>79084.10</td>\n",
       "      <td>0</td>\n",
       "      <td>0</td>\n",
       "      <td>1</td>\n",
       "      <td>0</td>\n",
       "    </tr>\n",
       "  </tbody>\n",
       "</table>\n",
       "</div>"
      ],
      "text/plain": [
       "   CreditScore  Age  Tenure    Balance  NumOfProducts  HasCrCard  \\\n",
       "0          619   42     2.0       0.00              1          1   \n",
       "1          608   41     1.0   83807.86              1          0   \n",
       "2          502   42     8.0  159660.80              3          1   \n",
       "3          699   39     1.0       0.00              2          0   \n",
       "4          850   43     2.0  125510.82              1          1   \n",
       "\n",
       "   IsActiveMember  EstimatedSalary  Exited  Geography_Germany  \\\n",
       "0               1        101348.88       1                  0   \n",
       "1               1        112542.58       0                  0   \n",
       "2               0        113931.57       1                  0   \n",
       "3               0         93826.63       0                  0   \n",
       "4               1         79084.10       0                  0   \n",
       "\n",
       "   Geography_Spain  Gender_Male  \n",
       "0                0            0  \n",
       "1                1            0  \n",
       "2                0            0  \n",
       "3                0            0  \n",
       "4                1            0  "
      ]
     },
     "metadata": {},
     "output_type": "display_data"
    }
   ],
   "source": [
    "#Define OHE columns for Supervised Learning\n",
    "df_ohe=pd.get_dummies(df,drop_first=True)\n",
    "print(df_ohe.shape)\n",
    "display(df_ohe.head())"
   ]
  },
  {
   "cell_type": "markdown",
   "metadata": {
    "id": "1N7OICZmT86t"
   },
   "source": [
    "# CONCLUSION\n",
    "- Geography and Gender columns are OHEd.\n",
    "\n",
    "# STEP-4: DEFINE TRAINING, VALIDATION AND TEST SETS"
   ]
  },
  {
   "cell_type": "code",
   "execution_count": 17,
   "metadata": {
    "colab": {
     "base_uri": "https://localhost:8080/"
    },
    "id": "ohxfNYgypvpp",
    "outputId": "eb111527-aaab-4358-f2ab-5de979b4faf0"
   },
   "outputs": [
    {
     "name": "stdout",
     "output_type": "stream",
     "text": [
      "training set  : 60% (6000, 11) , training target   : (6000,)\n",
      "validation set: 20% (2000, 11) , validation target : (2000,)\n",
      "test set      : 20% (2000, 11) , test target       : (2000,)\n"
     ]
    }
   ],
   "source": [
    "#Set the training, validation and test datasets (features and target)\n",
    "target = df_ohe['Exited']\n",
    "features = df_ohe.drop(['Exited'] , axis=1)\n",
    "\n",
    "\n",
    "#FIRST SPLIT INTO TRAINING(60%) AND VALID_TEST (40%)\n",
    "features_train, features_validtest, target_train, target_validtest = train_test_split(\n",
    "    features, target, test_size=0.40, random_state=RANDOM_STATE)\n",
    "\n",
    "#SPLIT VALID_TEST INTO VALIDATION and TEST (20% each)\n",
    "features_test, features_valid, target_test, target_valid = train_test_split(\n",
    "    features_validtest, target_validtest, test_size=0.50, random_state=RANDOM_STATE)\n",
    "\n",
    "totsize = len(df_ohe)\n",
    "print('training set  : {0:.0%}'.format(len(features_train) /totsize),features_train.shape, ', training target   :',target_train.shape)\n",
    "print('validation set: {0:.0%}'.format(len(features_valid)/totsize),features_valid.shape,', validation target :',target_valid.shape)\n",
    "print('test set      : {0:.0%}'.format(len(features_test)/totsize),features_test.shape,', test target       :',target_test.shape)"
   ]
  },
  {
   "cell_type": "markdown",
   "metadata": {
    "id": "Oc0MWkgoUPVb"
   },
   "source": [
    "# CONCLUSION\n",
    "Training set is 60%, Validation and Test sets are 20% each\n",
    "\n",
    "# STANDARDIZE THE NUMERICAL FEATURES"
   ]
  },
  {
   "cell_type": "code",
   "execution_count": 18,
   "metadata": {
    "colab": {
     "base_uri": "https://localhost:8080/"
    },
    "id": "hoXB85R4pvp6",
    "outputId": "b9c4c502-0b18-40ae-bf94-d53a22bb1e7d"
   },
   "outputs": [
    {
     "name": "stdout",
     "output_type": "stream",
     "text": [
      "(6000, 11)\n",
      "(2000, 11)\n",
      "(2000, 11)\n"
     ]
    },
    {
     "name": "stderr",
     "output_type": "stream",
     "text": [
      "/opt/conda/lib/python3.7/site-packages/pandas/core/indexing.py:494: SettingWithCopyWarning: \n",
      "A value is trying to be set on a copy of a slice from a DataFrame.\n",
      "Try using .loc[row_indexer,col_indexer] = value instead\n",
      "\n",
      "See the caveats in the documentation: http://pandas.pydata.org/pandas-docs/stable/user_guide/indexing.html#returning-a-view-versus-a-copy\n",
      "  self.obj[item] = s\n",
      "/opt/conda/lib/python3.7/site-packages/pandas/core/indexing.py:494: SettingWithCopyWarning: \n",
      "A value is trying to be set on a copy of a slice from a DataFrame.\n",
      "Try using .loc[row_indexer,col_indexer] = value instead\n",
      "\n",
      "See the caveats in the documentation: http://pandas.pydata.org/pandas-docs/stable/user_guide/indexing.html#returning-a-view-versus-a-copy\n",
      "  self.obj[item] = s\n",
      "/opt/conda/lib/python3.7/site-packages/pandas/core/indexing.py:494: SettingWithCopyWarning: \n",
      "A value is trying to be set on a copy of a slice from a DataFrame.\n",
      "Try using .loc[row_indexer,col_indexer] = value instead\n",
      "\n",
      "See the caveats in the documentation: http://pandas.pydata.org/pandas-docs/stable/user_guide/indexing.html#returning-a-view-versus-a-copy\n",
      "  self.obj[item] = s\n"
     ]
    },
    {
     "data": {
      "text/plain": [
       "'TRAINING SET'"
      ]
     },
     "metadata": {},
     "output_type": "display_data"
    },
    {
     "data": {
      "text/html": [
       "<div>\n",
       "<style scoped>\n",
       "    .dataframe tbody tr th:only-of-type {\n",
       "        vertical-align: middle;\n",
       "    }\n",
       "\n",
       "    .dataframe tbody tr th {\n",
       "        vertical-align: top;\n",
       "    }\n",
       "\n",
       "    .dataframe thead th {\n",
       "        text-align: right;\n",
       "    }\n",
       "</style>\n",
       "<table border=\"1\" class=\"dataframe\">\n",
       "  <thead>\n",
       "    <tr style=\"text-align: right;\">\n",
       "      <th></th>\n",
       "      <th>CreditScore</th>\n",
       "      <th>Age</th>\n",
       "      <th>Tenure</th>\n",
       "      <th>Balance</th>\n",
       "      <th>NumOfProducts</th>\n",
       "      <th>HasCrCard</th>\n",
       "      <th>IsActiveMember</th>\n",
       "      <th>EstimatedSalary</th>\n",
       "      <th>Geography_Germany</th>\n",
       "      <th>Geography_Spain</th>\n",
       "      <th>Gender_Male</th>\n",
       "    </tr>\n",
       "  </thead>\n",
       "  <tbody>\n",
       "    <tr>\n",
       "      <td>7479</td>\n",
       "      <td>-0.886751</td>\n",
       "      <td>-0.373192</td>\n",
       "      <td>1.082277</td>\n",
       "      <td>1.232271</td>\n",
       "      <td>-0.891560</td>\n",
       "      <td>1</td>\n",
       "      <td>0</td>\n",
       "      <td>-0.187705</td>\n",
       "      <td>0</td>\n",
       "      <td>1</td>\n",
       "      <td>1</td>\n",
       "    </tr>\n",
       "    <tr>\n",
       "      <td>3411</td>\n",
       "      <td>0.608663</td>\n",
       "      <td>-0.183385</td>\n",
       "      <td>1.082277</td>\n",
       "      <td>0.600563</td>\n",
       "      <td>-0.891560</td>\n",
       "      <td>0</td>\n",
       "      <td>0</td>\n",
       "      <td>-0.333945</td>\n",
       "      <td>0</td>\n",
       "      <td>0</td>\n",
       "      <td>0</td>\n",
       "    </tr>\n",
       "    <tr>\n",
       "      <td>6027</td>\n",
       "      <td>2.052152</td>\n",
       "      <td>0.480939</td>\n",
       "      <td>-0.737696</td>\n",
       "      <td>1.027098</td>\n",
       "      <td>0.830152</td>\n",
       "      <td>0</td>\n",
       "      <td>1</td>\n",
       "      <td>1.503095</td>\n",
       "      <td>1</td>\n",
       "      <td>0</td>\n",
       "      <td>1</td>\n",
       "    </tr>\n",
       "    <tr>\n",
       "      <td>1247</td>\n",
       "      <td>-1.457915</td>\n",
       "      <td>-1.417129</td>\n",
       "      <td>0.354288</td>\n",
       "      <td>-1.233163</td>\n",
       "      <td>0.830152</td>\n",
       "      <td>1</td>\n",
       "      <td>0</td>\n",
       "      <td>-1.071061</td>\n",
       "      <td>0</td>\n",
       "      <td>0</td>\n",
       "      <td>1</td>\n",
       "    </tr>\n",
       "    <tr>\n",
       "      <td>3716</td>\n",
       "      <td>0.130961</td>\n",
       "      <td>-1.132419</td>\n",
       "      <td>-1.101690</td>\n",
       "      <td>1.140475</td>\n",
       "      <td>-0.891560</td>\n",
       "      <td>0</td>\n",
       "      <td>0</td>\n",
       "      <td>1.524268</td>\n",
       "      <td>1</td>\n",
       "      <td>0</td>\n",
       "      <td>0</td>\n",
       "    </tr>\n",
       "  </tbody>\n",
       "</table>\n",
       "</div>"
      ],
      "text/plain": [
       "      CreditScore       Age    Tenure   Balance  NumOfProducts  HasCrCard  \\\n",
       "7479    -0.886751 -0.373192  1.082277  1.232271      -0.891560          1   \n",
       "3411     0.608663 -0.183385  1.082277  0.600563      -0.891560          0   \n",
       "6027     2.052152  0.480939 -0.737696  1.027098       0.830152          0   \n",
       "1247    -1.457915 -1.417129  0.354288 -1.233163       0.830152          1   \n",
       "3716     0.130961 -1.132419 -1.101690  1.140475      -0.891560          0   \n",
       "\n",
       "      IsActiveMember  EstimatedSalary  Geography_Germany  Geography_Spain  \\\n",
       "7479               0        -0.187705                  0                1   \n",
       "3411               0        -0.333945                  0                0   \n",
       "6027               1         1.503095                  1                0   \n",
       "1247               0        -1.071061                  0                0   \n",
       "3716               0         1.524268                  1                0   \n",
       "\n",
       "      Gender_Male  \n",
       "7479            1  \n",
       "3411            0  \n",
       "6027            1  \n",
       "1247            1  \n",
       "3716            0  "
      ]
     },
     "metadata": {},
     "output_type": "display_data"
    },
    {
     "data": {
      "text/plain": [
       "'VALIDATION SET'"
      ]
     },
     "metadata": {},
     "output_type": "display_data"
    },
    {
     "data": {
      "text/html": [
       "<div>\n",
       "<style scoped>\n",
       "    .dataframe tbody tr th:only-of-type {\n",
       "        vertical-align: middle;\n",
       "    }\n",
       "\n",
       "    .dataframe tbody tr th {\n",
       "        vertical-align: top;\n",
       "    }\n",
       "\n",
       "    .dataframe thead th {\n",
       "        text-align: right;\n",
       "    }\n",
       "</style>\n",
       "<table border=\"1\" class=\"dataframe\">\n",
       "  <thead>\n",
       "    <tr style=\"text-align: right;\">\n",
       "      <th></th>\n",
       "      <th>CreditScore</th>\n",
       "      <th>Age</th>\n",
       "      <th>Tenure</th>\n",
       "      <th>Balance</th>\n",
       "      <th>NumOfProducts</th>\n",
       "      <th>HasCrCard</th>\n",
       "      <th>IsActiveMember</th>\n",
       "      <th>EstimatedSalary</th>\n",
       "      <th>Geography_Germany</th>\n",
       "      <th>Geography_Spain</th>\n",
       "      <th>Gender_Male</th>\n",
       "    </tr>\n",
       "  </thead>\n",
       "  <tbody>\n",
       "    <tr>\n",
       "      <td>7041</td>\n",
       "      <td>-2.226392</td>\n",
       "      <td>-0.088482</td>\n",
       "      <td>-1.101690</td>\n",
       "      <td>-1.233163</td>\n",
       "      <td>0.830152</td>\n",
       "      <td>1</td>\n",
       "      <td>0</td>\n",
       "      <td>0.647083</td>\n",
       "      <td>0</td>\n",
       "      <td>0</td>\n",
       "      <td>1</td>\n",
       "    </tr>\n",
       "    <tr>\n",
       "      <td>5709</td>\n",
       "      <td>-0.087120</td>\n",
       "      <td>0.006422</td>\n",
       "      <td>1.446272</td>\n",
       "      <td>-1.233163</td>\n",
       "      <td>-0.891560</td>\n",
       "      <td>1</td>\n",
       "      <td>0</td>\n",
       "      <td>-1.658410</td>\n",
       "      <td>0</td>\n",
       "      <td>0</td>\n",
       "      <td>0</td>\n",
       "    </tr>\n",
       "    <tr>\n",
       "      <td>7117</td>\n",
       "      <td>-0.917905</td>\n",
       "      <td>-0.752805</td>\n",
       "      <td>-0.009707</td>\n",
       "      <td>0.722307</td>\n",
       "      <td>-0.891560</td>\n",
       "      <td>1</td>\n",
       "      <td>1</td>\n",
       "      <td>-1.369334</td>\n",
       "      <td>0</td>\n",
       "      <td>1</td>\n",
       "      <td>1</td>\n",
       "    </tr>\n",
       "    <tr>\n",
       "      <td>7775</td>\n",
       "      <td>-0.253277</td>\n",
       "      <td>0.101325</td>\n",
       "      <td>1.810266</td>\n",
       "      <td>-1.233163</td>\n",
       "      <td>0.830152</td>\n",
       "      <td>1</td>\n",
       "      <td>0</td>\n",
       "      <td>0.075086</td>\n",
       "      <td>0</td>\n",
       "      <td>1</td>\n",
       "      <td>1</td>\n",
       "    </tr>\n",
       "    <tr>\n",
       "      <td>8735</td>\n",
       "      <td>0.785204</td>\n",
       "      <td>-0.847708</td>\n",
       "      <td>1.810266</td>\n",
       "      <td>0.615625</td>\n",
       "      <td>-0.891560</td>\n",
       "      <td>0</td>\n",
       "      <td>1</td>\n",
       "      <td>-1.070919</td>\n",
       "      <td>0</td>\n",
       "      <td>0</td>\n",
       "      <td>1</td>\n",
       "    </tr>\n",
       "  </tbody>\n",
       "</table>\n",
       "</div>"
      ],
      "text/plain": [
       "      CreditScore       Age    Tenure   Balance  NumOfProducts  HasCrCard  \\\n",
       "7041    -2.226392 -0.088482 -1.101690 -1.233163       0.830152          1   \n",
       "5709    -0.087120  0.006422  1.446272 -1.233163      -0.891560          1   \n",
       "7117    -0.917905 -0.752805 -0.009707  0.722307      -0.891560          1   \n",
       "7775    -0.253277  0.101325  1.810266 -1.233163       0.830152          1   \n",
       "8735     0.785204 -0.847708  1.810266  0.615625      -0.891560          0   \n",
       "\n",
       "      IsActiveMember  EstimatedSalary  Geography_Germany  Geography_Spain  \\\n",
       "7041               0         0.647083                  0                0   \n",
       "5709               0        -1.658410                  0                0   \n",
       "7117               1        -1.369334                  0                1   \n",
       "7775               0         0.075086                  0                1   \n",
       "8735               1        -1.070919                  0                0   \n",
       "\n",
       "      Gender_Male  \n",
       "7041            1  \n",
       "5709            0  \n",
       "7117            1  \n",
       "7775            1  \n",
       "8735            1  "
      ]
     },
     "metadata": {},
     "output_type": "display_data"
    },
    {
     "data": {
      "text/plain": [
       "'TEST SET'"
      ]
     },
     "metadata": {},
     "output_type": "display_data"
    },
    {
     "data": {
      "text/html": [
       "<div>\n",
       "<style scoped>\n",
       "    .dataframe tbody tr th:only-of-type {\n",
       "        vertical-align: middle;\n",
       "    }\n",
       "\n",
       "    .dataframe tbody tr th {\n",
       "        vertical-align: top;\n",
       "    }\n",
       "\n",
       "    .dataframe thead th {\n",
       "        text-align: right;\n",
       "    }\n",
       "</style>\n",
       "<table border=\"1\" class=\"dataframe\">\n",
       "  <thead>\n",
       "    <tr style=\"text-align: right;\">\n",
       "      <th></th>\n",
       "      <th>CreditScore</th>\n",
       "      <th>Age</th>\n",
       "      <th>Tenure</th>\n",
       "      <th>Balance</th>\n",
       "      <th>NumOfProducts</th>\n",
       "      <th>HasCrCard</th>\n",
       "      <th>IsActiveMember</th>\n",
       "      <th>EstimatedSalary</th>\n",
       "      <th>Geography_Germany</th>\n",
       "      <th>Geography_Spain</th>\n",
       "      <th>Gender_Male</th>\n",
       "    </tr>\n",
       "  </thead>\n",
       "  <tbody>\n",
       "    <tr>\n",
       "      <td>8532</td>\n",
       "      <td>-0.699824</td>\n",
       "      <td>-0.373192</td>\n",
       "      <td>-1.101690</td>\n",
       "      <td>-1.233163</td>\n",
       "      <td>0.830152</td>\n",
       "      <td>1</td>\n",
       "      <td>0</td>\n",
       "      <td>-0.015173</td>\n",
       "      <td>0</td>\n",
       "      <td>0</td>\n",
       "      <td>0</td>\n",
       "    </tr>\n",
       "    <tr>\n",
       "      <td>5799</td>\n",
       "      <td>-0.284431</td>\n",
       "      <td>0.575842</td>\n",
       "      <td>-0.737696</td>\n",
       "      <td>-1.233163</td>\n",
       "      <td>-0.891560</td>\n",
       "      <td>1</td>\n",
       "      <td>1</td>\n",
       "      <td>1.471724</td>\n",
       "      <td>0</td>\n",
       "      <td>0</td>\n",
       "      <td>0</td>\n",
       "    </tr>\n",
       "    <tr>\n",
       "      <td>5511</td>\n",
       "      <td>0.151731</td>\n",
       "      <td>-0.657902</td>\n",
       "      <td>-1.829679</td>\n",
       "      <td>0.438711</td>\n",
       "      <td>-0.891560</td>\n",
       "      <td>1</td>\n",
       "      <td>0</td>\n",
       "      <td>-1.367107</td>\n",
       "      <td>1</td>\n",
       "      <td>0</td>\n",
       "      <td>1</td>\n",
       "    </tr>\n",
       "    <tr>\n",
       "      <td>7365</td>\n",
       "      <td>-0.876366</td>\n",
       "      <td>-0.278288</td>\n",
       "      <td>1.810266</td>\n",
       "      <td>1.239884</td>\n",
       "      <td>-0.891560</td>\n",
       "      <td>1</td>\n",
       "      <td>1</td>\n",
       "      <td>-0.786517</td>\n",
       "      <td>0</td>\n",
       "      <td>1</td>\n",
       "      <td>0</td>\n",
       "    </tr>\n",
       "    <tr>\n",
       "      <td>7367</td>\n",
       "      <td>-0.481743</td>\n",
       "      <td>0.291132</td>\n",
       "      <td>1.810266</td>\n",
       "      <td>-1.233163</td>\n",
       "      <td>0.830152</td>\n",
       "      <td>1</td>\n",
       "      <td>0</td>\n",
       "      <td>1.358533</td>\n",
       "      <td>0</td>\n",
       "      <td>1</td>\n",
       "      <td>1</td>\n",
       "    </tr>\n",
       "  </tbody>\n",
       "</table>\n",
       "</div>"
      ],
      "text/plain": [
       "      CreditScore       Age    Tenure   Balance  NumOfProducts  HasCrCard  \\\n",
       "8532    -0.699824 -0.373192 -1.101690 -1.233163       0.830152          1   \n",
       "5799    -0.284431  0.575842 -0.737696 -1.233163      -0.891560          1   \n",
       "5511     0.151731 -0.657902 -1.829679  0.438711      -0.891560          1   \n",
       "7365    -0.876366 -0.278288  1.810266  1.239884      -0.891560          1   \n",
       "7367    -0.481743  0.291132  1.810266 -1.233163       0.830152          1   \n",
       "\n",
       "      IsActiveMember  EstimatedSalary  Geography_Germany  Geography_Spain  \\\n",
       "8532               0        -0.015173                  0                0   \n",
       "5799               1         1.471724                  0                0   \n",
       "5511               0        -1.367107                  1                0   \n",
       "7365               1        -0.786517                  0                1   \n",
       "7367               0         1.358533                  0                1   \n",
       "\n",
       "      Gender_Male  \n",
       "8532            0  \n",
       "5799            0  \n",
       "5511            1  \n",
       "7365            0  \n",
       "7367            1  "
      ]
     },
     "metadata": {},
     "output_type": "display_data"
    }
   ],
   "source": [
    "#Standardize the numerical features.\n",
    "#CreditScore\tAge\tTenure\tBalance\tNumOfProducts\tEstimatedSalary\n",
    "numeric = ['CreditScore', 'Age', 'Tenure', 'Balance','NumOfProducts', 'EstimatedSalary']\n",
    "\n",
    "scaler = StandardScaler()\n",
    "\n",
    "# < transform feature set >\n",
    "scaler.fit(features_train[numeric])\n",
    "features_train.loc[:,numeric] = scaler.transform(features_train[numeric])\n",
    "\n",
    "# < transform validation set >\n",
    "features_valid.loc[:,numeric] = scaler.transform(features_valid[numeric])\n",
    "\n",
    "# < transform test set >\n",
    "features_test.loc[:,numeric] = scaler.transform(features_test[numeric])\n",
    "\n",
    "print(features_train.shape)\n",
    "print(features_valid.shape)\n",
    "print(features_test.shape)\n",
    "\n",
    "display('TRAINING SET',features_train.head(), 'VALIDATION SET',features_valid.head(),'TEST SET',features_test.head())"
   ]
  },
  {
   "cell_type": "markdown",
   "metadata": {
    "id": "fxSD7brzVgWl"
   },
   "source": [
    "# CONCLUSION\n",
    "All data sets are scaled correctly.\n",
    "\n"
   ]
  },
  {
   "cell_type": "markdown",
   "metadata": {
    "id": "uOES_mAp0Eth"
   },
   "source": [
    "# BUILD A RESULT DATA FRAME"
   ]
  },
  {
   "cell_type": "code",
   "execution_count": 19,
   "metadata": {
    "id": "nAcmDfuwG7cL"
   },
   "outputs": [],
   "source": [
    "#Create a dataframe to store Model name, accuracy results - accuracy score, auc_roc, f1_score for valid, test, and if f1  and if the model met or exceeeded the required F1 score\n",
    "\n",
    "column_names = [\"method\", \"hyperparameters\", \"accuracy_score\",\"auc_roc\",\"f1_valid\",\"f1_test\",'f1_required','above_f1_threshold?']\n",
    "df_results = pd.DataFrame(columns = column_names)"
   ]
  },
  {
   "cell_type": "markdown",
   "metadata": {
    "id": "r77_02Qkbttv"
   },
   "source": [
    "# STEP-5: TEST SUPERVISED LEARNING MODELS\n",
    "- LogisticRegression\n",
    "- DecisionTreeClassifier\n",
    "- RandomForestClassifier\n",
    "\n",
    "Try with these options of supervised learning: \n",
    "  - No Hyperparameters\n",
    "  - balanced weights\n",
    "  - Upsampled\n",
    "  - Downsampled\n"
   ]
  },
  {
   "cell_type": "code",
   "execution_count": 20,
   "metadata": {
    "id": "yBtx-7X4NnA_"
   },
   "outputs": [],
   "source": [
    "#Function that accepts the model parameter and fits it to the sent data, then updates the results dataframe and returns the results dataframe\n",
    "def supervisedModel(model,features_train, target_train,method,hyperparam):\n",
    "      global df_results,predicted_test,target_test,predicted_valid, target_valid  #Using it in the function, global\n",
    "\n",
    "      model.fit(features_train, target_train)\n",
    "      predicted_valid = model.predict(features_valid)\n",
    "      f1_valid = f1_score(target_valid,predicted_valid)\n",
    "      \n",
    "      predicted_test = model.predict(features_test)\n",
    "      f1_test = f1_score(target_test,predicted_test)\n",
    "      auc_roc = roc_auc_score(target_test, predicted_test)\n",
    "      acc=accuracy_score(target_test,predicted_test)\n",
    "\n",
    "      above_threshold = np.where( f1_test> F1_REQUIRED, True, False)\n",
    "      resultRowStr= [method,hyperparam,acc,auc_roc,f1_valid,f1_test,F1_REQUIRED,above_threshold]\n",
    "      rows = [pd.Series(resultRowStr, index=df_results.columns)]\n",
    "\n",
    "      # append the rows\n",
    "      df_results=df_results.append(rows,ignore_index=True).round(decimals=4)\n",
    "      # check the rows \n",
    "      display(df_results)"
   ]
  },
  {
   "cell_type": "markdown",
   "metadata": {
    "id": "m9jD26OYcah4"
   },
   "source": [
    "# LogisticRegression (No Hyperparameter)"
   ]
  },
  {
   "cell_type": "code",
   "execution_count": 21,
   "metadata": {
    "colab": {
     "base_uri": "https://localhost:8080/",
     "height": 76
    },
    "id": "Bhf08lJdOKVt",
    "outputId": "2c0a40d0-756e-405b-9ba8-ab60c4a7fd4b"
   },
   "outputs": [
    {
     "data": {
      "text/html": [
       "<div>\n",
       "<style scoped>\n",
       "    .dataframe tbody tr th:only-of-type {\n",
       "        vertical-align: middle;\n",
       "    }\n",
       "\n",
       "    .dataframe tbody tr th {\n",
       "        vertical-align: top;\n",
       "    }\n",
       "\n",
       "    .dataframe thead th {\n",
       "        text-align: right;\n",
       "    }\n",
       "</style>\n",
       "<table border=\"1\" class=\"dataframe\">\n",
       "  <thead>\n",
       "    <tr style=\"text-align: right;\">\n",
       "      <th></th>\n",
       "      <th>method</th>\n",
       "      <th>hyperparameters</th>\n",
       "      <th>accuracy_score</th>\n",
       "      <th>auc_roc</th>\n",
       "      <th>f1_valid</th>\n",
       "      <th>f1_test</th>\n",
       "      <th>f1_required</th>\n",
       "      <th>above_f1_threshold?</th>\n",
       "    </tr>\n",
       "  </thead>\n",
       "  <tbody>\n",
       "    <tr>\n",
       "      <td>0</td>\n",
       "      <td>LogisticRegression</td>\n",
       "      <td>none</td>\n",
       "      <td>0.802</td>\n",
       "      <td>0.5932</td>\n",
       "      <td>0.2748</td>\n",
       "      <td>0.3311</td>\n",
       "      <td>0.59</td>\n",
       "      <td>False</td>\n",
       "    </tr>\n",
       "  </tbody>\n",
       "</table>\n",
       "</div>"
      ],
      "text/plain": [
       "               method hyperparameters  accuracy_score  auc_roc  f1_valid  \\\n",
       "0  LogisticRegression            none           0.802   0.5932    0.2748   \n",
       "\n",
       "   f1_test  f1_required above_f1_threshold?  \n",
       "0   0.3311         0.59               False  "
      ]
     },
     "metadata": {},
     "output_type": "display_data"
    }
   ],
   "source": [
    "method=\"LogisticRegression\"\n",
    "hyperparam = \"none\"\n",
    "model = LogisticRegression(solver='liblinear',random_state=RANDOM_STATE) \n",
    "supervisedModel(model,features_train, target_train,method, hyperparam)"
   ]
  },
  {
   "cell_type": "markdown",
   "metadata": {
    "id": "OhvLcmfjdNNY"
   },
   "source": [
    "# DecisionTreeClassifier with Hyperparameter: Depth"
   ]
  },
  {
   "cell_type": "code",
   "execution_count": 22,
   "metadata": {
    "colab": {
     "base_uri": "https://localhost:8080/",
     "height": 267
    },
    "id": "J75ICMNXpvpr",
    "outputId": "b3e15315-7f96-4d2d-8eda-2b7aad6e48a9"
   },
   "outputs": [
    {
     "name": "stderr",
     "output_type": "stream",
     "text": [
      "/opt/conda/lib/python3.7/site-packages/sklearn/metrics/classification.py:1437: UndefinedMetricWarning: F-score is ill-defined and being set to 0.0 due to no predicted samples.\n",
      "  'precision', 'predicted', average, warn_for)\n"
     ]
    },
    {
     "name": "stdout",
     "output_type": "stream",
     "text": [
      "scoreR: 0.0 Depth: 1\n",
      "scoreR: 0.4986301369863014 Depth: 2\n",
      "scoreR: 0.3795620437956204 Depth: 3\n",
      "scoreR: 0.48307692307692307 Depth: 4\n",
      "scoreR: 0.5015772870662459 Depth: 5\n",
      "scoreR: 0.5337423312883436 Depth: 6\n",
      "scoreR: 0.4976816074188563 Depth: 7\n",
      "scoreR: 0.48773006134969327 Depth: 8\n",
      "scoreR: 0.5254470426409904 Depth: 9\n",
      "maxDepth 6\n"
     ]
    },
    {
     "data": {
      "text/html": [
       "<div>\n",
       "<style scoped>\n",
       "    .dataframe tbody tr th:only-of-type {\n",
       "        vertical-align: middle;\n",
       "    }\n",
       "\n",
       "    .dataframe tbody tr th {\n",
       "        vertical-align: top;\n",
       "    }\n",
       "\n",
       "    .dataframe thead th {\n",
       "        text-align: right;\n",
       "    }\n",
       "</style>\n",
       "<table border=\"1\" class=\"dataframe\">\n",
       "  <thead>\n",
       "    <tr style=\"text-align: right;\">\n",
       "      <th></th>\n",
       "      <th>method</th>\n",
       "      <th>hyperparameters</th>\n",
       "      <th>accuracy_score</th>\n",
       "      <th>auc_roc</th>\n",
       "      <th>f1_valid</th>\n",
       "      <th>f1_test</th>\n",
       "      <th>f1_required</th>\n",
       "      <th>above_f1_threshold?</th>\n",
       "    </tr>\n",
       "  </thead>\n",
       "  <tbody>\n",
       "    <tr>\n",
       "      <td>0</td>\n",
       "      <td>LogisticRegression</td>\n",
       "      <td>none</td>\n",
       "      <td>0.802</td>\n",
       "      <td>0.5932</td>\n",
       "      <td>0.2748</td>\n",
       "      <td>0.3311</td>\n",
       "      <td>0.59</td>\n",
       "      <td>False</td>\n",
       "    </tr>\n",
       "    <tr>\n",
       "      <td>1</td>\n",
       "      <td>DecisionTreeClassifier</td>\n",
       "      <td>depth: 6</td>\n",
       "      <td>0.858</td>\n",
       "      <td>0.7078</td>\n",
       "      <td>0.5337</td>\n",
       "      <td>0.5697</td>\n",
       "      <td>0.59</td>\n",
       "      <td>False</td>\n",
       "    </tr>\n",
       "  </tbody>\n",
       "</table>\n",
       "</div>"
      ],
      "text/plain": [
       "                   method hyperparameters  accuracy_score  auc_roc  f1_valid  \\\n",
       "0      LogisticRegression            none           0.802   0.5932    0.2748   \n",
       "1  DecisionTreeClassifier        depth: 6           0.858   0.7078    0.5337   \n",
       "\n",
       "   f1_test  f1_required above_f1_threshold?  \n",
       "0   0.3311         0.59               False  \n",
       "1   0.5697         0.59               False  "
      ]
     },
     "metadata": {},
     "output_type": "display_data"
    }
   ],
   "source": [
    "prevScore=0\n",
    "foundDepth=0\n",
    "for depth in range(1, 10, 1):\n",
    "    model = DecisionTreeClassifier(max_depth=depth, random_state=RANDOM_STATE)\n",
    "    model.fit(features_train, target_train)\n",
    "    predicted_valid = model.predict(features_valid)\n",
    "    scoreR = f1_score(target_valid,predicted_valid)\n",
    "    \n",
    "    print(\"scoreR:\",scoreR,\"Depth:\",depth)\n",
    "    if (scoreR > prevScore):\n",
    "        prevScore=scoreR\n",
    "        foundDepth=depth\n",
    "print('maxDepth',foundDepth)\n",
    "\n",
    "method=\"DecisionTreeClassifier\"\n",
    "hyperparam = \"depth: \"+str(foundDepth)\n",
    "model = DecisionTreeClassifier(max_depth=foundDepth,random_state=RANDOM_STATE)\n",
    "supervisedModel(model,features_train, target_train,method, hyperparam)"
   ]
  },
  {
   "cell_type": "markdown",
   "metadata": {
    "id": "lxxI3WWtdwh2"
   },
   "source": [
    "# DecisionTreeClassifier with Hyperparameters: balanced weights,Depth"
   ]
  },
  {
   "cell_type": "code",
   "execution_count": 23,
   "metadata": {
    "colab": {
     "base_uri": "https://localhost:8080/",
     "height": 296
    },
    "id": "j2OXTy0jIvhC",
    "outputId": "d25c217e-5aac-4385-ebb4-5cc086e35737"
   },
   "outputs": [
    {
     "name": "stdout",
     "output_type": "stream",
     "text": [
      "scoreR: 0.48514851485148514 Depth: 1\n",
      "scoreR: 0.5129682997118156 Depth: 2\n",
      "scoreR: 0.5129682997118156 Depth: 3\n",
      "scoreR: 0.5385239253852393 Depth: 4\n",
      "scoreR: 0.5809128630705395 Depth: 5\n",
      "scoreR: 0.5643835616438356 Depth: 6\n",
      "scoreR: 0.5593869731800767 Depth: 7\n",
      "scoreR: 0.5476635514018692 Depth: 8\n",
      "scoreR: 0.5482625482625482 Depth: 9\n",
      "maxDepth 5\n"
     ]
    },
    {
     "data": {
      "text/html": [
       "<div>\n",
       "<style scoped>\n",
       "    .dataframe tbody tr th:only-of-type {\n",
       "        vertical-align: middle;\n",
       "    }\n",
       "\n",
       "    .dataframe tbody tr th {\n",
       "        vertical-align: top;\n",
       "    }\n",
       "\n",
       "    .dataframe thead th {\n",
       "        text-align: right;\n",
       "    }\n",
       "</style>\n",
       "<table border=\"1\" class=\"dataframe\">\n",
       "  <thead>\n",
       "    <tr style=\"text-align: right;\">\n",
       "      <th></th>\n",
       "      <th>method</th>\n",
       "      <th>hyperparameters</th>\n",
       "      <th>accuracy_score</th>\n",
       "      <th>auc_roc</th>\n",
       "      <th>f1_valid</th>\n",
       "      <th>f1_test</th>\n",
       "      <th>f1_required</th>\n",
       "      <th>above_f1_threshold?</th>\n",
       "    </tr>\n",
       "  </thead>\n",
       "  <tbody>\n",
       "    <tr>\n",
       "      <td>0</td>\n",
       "      <td>LogisticRegression</td>\n",
       "      <td>none</td>\n",
       "      <td>0.8020</td>\n",
       "      <td>0.5932</td>\n",
       "      <td>0.2748</td>\n",
       "      <td>0.3311</td>\n",
       "      <td>0.59</td>\n",
       "      <td>False</td>\n",
       "    </tr>\n",
       "    <tr>\n",
       "      <td>1</td>\n",
       "      <td>DecisionTreeClassifier</td>\n",
       "      <td>depth: 6</td>\n",
       "      <td>0.8580</td>\n",
       "      <td>0.7078</td>\n",
       "      <td>0.5337</td>\n",
       "      <td>0.5697</td>\n",
       "      <td>0.59</td>\n",
       "      <td>False</td>\n",
       "    </tr>\n",
       "    <tr>\n",
       "      <td>2</td>\n",
       "      <td>DecisionTreeClassifier</td>\n",
       "      <td>Balanced, depth: 5</td>\n",
       "      <td>0.8105</td>\n",
       "      <td>0.7588</td>\n",
       "      <td>0.5809</td>\n",
       "      <td>0.5964</td>\n",
       "      <td>0.59</td>\n",
       "      <td>True</td>\n",
       "    </tr>\n",
       "  </tbody>\n",
       "</table>\n",
       "</div>"
      ],
      "text/plain": [
       "                   method     hyperparameters  accuracy_score  auc_roc  \\\n",
       "0      LogisticRegression                none          0.8020   0.5932   \n",
       "1  DecisionTreeClassifier            depth: 6          0.8580   0.7078   \n",
       "2  DecisionTreeClassifier  Balanced, depth: 5          0.8105   0.7588   \n",
       "\n",
       "   f1_valid  f1_test  f1_required above_f1_threshold?  \n",
       "0    0.2748   0.3311         0.59               False  \n",
       "1    0.5337   0.5697         0.59               False  \n",
       "2    0.5809   0.5964         0.59                True  "
      ]
     },
     "metadata": {},
     "output_type": "display_data"
    }
   ],
   "source": [
    "prevScore=0\n",
    "foundDepth=0\n",
    "for depth in range(1, 10, 1):\n",
    "    model = DecisionTreeClassifier(max_depth=depth, random_state=RANDOM_STATE,class_weight='balanced')\n",
    "    model.fit(features_train, target_train)\n",
    "    predicted_valid = model.predict(features_valid)\n",
    "    scoreR = f1_score(target_valid,predicted_valid)\n",
    "    \n",
    "    print(\"scoreR:\",scoreR,\"Depth:\",depth)\n",
    "    if (scoreR > prevScore):\n",
    "        prevScore=scoreR\n",
    "        foundDepth=depth\n",
    "print('maxDepth',foundDepth)\n",
    "\n",
    "method=\"DecisionTreeClassifier\"\n",
    "hyperparam = \"Balanced, depth: \"+str(foundDepth)\n",
    "model = DecisionTreeClassifier(max_depth=foundDepth,class_weight='balanced',random_state=RANDOM_STATE)\n",
    "supervisedModel(model,features_train, target_train,method, hyperparam)"
   ]
  },
  {
   "cell_type": "markdown",
   "metadata": {
    "id": "C0-alAGMeQph"
   },
   "source": [
    "# LogisticRegression with Hyperparameters: balanced weights"
   ]
  },
  {
   "cell_type": "code",
   "execution_count": 24,
   "metadata": {
    "colab": {
     "base_uri": "https://localhost:8080/",
     "height": 162
    },
    "id": "OZ_kEgNPJPPv",
    "outputId": "21b524dd-42a5-4aa8-dbff-b97d568022be"
   },
   "outputs": [
    {
     "data": {
      "text/html": [
       "<div>\n",
       "<style scoped>\n",
       "    .dataframe tbody tr th:only-of-type {\n",
       "        vertical-align: middle;\n",
       "    }\n",
       "\n",
       "    .dataframe tbody tr th {\n",
       "        vertical-align: top;\n",
       "    }\n",
       "\n",
       "    .dataframe thead th {\n",
       "        text-align: right;\n",
       "    }\n",
       "</style>\n",
       "<table border=\"1\" class=\"dataframe\">\n",
       "  <thead>\n",
       "    <tr style=\"text-align: right;\">\n",
       "      <th></th>\n",
       "      <th>method</th>\n",
       "      <th>hyperparameters</th>\n",
       "      <th>accuracy_score</th>\n",
       "      <th>auc_roc</th>\n",
       "      <th>f1_valid</th>\n",
       "      <th>f1_test</th>\n",
       "      <th>f1_required</th>\n",
       "      <th>above_f1_threshold?</th>\n",
       "    </tr>\n",
       "  </thead>\n",
       "  <tbody>\n",
       "    <tr>\n",
       "      <td>0</td>\n",
       "      <td>LogisticRegression</td>\n",
       "      <td>none</td>\n",
       "      <td>0.8020</td>\n",
       "      <td>0.5932</td>\n",
       "      <td>0.2748</td>\n",
       "      <td>0.3311</td>\n",
       "      <td>0.59</td>\n",
       "      <td>False</td>\n",
       "    </tr>\n",
       "    <tr>\n",
       "      <td>1</td>\n",
       "      <td>DecisionTreeClassifier</td>\n",
       "      <td>depth: 6</td>\n",
       "      <td>0.8580</td>\n",
       "      <td>0.7078</td>\n",
       "      <td>0.5337</td>\n",
       "      <td>0.5697</td>\n",
       "      <td>0.59</td>\n",
       "      <td>False</td>\n",
       "    </tr>\n",
       "    <tr>\n",
       "      <td>2</td>\n",
       "      <td>DecisionTreeClassifier</td>\n",
       "      <td>Balanced, depth: 5</td>\n",
       "      <td>0.8105</td>\n",
       "      <td>0.7588</td>\n",
       "      <td>0.5809</td>\n",
       "      <td>0.5964</td>\n",
       "      <td>0.59</td>\n",
       "      <td>True</td>\n",
       "    </tr>\n",
       "    <tr>\n",
       "      <td>3</td>\n",
       "      <td>LogisticRegression</td>\n",
       "      <td>Balanced</td>\n",
       "      <td>0.7020</td>\n",
       "      <td>0.6946</td>\n",
       "      <td>0.4788</td>\n",
       "      <td>0.4889</td>\n",
       "      <td>0.59</td>\n",
       "      <td>False</td>\n",
       "    </tr>\n",
       "  </tbody>\n",
       "</table>\n",
       "</div>"
      ],
      "text/plain": [
       "                   method     hyperparameters  accuracy_score  auc_roc  \\\n",
       "0      LogisticRegression                none          0.8020   0.5932   \n",
       "1  DecisionTreeClassifier            depth: 6          0.8580   0.7078   \n",
       "2  DecisionTreeClassifier  Balanced, depth: 5          0.8105   0.7588   \n",
       "3      LogisticRegression            Balanced          0.7020   0.6946   \n",
       "\n",
       "   f1_valid  f1_test  f1_required above_f1_threshold?  \n",
       "0    0.2748   0.3311         0.59               False  \n",
       "1    0.5337   0.5697         0.59               False  \n",
       "2    0.5809   0.5964         0.59                True  \n",
       "3    0.4788   0.4889         0.59               False  "
      ]
     },
     "metadata": {},
     "output_type": "display_data"
    }
   ],
   "source": [
    "model = LogisticRegression(solver='liblinear',class_weight='balanced',random_state=RANDOM_STATE)\n",
    "\n",
    "method=\"LogisticRegression\"\n",
    "hyperparam=\"Balanced\"\n",
    "supervisedModel(model,features_train, target_train,method, hyperparam)"
   ]
  },
  {
   "cell_type": "markdown",
   "metadata": {
    "id": "CfXCKVIjiAmL"
   },
   "source": [
    "# RandomForest with Hyperparameters: n_estimators, depth, balanced weights"
   ]
  },
  {
   "cell_type": "code",
   "execution_count": 25,
   "metadata": {
    "colab": {
     "base_uri": "https://localhost:8080/",
     "height": 451
    },
    "id": "Vq-s_2X-JibV",
    "outputId": "9437c6f2-b2a3-400a-cf7a-c97c2ac5a27a"
   },
   "outputs": [
    {
     "name": "stdout",
     "output_type": "stream",
     "text": [
      "f1Score: 0.5306122448979591 Depth: 1\n",
      "f1Score: 0.558766859344894 Depth: 2\n",
      "f1Score: 0.5532302092811647 Depth: 3\n",
      "f1Score: 0.5685685685685686 Depth: 4\n",
      "f1Score: 0.5897693079237714 Depth: 5\n",
      "f1Score: 0.5916069600818832 Depth: 6\n",
      "f1Score: 0.5851619644723092 Depth: 7\n",
      "f1Score: 0.601536772777168 Depth: 8\n",
      "f1Score: 0.6045454545454546 Depth: 9\n",
      "f1Score: 0.5885167464114832 Depth: 10\n",
      "f1Score: 0.5825977301387139 Depth: 11\n",
      "f1Score: 0.5594594594594594 Depth: 12\n",
      "f1Score: 0.5898491083676268 Depth: 13\n",
      "f1Score: 0.5346820809248556 Depth: 14\n",
      "f1Score: 0.542728635682159 Depth: 15\n",
      "maxDepth 9\n"
     ]
    },
    {
     "data": {
      "text/html": [
       "<div>\n",
       "<style scoped>\n",
       "    .dataframe tbody tr th:only-of-type {\n",
       "        vertical-align: middle;\n",
       "    }\n",
       "\n",
       "    .dataframe tbody tr th {\n",
       "        vertical-align: top;\n",
       "    }\n",
       "\n",
       "    .dataframe thead th {\n",
       "        text-align: right;\n",
       "    }\n",
       "</style>\n",
       "<table border=\"1\" class=\"dataframe\">\n",
       "  <thead>\n",
       "    <tr style=\"text-align: right;\">\n",
       "      <th></th>\n",
       "      <th>method</th>\n",
       "      <th>hyperparameters</th>\n",
       "      <th>accuracy_score</th>\n",
       "      <th>auc_roc</th>\n",
       "      <th>f1_valid</th>\n",
       "      <th>f1_test</th>\n",
       "      <th>f1_required</th>\n",
       "      <th>above_f1_threshold?</th>\n",
       "    </tr>\n",
       "  </thead>\n",
       "  <tbody>\n",
       "    <tr>\n",
       "      <td>0</td>\n",
       "      <td>LogisticRegression</td>\n",
       "      <td>none</td>\n",
       "      <td>0.8020</td>\n",
       "      <td>0.5932</td>\n",
       "      <td>0.2748</td>\n",
       "      <td>0.3311</td>\n",
       "      <td>0.59</td>\n",
       "      <td>False</td>\n",
       "    </tr>\n",
       "    <tr>\n",
       "      <td>1</td>\n",
       "      <td>DecisionTreeClassifier</td>\n",
       "      <td>depth: 6</td>\n",
       "      <td>0.8580</td>\n",
       "      <td>0.7078</td>\n",
       "      <td>0.5337</td>\n",
       "      <td>0.5697</td>\n",
       "      <td>0.59</td>\n",
       "      <td>False</td>\n",
       "    </tr>\n",
       "    <tr>\n",
       "      <td>2</td>\n",
       "      <td>DecisionTreeClassifier</td>\n",
       "      <td>Balanced, depth: 5</td>\n",
       "      <td>0.8105</td>\n",
       "      <td>0.7588</td>\n",
       "      <td>0.5809</td>\n",
       "      <td>0.5964</td>\n",
       "      <td>0.59</td>\n",
       "      <td>True</td>\n",
       "    </tr>\n",
       "    <tr>\n",
       "      <td>3</td>\n",
       "      <td>LogisticRegression</td>\n",
       "      <td>Balanced</td>\n",
       "      <td>0.7020</td>\n",
       "      <td>0.6946</td>\n",
       "      <td>0.4788</td>\n",
       "      <td>0.4889</td>\n",
       "      <td>0.59</td>\n",
       "      <td>False</td>\n",
       "    </tr>\n",
       "    <tr>\n",
       "      <td>4</td>\n",
       "      <td>RandomForestClassifier</td>\n",
       "      <td>Balanced, depth: 9</td>\n",
       "      <td>0.8400</td>\n",
       "      <td>0.7721</td>\n",
       "      <td>0.6030</td>\n",
       "      <td>0.6313</td>\n",
       "      <td>0.59</td>\n",
       "      <td>True</td>\n",
       "    </tr>\n",
       "  </tbody>\n",
       "</table>\n",
       "</div>"
      ],
      "text/plain": [
       "                   method     hyperparameters  accuracy_score  auc_roc  \\\n",
       "0      LogisticRegression                none          0.8020   0.5932   \n",
       "1  DecisionTreeClassifier            depth: 6          0.8580   0.7078   \n",
       "2  DecisionTreeClassifier  Balanced, depth: 5          0.8105   0.7588   \n",
       "3      LogisticRegression            Balanced          0.7020   0.6946   \n",
       "4  RandomForestClassifier  Balanced, depth: 9          0.8400   0.7721   \n",
       "\n",
       "   f1_valid  f1_test  f1_required above_f1_threshold?  \n",
       "0    0.2748   0.3311         0.59               False  \n",
       "1    0.5337   0.5697         0.59               False  \n",
       "2    0.5809   0.5964         0.59                True  \n",
       "3    0.4788   0.4889         0.59               False  \n",
       "4    0.6030   0.6313         0.59                True  "
      ]
     },
     "metadata": {},
     "output_type": "display_data"
    }
   ],
   "source": [
    "prevScore=0.0\n",
    "foundDepth=0\n",
    "for depth in range(1, 16, 1):\n",
    "    model = RandomForestClassifier(n_estimators=20, max_depth=depth, random_state=RANDOM_STATE,  class_weight='balanced')\n",
    "    model.fit(features_train, target_train)\n",
    "    predicted_valid = model.predict(features_valid)\n",
    "    f1_scor = f1_score(target_valid,predicted_valid)\n",
    "    print(\"f1Score:\",f1_scor,\"Depth:\",depth)\n",
    "    if (f1_scor > prevScore):\n",
    "        prevScore=f1_scor\n",
    "        foundDepth=depth\n",
    "print('maxDepth',foundDepth)\n",
    "\n",
    "model = RandomForestClassifier(n_estimators=100, max_depth=foundDepth, random_state=RANDOM_STATE,  class_weight='balanced')\n",
    "method=\"RandomForestClassifier\"\n",
    "hyperparam = \"Balanced, depth: \"+str(foundDepth)\n",
    "supervisedModel(model,features_train, target_train,method, hyperparam)"
   ]
  },
  {
   "cell_type": "markdown",
   "metadata": {
    "id": "lQQObWElgEkR"
   },
   "source": [
    "# CONFUSION MATRIX"
   ]
  },
  {
   "cell_type": "code",
   "execution_count": 26,
   "metadata": {
    "colab": {
     "base_uri": "https://localhost:8080/",
     "height": 50
    },
    "id": "-goYyQHiuGQU",
    "outputId": "838e962b-eeee-42be-8498-d481e93dc1f4"
   },
   "outputs": [
    {
     "name": "stdout",
     "output_type": "stream",
     "text": [
      "[[1406  176]\n",
      " [ 144  274]]\n"
     ]
    }
   ],
   "source": [
    "#Confusion Matrix\n",
    "\n",
    "confusion_matrix = confusion_matrix(target_test, predicted_test)\n",
    "print(confusion_matrix)"
   ]
  },
  {
   "cell_type": "markdown",
   "metadata": {
    "id": "d478hdiauhBS"
   },
   "source": [
    "- The Confusion Matrix displays that the DecisionTree classifier gave too many False Negatives.\n",
    "- It also shows that the data has a lot of \"True Negatives\" which implies too many values are No, implying people didn't exit.\n",
    "- Issue is class imbalance. Hence we need to fix the imbalance in the data to improve the model quality."
   ]
  },
  {
   "cell_type": "code",
   "execution_count": 27,
   "metadata": {
    "colab": {
     "base_uri": "https://localhost:8080/",
     "height": 163
    },
    "id": "iA-vpa6p-tga",
    "outputId": "a08245cc-c32b-41d6-d644-37100923b8c5"
   },
   "outputs": [
    {
     "name": "stdout",
     "output_type": "stream",
     "text": [
      "              precision    recall  f1-score   support\n",
      "\n",
      "    Exited 0       0.91      0.89      0.90      1582\n",
      "    Exited 1       0.61      0.66      0.63       418\n",
      "\n",
      "    accuracy                           0.84      2000\n",
      "   macro avg       0.76      0.77      0.76      2000\n",
      "weighted avg       0.84      0.84      0.84      2000\n",
      "\n"
     ]
    }
   ],
   "source": [
    "print(classification_report(target_test, predicted_test, target_names=target_names))"
   ]
  },
  {
   "cell_type": "markdown",
   "metadata": {
    "id": "BgEB_ijsgIUG"
   },
   "source": [
    "# CONCLUSION\n",
    "- The Exited=0 values are predicted with f1_score of 79%, the Exited=1 values are predicted with f1_score of 48%\n",
    "- We should test models with upsampling of Exited=1, and downsampling of Exited=0\n"
   ]
  },
  {
   "cell_type": "markdown",
   "metadata": {
    "id": "nJmjgFYVpvp2"
   },
   "source": [
    "# STEP-6: UpSampling, Downsampling\n"
   ]
  },
  {
   "cell_type": "code",
   "execution_count": 28,
   "metadata": {
    "colab": {
     "base_uri": "https://localhost:8080/",
     "height": 82
    },
    "id": "t_AD3EBKwzxy",
    "outputId": "752740f4-f12b-4564-bea9-1d8e7e09fc70"
   },
   "outputs": [
    {
     "name": "stdout",
     "output_type": "stream",
     "text": [
      "(4804, 11)\n",
      "(1196, 11)\n",
      "(4804,)\n",
      "(1196,)\n"
     ]
    }
   ],
   "source": [
    "features_zeros = features_train[target_train==0]\n",
    "features_ones = features_train[target_train==1]\n",
    "target_zeros = target_train[target_train==0]\n",
    "target_ones = target_train[target_train==1]\n",
    "print(features_zeros.shape)\n",
    "print(features_ones.shape)\n",
    "print(target_zeros.shape)\n",
    "print(target_ones.shape)"
   ]
  },
  {
   "cell_type": "markdown",
   "metadata": {
    "id": "aIebWW_FyE5O"
   },
   "source": [
    "- Positive observations are less that negative observations.\n",
    "- Less people have exited. (Exited=1 is less)\n",
    "- We need to do upsampling\n"
   ]
  },
  {
   "cell_type": "code",
   "execution_count": 29,
   "metadata": {
    "colab": {
     "base_uri": "https://localhost:8080/",
     "height": 50
    },
    "id": "tUKnd0Ufyavz",
    "outputId": "3510553e-9243-414b-dd65-a9ff9d22ed0f"
   },
   "outputs": [
    {
     "name": "stdout",
     "output_type": "stream",
     "text": [
      "(7196, 11)\n",
      "(7196,)\n"
     ]
    }
   ],
   "source": [
    "#Create Upsample\n",
    "repeat = 2\n",
    "features_upsampled = pd.concat([features_zeros] + [features_ones] * repeat)\n",
    "target_upsampled = pd.concat([target_zeros] + [target_ones] * repeat)\n",
    "print(features_upsampled.shape)\n",
    "print(target_upsampled.shape)\n",
    "features_upsampled, target_upsampled = shuffle(\n",
    "        features_upsampled, target_upsampled, random_state=RANDOM_STATE)\n"
   ]
  },
  {
   "cell_type": "code",
   "execution_count": 30,
   "metadata": {
    "colab": {
     "base_uri": "https://localhost:8080/",
     "height": 147
    },
    "id": "8PVUBz4rHN9J",
    "outputId": "0b3f9469-c4ed-47cf-ea86-ba52d32b7f85"
   },
   "outputs": [
    {
     "name": "stdout",
     "output_type": "stream",
     "text": [
      "(4804, 11)\n",
      "(2392, 11)\n",
      "(4804,)\n",
      "(2392,)\n"
     ]
    },
    {
     "name": "stderr",
     "output_type": "stream",
     "text": [
      "/opt/conda/lib/python3.7/site-packages/ipykernel_launcher.py:2: UserWarning: Boolean Series key will be reindexed to match DataFrame index.\n",
      "  \n",
      "/opt/conda/lib/python3.7/site-packages/ipykernel_launcher.py:3: UserWarning: Boolean Series key will be reindexed to match DataFrame index.\n",
      "  This is separate from the ipykernel package so we can avoid doing imports until\n"
     ]
    }
   ],
   "source": [
    "#Test Upsample count\n",
    "features_zeros = features_upsampled[target_train==0]\n",
    "features_ones = features_upsampled[target_train==1]\n",
    "target_zeros = target_upsampled[target_train==0]\n",
    "target_ones = target_upsampled[target_train==1]\n",
    "print(features_zeros.shape)\n",
    "print(features_ones.shape)\n",
    "print(target_zeros.shape)\n",
    "print(target_ones.shape)"
   ]
  },
  {
   "cell_type": "code",
   "execution_count": 31,
   "metadata": {
    "colab": {
     "base_uri": "https://localhost:8080/",
     "height": 50
    },
    "id": "o8YK7ldi0wO2",
    "outputId": "f71dcc2c-ff1c-47fd-ba09-18b7eafeed79"
   },
   "outputs": [
    {
     "name": "stdout",
     "output_type": "stream",
     "text": [
      "(6000, 11)\n",
      "(6235, 11) (6235,)\n"
     ]
    }
   ],
   "source": [
    "#TRYING DOWNSAMPLING, remove some (Exited=0)\n",
    "\n",
    "print(features_train.shape)\n",
    "fraction=0.8\n",
    "features_downsampled = pd.concat(\n",
    "        [features_zeros.sample(frac=fraction, random_state=RANDOM_STATE)] + [features_ones])\n",
    "target_downsampled = pd.concat(\n",
    "    [target_zeros.sample(frac=fraction,random_state=RANDOM_STATE)] + [target_ones])\n",
    "features_downsampled, target_downsampled = shuffle(\n",
    "        features_downsampled, target_downsampled, random_state=RANDOM_STATE)\n",
    "\n",
    "print(features_downsampled.shape,target_downsampled.shape)"
   ]
  },
  {
   "cell_type": "code",
   "execution_count": 32,
   "metadata": {
    "colab": {
     "base_uri": "https://localhost:8080/",
     "height": 147
    },
    "id": "7DOA0lTLIzVZ",
    "outputId": "a42ada4b-b5a1-4b8c-8365-e032ca93f416"
   },
   "outputs": [
    {
     "name": "stdout",
     "output_type": "stream",
     "text": [
      "(3843, 11)\n",
      "(2392, 11)\n",
      "(3843,)\n",
      "(2392,)\n"
     ]
    },
    {
     "name": "stderr",
     "output_type": "stream",
     "text": [
      "/opt/conda/lib/python3.7/site-packages/ipykernel_launcher.py:2: UserWarning: Boolean Series key will be reindexed to match DataFrame index.\n",
      "  \n",
      "/opt/conda/lib/python3.7/site-packages/ipykernel_launcher.py:3: UserWarning: Boolean Series key will be reindexed to match DataFrame index.\n",
      "  This is separate from the ipykernel package so we can avoid doing imports until\n"
     ]
    }
   ],
   "source": [
    "#Test Downsample count\n",
    "features_zeros = features_downsampled[target_train==0]\n",
    "features_ones = features_downsampled[target_train==1]\n",
    "target_zeros = target_downsampled[target_train==0]\n",
    "target_ones = target_downsampled[target_train==1]\n",
    "print(features_zeros.shape)\n",
    "print(features_ones.shape)\n",
    "print(target_zeros.shape)\n",
    "print(target_ones.shape)"
   ]
  },
  {
   "cell_type": "markdown",
   "metadata": {
    "id": "LcuaY2cp_LAn"
   },
   "source": [
    "# CONCLUSION\n",
    "Training dataset: Upsample and Downsample created. I tested with various values of repeat, frac. The one I am showing above is the one with best f1_scores"
   ]
  },
  {
   "cell_type": "markdown",
   "metadata": {},
   "source": [
    "<div class=\"alert alert-block alert-info\">\n",
    "<b>Improve: </b> It would be better if functions were used for upsampling/downsampling. Anyway your solution is acceptable.\n",
    "</div>"
   ]
  },
  {
   "cell_type": "markdown",
   "metadata": {
    "id": "XUhLqakj0a2H"
   },
   "source": [
    "# STEP-7: Evaluating models with Upsampling, Downsampling"
   ]
  },
  {
   "cell_type": "markdown",
   "metadata": {
    "id": "a_-5p1s4g25X"
   },
   "source": [
    "# LogisticRegression with upsample, Hyperparameters: balanced weights"
   ]
  },
  {
   "cell_type": "code",
   "execution_count": 33,
   "metadata": {
    "colab": {
     "base_uri": "https://localhost:8080/",
     "height": 220
    },
    "id": "kL-W6hVupvp2",
    "outputId": "da870964-b9d6-48de-a4aa-6a5664ad6073"
   },
   "outputs": [
    {
     "data": {
      "text/html": [
       "<div>\n",
       "<style scoped>\n",
       "    .dataframe tbody tr th:only-of-type {\n",
       "        vertical-align: middle;\n",
       "    }\n",
       "\n",
       "    .dataframe tbody tr th {\n",
       "        vertical-align: top;\n",
       "    }\n",
       "\n",
       "    .dataframe thead th {\n",
       "        text-align: right;\n",
       "    }\n",
       "</style>\n",
       "<table border=\"1\" class=\"dataframe\">\n",
       "  <thead>\n",
       "    <tr style=\"text-align: right;\">\n",
       "      <th></th>\n",
       "      <th>method</th>\n",
       "      <th>hyperparameters</th>\n",
       "      <th>accuracy_score</th>\n",
       "      <th>auc_roc</th>\n",
       "      <th>f1_valid</th>\n",
       "      <th>f1_test</th>\n",
       "      <th>f1_required</th>\n",
       "      <th>above_f1_threshold?</th>\n",
       "    </tr>\n",
       "  </thead>\n",
       "  <tbody>\n",
       "    <tr>\n",
       "      <td>0</td>\n",
       "      <td>LogisticRegression</td>\n",
       "      <td>none</td>\n",
       "      <td>0.8020</td>\n",
       "      <td>0.5932</td>\n",
       "      <td>0.2748</td>\n",
       "      <td>0.3311</td>\n",
       "      <td>0.59</td>\n",
       "      <td>False</td>\n",
       "    </tr>\n",
       "    <tr>\n",
       "      <td>1</td>\n",
       "      <td>DecisionTreeClassifier</td>\n",
       "      <td>depth: 6</td>\n",
       "      <td>0.8580</td>\n",
       "      <td>0.7078</td>\n",
       "      <td>0.5337</td>\n",
       "      <td>0.5697</td>\n",
       "      <td>0.59</td>\n",
       "      <td>False</td>\n",
       "    </tr>\n",
       "    <tr>\n",
       "      <td>2</td>\n",
       "      <td>DecisionTreeClassifier</td>\n",
       "      <td>Balanced, depth: 5</td>\n",
       "      <td>0.8105</td>\n",
       "      <td>0.7588</td>\n",
       "      <td>0.5809</td>\n",
       "      <td>0.5964</td>\n",
       "      <td>0.59</td>\n",
       "      <td>True</td>\n",
       "    </tr>\n",
       "    <tr>\n",
       "      <td>3</td>\n",
       "      <td>LogisticRegression</td>\n",
       "      <td>Balanced</td>\n",
       "      <td>0.7020</td>\n",
       "      <td>0.6946</td>\n",
       "      <td>0.4788</td>\n",
       "      <td>0.4889</td>\n",
       "      <td>0.59</td>\n",
       "      <td>False</td>\n",
       "    </tr>\n",
       "    <tr>\n",
       "      <td>4</td>\n",
       "      <td>RandomForestClassifier</td>\n",
       "      <td>Balanced, depth: 9</td>\n",
       "      <td>0.8400</td>\n",
       "      <td>0.7721</td>\n",
       "      <td>0.6030</td>\n",
       "      <td>0.6313</td>\n",
       "      <td>0.59</td>\n",
       "      <td>True</td>\n",
       "    </tr>\n",
       "    <tr>\n",
       "      <td>5</td>\n",
       "      <td>LogisticRegression</td>\n",
       "      <td>Balanced, upsampled</td>\n",
       "      <td>0.7020</td>\n",
       "      <td>0.6946</td>\n",
       "      <td>0.4788</td>\n",
       "      <td>0.4889</td>\n",
       "      <td>0.59</td>\n",
       "      <td>False</td>\n",
       "    </tr>\n",
       "  </tbody>\n",
       "</table>\n",
       "</div>"
      ],
      "text/plain": [
       "                   method      hyperparameters  accuracy_score  auc_roc  \\\n",
       "0      LogisticRegression                 none          0.8020   0.5932   \n",
       "1  DecisionTreeClassifier             depth: 6          0.8580   0.7078   \n",
       "2  DecisionTreeClassifier   Balanced, depth: 5          0.8105   0.7588   \n",
       "3      LogisticRegression             Balanced          0.7020   0.6946   \n",
       "4  RandomForestClassifier   Balanced, depth: 9          0.8400   0.7721   \n",
       "5      LogisticRegression  Balanced, upsampled          0.7020   0.6946   \n",
       "\n",
       "   f1_valid  f1_test  f1_required above_f1_threshold?  \n",
       "0    0.2748   0.3311         0.59               False  \n",
       "1    0.5337   0.5697         0.59               False  \n",
       "2    0.5809   0.5964         0.59                True  \n",
       "3    0.4788   0.4889         0.59               False  \n",
       "4    0.6030   0.6313         0.59                True  \n",
       "5    0.4788   0.4889         0.59               False  "
      ]
     },
     "metadata": {},
     "output_type": "display_data"
    }
   ],
   "source": [
    "#Train the LogisticRegression model with the new data\n",
    "method=\"LogisticRegression\"\n",
    "hyperparam=\"Balanced, upsampled\"\n",
    "model = LogisticRegression(solver='liblinear',class_weight='balanced',random_state=RANDOM_STATE)\n",
    "supervisedModel(model,features_upsampled, target_upsampled,method, hyperparam)"
   ]
  },
  {
   "cell_type": "markdown",
   "metadata": {
    "id": "K70qt_grhdTk"
   },
   "source": [
    "# DecisionTree with upsample, Hyperparameters: depth, balanced weights"
   ]
  },
  {
   "cell_type": "code",
   "execution_count": 34,
   "metadata": {
    "colab": {
     "base_uri": "https://localhost:8080/",
     "height": 411
    },
    "id": "zP3d9CQfTXkq",
    "outputId": "47978c23-d564-4545-ed62-4415d1017ff9"
   },
   "outputs": [
    {
     "name": "stdout",
     "output_type": "stream",
     "text": [
      "scoreR: 0.48514851485148514 Depth: 1\n",
      "scoreR: 0.5129682997118156 Depth: 2\n",
      "scoreR: 0.5129682997118156 Depth: 3\n",
      "scoreR: 0.5385239253852393 Depth: 4\n",
      "scoreR: 0.5809128630705395 Depth: 5\n",
      "scoreR: 0.5648994515539306 Depth: 6\n",
      "scoreR: 0.5593869731800767 Depth: 7\n",
      "scoreR: 0.5471521942110178 Depth: 8\n",
      "scoreR: 0.5463320463320464 Depth: 9\n",
      "maxDepth 5\n"
     ]
    },
    {
     "data": {
      "text/html": [
       "<div>\n",
       "<style scoped>\n",
       "    .dataframe tbody tr th:only-of-type {\n",
       "        vertical-align: middle;\n",
       "    }\n",
       "\n",
       "    .dataframe tbody tr th {\n",
       "        vertical-align: top;\n",
       "    }\n",
       "\n",
       "    .dataframe thead th {\n",
       "        text-align: right;\n",
       "    }\n",
       "</style>\n",
       "<table border=\"1\" class=\"dataframe\">\n",
       "  <thead>\n",
       "    <tr style=\"text-align: right;\">\n",
       "      <th></th>\n",
       "      <th>method</th>\n",
       "      <th>hyperparameters</th>\n",
       "      <th>accuracy_score</th>\n",
       "      <th>auc_roc</th>\n",
       "      <th>f1_valid</th>\n",
       "      <th>f1_test</th>\n",
       "      <th>f1_required</th>\n",
       "      <th>above_f1_threshold?</th>\n",
       "    </tr>\n",
       "  </thead>\n",
       "  <tbody>\n",
       "    <tr>\n",
       "      <td>0</td>\n",
       "      <td>LogisticRegression</td>\n",
       "      <td>none</td>\n",
       "      <td>0.8020</td>\n",
       "      <td>0.5932</td>\n",
       "      <td>0.2748</td>\n",
       "      <td>0.3311</td>\n",
       "      <td>0.59</td>\n",
       "      <td>False</td>\n",
       "    </tr>\n",
       "    <tr>\n",
       "      <td>1</td>\n",
       "      <td>DecisionTreeClassifier</td>\n",
       "      <td>depth: 6</td>\n",
       "      <td>0.8580</td>\n",
       "      <td>0.7078</td>\n",
       "      <td>0.5337</td>\n",
       "      <td>0.5697</td>\n",
       "      <td>0.59</td>\n",
       "      <td>False</td>\n",
       "    </tr>\n",
       "    <tr>\n",
       "      <td>2</td>\n",
       "      <td>DecisionTreeClassifier</td>\n",
       "      <td>Balanced, depth: 5</td>\n",
       "      <td>0.8105</td>\n",
       "      <td>0.7588</td>\n",
       "      <td>0.5809</td>\n",
       "      <td>0.5964</td>\n",
       "      <td>0.59</td>\n",
       "      <td>True</td>\n",
       "    </tr>\n",
       "    <tr>\n",
       "      <td>3</td>\n",
       "      <td>LogisticRegression</td>\n",
       "      <td>Balanced</td>\n",
       "      <td>0.7020</td>\n",
       "      <td>0.6946</td>\n",
       "      <td>0.4788</td>\n",
       "      <td>0.4889</td>\n",
       "      <td>0.59</td>\n",
       "      <td>False</td>\n",
       "    </tr>\n",
       "    <tr>\n",
       "      <td>4</td>\n",
       "      <td>RandomForestClassifier</td>\n",
       "      <td>Balanced, depth: 9</td>\n",
       "      <td>0.8400</td>\n",
       "      <td>0.7721</td>\n",
       "      <td>0.6030</td>\n",
       "      <td>0.6313</td>\n",
       "      <td>0.59</td>\n",
       "      <td>True</td>\n",
       "    </tr>\n",
       "    <tr>\n",
       "      <td>5</td>\n",
       "      <td>LogisticRegression</td>\n",
       "      <td>Balanced, upsampled</td>\n",
       "      <td>0.7020</td>\n",
       "      <td>0.6946</td>\n",
       "      <td>0.4788</td>\n",
       "      <td>0.4889</td>\n",
       "      <td>0.59</td>\n",
       "      <td>False</td>\n",
       "    </tr>\n",
       "    <tr>\n",
       "      <td>6</td>\n",
       "      <td>DecisionTreeClassifier</td>\n",
       "      <td>Balanced, upsampled, depth: 5</td>\n",
       "      <td>0.8105</td>\n",
       "      <td>0.7588</td>\n",
       "      <td>0.5809</td>\n",
       "      <td>0.5964</td>\n",
       "      <td>0.59</td>\n",
       "      <td>True</td>\n",
       "    </tr>\n",
       "  </tbody>\n",
       "</table>\n",
       "</div>"
      ],
      "text/plain": [
       "                   method                hyperparameters  accuracy_score  \\\n",
       "0      LogisticRegression                           none          0.8020   \n",
       "1  DecisionTreeClassifier                       depth: 6          0.8580   \n",
       "2  DecisionTreeClassifier             Balanced, depth: 5          0.8105   \n",
       "3      LogisticRegression                       Balanced          0.7020   \n",
       "4  RandomForestClassifier             Balanced, depth: 9          0.8400   \n",
       "5      LogisticRegression            Balanced, upsampled          0.7020   \n",
       "6  DecisionTreeClassifier  Balanced, upsampled, depth: 5          0.8105   \n",
       "\n",
       "   auc_roc  f1_valid  f1_test  f1_required above_f1_threshold?  \n",
       "0   0.5932    0.2748   0.3311         0.59               False  \n",
       "1   0.7078    0.5337   0.5697         0.59               False  \n",
       "2   0.7588    0.5809   0.5964         0.59                True  \n",
       "3   0.6946    0.4788   0.4889         0.59               False  \n",
       "4   0.7721    0.6030   0.6313         0.59                True  \n",
       "5   0.6946    0.4788   0.4889         0.59               False  \n",
       "6   0.7588    0.5809   0.5964         0.59                True  "
      ]
     },
     "metadata": {},
     "output_type": "display_data"
    }
   ],
   "source": [
    "prevScore=0\n",
    "foundDepth=0\n",
    "for depth in range(1, 10, 1):\n",
    "    model = DecisionTreeClassifier(max_depth=depth, random_state=RANDOM_STATE,class_weight='balanced')\n",
    "    model.fit(features_upsampled, target_upsampled)\n",
    "    predicted_valid = model.predict(features_valid)\n",
    "    scoreR = f1_score(target_valid,predicted_valid)\n",
    "    \n",
    "    print(\"scoreR:\",scoreR,\"Depth:\",depth)\n",
    "    if (scoreR > prevScore):\n",
    "        prevScore=scoreR\n",
    "        foundDepth=depth\n",
    "print('maxDepth',foundDepth)\n",
    "\n",
    "method=\"DecisionTreeClassifier\"\n",
    "hyperparam = \"Balanced, upsampled, depth: \"+str(foundDepth)\n",
    "model = DecisionTreeClassifier(max_depth=foundDepth,class_weight='balanced',random_state=RANDOM_STATE)\n",
    "supervisedModel(model,features_upsampled, target_upsampled,method, hyperparam)"
   ]
  },
  {
   "cell_type": "markdown",
   "metadata": {
    "id": "3TKkMuiRjEr8"
   },
   "source": [
    "# RandomForest with upsample, Hyperparameters: n_estimators, depth, balanced weights"
   ]
  },
  {
   "cell_type": "code",
   "execution_count": 35,
   "metadata": {
    "colab": {
     "base_uri": "https://localhost:8080/",
     "height": 537
    },
    "id": "SU4JhofaPgjL",
    "outputId": "71b4848b-2c4b-41ae-b1bf-62c31b1b02e2"
   },
   "outputs": [
    {
     "name": "stdout",
     "output_type": "stream",
     "text": [
      "f1Score: 0.5324298160697 Depth: 1\n",
      "f1Score: 0.5503116651825468 Depth: 2\n",
      "f1Score: 0.5672461116193962 Depth: 3\n",
      "f1Score: 0.584070796460177 Depth: 4\n",
      "f1Score: 0.5883514313919053 Depth: 5\n",
      "f1Score: 0.5906432748538012 Depth: 6\n",
      "f1Score: 0.6125385405960946 Depth: 7\n",
      "f1Score: 0.5936842105263158 Depth: 8\n",
      "f1Score: 0.5868644067796609 Depth: 9\n",
      "f1Score: 0.5873192436040044 Depth: 10\n",
      "f1Score: 0.6098964326812428 Depth: 11\n",
      "f1Score: 0.575242718446602 Depth: 12\n",
      "f1Score: 0.5844980940279542 Depth: 13\n",
      "f1Score: 0.5876288659793815 Depth: 14\n",
      "f1Score: 0.5638297872340426 Depth: 15\n",
      "maxDepth 7 f1Score: 0.5638297872340426\n"
     ]
    },
    {
     "data": {
      "text/html": [
       "<div>\n",
       "<style scoped>\n",
       "    .dataframe tbody tr th:only-of-type {\n",
       "        vertical-align: middle;\n",
       "    }\n",
       "\n",
       "    .dataframe tbody tr th {\n",
       "        vertical-align: top;\n",
       "    }\n",
       "\n",
       "    .dataframe thead th {\n",
       "        text-align: right;\n",
       "    }\n",
       "</style>\n",
       "<table border=\"1\" class=\"dataframe\">\n",
       "  <thead>\n",
       "    <tr style=\"text-align: right;\">\n",
       "      <th></th>\n",
       "      <th>method</th>\n",
       "      <th>hyperparameters</th>\n",
       "      <th>accuracy_score</th>\n",
       "      <th>auc_roc</th>\n",
       "      <th>f1_valid</th>\n",
       "      <th>f1_test</th>\n",
       "      <th>f1_required</th>\n",
       "      <th>above_f1_threshold?</th>\n",
       "    </tr>\n",
       "  </thead>\n",
       "  <tbody>\n",
       "    <tr>\n",
       "      <td>0</td>\n",
       "      <td>LogisticRegression</td>\n",
       "      <td>none</td>\n",
       "      <td>0.8020</td>\n",
       "      <td>0.5932</td>\n",
       "      <td>0.2748</td>\n",
       "      <td>0.3311</td>\n",
       "      <td>0.59</td>\n",
       "      <td>False</td>\n",
       "    </tr>\n",
       "    <tr>\n",
       "      <td>1</td>\n",
       "      <td>DecisionTreeClassifier</td>\n",
       "      <td>depth: 6</td>\n",
       "      <td>0.8580</td>\n",
       "      <td>0.7078</td>\n",
       "      <td>0.5337</td>\n",
       "      <td>0.5697</td>\n",
       "      <td>0.59</td>\n",
       "      <td>False</td>\n",
       "    </tr>\n",
       "    <tr>\n",
       "      <td>2</td>\n",
       "      <td>DecisionTreeClassifier</td>\n",
       "      <td>Balanced, depth: 5</td>\n",
       "      <td>0.8105</td>\n",
       "      <td>0.7588</td>\n",
       "      <td>0.5809</td>\n",
       "      <td>0.5964</td>\n",
       "      <td>0.59</td>\n",
       "      <td>True</td>\n",
       "    </tr>\n",
       "    <tr>\n",
       "      <td>3</td>\n",
       "      <td>LogisticRegression</td>\n",
       "      <td>Balanced</td>\n",
       "      <td>0.7020</td>\n",
       "      <td>0.6946</td>\n",
       "      <td>0.4788</td>\n",
       "      <td>0.4889</td>\n",
       "      <td>0.59</td>\n",
       "      <td>False</td>\n",
       "    </tr>\n",
       "    <tr>\n",
       "      <td>4</td>\n",
       "      <td>RandomForestClassifier</td>\n",
       "      <td>Balanced, depth: 9</td>\n",
       "      <td>0.8400</td>\n",
       "      <td>0.7721</td>\n",
       "      <td>0.6030</td>\n",
       "      <td>0.6313</td>\n",
       "      <td>0.59</td>\n",
       "      <td>True</td>\n",
       "    </tr>\n",
       "    <tr>\n",
       "      <td>5</td>\n",
       "      <td>LogisticRegression</td>\n",
       "      <td>Balanced, upsampled</td>\n",
       "      <td>0.7020</td>\n",
       "      <td>0.6946</td>\n",
       "      <td>0.4788</td>\n",
       "      <td>0.4889</td>\n",
       "      <td>0.59</td>\n",
       "      <td>False</td>\n",
       "    </tr>\n",
       "    <tr>\n",
       "      <td>6</td>\n",
       "      <td>DecisionTreeClassifier</td>\n",
       "      <td>Balanced, upsampled, depth: 5</td>\n",
       "      <td>0.8105</td>\n",
       "      <td>0.7588</td>\n",
       "      <td>0.5809</td>\n",
       "      <td>0.5964</td>\n",
       "      <td>0.59</td>\n",
       "      <td>True</td>\n",
       "    </tr>\n",
       "    <tr>\n",
       "      <td>7</td>\n",
       "      <td>RandomForestClassifier</td>\n",
       "      <td>Balanced,upsampled, depth: 7</td>\n",
       "      <td>0.8175</td>\n",
       "      <td>0.7825</td>\n",
       "      <td>0.6054</td>\n",
       "      <td>0.6233</td>\n",
       "      <td>0.59</td>\n",
       "      <td>True</td>\n",
       "    </tr>\n",
       "  </tbody>\n",
       "</table>\n",
       "</div>"
      ],
      "text/plain": [
       "                   method                hyperparameters  accuracy_score  \\\n",
       "0      LogisticRegression                           none          0.8020   \n",
       "1  DecisionTreeClassifier                       depth: 6          0.8580   \n",
       "2  DecisionTreeClassifier             Balanced, depth: 5          0.8105   \n",
       "3      LogisticRegression                       Balanced          0.7020   \n",
       "4  RandomForestClassifier             Balanced, depth: 9          0.8400   \n",
       "5      LogisticRegression            Balanced, upsampled          0.7020   \n",
       "6  DecisionTreeClassifier  Balanced, upsampled, depth: 5          0.8105   \n",
       "7  RandomForestClassifier   Balanced,upsampled, depth: 7          0.8175   \n",
       "\n",
       "   auc_roc  f1_valid  f1_test  f1_required above_f1_threshold?  \n",
       "0   0.5932    0.2748   0.3311         0.59               False  \n",
       "1   0.7078    0.5337   0.5697         0.59               False  \n",
       "2   0.7588    0.5809   0.5964         0.59                True  \n",
       "3   0.6946    0.4788   0.4889         0.59               False  \n",
       "4   0.7721    0.6030   0.6313         0.59                True  \n",
       "5   0.6946    0.4788   0.4889         0.59               False  \n",
       "6   0.7588    0.5809   0.5964         0.59                True  \n",
       "7   0.7825    0.6054   0.6233         0.59                True  "
      ]
     },
     "metadata": {},
     "output_type": "display_data"
    }
   ],
   "source": [
    "from sklearn.ensemble import RandomForestClassifier\n",
    "prevScore=0.0\n",
    "foundDepth=0\n",
    "for depth in range(1, 16, 1):\n",
    "    model = RandomForestClassifier(n_estimators=20, max_depth=depth, random_state=RANDOM_STATE,  class_weight='balanced')\n",
    "    model.fit(features_upsampled, target_upsampled)\n",
    "    predicted_valid = model.predict(features_valid)\n",
    "    f1_scor = f1_score(target_valid,predicted_valid)\n",
    "    print(\"f1Score:\",f1_scor,\"Depth:\",depth)\n",
    "    if (f1_scor > prevScore):\n",
    "        prevScore=f1_scor\n",
    "        foundDepth=depth\n",
    "print('maxDepth',foundDepth,\"f1Score:\",f1_scor)\n",
    "\n",
    "model = RandomForestClassifier(n_estimators=100, max_depth=foundDepth, random_state=RANDOM_STATE,  class_weight='balanced')\n",
    "method=\"RandomForestClassifier\"\n",
    "hyperparam = \"Balanced,upsampled, depth: \"+str(foundDepth)\n",
    "supervisedModel(model,features_upsampled, target_upsampled,method, hyperparam)"
   ]
  },
  {
   "cell_type": "markdown",
   "metadata": {
    "id": "ohF9wmbPhQTY"
   },
   "source": [
    "# LogisticRegression with downsample, Hyperparameters: balanced weights"
   ]
  },
  {
   "cell_type": "code",
   "execution_count": 36,
   "metadata": {
    "colab": {
     "base_uri": "https://localhost:8080/",
     "height": 306
    },
    "id": "-OqAWASeI1Ml",
    "outputId": "7775c0fa-4ba9-4781-8367-3f789bbd047f"
   },
   "outputs": [
    {
     "data": {
      "text/html": [
       "<div>\n",
       "<style scoped>\n",
       "    .dataframe tbody tr th:only-of-type {\n",
       "        vertical-align: middle;\n",
       "    }\n",
       "\n",
       "    .dataframe tbody tr th {\n",
       "        vertical-align: top;\n",
       "    }\n",
       "\n",
       "    .dataframe thead th {\n",
       "        text-align: right;\n",
       "    }\n",
       "</style>\n",
       "<table border=\"1\" class=\"dataframe\">\n",
       "  <thead>\n",
       "    <tr style=\"text-align: right;\">\n",
       "      <th></th>\n",
       "      <th>method</th>\n",
       "      <th>hyperparameters</th>\n",
       "      <th>accuracy_score</th>\n",
       "      <th>auc_roc</th>\n",
       "      <th>f1_valid</th>\n",
       "      <th>f1_test</th>\n",
       "      <th>f1_required</th>\n",
       "      <th>above_f1_threshold?</th>\n",
       "    </tr>\n",
       "  </thead>\n",
       "  <tbody>\n",
       "    <tr>\n",
       "      <td>0</td>\n",
       "      <td>LogisticRegression</td>\n",
       "      <td>none</td>\n",
       "      <td>0.8020</td>\n",
       "      <td>0.5932</td>\n",
       "      <td>0.2748</td>\n",
       "      <td>0.3311</td>\n",
       "      <td>0.59</td>\n",
       "      <td>False</td>\n",
       "    </tr>\n",
       "    <tr>\n",
       "      <td>1</td>\n",
       "      <td>DecisionTreeClassifier</td>\n",
       "      <td>depth: 6</td>\n",
       "      <td>0.8580</td>\n",
       "      <td>0.7078</td>\n",
       "      <td>0.5337</td>\n",
       "      <td>0.5697</td>\n",
       "      <td>0.59</td>\n",
       "      <td>False</td>\n",
       "    </tr>\n",
       "    <tr>\n",
       "      <td>2</td>\n",
       "      <td>DecisionTreeClassifier</td>\n",
       "      <td>Balanced, depth: 5</td>\n",
       "      <td>0.8105</td>\n",
       "      <td>0.7588</td>\n",
       "      <td>0.5809</td>\n",
       "      <td>0.5964</td>\n",
       "      <td>0.59</td>\n",
       "      <td>True</td>\n",
       "    </tr>\n",
       "    <tr>\n",
       "      <td>3</td>\n",
       "      <td>LogisticRegression</td>\n",
       "      <td>Balanced</td>\n",
       "      <td>0.7020</td>\n",
       "      <td>0.6946</td>\n",
       "      <td>0.4788</td>\n",
       "      <td>0.4889</td>\n",
       "      <td>0.59</td>\n",
       "      <td>False</td>\n",
       "    </tr>\n",
       "    <tr>\n",
       "      <td>4</td>\n",
       "      <td>RandomForestClassifier</td>\n",
       "      <td>Balanced, depth: 9</td>\n",
       "      <td>0.8400</td>\n",
       "      <td>0.7721</td>\n",
       "      <td>0.6030</td>\n",
       "      <td>0.6313</td>\n",
       "      <td>0.59</td>\n",
       "      <td>True</td>\n",
       "    </tr>\n",
       "    <tr>\n",
       "      <td>5</td>\n",
       "      <td>LogisticRegression</td>\n",
       "      <td>Balanced, upsampled</td>\n",
       "      <td>0.7020</td>\n",
       "      <td>0.6946</td>\n",
       "      <td>0.4788</td>\n",
       "      <td>0.4889</td>\n",
       "      <td>0.59</td>\n",
       "      <td>False</td>\n",
       "    </tr>\n",
       "    <tr>\n",
       "      <td>6</td>\n",
       "      <td>DecisionTreeClassifier</td>\n",
       "      <td>Balanced, upsampled, depth: 5</td>\n",
       "      <td>0.8105</td>\n",
       "      <td>0.7588</td>\n",
       "      <td>0.5809</td>\n",
       "      <td>0.5964</td>\n",
       "      <td>0.59</td>\n",
       "      <td>True</td>\n",
       "    </tr>\n",
       "    <tr>\n",
       "      <td>7</td>\n",
       "      <td>RandomForestClassifier</td>\n",
       "      <td>Balanced,upsampled, depth: 7</td>\n",
       "      <td>0.8175</td>\n",
       "      <td>0.7825</td>\n",
       "      <td>0.6054</td>\n",
       "      <td>0.6233</td>\n",
       "      <td>0.59</td>\n",
       "      <td>True</td>\n",
       "    </tr>\n",
       "    <tr>\n",
       "      <td>8</td>\n",
       "      <td>RandomForestClassifier</td>\n",
       "      <td>Balanced, downsampled</td>\n",
       "      <td>0.8095</td>\n",
       "      <td>0.7757</td>\n",
       "      <td>0.6047</td>\n",
       "      <td>0.6116</td>\n",
       "      <td>0.59</td>\n",
       "      <td>True</td>\n",
       "    </tr>\n",
       "  </tbody>\n",
       "</table>\n",
       "</div>"
      ],
      "text/plain": [
       "                   method                hyperparameters  accuracy_score  \\\n",
       "0      LogisticRegression                           none          0.8020   \n",
       "1  DecisionTreeClassifier                       depth: 6          0.8580   \n",
       "2  DecisionTreeClassifier             Balanced, depth: 5          0.8105   \n",
       "3      LogisticRegression                       Balanced          0.7020   \n",
       "4  RandomForestClassifier             Balanced, depth: 9          0.8400   \n",
       "5      LogisticRegression            Balanced, upsampled          0.7020   \n",
       "6  DecisionTreeClassifier  Balanced, upsampled, depth: 5          0.8105   \n",
       "7  RandomForestClassifier   Balanced,upsampled, depth: 7          0.8175   \n",
       "8  RandomForestClassifier          Balanced, downsampled          0.8095   \n",
       "\n",
       "   auc_roc  f1_valid  f1_test  f1_required above_f1_threshold?  \n",
       "0   0.5932    0.2748   0.3311         0.59               False  \n",
       "1   0.7078    0.5337   0.5697         0.59               False  \n",
       "2   0.7588    0.5809   0.5964         0.59                True  \n",
       "3   0.6946    0.4788   0.4889         0.59               False  \n",
       "4   0.7721    0.6030   0.6313         0.59                True  \n",
       "5   0.6946    0.4788   0.4889         0.59               False  \n",
       "6   0.7588    0.5809   0.5964         0.59                True  \n",
       "7   0.7825    0.6054   0.6233         0.59                True  \n",
       "8   0.7757    0.6047   0.6116         0.59                True  "
      ]
     },
     "metadata": {},
     "output_type": "display_data"
    }
   ],
   "source": [
    "#Train the LogisticRegression model with the new data\n",
    "hyperparam=\"Balanced, downsampled\"\n",
    "supervisedModel(model,features_downsampled, target_downsampled,method, hyperparam)"
   ]
  },
  {
   "cell_type": "markdown",
   "metadata": {
    "id": "YUYoVXxShuMH"
   },
   "source": [
    "# DecisionTree with downsample, Hyperparameters: depth, balanced weights"
   ]
  },
  {
   "cell_type": "code",
   "execution_count": 37,
   "metadata": {
    "colab": {
     "base_uri": "https://localhost:8080/",
     "height": 497
    },
    "id": "BGC43eZ4Tq9w",
    "outputId": "94f477c5-2c3f-457f-8f3f-bf151efb11a9"
   },
   "outputs": [
    {
     "name": "stdout",
     "output_type": "stream",
     "text": [
      "scoreR: 0.48514851485148514 Depth: 1\n",
      "scoreR: 0.5129682997118156 Depth: 2\n",
      "scoreR: 0.5129682997118156 Depth: 3\n",
      "scoreR: 0.5388349514563108 Depth: 4\n",
      "scoreR: 0.5794979079497907 Depth: 5\n",
      "scoreR: 0.558303886925795 Depth: 6\n",
      "scoreR: 0.5499557913351016 Depth: 7\n",
      "scoreR: 0.5522935779816514 Depth: 8\n",
      "scoreR: 0.5434782608695653 Depth: 9\n",
      "maxDepth 5\n"
     ]
    },
    {
     "data": {
      "text/html": [
       "<div>\n",
       "<style scoped>\n",
       "    .dataframe tbody tr th:only-of-type {\n",
       "        vertical-align: middle;\n",
       "    }\n",
       "\n",
       "    .dataframe tbody tr th {\n",
       "        vertical-align: top;\n",
       "    }\n",
       "\n",
       "    .dataframe thead th {\n",
       "        text-align: right;\n",
       "    }\n",
       "</style>\n",
       "<table border=\"1\" class=\"dataframe\">\n",
       "  <thead>\n",
       "    <tr style=\"text-align: right;\">\n",
       "      <th></th>\n",
       "      <th>method</th>\n",
       "      <th>hyperparameters</th>\n",
       "      <th>accuracy_score</th>\n",
       "      <th>auc_roc</th>\n",
       "      <th>f1_valid</th>\n",
       "      <th>f1_test</th>\n",
       "      <th>f1_required</th>\n",
       "      <th>above_f1_threshold?</th>\n",
       "    </tr>\n",
       "  </thead>\n",
       "  <tbody>\n",
       "    <tr>\n",
       "      <td>0</td>\n",
       "      <td>LogisticRegression</td>\n",
       "      <td>none</td>\n",
       "      <td>0.8020</td>\n",
       "      <td>0.5932</td>\n",
       "      <td>0.2748</td>\n",
       "      <td>0.3311</td>\n",
       "      <td>0.59</td>\n",
       "      <td>False</td>\n",
       "    </tr>\n",
       "    <tr>\n",
       "      <td>1</td>\n",
       "      <td>DecisionTreeClassifier</td>\n",
       "      <td>depth: 6</td>\n",
       "      <td>0.8580</td>\n",
       "      <td>0.7078</td>\n",
       "      <td>0.5337</td>\n",
       "      <td>0.5697</td>\n",
       "      <td>0.59</td>\n",
       "      <td>False</td>\n",
       "    </tr>\n",
       "    <tr>\n",
       "      <td>2</td>\n",
       "      <td>DecisionTreeClassifier</td>\n",
       "      <td>Balanced, depth: 5</td>\n",
       "      <td>0.8105</td>\n",
       "      <td>0.7588</td>\n",
       "      <td>0.5809</td>\n",
       "      <td>0.5964</td>\n",
       "      <td>0.59</td>\n",
       "      <td>True</td>\n",
       "    </tr>\n",
       "    <tr>\n",
       "      <td>3</td>\n",
       "      <td>LogisticRegression</td>\n",
       "      <td>Balanced</td>\n",
       "      <td>0.7020</td>\n",
       "      <td>0.6946</td>\n",
       "      <td>0.4788</td>\n",
       "      <td>0.4889</td>\n",
       "      <td>0.59</td>\n",
       "      <td>False</td>\n",
       "    </tr>\n",
       "    <tr>\n",
       "      <td>4</td>\n",
       "      <td>RandomForestClassifier</td>\n",
       "      <td>Balanced, depth: 9</td>\n",
       "      <td>0.8400</td>\n",
       "      <td>0.7721</td>\n",
       "      <td>0.6030</td>\n",
       "      <td>0.6313</td>\n",
       "      <td>0.59</td>\n",
       "      <td>True</td>\n",
       "    </tr>\n",
       "    <tr>\n",
       "      <td>5</td>\n",
       "      <td>LogisticRegression</td>\n",
       "      <td>Balanced, upsampled</td>\n",
       "      <td>0.7020</td>\n",
       "      <td>0.6946</td>\n",
       "      <td>0.4788</td>\n",
       "      <td>0.4889</td>\n",
       "      <td>0.59</td>\n",
       "      <td>False</td>\n",
       "    </tr>\n",
       "    <tr>\n",
       "      <td>6</td>\n",
       "      <td>DecisionTreeClassifier</td>\n",
       "      <td>Balanced, upsampled, depth: 5</td>\n",
       "      <td>0.8105</td>\n",
       "      <td>0.7588</td>\n",
       "      <td>0.5809</td>\n",
       "      <td>0.5964</td>\n",
       "      <td>0.59</td>\n",
       "      <td>True</td>\n",
       "    </tr>\n",
       "    <tr>\n",
       "      <td>7</td>\n",
       "      <td>RandomForestClassifier</td>\n",
       "      <td>Balanced,upsampled, depth: 7</td>\n",
       "      <td>0.8175</td>\n",
       "      <td>0.7825</td>\n",
       "      <td>0.6054</td>\n",
       "      <td>0.6233</td>\n",
       "      <td>0.59</td>\n",
       "      <td>True</td>\n",
       "    </tr>\n",
       "    <tr>\n",
       "      <td>8</td>\n",
       "      <td>RandomForestClassifier</td>\n",
       "      <td>Balanced, downsampled</td>\n",
       "      <td>0.8095</td>\n",
       "      <td>0.7757</td>\n",
       "      <td>0.6047</td>\n",
       "      <td>0.6116</td>\n",
       "      <td>0.59</td>\n",
       "      <td>True</td>\n",
       "    </tr>\n",
       "    <tr>\n",
       "      <td>9</td>\n",
       "      <td>DecisionTreeClassifier</td>\n",
       "      <td>Balanced, downsampled, depth: 5</td>\n",
       "      <td>0.8110</td>\n",
       "      <td>0.7591</td>\n",
       "      <td>0.5795</td>\n",
       "      <td>0.5970</td>\n",
       "      <td>0.59</td>\n",
       "      <td>True</td>\n",
       "    </tr>\n",
       "  </tbody>\n",
       "</table>\n",
       "</div>"
      ],
      "text/plain": [
       "                   method                  hyperparameters  accuracy_score  \\\n",
       "0      LogisticRegression                             none          0.8020   \n",
       "1  DecisionTreeClassifier                         depth: 6          0.8580   \n",
       "2  DecisionTreeClassifier               Balanced, depth: 5          0.8105   \n",
       "3      LogisticRegression                         Balanced          0.7020   \n",
       "4  RandomForestClassifier               Balanced, depth: 9          0.8400   \n",
       "5      LogisticRegression              Balanced, upsampled          0.7020   \n",
       "6  DecisionTreeClassifier    Balanced, upsampled, depth: 5          0.8105   \n",
       "7  RandomForestClassifier     Balanced,upsampled, depth: 7          0.8175   \n",
       "8  RandomForestClassifier            Balanced, downsampled          0.8095   \n",
       "9  DecisionTreeClassifier  Balanced, downsampled, depth: 5          0.8110   \n",
       "\n",
       "   auc_roc  f1_valid  f1_test  f1_required above_f1_threshold?  \n",
       "0   0.5932    0.2748   0.3311         0.59               False  \n",
       "1   0.7078    0.5337   0.5697         0.59               False  \n",
       "2   0.7588    0.5809   0.5964         0.59                True  \n",
       "3   0.6946    0.4788   0.4889         0.59               False  \n",
       "4   0.7721    0.6030   0.6313         0.59                True  \n",
       "5   0.6946    0.4788   0.4889         0.59               False  \n",
       "6   0.7588    0.5809   0.5964         0.59                True  \n",
       "7   0.7825    0.6054   0.6233         0.59                True  \n",
       "8   0.7757    0.6047   0.6116         0.59                True  \n",
       "9   0.7591    0.5795   0.5970         0.59                True  "
      ]
     },
     "metadata": {},
     "output_type": "display_data"
    }
   ],
   "source": [
    "prevScore=0\n",
    "foundDepth=0\n",
    "for depth in range(1, 10, 1):\n",
    "    model = DecisionTreeClassifier(max_depth=depth, random_state=RANDOM_STATE,class_weight='balanced')\n",
    "    model.fit(features_downsampled, target_downsampled)\n",
    "    predicted_valid = model.predict(features_valid)\n",
    "    scoreR = f1_score(target_valid,predicted_valid)\n",
    "    \n",
    "    print(\"scoreR:\",scoreR,\"Depth:\",depth)\n",
    "    if (scoreR > prevScore):\n",
    "        prevScore=scoreR\n",
    "        foundDepth=depth\n",
    "print('maxDepth',foundDepth)\n",
    "\n",
    "method=\"DecisionTreeClassifier\"\n",
    "hyperparam = \"Balanced, downsampled, depth: \"+str(foundDepth)\n",
    "model = DecisionTreeClassifier(max_depth=foundDepth,class_weight='balanced',random_state=RANDOM_STATE)\n",
    "supervisedModel(model,features_downsampled, target_downsampled,method, hyperparam)"
   ]
  },
  {
   "cell_type": "markdown",
   "metadata": {
    "id": "m9hfX2Hvpvp8"
   },
   "source": [
    "\n",
    "\n",
    "Examine the balance of classes. Train the model without taking into account the imbalance. Briefly describe your findings.\n",
    "Improve the quality of the model. Make sure you use at least two approaches to fixing class imbalance. Use the training set to pick the best parameters. Train different models on training and validation sets. Find the best one. Briefly describe your findings.\n",
    "Perform the final testing.\n"
   ]
  },
  {
   "cell_type": "markdown",
   "metadata": {
    "id": "ms_ef6O7jXYE"
   },
   "source": [
    "# RandomForest with downsample, Hyperparameters: n_estimators, depth, balanced weights"
   ]
  },
  {
   "cell_type": "code",
   "execution_count": 38,
   "metadata": {
    "colab": {
     "base_uri": "https://localhost:8080/",
     "height": 623
    },
    "id": "OuHCxUAsQaR7",
    "outputId": "d1715a1f-d4ea-4552-98e8-8a1df8c88a0e"
   },
   "outputs": [
    {
     "name": "stdout",
     "output_type": "stream",
     "text": [
      "f1Score: 0.5237668161434978 Depth: 1\n",
      "f1Score: 0.5481874447391689 Depth: 2\n",
      "f1Score: 0.557347670250896 Depth: 3\n",
      "f1Score: 0.5853658536585366 Depth: 4\n",
      "f1Score: 0.5782901056676273 Depth: 5\n",
      "f1Score: 0.5823754789272031 Depth: 6\n",
      "f1Score: 0.5917753259779338 Depth: 7\n",
      "f1Score: 0.6085192697768762 Depth: 8\n",
      "f1Score: 0.6158730158730159 Depth: 9\n",
      "f1Score: 0.6157303370786517 Depth: 10\n",
      "f1Score: 0.6047565118912798 Depth: 11\n",
      "f1Score: 0.59837019790454 Depth: 12\n",
      "f1Score: 0.5938242280285035 Depth: 13\n",
      "f1Score: 0.5926829268292682 Depth: 14\n",
      "f1Score: 0.5806451612903226 Depth: 15\n",
      "maxDepth 9\n"
     ]
    },
    {
     "data": {
      "text/html": [
       "<div>\n",
       "<style scoped>\n",
       "    .dataframe tbody tr th:only-of-type {\n",
       "        vertical-align: middle;\n",
       "    }\n",
       "\n",
       "    .dataframe tbody tr th {\n",
       "        vertical-align: top;\n",
       "    }\n",
       "\n",
       "    .dataframe thead th {\n",
       "        text-align: right;\n",
       "    }\n",
       "</style>\n",
       "<table border=\"1\" class=\"dataframe\">\n",
       "  <thead>\n",
       "    <tr style=\"text-align: right;\">\n",
       "      <th></th>\n",
       "      <th>method</th>\n",
       "      <th>hyperparameters</th>\n",
       "      <th>accuracy_score</th>\n",
       "      <th>auc_roc</th>\n",
       "      <th>f1_valid</th>\n",
       "      <th>f1_test</th>\n",
       "      <th>f1_required</th>\n",
       "      <th>above_f1_threshold?</th>\n",
       "    </tr>\n",
       "  </thead>\n",
       "  <tbody>\n",
       "    <tr>\n",
       "      <td>0</td>\n",
       "      <td>LogisticRegression</td>\n",
       "      <td>none</td>\n",
       "      <td>0.8020</td>\n",
       "      <td>0.5932</td>\n",
       "      <td>0.2748</td>\n",
       "      <td>0.3311</td>\n",
       "      <td>0.59</td>\n",
       "      <td>False</td>\n",
       "    </tr>\n",
       "    <tr>\n",
       "      <td>1</td>\n",
       "      <td>DecisionTreeClassifier</td>\n",
       "      <td>depth: 6</td>\n",
       "      <td>0.8580</td>\n",
       "      <td>0.7078</td>\n",
       "      <td>0.5337</td>\n",
       "      <td>0.5697</td>\n",
       "      <td>0.59</td>\n",
       "      <td>False</td>\n",
       "    </tr>\n",
       "    <tr>\n",
       "      <td>2</td>\n",
       "      <td>DecisionTreeClassifier</td>\n",
       "      <td>Balanced, depth: 5</td>\n",
       "      <td>0.8105</td>\n",
       "      <td>0.7588</td>\n",
       "      <td>0.5809</td>\n",
       "      <td>0.5964</td>\n",
       "      <td>0.59</td>\n",
       "      <td>True</td>\n",
       "    </tr>\n",
       "    <tr>\n",
       "      <td>3</td>\n",
       "      <td>LogisticRegression</td>\n",
       "      <td>Balanced</td>\n",
       "      <td>0.7020</td>\n",
       "      <td>0.6946</td>\n",
       "      <td>0.4788</td>\n",
       "      <td>0.4889</td>\n",
       "      <td>0.59</td>\n",
       "      <td>False</td>\n",
       "    </tr>\n",
       "    <tr>\n",
       "      <td>4</td>\n",
       "      <td>RandomForestClassifier</td>\n",
       "      <td>Balanced, depth: 9</td>\n",
       "      <td>0.8400</td>\n",
       "      <td>0.7721</td>\n",
       "      <td>0.6030</td>\n",
       "      <td>0.6313</td>\n",
       "      <td>0.59</td>\n",
       "      <td>True</td>\n",
       "    </tr>\n",
       "    <tr>\n",
       "      <td>5</td>\n",
       "      <td>LogisticRegression</td>\n",
       "      <td>Balanced, upsampled</td>\n",
       "      <td>0.7020</td>\n",
       "      <td>0.6946</td>\n",
       "      <td>0.4788</td>\n",
       "      <td>0.4889</td>\n",
       "      <td>0.59</td>\n",
       "      <td>False</td>\n",
       "    </tr>\n",
       "    <tr>\n",
       "      <td>6</td>\n",
       "      <td>DecisionTreeClassifier</td>\n",
       "      <td>Balanced, upsampled, depth: 5</td>\n",
       "      <td>0.8105</td>\n",
       "      <td>0.7588</td>\n",
       "      <td>0.5809</td>\n",
       "      <td>0.5964</td>\n",
       "      <td>0.59</td>\n",
       "      <td>True</td>\n",
       "    </tr>\n",
       "    <tr>\n",
       "      <td>7</td>\n",
       "      <td>RandomForestClassifier</td>\n",
       "      <td>Balanced,upsampled, depth: 7</td>\n",
       "      <td>0.8175</td>\n",
       "      <td>0.7825</td>\n",
       "      <td>0.6054</td>\n",
       "      <td>0.6233</td>\n",
       "      <td>0.59</td>\n",
       "      <td>True</td>\n",
       "    </tr>\n",
       "    <tr>\n",
       "      <td>8</td>\n",
       "      <td>RandomForestClassifier</td>\n",
       "      <td>Balanced, downsampled</td>\n",
       "      <td>0.8095</td>\n",
       "      <td>0.7757</td>\n",
       "      <td>0.6047</td>\n",
       "      <td>0.6116</td>\n",
       "      <td>0.59</td>\n",
       "      <td>True</td>\n",
       "    </tr>\n",
       "    <tr>\n",
       "      <td>9</td>\n",
       "      <td>DecisionTreeClassifier</td>\n",
       "      <td>Balanced, downsampled, depth: 5</td>\n",
       "      <td>0.8110</td>\n",
       "      <td>0.7591</td>\n",
       "      <td>0.5795</td>\n",
       "      <td>0.5970</td>\n",
       "      <td>0.59</td>\n",
       "      <td>True</td>\n",
       "    </tr>\n",
       "    <tr>\n",
       "      <td>10</td>\n",
       "      <td>RandomForestClassifier</td>\n",
       "      <td>Balanced, downsampled, depth: 9</td>\n",
       "      <td>0.8250</td>\n",
       "      <td>0.7785</td>\n",
       "      <td>0.6144</td>\n",
       "      <td>0.6253</td>\n",
       "      <td>0.59</td>\n",
       "      <td>True</td>\n",
       "    </tr>\n",
       "  </tbody>\n",
       "</table>\n",
       "</div>"
      ],
      "text/plain": [
       "                    method                  hyperparameters  accuracy_score  \\\n",
       "0       LogisticRegression                             none          0.8020   \n",
       "1   DecisionTreeClassifier                         depth: 6          0.8580   \n",
       "2   DecisionTreeClassifier               Balanced, depth: 5          0.8105   \n",
       "3       LogisticRegression                         Balanced          0.7020   \n",
       "4   RandomForestClassifier               Balanced, depth: 9          0.8400   \n",
       "5       LogisticRegression              Balanced, upsampled          0.7020   \n",
       "6   DecisionTreeClassifier    Balanced, upsampled, depth: 5          0.8105   \n",
       "7   RandomForestClassifier     Balanced,upsampled, depth: 7          0.8175   \n",
       "8   RandomForestClassifier            Balanced, downsampled          0.8095   \n",
       "9   DecisionTreeClassifier  Balanced, downsampled, depth: 5          0.8110   \n",
       "10  RandomForestClassifier  Balanced, downsampled, depth: 9          0.8250   \n",
       "\n",
       "    auc_roc  f1_valid  f1_test  f1_required above_f1_threshold?  \n",
       "0    0.5932    0.2748   0.3311         0.59               False  \n",
       "1    0.7078    0.5337   0.5697         0.59               False  \n",
       "2    0.7588    0.5809   0.5964         0.59                True  \n",
       "3    0.6946    0.4788   0.4889         0.59               False  \n",
       "4    0.7721    0.6030   0.6313         0.59                True  \n",
       "5    0.6946    0.4788   0.4889         0.59               False  \n",
       "6    0.7588    0.5809   0.5964         0.59                True  \n",
       "7    0.7825    0.6054   0.6233         0.59                True  \n",
       "8    0.7757    0.6047   0.6116         0.59                True  \n",
       "9    0.7591    0.5795   0.5970         0.59                True  \n",
       "10   0.7785    0.6144   0.6253         0.59                True  "
      ]
     },
     "metadata": {},
     "output_type": "display_data"
    }
   ],
   "source": [
    "from sklearn.ensemble import RandomForestClassifier\n",
    "prevScore=0.0\n",
    "foundDepth=0\n",
    "for depth in range(1, 16, 1):\n",
    "    model = RandomForestClassifier(n_estimators=20, max_depth=depth, random_state=RANDOM_STATE,  class_weight='balanced')\n",
    "    model.fit(features_downsampled, target_downsampled)\n",
    "    predicted_valid = model.predict(features_valid)\n",
    "    f1_scor = f1_score(target_valid,predicted_valid)\n",
    "    print(\"f1Score:\",f1_scor,\"Depth:\",depth)\n",
    "    if (f1_scor > prevScore):\n",
    "        prevScore=f1_scor\n",
    "        foundDepth=depth\n",
    "print('maxDepth',foundDepth)\n",
    "\n",
    "model = RandomForestClassifier(n_estimators=100, max_depth=foundDepth, random_state=RANDOM_STATE,  class_weight='balanced')\n",
    "method=\"RandomForestClassifier\"\n",
    "hyperparam = \"Balanced, downsampled, depth: \"+str(foundDepth)\n",
    "supervisedModel(model,features_downsampled, target_downsampled,method, hyperparam)"
   ]
  },
  {
   "cell_type": "code",
   "execution_count": 39,
   "metadata": {
    "colab": {
     "base_uri": "https://localhost:8080/",
     "height": 363
    },
    "id": "ohGOyRUXpXaT",
    "outputId": "1cec3afc-6db8-47fc-f08b-4be4061be941"
   },
   "outputs": [
    {
     "data": {
      "text/html": [
       "<div>\n",
       "<style scoped>\n",
       "    .dataframe tbody tr th:only-of-type {\n",
       "        vertical-align: middle;\n",
       "    }\n",
       "\n",
       "    .dataframe tbody tr th {\n",
       "        vertical-align: top;\n",
       "    }\n",
       "\n",
       "    .dataframe thead th {\n",
       "        text-align: right;\n",
       "    }\n",
       "</style>\n",
       "<table border=\"1\" class=\"dataframe\">\n",
       "  <thead>\n",
       "    <tr style=\"text-align: right;\">\n",
       "      <th></th>\n",
       "      <th>method</th>\n",
       "      <th>hyperparameters</th>\n",
       "      <th>accuracy_score</th>\n",
       "      <th>auc_roc</th>\n",
       "      <th>f1_valid</th>\n",
       "      <th>f1_test</th>\n",
       "      <th>f1_required</th>\n",
       "      <th>above_f1_threshold?</th>\n",
       "    </tr>\n",
       "  </thead>\n",
       "  <tbody>\n",
       "    <tr>\n",
       "      <td>4</td>\n",
       "      <td>RandomForestClassifier</td>\n",
       "      <td>Balanced, depth: 9</td>\n",
       "      <td>0.8400</td>\n",
       "      <td>0.7721</td>\n",
       "      <td>0.6030</td>\n",
       "      <td>0.6313</td>\n",
       "      <td>0.59</td>\n",
       "      <td>True</td>\n",
       "    </tr>\n",
       "    <tr>\n",
       "      <td>10</td>\n",
       "      <td>RandomForestClassifier</td>\n",
       "      <td>Balanced, downsampled, depth: 9</td>\n",
       "      <td>0.8250</td>\n",
       "      <td>0.7785</td>\n",
       "      <td>0.6144</td>\n",
       "      <td>0.6253</td>\n",
       "      <td>0.59</td>\n",
       "      <td>True</td>\n",
       "    </tr>\n",
       "    <tr>\n",
       "      <td>7</td>\n",
       "      <td>RandomForestClassifier</td>\n",
       "      <td>Balanced,upsampled, depth: 7</td>\n",
       "      <td>0.8175</td>\n",
       "      <td>0.7825</td>\n",
       "      <td>0.6054</td>\n",
       "      <td>0.6233</td>\n",
       "      <td>0.59</td>\n",
       "      <td>True</td>\n",
       "    </tr>\n",
       "    <tr>\n",
       "      <td>8</td>\n",
       "      <td>RandomForestClassifier</td>\n",
       "      <td>Balanced, downsampled</td>\n",
       "      <td>0.8095</td>\n",
       "      <td>0.7757</td>\n",
       "      <td>0.6047</td>\n",
       "      <td>0.6116</td>\n",
       "      <td>0.59</td>\n",
       "      <td>True</td>\n",
       "    </tr>\n",
       "    <tr>\n",
       "      <td>9</td>\n",
       "      <td>DecisionTreeClassifier</td>\n",
       "      <td>Balanced, downsampled, depth: 5</td>\n",
       "      <td>0.8110</td>\n",
       "      <td>0.7591</td>\n",
       "      <td>0.5795</td>\n",
       "      <td>0.5970</td>\n",
       "      <td>0.59</td>\n",
       "      <td>True</td>\n",
       "    </tr>\n",
       "    <tr>\n",
       "      <td>2</td>\n",
       "      <td>DecisionTreeClassifier</td>\n",
       "      <td>Balanced, depth: 5</td>\n",
       "      <td>0.8105</td>\n",
       "      <td>0.7588</td>\n",
       "      <td>0.5809</td>\n",
       "      <td>0.5964</td>\n",
       "      <td>0.59</td>\n",
       "      <td>True</td>\n",
       "    </tr>\n",
       "    <tr>\n",
       "      <td>6</td>\n",
       "      <td>DecisionTreeClassifier</td>\n",
       "      <td>Balanced, upsampled, depth: 5</td>\n",
       "      <td>0.8105</td>\n",
       "      <td>0.7588</td>\n",
       "      <td>0.5809</td>\n",
       "      <td>0.5964</td>\n",
       "      <td>0.59</td>\n",
       "      <td>True</td>\n",
       "    </tr>\n",
       "    <tr>\n",
       "      <td>1</td>\n",
       "      <td>DecisionTreeClassifier</td>\n",
       "      <td>depth: 6</td>\n",
       "      <td>0.8580</td>\n",
       "      <td>0.7078</td>\n",
       "      <td>0.5337</td>\n",
       "      <td>0.5697</td>\n",
       "      <td>0.59</td>\n",
       "      <td>False</td>\n",
       "    </tr>\n",
       "    <tr>\n",
       "      <td>3</td>\n",
       "      <td>LogisticRegression</td>\n",
       "      <td>Balanced</td>\n",
       "      <td>0.7020</td>\n",
       "      <td>0.6946</td>\n",
       "      <td>0.4788</td>\n",
       "      <td>0.4889</td>\n",
       "      <td>0.59</td>\n",
       "      <td>False</td>\n",
       "    </tr>\n",
       "    <tr>\n",
       "      <td>5</td>\n",
       "      <td>LogisticRegression</td>\n",
       "      <td>Balanced, upsampled</td>\n",
       "      <td>0.7020</td>\n",
       "      <td>0.6946</td>\n",
       "      <td>0.4788</td>\n",
       "      <td>0.4889</td>\n",
       "      <td>0.59</td>\n",
       "      <td>False</td>\n",
       "    </tr>\n",
       "    <tr>\n",
       "      <td>0</td>\n",
       "      <td>LogisticRegression</td>\n",
       "      <td>none</td>\n",
       "      <td>0.8020</td>\n",
       "      <td>0.5932</td>\n",
       "      <td>0.2748</td>\n",
       "      <td>0.3311</td>\n",
       "      <td>0.59</td>\n",
       "      <td>False</td>\n",
       "    </tr>\n",
       "  </tbody>\n",
       "</table>\n",
       "</div>"
      ],
      "text/plain": [
       "                    method                  hyperparameters  accuracy_score  \\\n",
       "4   RandomForestClassifier               Balanced, depth: 9          0.8400   \n",
       "10  RandomForestClassifier  Balanced, downsampled, depth: 9          0.8250   \n",
       "7   RandomForestClassifier     Balanced,upsampled, depth: 7          0.8175   \n",
       "8   RandomForestClassifier            Balanced, downsampled          0.8095   \n",
       "9   DecisionTreeClassifier  Balanced, downsampled, depth: 5          0.8110   \n",
       "2   DecisionTreeClassifier               Balanced, depth: 5          0.8105   \n",
       "6   DecisionTreeClassifier    Balanced, upsampled, depth: 5          0.8105   \n",
       "1   DecisionTreeClassifier                         depth: 6          0.8580   \n",
       "3       LogisticRegression                         Balanced          0.7020   \n",
       "5       LogisticRegression              Balanced, upsampled          0.7020   \n",
       "0       LogisticRegression                             none          0.8020   \n",
       "\n",
       "    auc_roc  f1_valid  f1_test  f1_required above_f1_threshold?  \n",
       "4    0.7721    0.6030   0.6313         0.59                True  \n",
       "10   0.7785    0.6144   0.6253         0.59                True  \n",
       "7    0.7825    0.6054   0.6233         0.59                True  \n",
       "8    0.7757    0.6047   0.6116         0.59                True  \n",
       "9    0.7591    0.5795   0.5970         0.59                True  \n",
       "2    0.7588    0.5809   0.5964         0.59                True  \n",
       "6    0.7588    0.5809   0.5964         0.59                True  \n",
       "1    0.7078    0.5337   0.5697         0.59               False  \n",
       "3    0.6946    0.4788   0.4889         0.59               False  \n",
       "5    0.6946    0.4788   0.4889         0.59               False  \n",
       "0    0.5932    0.2748   0.3311         0.59               False  "
      ]
     },
     "execution_count": 39,
     "metadata": {},
     "output_type": "execute_result"
    }
   ],
   "source": [
    "#SORT all classifiers by the f1_score on test dataset\n",
    "df_results = df_results.sort_values(by='f1_test',ascending=False)\n",
    "df_results"
   ]
  },
  {
   "cell_type": "code",
   "execution_count": 40,
   "metadata": {
    "colab": {
     "base_uri": "https://localhost:8080/",
     "height": 483
    },
    "id": "GLwaft_A44wJ",
    "outputId": "b051f8d8-7922-4c5d-ec0e-d9be4ce3fc1d"
   },
   "outputs": [
    {
     "data": {
      "text/plain": [
       "Text(0, 0.5, 'Scores')"
      ]
     },
     "execution_count": 40,
     "metadata": {},
     "output_type": "execute_result"
    },
    {
     "data": {
      "image/png": "[encoded data removed]",
      "text/plain": [
       "<Figure size 864x432 with 1 Axes>"
      ]
     },
     "metadata": {},
     "output_type": "display_data"
    }
   ],
   "source": [
    "df_results.plot(y=['f1_test','accuracy_score','auc_roc'], kind=\"bar\", stacked=True,figsize=(12,6)).legend(loc='best')\n",
    "plt.title(\"Methods and Scores\")\n",
    "plt.xlabel(\"Method\")\n",
    "plt.ylabel(\"Scores\")"
   ]
  },
  {
   "cell_type": "markdown",
   "metadata": {
    "id": "5AymlfiEo57K"
   },
   "source": [
    "# STEP-8: OVERALL CONCLUSION\n",
    "- From the above table, the best classifier I found is \n",
    "  - RandomForestClassifier\tBalanced, depth: 9\n",
    "  - Its f1_score is .6313, accuracy_score> 0.84, auc_roc: .77.\n",
    "  \n",
    "- I will print the auc_roc curve and precision_recall_curve for this classifier."
   ]
  },
  {
   "cell_type": "markdown",
   "metadata": {
    "id": "FGPtH_YovRNV"
   },
   "source": [
    "# ROC curve, Precision-Recall curve for the BEST MODEL\n",
    "RandomForestClassifier with n_estimators=100,max_depth=9, class_weight='balanced'"
   ]
  },
  {
   "cell_type": "code",
   "execution_count": 41,
   "metadata": {
    "colab": {
     "base_uri": "https://localhost:8080/",
     "height": 33
    },
    "id": "5PPYhkw34ZYe",
    "outputId": "d9652de8-e900-4a32-cab5-95cdd3e1f72f"
   },
   "outputs": [
    {
     "name": "stdout",
     "output_type": "stream",
     "text": [
      "[0.11592979 0.66015128 0.38052144 0.213365   0.10582173]\n"
     ]
    }
   ],
   "source": [
    "model = RandomForestClassifier(n_estimators=100, max_depth=9, random_state=RANDOM_STATE,  class_weight='balanced')\n",
    "model.fit(features_train, target_train)\n",
    "probabilities_test = model.predict_proba(features_test)\n",
    "probabilities_one_test = probabilities_test[:, 1]\n",
    "print(probabilities_one_test[:5])"
   ]
  },
  {
   "cell_type": "code",
   "execution_count": 42,
   "metadata": {
    "colab": {
     "base_uri": "https://localhost:8080/",
     "height": 317
    },
    "id": "LpEULswOpvp4",
    "outputId": "d2fc1660-3850-4d71-cac8-0692b393beaa"
   },
   "outputs": [
    {
     "name": "stdout",
     "output_type": "stream",
     "text": [
      "0.8564835257895342\n"
     ]
    },
    {
     "data": {
      "image/png": "[encoded data removed]",
      "text/plain": [
       "<Figure size 432x288 with 1 Axes>"
      ]
     },
     "metadata": {},
     "output_type": "display_data"
    }
   ],
   "source": [
    "#roc curve\n",
    "auc_roc = roc_auc_score(target_test, probabilities_one_test)\n",
    "\n",
    "print(auc_roc)\n",
    "\n",
    "fpr, tpr, thresholds = roc_curve(target_test,probabilities_one_test)\n",
    "\n",
    "plt.figure()\n",
    "# < plot the graph >\n",
    "plt.plot(fpr,tpr)\n",
    "# ROC curve for random model (looks like a straight line)\n",
    "plt.plot([0, 1], [0, 1], linestyle='--')\n",
    "plt.xlim([0.1,1.0])\n",
    "plt.ylim([0.0,1.0])\n",
    "plt.xlabel('False Positive Rate')\n",
    "plt.ylabel('True Positive Rate')\n",
    "plt.title('ROC curve')\n",
    "plt.show()"
   ]
  },
  {
   "cell_type": "code",
   "execution_count": 43,
   "metadata": {
    "colab": {
     "base_uri": "https://localhost:8080/",
     "height": 410
    },
    "id": "9toTx0IvUbla",
    "outputId": "5ef71852-7bfc-4351-9769-0b897959fcb0"
   },
   "outputs": [
    {
     "data": {
      "image/png": "[encoded data removed]",
      "text/plain": [
       "<Figure size 432x432 with 1 Axes>"
      ]
     },
     "metadata": {},
     "output_type": "display_data"
    }
   ],
   "source": [
    "#precision-recall curve\n",
    "precision, recall, thresholds = precision_recall_curve(target_test, probabilities_test[:, 1])\n",
    "plt.figure(figsize=(6, 6))\n",
    "plt.step(recall, precision, where='post')\n",
    "plt.xlabel('Recall')\n",
    "plt.ylabel('Precision')\n",
    "plt.ylim([0.0, 1.05])\n",
    "plt.xlim([0.0, 1.0])\n",
    "plt.title('Precision-Recall Curve')\n",
    "plt.show()"
   ]
  },
  {
   "cell_type": "markdown",
   "metadata": {
    "id": "MPcj2xJevAOq"
   },
   "source": [
    "# CONCLUSION\n",
    "- We have imbalanced data with more 0 Churn values than 1 values.\n",
    "- Using an ROC curve with an imbalanced dataset might be deceptive and lead to incorrect interpretations of the model skill. ROC graphs are based upon TP rate and FP rate, in which each dimension is a strict columnar ratio, so do not depend on class distributions.\n",
    "- The Precision-Recall Plot Is More Informative than the ROC Plot When Evaluating Binary Classifiers on Imbalanced Datasets.\n",
    "- Our ROC curve, and Precision_recall curve depict that our model is very good. - The ROC curve is much higher than the threshold, and the precision_recall curve is high.\n"
   ]
  },
  {
   "cell_type": "markdown",
   "metadata": {
    "id": "hRYad5UBUDhi"
   },
   "source": [
    "\n",
    "# SANITY CHECK\n",
    "- To perform sanity check, lets see if the model has better performance than random classification, or classification for just one class (the majority).\n",
    "- Lets find the larger of the two classes:\n",
    "- We can measure the **precision** of our model (predictions correct / total correct ) \n",
    "\n",
    "### SANITY CHECK ON ENTIRE DATASET"
   ]
  },
  {
   "cell_type": "code",
   "execution_count": 44,
   "metadata": {
    "colab": {
     "base_uri": "https://localhost:8080/"
    },
    "id": "jBbGufVTUDhj",
    "outputId": "5634caed-2e1a-4819-eab9-77db287b1d34"
   },
   "outputs": [
    {
     "name": "stdout",
     "output_type": "stream",
     "text": [
      "0    0.7963\n",
      "1    0.2037\n",
      "Name: Exited, dtype: float64\n"
     ]
    },
    {
     "data": {
      "text/plain": [
       "<matplotlib.axes._subplots.AxesSubplot at 0x7fe62e9c9090>"
      ]
     },
     "execution_count": 44,
     "metadata": {},
     "output_type": "execute_result"
    },
    {
     "data": {
      "image/png": "[encoded data removed]",
      "text/plain": [
       "<Figure size 432x288 with 1 Axes>"
      ]
     },
     "metadata": {},
     "output_type": "display_data"
    }
   ],
   "source": [
    "class_frequency = df['Exited'].value_counts(normalize=True)\n",
    "print(class_frequency)\n",
    "class_frequency.plot(kind='bar')"
   ]
  },
  {
   "cell_type": "markdown",
   "metadata": {
    "id": "T1meD3NRUDhn"
   },
   "source": [
    "- Lets choose the retained clients since that is the larger of the two.\n",
    "- Our best model products a test accuracy of 81%, lets see if the model outperforms the random classification"
   ]
  },
  {
   "cell_type": "code",
   "execution_count": 45,
   "metadata": {
    "colab": {
     "base_uri": "https://localhost:8080/"
    },
    "id": "zIpgmRiAvpN8",
    "outputId": "a3d3578d-7b45-4539-bd2b-1d8ccb0ba0a8"
   },
   "outputs": [
    {
     "name": "stdout",
     "output_type": "stream",
     "text": [
      "Accuracy for the entire dataset of Churn Customers 0.2037\n"
     ]
    }
   ],
   "source": [
    "target = df['Exited']\n",
    "features = df.drop('Exited', axis=1)\n",
    "\n",
    "target_pred_constant = pd.Series([1 for x in range(len(target))], index=target.index)\n",
    "print('Accuracy for the entire dataset of Churn Customers',accuracy_score(target,target_pred_constant))"
   ]
  },
  {
   "cell_type": "markdown",
   "metadata": {
    "id": "u9WT3NO3ybyr"
   },
   "source": [
    "# SANITY CHECK ON TEST DATASET"
   ]
  },
  {
   "cell_type": "code",
   "execution_count": 46,
   "metadata": {
    "colab": {
     "base_uri": "https://localhost:8080/"
    },
    "id": "EMkt-01JUDhn",
    "outputId": "304b3d54-12ec-4689-813a-fa7a085febf5"
   },
   "outputs": [
    {
     "name": "stdout",
     "output_type": "stream",
     "text": [
      "Number of retained customer clients 1582\n",
      "Number of churn clients 418\n",
      "Accuracy of the Retained customer classifier 0.791\n",
      "Accuracy of the Churn customer classifier 0.209\n"
     ]
    }
   ],
   "source": [
    "stay_target = (target_test == 0)\n",
    "exit_target = (target_test == 1)\n",
    "\n",
    "print(\"Number of retained customer clients\", stay_target.sum())\n",
    "print(\"Number of churn clients\", exit_target.sum())\n",
    "accuracy_check = stay_target.sum() / target_test.shape[0]\n",
    "print(\"Accuracy of the Retained customer classifier\", accuracy_check )\n",
    "print(\"Accuracy of the Churn customer classifier\", exit_target.sum() / target_test.shape[0] )"
   ]
  },
  {
   "cell_type": "code",
   "execution_count": 47,
   "metadata": {
    "colab": {
     "base_uri": "https://localhost:8080/"
    },
    "id": "K2cRwqsVoxME",
    "outputId": "c022e5a0-c3f2-40d2-8a25-077c9d845c5b"
   },
   "outputs": [
    {
     "name": "stdout",
     "output_type": "stream",
     "text": [
      "              precision    recall  f1-score   support\n",
      "\n",
      "    Exited 0       0.92      0.86      0.89      1582\n",
      "    Exited 1       0.57      0.70      0.63       418\n",
      "\n",
      "    accuracy                           0.82      2000\n",
      "   macro avg       0.74      0.78      0.76      2000\n",
      "weighted avg       0.84      0.82      0.83      2000\n",
      "\n"
     ]
    }
   ],
   "source": [
    "print(classification_report(target_test, predicted_test, target_names=target_names))"
   ]
  },
  {
   "cell_type": "markdown",
   "metadata": {
    "id": "Ws5uO7PNydYf"
   },
   "source": [
    "# CONCLUSION\n",
    "- The Churn customer base is 20% of the entire test dataset, and 21% of the \n",
    "test dataset.\n",
    "- Our model predicted the retained customers correctly with f1_score of .9, and the churning customers with f1_score of .63. \n"
   ]
  },
  {
   "cell_type": "markdown",
   "metadata": {
    "id": "5AymlfiEo57K"
   },
   "source": [
    "# FINAL CONCLUSION\n",
    "- From the above exercise, the best classifier I found for the Churn.csv dataset:\n",
    "  - RandomForestClassifier\tBalanced, depth: 9\n",
    "  - Its f1_score is .6313, accuracy_score> 0.84, auc_roc: .77.\n",
    "- The auc_roc curve and precision_recall_curve for this classifier were also  optimal."
   ]
  },
  {
   "cell_type": "markdown",
   "metadata": {
    "id": "GujjrFE4pvqD"
   },
   "source": [
    "# Project evaluation\n",
    "We’ve put together the evaluation criteria for the project. Read this carefully before moving on to the task.\n",
    "- X Here’s what the reviewers will look at when reviewing your project:\n",
    "- X How did you prepare the data for training? Have you processed all of the feature types?\n",
    "- X Have you explained the preprocessing steps well enough?\n",
    "- X How did you investigate the balance of classes?\n",
    "- X Did you study the model without taking into account the imbalance of classes?\n",
    "- X What are your findings about the task research?\n",
    "- X Have you correctly split the data into sets?\n",
    "- X How have you worked with the imbalance of classes?\n",
    "- X Did you use at least two techniques for imbalance fixing?\n",
    "- X Have you performed the model training, validation, and final testing correctly?\n",
    "- X How high is your F1 score?\n",
    "- X Did you examine the AUC-ROC values?\n",
    "- X Have you kept to the project structure and kept the code neat?\n"
   ]
  },
  {
   "cell_type": "code",
   "execution_count": null,
   "metadata": {},
   "outputs": [],
   "source": []
  }
 ],
 "metadata": {
  "kernelspec": {
   "display_name": "Python 3",
   "language": "python",
   "name": "python3"
  },
  "language_info": {
   "codemirror_mode": {
    "name": "ipython",
    "version": 3
   },
   "file_extension": ".py",
   "mimetype": "text/x-python",
   "name": "python",
   "nbconvert_exporter": "python",
   "pygments_lexer": "ipython3",
   "version": "3.7.8"
  },
  "toc": {
   "base_numbering": 1,
   "nav_menu": {},
   "number_sections": true,
   "sideBar": true,
   "skip_h1_title": true,
   "title_cell": "Table of Contents",
   "title_sidebar": "Contents",
   "toc_cell": false,
   "toc_position": {},
   "toc_section_display": true,
   "toc_window_display": false
  }
 },
 "nbformat": 4,
 "nbformat_minor": 2
}
