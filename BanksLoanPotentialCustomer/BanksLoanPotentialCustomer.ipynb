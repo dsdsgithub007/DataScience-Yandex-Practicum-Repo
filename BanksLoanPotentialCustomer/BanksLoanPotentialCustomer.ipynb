{
 "cells": [
  {
   "cell_type": "markdown",
   "metadata": {},
   "source": [
    "## Analyzing borrowers’ risk of defaulting\n",
    "\n",
    "Your project is to prepare a report for a bank’s loan division. You’ll need to find out if a customer’s marital status and number of children has an impact on whether they will default on a loan. The bank already has some data on customers’ credit worthiness.\n",
    "\n",
    "Your report will be considered when building a **credit scoring** of a potential customer. A ** credit scoring ** is used to evaluate the ability of a potential borrower to repay their loan."
   ]
  },
  {
   "cell_type": "markdown",
   "metadata": {},
   "source": [
    "### Step 1. Open the data file and have a look at the general information. "
   ]
  },
  {
   "cell_type": "code",
   "execution_count": 62,
   "metadata": {},
   "outputs": [
    {
     "name": "stdout",
     "output_type": "stream",
     "text": [
      "INFORMATION\n",
      "<class 'pandas.core.frame.DataFrame'>\n",
      "RangeIndex: 21525 entries, 0 to 21524\n",
      "Data columns (total 12 columns):\n",
      "children            21525 non-null int64\n",
      "days_employed       19351 non-null float64\n",
      "dob_years           21525 non-null int64\n",
      "education           21525 non-null object\n",
      "education_id        21525 non-null int64\n",
      "family_status       21525 non-null object\n",
      "family_status_id    21525 non-null int64\n",
      "gender              21525 non-null object\n",
      "income_type         21525 non-null object\n",
      "debt                21525 non-null int64\n",
      "total_income        19351 non-null float64\n",
      "purpose             21525 non-null object\n",
      "dtypes: float64(2), int64(5), object(5)\n",
      "memory usage: 2.0+ MB\n",
      "TOP 10 ROWS\n",
      "   children  days_employed  dob_years            education  education_id  \\\n",
      "0         1   -8437.673028         42    bachelor's degree             0   \n",
      "1         1   -4024.803754         36  secondary education             1   \n",
      "2         0   -5623.422610         33  Secondary Education             1   \n",
      "3         3   -4124.747207         32  secondary education             1   \n",
      "4         0  340266.072047         53  secondary education             1   \n",
      "5         0    -926.185831         27    bachelor's degree             0   \n",
      "6         0   -2879.202052         43    bachelor's degree             0   \n",
      "7         0    -152.779569         50  SECONDARY EDUCATION             1   \n",
      "8         2   -6929.865299         35    BACHELOR'S DEGREE             0   \n",
      "9         0   -2188.756445         41  secondary education             1   \n",
      "\n",
      "       family_status  family_status_id gender income_type  debt  total_income  \\\n",
      "0            married                 0      F    employee     0     40620.102   \n",
      "1            married                 0      F    employee     0     17932.802   \n",
      "2            married                 0      M    employee     0     23341.752   \n",
      "3            married                 0      M    employee     0     42820.568   \n",
      "4  civil partnership                 1      F     retiree     0     25378.572   \n",
      "5  civil partnership                 1      M    business     0     40922.170   \n",
      "6            married                 0      F    business     0     38484.156   \n",
      "7            married                 0      M    employee     0     21731.829   \n",
      "8  civil partnership                 1      F    employee     0     15337.093   \n",
      "9            married                 0      M    employee     0     23108.150   \n",
      "\n",
      "                               purpose  \n",
      "0                purchase of the house  \n",
      "1                         car purchase  \n",
      "2                purchase of the house  \n",
      "3              supplementary education  \n",
      "4                    to have a wedding  \n",
      "5                purchase of the house  \n",
      "6                 housing transactions  \n",
      "7                            education  \n",
      "8                     having a wedding  \n",
      "9  purchase of the house for my family  \n",
      "FINAL 10 ROWS\n",
      "       children  days_employed  dob_years            education  education_id  \\\n",
      "21515         1    -467.685130         28  secondary education             1   \n",
      "21516         0    -914.391429         42    bachelor's degree             0   \n",
      "21517         0    -404.679034         42    bachelor's degree             0   \n",
      "21518         0  373995.710838         59  SECONDARY EDUCATION             1   \n",
      "21519         1   -2351.431934         37      graduate degree             4   \n",
      "21520         1   -4529.316663         43  secondary education             1   \n",
      "21521         0  343937.404131         67  secondary education             1   \n",
      "21522         1   -2113.346888         38  secondary education             1   \n",
      "21523         3   -3112.481705         38  secondary education             1   \n",
      "21524         2   -1984.507589         40  secondary education             1   \n",
      "\n",
      "           family_status  family_status_id gender income_type  debt  \\\n",
      "21515            married                 0      F    employee     1   \n",
      "21516            married                 0      F    business     0   \n",
      "21517  civil partnership                 1      F    business     0   \n",
      "21518            married                 0      F     retiree     0   \n",
      "21519           divorced                 3      M    employee     0   \n",
      "21520  civil partnership                 1      F    business     0   \n",
      "21521            married                 0      F     retiree     0   \n",
      "21522  civil partnership                 1      M    employee     1   \n",
      "21523            married                 0      M    employee     1   \n",
      "21524            married                 0      F    employee     0   \n",
      "\n",
      "       total_income                     purpose  \n",
      "21515     17517.812          to become educated  \n",
      "21516     51649.244    purchase of my own house  \n",
      "21517     28489.529           buying my own car  \n",
      "21518     24618.344           purchase of a car  \n",
      "21519     18551.846  buy commercial real estate  \n",
      "21520     35966.698        housing transactions  \n",
      "21521     24959.969           purchase of a car  \n",
      "21522     14347.610                    property  \n",
      "21523     39054.888           buying my own car  \n",
      "21524     13127.587                to buy a car  \n",
      "CREDIT SCORING, COUNT OF COLUMN DATA, NON NULL\n"
     ]
    },
    {
     "data": {
      "text/plain": [
       "children            21525\n",
       "days_employed       19351\n",
       "dob_years           21525\n",
       "education           21525\n",
       "education_id        21525\n",
       "family_status       21525\n",
       "family_status_id    21525\n",
       "gender              21525\n",
       "income_type         21525\n",
       "debt                21525\n",
       "total_income        19351\n",
       "purpose             21525\n",
       "dtype: int64"
      ]
     },
     "execution_count": 62,
     "metadata": {},
     "output_type": "execute_result"
    }
   ],
   "source": [
    "import pandas as pd\n",
    "credit_scoring = pd.read_csv('/datasets/credit_scoring_eng.csv')\n",
    "print('INFORMATION')\n",
    "credit_scoring.info()\n",
    "print('TOP 10 ROWS')\n",
    "print(credit_scoring.head(10))\n",
    "#credit_scoring.head()\n",
    "print('FINAL 10 ROWS')\n",
    "print(credit_scoring.tail(10))\n",
    "#credit_scoring.tail()\n",
    "print('CREDIT SCORING, COUNT OF COLUMN DATA, NON NULL')\n",
    "credit_scoring.count()"
   ]
  },
  {
   "cell_type": "markdown",
   "metadata": {},
   "source": [
    "### Conclusion"
   ]
  },
  {
   "cell_type": "markdown",
   "metadata": {},
   "source": [
    "- Created a dataframe \"credit_scoring\" by reading the file \"/datasets/credit_scoring_eng.csv\".\n",
    "- Loaded the file onto excel sheet to check. The file seems to have some erroneous data that needs to be fixed for processing.\n",
    "- Printed the dataframe info\n",
    "- Printed top 10 rows\n",
    "- Printed final 10 rows\n",
    "- Missing values in days_employed, total_income as shown by .count(). Only 19351 rows have non null data in days_employed, total_income. Total rows are 21525.\n",
    "- days_employed and total_income is float, can be changed to integer\n",
    "- Column 'education' has mixed case values, better to change to same case.\n",
    "\n",
    "07/12/2020\n",
    "- I tried credit_scoring.head(), and credit_scoring.tail(). This doesn't lead to any printout. I tried again by removing all Print statements. Either head or tail worked. Both don't work. Not sure."
   ]
  },
  {
   "cell_type": "markdown",
   "metadata": {},
   "source": [
    " # Step 2. Data preprocessing"
   ]
  },
  {
   "cell_type": "markdown",
   "metadata": {},
   "source": [
    "### Processing missing values"
   ]
  },
  {
   "cell_type": "code",
   "execution_count": 63,
   "metadata": {},
   "outputs": [
    {
     "name": "stdout",
     "output_type": "stream",
     "text": [
      "TOP 10 ROWS\n",
      "   children  days_employed  dob_years            education  education_id  \\\n",
      "0         1   -8437.673028         42    bachelor's degree             0   \n",
      "1         1   -4024.803754         36  secondary education             1   \n",
      "2         0   -5623.422610         33  Secondary Education             1   \n",
      "3         3   -4124.747207         32  secondary education             1   \n",
      "4         0  340266.072047         53  secondary education             1   \n",
      "5         0    -926.185831         27    bachelor's degree             0   \n",
      "6         0   -2879.202052         43    bachelor's degree             0   \n",
      "7         0    -152.779569         50  SECONDARY EDUCATION             1   \n",
      "8         2   -6929.865299         35    BACHELOR'S DEGREE             0   \n",
      "9         0   -2188.756445         41  secondary education             1   \n",
      "\n",
      "       family_status  family_status_id gender income_type  debt  total_income  \\\n",
      "0            married                 0      F    employee     0     40620.102   \n",
      "1            married                 0      F    employee     0     17932.802   \n",
      "2            married                 0      M    employee     0     23341.752   \n",
      "3            married                 0      M    employee     0     42820.568   \n",
      "4  civil partnership                 1      F     retiree     0     25378.572   \n",
      "5  civil partnership                 1      M    business     0     40922.170   \n",
      "6            married                 0      F    business     0     38484.156   \n",
      "7            married                 0      M    employee     0     21731.829   \n",
      "8  civil partnership                 1      F    employee     0     15337.093   \n",
      "9            married                 0      M    employee     0     23108.150   \n",
      "\n",
      "                               purpose  \n",
      "0                purchase of the house  \n",
      "1                         car purchase  \n",
      "2                purchase of the house  \n",
      "3              supplementary education  \n",
      "4                    to have a wedding  \n",
      "5                purchase of the house  \n",
      "6                 housing transactions  \n",
      "7                            education  \n",
      "8                     having a wedding  \n",
      "9  purchase of the house for my family  \n",
      "REPLACE NANs with 0s, CREDIT SCORING, COUNT OF COLUMN DATA, NON NULL children            21525\n",
      "days_employed       21525\n",
      "dob_years           21525\n",
      "education           21525\n",
      "education_id        21525\n",
      "family_status       21525\n",
      "family_status_id    21525\n",
      "gender              21525\n",
      "income_type         21525\n",
      "debt                21525\n",
      "total_income        21525\n",
      "purpose             21525\n",
      "dtype: int64\n",
      "DEBT VALUES [0 1]\n"
     ]
    }
   ],
   "source": [
    "#—Identify and fill in missing values.\n",
    "#credit_scoring.fillna() \n",
    "\n",
    "#fill missing values using fillna(), replace negative children count with 0, replace negative days employed with 0\n",
    "credit_scoring.fillna(0, inplace = True) \n",
    "print('TOP 10 ROWS')\n",
    "print(credit_scoring.head(10))\n",
    "print('REPLACE NANs with 0s, CREDIT SCORING, COUNT OF COLUMN DATA, NON NULL',credit_scoring.count())\n",
    "\n",
    "print('DEBT VALUES',credit_scoring['debt'].unique())"
   ]
  },
  {
   "cell_type": "markdown",
   "metadata": {},
   "source": [
    "### Conclusion"
   ]
  },
  {
   "cell_type": "markdown",
   "metadata": {},
   "source": [
    "Replaced missing values with 0.\n",
    "07/13 - Why replacing missing values with 0:\n",
    "Fill missing values using fillna(). Missing values are in two columns (days_employed, total_income) as per the dataframe rows- \n",
    "children            21525\n",
    "days_employed       19351\n",
    "dob_years           21525\n",
    "education           21525\n",
    "education_id        21525\n",
    "family_status       21525\n",
    "family_status_id    21525\n",
    "gender              21525\n",
    "income_type         21525\n",
    "debt                21525\n",
    "total_income        19351\n",
    "purpose             21525\n",
    "\n",
    "These two columns are numeric, and have null values. Hence replacing them with 0(zero) for further data analysis.\n",
    "\n",
    "After filling missing values, all column data is non null as reflected by .count(). All columns have data in 21525 rows.\n",
    "Printed possible values of \"Debt\" column.\n",
    "Will watch for negative children and negative days_employed. If they impact the analysis, then further decision will be made.\n",
    "\n",
    "07/13 - removed Credit_scoring_refined dataframe reference, changed to credit_scoring dataframe."
   ]
  },
  {
   "cell_type": "markdown",
   "metadata": {},
   "source": [
    "### Data type replacement"
   ]
  },
  {
   "cell_type": "code",
   "execution_count": 64,
   "metadata": {
    "scrolled": true
   },
   "outputs": [
    {
     "name": "stdout",
     "output_type": "stream",
     "text": [
      "INFORMATION\n",
      "<class 'pandas.core.frame.DataFrame'>\n",
      "RangeIndex: 21525 entries, 0 to 21524\n",
      "Data columns (total 12 columns):\n",
      "children            21525 non-null int64\n",
      "days_employed       21525 non-null int64\n",
      "dob_years           21525 non-null int64\n",
      "education           21525 non-null object\n",
      "education_id        21525 non-null int64\n",
      "family_status       21525 non-null object\n",
      "family_status_id    21525 non-null int64\n",
      "gender              21525 non-null object\n",
      "income_type         21525 non-null object\n",
      "debt                21525 non-null int64\n",
      "total_income        21525 non-null int64\n",
      "purpose             21525 non-null object\n",
      "dtypes: int64(7), object(5)\n",
      "memory usage: 2.0+ MB\n",
      "None\n",
      "TOP 10 ROWS\n",
      "   children  days_employed  dob_years            education  education_id  \\\n",
      "0         1          -8437         42    bachelor's degree             0   \n",
      "1         1          -4024         36  secondary education             1   \n",
      "2         0          -5623         33  Secondary Education             1   \n",
      "3         3          -4124         32  secondary education             1   \n",
      "4         0         340266         53  secondary education             1   \n",
      "5         0           -926         27    bachelor's degree             0   \n",
      "6         0          -2879         43    bachelor's degree             0   \n",
      "7         0           -152         50  SECONDARY EDUCATION             1   \n",
      "8         2          -6929         35    BACHELOR'S DEGREE             0   \n",
      "9         0          -2188         41  secondary education             1   \n",
      "\n",
      "       family_status  family_status_id gender income_type  debt  total_income  \\\n",
      "0            married                 0      F    employee     0         40620   \n",
      "1            married                 0      F    employee     0         17932   \n",
      "2            married                 0      M    employee     0         23341   \n",
      "3            married                 0      M    employee     0         42820   \n",
      "4  civil partnership                 1      F     retiree     0         25378   \n",
      "5  civil partnership                 1      M    business     0         40922   \n",
      "6            married                 0      F    business     0         38484   \n",
      "7            married                 0      M    employee     0         21731   \n",
      "8  civil partnership                 1      F    employee     0         15337   \n",
      "9            married                 0      M    employee     0         23108   \n",
      "\n",
      "                               purpose  \n",
      "0                purchase of the house  \n",
      "1                         car purchase  \n",
      "2                purchase of the house  \n",
      "3              supplementary education  \n",
      "4                    to have a wedding  \n",
      "5                purchase of the house  \n",
      "6                 housing transactions  \n",
      "7                            education  \n",
      "8                     having a wedding  \n",
      "9  purchase of the house for my family  \n"
     ]
    }
   ],
   "source": [
    "#—Replace the real number data type with the integer type.\n",
    "try:\n",
    "    credit_scoring['days_employed'] = credit_scoring['days_employed'].astype(int)\n",
    "except:\n",
    "    print('Datatype cannot be changed for days_employed')\n",
    "\n",
    "try:\n",
    "    credit_scoring['total_income'] = credit_scoring['total_income'].astype(int)\n",
    "except:\n",
    "    print('Datatype cannot be changed for total_income')\n",
    "\n",
    "print('INFORMATION')\n",
    "print(credit_scoring.info())\n",
    "print('TOP 10 ROWS')\n",
    "print(credit_scoring.head(10))"
   ]
  },
  {
   "cell_type": "markdown",
   "metadata": {},
   "source": [
    "### Conclusion"
   ]
  },
  {
   "cell_type": "markdown",
   "metadata": {},
   "source": [
    "Changed the data in columns - Days_employed and total_income to integer. Used the try except clause to make sure that the datatype was changed."
   ]
  },
  {
   "cell_type": "markdown",
   "metadata": {},
   "source": [
    "### Processing duplicates"
   ]
  },
  {
   "cell_type": "code",
   "execution_count": 65,
   "metadata": {},
   "outputs": [
    {
     "name": "stdout",
     "output_type": "stream",
     "text": [
      "Rows count with dupes 21525\n",
      "Rows count with samecase dupes removed 21471\n",
      "Rows count after mixed case dupes removed 21454\n",
      "total dupes removed 71\n"
     ]
    }
   ],
   "source": [
    "#—Delete duplicate data.\n",
    "\n",
    "total_rows_with_dupes = credit_scoring['debt'].count()\n",
    "print(\"Rows count with dupes\",total_rows_with_dupes)\n",
    "\n",
    "credit_scoring=credit_scoring.drop_duplicates().reset_index(drop=True)\n",
    "\n",
    "total_rows_with_mixeddupes = credit_scoring['debt'].count()\n",
    "print(\"Rows count with samecase dupes removed\",total_rows_with_mixeddupes)\n",
    "\n",
    "credit_scoring['education']= credit_scoring['education'].str.lower()\n",
    "credit_scoring['income_type']= credit_scoring['income_type'].str.lower()\n",
    "credit_scoring['purpose']= credit_scoring['purpose'].str.lower()\n",
    "\n",
    "credit_scoring=credit_scoring.drop_duplicates().reset_index(drop=True)\n",
    "total_rows_without_dupes = credit_scoring['debt'].count()\n",
    "print('Rows count after mixed case dupes removed',total_rows_without_dupes)\n",
    "print('total dupes removed',total_rows_with_dupes - total_rows_without_dupes)"
   ]
  },
  {
   "cell_type": "markdown",
   "metadata": {},
   "source": [
    "### Conclusion"
   ]
  },
  {
   "cell_type": "markdown",
   "metadata": {},
   "source": [
    "Removed Duplicates:\n",
    "- Initially used drop_duplicates with whatever case was available. Rows reduced from 21525 to 21471\n",
    "- Then changed string to lowercase in three columns that are string objects and removed duplicates using drop_duplicates.\n",
    "- Now have 21454 rows. \n",
    "- Mixed case data should be changed to same case before removal of dupes and data processing. This saves time and effort.\n",
    "Or Pandas should provide an option to remove duplicates while ignoring the \"Case sensitivity\".\n",
    "\n",
    "- The dataframe \"credit_scoring\" is getting better - No Null values, No duplicates, Same lowercase, Data errors reported on children and days_employed < 0, datatypes changed for days_employed, income.\n",
    "\n",
    "- We are ready for categorizing the data for further analysis.\n",
    "\n",
    "07/13 - Removed keep=False. It was a mistake"
   ]
  },
  {
   "cell_type": "markdown",
   "metadata": {},
   "source": [
    "### Categorizing Data"
   ]
  },
  {
   "cell_type": "code",
   "execution_count": 66,
   "metadata": {},
   "outputs": [
    {
     "name": "stdout",
     "output_type": "stream",
     "text": [
      "wedding ceremony                            791\n",
      "having a wedding                            768\n",
      "to have a wedding                           765\n",
      "real estate transactions                    675\n",
      "buy commercial real estate                  661\n",
      "housing transactions                        652\n",
      "buying property for renting out             651\n",
      "transactions with commercial real estate    650\n",
      "purchase of the house                       646\n",
      "housing                                     646\n",
      "purchase of the house for my family         638\n",
      "construction of own property                635\n",
      "property                                    633\n",
      "transactions with my real estate            627\n",
      "building a real estate                      624\n",
      "buy real estate                             621\n",
      "purchase of my own house                    620\n",
      "building a property                         619\n",
      "housing renovation                          607\n",
      "buy residential real estate                 606\n",
      "buying my own car                           505\n",
      "going to university                         496\n",
      "car                                         494\n",
      "second-hand car purchase                    486\n",
      "cars                                        478\n",
      "to own a car                                478\n",
      "buying a second-hand car                    478\n",
      "to buy a car                                471\n",
      "car purchase                                461\n",
      "supplementary education                     460\n",
      "purchase of a car                           455\n",
      "university education                        452\n",
      "education                                   447\n",
      "to get a supplementary education            446\n",
      "getting an education                        442\n",
      "profile education                           436\n",
      "getting higher education                    426\n",
      "to become educated                          408\n",
      "Name: purpose, dtype: int64\n",
      " 0     14091\n",
      " 1      4808\n",
      " 2      2052\n",
      " 3       330\n",
      " 20       76\n",
      "-1        47\n",
      " 4        41\n",
      " 5         9\n",
      "Name: children, dtype: int64\n",
      "secondary education    15172\n",
      "bachelor's degree       5250\n",
      "some college             744\n",
      "primary education        282\n",
      "graduate degree            6\n",
      "Name: education, dtype: int64\n",
      "married              12339\n",
      "civil partnership     4151\n",
      "unmarried             2810\n",
      "divorced              1195\n",
      "widow / widower        959\n",
      "Name: family_status, dtype: int64\n",
      "0         2103\n",
      "19552        7\n",
      "23344        6\n",
      "17855        5\n",
      "15835        5\n",
      "          ... \n",
      "136538       1\n",
      "34136        1\n",
      "101842       1\n",
      "13646        1\n",
      "28678        1\n",
      "Name: total_income, Length: 15389, dtype: int64\n"
     ]
    }
   ],
   "source": [
    "#—Categorize the data.\n",
    "print(credit_scoring['purpose'].value_counts())\n",
    "print(credit_scoring['children'].value_counts())\n",
    "print(credit_scoring['education'].value_counts())\n",
    "print(credit_scoring['family_status'].value_counts())\n",
    "print(credit_scoring['total_income'].value_counts())"
   ]
  },
  {
   "cell_type": "code",
   "execution_count": 67,
   "metadata": {},
   "outputs": [
    {
     "name": "stdout",
     "output_type": "stream",
     "text": [
      "TOTAL ERRONEOUS ROWS FOR DAYS_EMPLOYED, SPECIFIED LESS THAN ZERO:  15906\n",
      "TOTAL ERRONEOUS ROWS FOR CHILDREN, SPECIFIED LESS THAN ZERO:  47\n",
      "TOTAL ERRONEOUS ROWS FOR CHILDREN, SPECIFIED 20 OR MORE:  76\n"
     ]
    }
   ],
   "source": [
    "# Erroneous rows\n",
    "erroneous_rows_children_0 = len(credit_scoring[credit_scoring['children']<0].index)\n",
    "erroneous_rows_children_20 = len(credit_scoring[credit_scoring['children']==20].index)\n",
    "\n",
    "erroneous_rows_days_employed = len(credit_scoring[credit_scoring['days_employed']<0].index)\n",
    "\n",
    "print('TOTAL ERRONEOUS ROWS FOR DAYS_EMPLOYED, SPECIFIED LESS THAN ZERO: ' ,erroneous_rows_days_employed)\n",
    "print('TOTAL ERRONEOUS ROWS FOR CHILDREN, SPECIFIED LESS THAN ZERO: ' , erroneous_rows_children_0)\n",
    "print('TOTAL ERRONEOUS ROWS FOR CHILDREN, SPECIFIED 20 OR MORE: ' , erroneous_rows_children_20)"
   ]
  },
  {
   "cell_type": "code",
   "execution_count": 68,
   "metadata": {},
   "outputs": [
    {
     "name": "stdout",
     "output_type": "stream",
     "text": [
      "FAMILY SIZE CATEGORIES REFINED - FOR CREDIT SCORING\n",
      "a. no children    14138\n",
      "b. children        7316\n",
      "Name: family_size, dtype: int64\n"
     ]
    }
   ],
   "source": [
    "#categorizing the 'family_size' data\n",
    "def categorize_family_size(a):\n",
    "    if  a <= 0 :\n",
    "        return \"a. no children\"\n",
    "    else:\n",
    "        return \"b. children\"\n",
    "            \n",
    "credit_scoring[\"family_size\"] = credit_scoring['children'].apply(categorize_family_size)\n",
    "print('FAMILY SIZE CATEGORIES REFINED - FOR CREDIT SCORING')\n",
    "print(credit_scoring['family_size'].value_counts())"
   ]
  },
  {
   "cell_type": "code",
   "execution_count": 69,
   "metadata": {},
   "outputs": [
    {
     "name": "stdout",
     "output_type": "stream",
     "text": [
      "INCOME CATEGORIES REFINED - FOR CREDIT SCORING\n",
      "b. low income        18031\n",
      "a. no income          2103\n",
      "c. medium income      1221\n",
      "d. high income          71\n",
      "e. very high            22\n",
      "f. extremely high        6\n",
      "Name: income_category, dtype: int64\n"
     ]
    }
   ],
   "source": [
    "#categorizing the 'income' column data 'NO - 0', 'LOW <50K', 'MEDIUM 50-100K','HIGH 100-150K VERY HIGH >150K'\n",
    "def categorize_income(a):\n",
    "    if  a <= 0 :\n",
    "        return \"a. no income\"\n",
    "    elif (a < 50000):\n",
    "        return \"b. low income\"\n",
    "    elif (a < 100000 ):\n",
    "        return \"c. medium income\"\n",
    "    elif (a < 150000):\n",
    "        return \"d. high income\"\n",
    "    elif (a < 250000):\n",
    "        return \"e. very high\"\n",
    "    else:\n",
    "        #print(a)\n",
    "        return 'f. extremely high'\n",
    "            \n",
    "credit_scoring[\"income_category\"] = credit_scoring['total_income'].apply(categorize_income)\n",
    "print('INCOME CATEGORIES REFINED - FOR CREDIT SCORING')\n",
    "print(credit_scoring['income_category'].value_counts())"
   ]
  },
  {
   "cell_type": "code",
   "execution_count": 70,
   "metadata": {},
   "outputs": [
    {
     "name": "stdout",
     "output_type": "stream",
     "text": [
      "PURPOSE CATEGORIES REFINED - FOR CREDIT SCORING\n",
      "mortgage           10811\n",
      "car_purchase        4306\n",
      "education           4013\n",
      "finance_wedding     2324\n",
      "Name: purpose_category, dtype: int64\n"
     ]
    }
   ],
   "source": [
    "#—Categorize the data.\n",
    "\n",
    "#Categorizing the 'purpose' column data\n",
    "def categorize_purpose(a):\n",
    "    if 'car' in a:\n",
    "        return \"car_purchase\"\n",
    "    elif \"wedding\" in a:\n",
    "        return \"finance_wedding\"\n",
    "    elif \"real\" in a or \"house\" in a or \"housing\" in a or \"property\" in a or \"rent\" in a:\n",
    "        return \"mortgage\"\n",
    "    elif \"construction\" in a or \"build\" in a:\n",
    "        return \"construction\"\n",
    "    elif \"education\" in a or \"university\" in a or \"educate\" in a:\n",
    "        return \"education\"\n",
    "    else: \n",
    "        #print(a)\n",
    "        return \"other\"\n",
    "            \n",
    "credit_scoring[\"purpose_category\"] = credit_scoring['purpose'].apply(categorize_purpose)\n",
    "print('PURPOSE CATEGORIES REFINED - FOR CREDIT SCORING')\n",
    "print(credit_scoring['purpose_category'].value_counts())\n",
    "\n",
    "credit_scoring_total_records = len(credit_scoring)"
   ]
  },
  {
   "cell_type": "markdown",
   "metadata": {},
   "source": [
    "### Conclusion"
   ]
  },
  {
   "cell_type": "markdown",
   "metadata": {},
   "source": [
    "ERRONEOUS RECORDS REPORTED FOR CORRECTION:\n",
    "These might be typos in the entry or database,\n",
    "This is erroneous data and is reported for future handling at the entry or database level.\n",
    "\n",
    "Found and reported the number of records with Children < 0. This data should be corrected in the database.\n",
    "The records with total number of children < 0  is 47. -1 may mean  dash 1 (mistakenly put dash)\n",
    "\n",
    "Found and reported the number of records with Children > 2. This data should be corrected in the database.\n",
    "The records with total number of children > 20 is 76. 20 may mean 2 (mistakenly changed to 20).\n",
    "\n",
    "Found and report the number of records with Days_employed < 0. \n",
    "The records with total number of days_employed < 0 is 15906\n",
    "\n",
    "CATEGORIZATION:\n",
    "Categorization done for familysize based on number of children\n",
    "Categorization done for income_category based on amount of income\n",
    "Categorization done for loan purpose_category based on the purpose."
   ]
  },
  {
   "cell_type": "markdown",
   "metadata": {},
   "source": [
    "### Step 3. Answer these questions"
   ]
  },
  {
   "cell_type": "markdown",
   "metadata": {},
   "source": [
    "- Is there a relation between having kids and repaying a loan on time?"
   ]
  },
  {
   "cell_type": "code",
   "execution_count": 71,
   "metadata": {
    "scrolled": false
   },
   "outputs": [
    {
     "name": "stdout",
     "output_type": "stream",
     "text": [
      "debt                0     1  debt_ratio\n",
      "family_size                            \n",
      "a. no children  13074  1064    0.075258\n",
      "b. children      6639   677    0.092537\n"
     ]
    }
   ],
   "source": [
    "credit_scoring_debt = credit_scoring.pivot_table(index=['family_size'], columns=['debt'], aggfunc='size')\n",
    "\n",
    "credit_scoring_total_debt =  credit_scoring_debt[1] + credit_scoring_debt[0]\n",
    "credit_scoring_debt['debt_ratio'] = credit_scoring_debt[1]/credit_scoring_total_debt\n",
    "\n",
    "print(credit_scoring_debt)"
   ]
  },
  {
   "cell_type": "markdown",
   "metadata": {},
   "source": [
    "### Conclusion "
   ]
  },
  {
   "cell_type": "markdown",
   "metadata": {},
   "source": [
    "I don't see any correlation between debt and having kids. I had categorized the familysize into:\n",
    "No Children (children <1)\n",
    "Children (children > 0)\n",
    "\n",
    "Ratio of debt/no-debt for each category is .08-.09. \n",
    "No conclusion between a debt relation to family with/without children."
   ]
  },
  {
   "cell_type": "markdown",
   "metadata": {},
   "source": [
    "- Is there a relation between marital status and repaying a loan on time?"
   ]
  },
  {
   "cell_type": "code",
   "execution_count": 72,
   "metadata": {},
   "outputs": [
    {
     "name": "stdout",
     "output_type": "stream",
     "text": [
      "debt                   0    1  debt_ratio\n",
      "family_status                            \n",
      "civil partnership   3763  388    0.093471\n",
      "divorced            1110   85    0.071130\n",
      "married            11408  931    0.075452\n",
      "unmarried           2536  274    0.097509\n",
      "widow / widower      896   63    0.065693\n",
      "HIGHEST %AGE of DEFAULTS \n"
     ]
    },
    {
     "data": {
      "text/html": [
       "<div>\n",
       "<style scoped>\n",
       "    .dataframe tbody tr th:only-of-type {\n",
       "        vertical-align: middle;\n",
       "    }\n",
       "\n",
       "    .dataframe tbody tr th {\n",
       "        vertical-align: top;\n",
       "    }\n",
       "\n",
       "    .dataframe thead th {\n",
       "        text-align: right;\n",
       "    }\n",
       "</style>\n",
       "<table border=\"1\" class=\"dataframe\">\n",
       "  <thead>\n",
       "    <tr style=\"text-align: right;\">\n",
       "      <th>debt</th>\n",
       "      <th>0</th>\n",
       "      <th>1</th>\n",
       "      <th>debt_ratio</th>\n",
       "    </tr>\n",
       "    <tr>\n",
       "      <th>family_status</th>\n",
       "      <th></th>\n",
       "      <th></th>\n",
       "      <th></th>\n",
       "    </tr>\n",
       "  </thead>\n",
       "  <tbody>\n",
       "    <tr>\n",
       "      <td>civil partnership</td>\n",
       "      <td>3763</td>\n",
       "      <td>388</td>\n",
       "      <td>0.093471</td>\n",
       "    </tr>\n",
       "    <tr>\n",
       "      <td>unmarried</td>\n",
       "      <td>2536</td>\n",
       "      <td>274</td>\n",
       "      <td>0.097509</td>\n",
       "    </tr>\n",
       "  </tbody>\n",
       "</table>\n",
       "</div>"
      ],
      "text/plain": [
       "debt                  0    1  debt_ratio\n",
       "family_status                           \n",
       "civil partnership  3763  388    0.093471\n",
       "unmarried          2536  274    0.097509"
      ]
     },
     "execution_count": 72,
     "metadata": {},
     "output_type": "execute_result"
    }
   ],
   "source": [
    "credit_scoring_debt = credit_scoring.pivot_table(index=['family_status'], columns=['debt'], aggfunc='size')\n",
    "\n",
    "credit_scoring_total_debt =  credit_scoring_debt[1] + credit_scoring_debt[0]\n",
    "credit_scoring_debt['debt_ratio'] = credit_scoring_debt[1]/credit_scoring_total_debt\n",
    "\n",
    "print(credit_scoring_debt)\n",
    "\n",
    "credit_scoring_final_debt_candidates = credit_scoring_debt[credit_scoring_debt['debt_ratio']>0.09]\n",
    "\n",
    "print (\"HIGHEST %AGE of DEFAULTS \")\n",
    "credit_scoring_final_debt_candidates"
   ]
  },
  {
   "cell_type": "markdown",
   "metadata": {},
   "source": [
    "### Conclusion"
   ]
  },
  {
   "cell_type": "markdown",
   "metadata": {},
   "source": [
    "In the family_status category,\n",
    "\"unmarried\" category has the highest number of defaults, followed by \"Civil partnership\". \n",
    "Other categories - divorced, married, widow/er also have high default rates (6-7%)\n",
    "\n",
    "Married category debt% is 9.75%\n",
    "Civil Partnership debt% is 9.34%\n",
    "\n",
    "These are significantly high default rates for the banks. "
   ]
  },
  {
   "cell_type": "markdown",
   "metadata": {},
   "source": [
    "- Is there a relation between income level and repaying a loan on time?"
   ]
  },
  {
   "cell_type": "code",
   "execution_count": 73,
   "metadata": {
    "scrolled": true
   },
   "outputs": [
    {
     "name": "stdout",
     "output_type": "stream",
     "text": [
      "debt                   0     1  debt_ratio\n",
      "income_category                           \n",
      "a. no income        1933   170    0.080837\n",
      "b. low income      16552  1479    0.082025\n",
      "c. medium income    1135    86    0.070434\n",
      "d. high income        67     4    0.056338\n",
      "e. very high          21     1    0.045455\n",
      "f. extremely high      5     1    0.166667\n",
      "HIGHEST %AGE of DEFAULTS \n"
     ]
    },
    {
     "data": {
      "text/html": [
       "<div>\n",
       "<style scoped>\n",
       "    .dataframe tbody tr th:only-of-type {\n",
       "        vertical-align: middle;\n",
       "    }\n",
       "\n",
       "    .dataframe tbody tr th {\n",
       "        vertical-align: top;\n",
       "    }\n",
       "\n",
       "    .dataframe thead th {\n",
       "        text-align: right;\n",
       "    }\n",
       "</style>\n",
       "<table border=\"1\" class=\"dataframe\">\n",
       "  <thead>\n",
       "    <tr style=\"text-align: right;\">\n",
       "      <th>debt</th>\n",
       "      <th>0</th>\n",
       "      <th>1</th>\n",
       "      <th>debt_ratio</th>\n",
       "    </tr>\n",
       "    <tr>\n",
       "      <th>income_category</th>\n",
       "      <th></th>\n",
       "      <th></th>\n",
       "      <th></th>\n",
       "    </tr>\n",
       "  </thead>\n",
       "  <tbody>\n",
       "    <tr>\n",
       "      <td>a. no income</td>\n",
       "      <td>1933</td>\n",
       "      <td>170</td>\n",
       "      <td>0.080837</td>\n",
       "    </tr>\n",
       "    <tr>\n",
       "      <td>b. low income</td>\n",
       "      <td>16552</td>\n",
       "      <td>1479</td>\n",
       "      <td>0.082025</td>\n",
       "    </tr>\n",
       "    <tr>\n",
       "      <td>f. extremely high</td>\n",
       "      <td>5</td>\n",
       "      <td>1</td>\n",
       "      <td>0.166667</td>\n",
       "    </tr>\n",
       "  </tbody>\n",
       "</table>\n",
       "</div>"
      ],
      "text/plain": [
       "debt                   0     1  debt_ratio\n",
       "income_category                           \n",
       "a. no income        1933   170    0.080837\n",
       "b. low income      16552  1479    0.082025\n",
       "f. extremely high      5     1    0.166667"
      ]
     },
     "execution_count": 73,
     "metadata": {},
     "output_type": "execute_result"
    }
   ],
   "source": [
    "credit_scoring_debt = credit_scoring.pivot_table(index=['income_category'], columns=['debt'], aggfunc='size')\n",
    "\n",
    "credit_scoring_total_debt =  credit_scoring_debt[1] + credit_scoring_debt[0]\n",
    "credit_scoring_debt['debt_ratio'] = credit_scoring_debt[1]/credit_scoring_total_debt\n",
    "\n",
    "print(credit_scoring_debt)\n",
    "\n",
    "credit_scoring_final_debt_candidates = credit_scoring_debt[credit_scoring_debt['debt_ratio']>0.08]\n",
    "\n",
    "print (\"HIGHEST %AGE of DEFAULTS \")\n",
    "credit_scoring_final_debt_candidates"
   ]
  },
  {
   "cell_type": "markdown",
   "metadata": {},
   "source": [
    "### Conclusion"
   ]
  },
  {
   "cell_type": "markdown",
   "metadata": {},
   "source": [
    "I had categorized incomes based on:\n",
    "<=0, No income,\n",
    "<50K  - Low income\n",
    "<100K - Medium income\n",
    "<150K - High income\n",
    ">=150K - Extremely high income\n",
    "\n",
    "The extremely high, low and no income group has a high number of defaults.\n",
    "\n",
    "Order of defaults (high to low) is:\n",
    "    extremely high 16.6% (however we have very few of these records so need to be cautious)\n",
    "    low income 8.2%\n",
    "    no income 8.1% "
   ]
  },
  {
   "cell_type": "markdown",
   "metadata": {},
   "source": [
    "- How do different loan purposes affect on-time repayment of the loan?"
   ]
  },
  {
   "cell_type": "code",
   "execution_count": 74,
   "metadata": {},
   "outputs": [
    {
     "name": "stdout",
     "output_type": "stream",
     "text": [
      "debt                  0    1  debt_ratio\n",
      "purpose_category                        \n",
      "car_purchase       3903  403    0.093590\n",
      "education          3643  370    0.092200\n",
      "finance_wedding    2138  186    0.080034\n",
      "mortgage          10029  782    0.072334\n",
      "HIGHEST %AGE of DEFAULTS \n"
     ]
    },
    {
     "data": {
      "text/html": [
       "<div>\n",
       "<style scoped>\n",
       "    .dataframe tbody tr th:only-of-type {\n",
       "        vertical-align: middle;\n",
       "    }\n",
       "\n",
       "    .dataframe tbody tr th {\n",
       "        vertical-align: top;\n",
       "    }\n",
       "\n",
       "    .dataframe thead th {\n",
       "        text-align: right;\n",
       "    }\n",
       "</style>\n",
       "<table border=\"1\" class=\"dataframe\">\n",
       "  <thead>\n",
       "    <tr style=\"text-align: right;\">\n",
       "      <th>debt</th>\n",
       "      <th>0</th>\n",
       "      <th>1</th>\n",
       "      <th>debt_ratio</th>\n",
       "    </tr>\n",
       "    <tr>\n",
       "      <th>purpose_category</th>\n",
       "      <th></th>\n",
       "      <th></th>\n",
       "      <th></th>\n",
       "    </tr>\n",
       "  </thead>\n",
       "  <tbody>\n",
       "    <tr>\n",
       "      <td>car_purchase</td>\n",
       "      <td>3903</td>\n",
       "      <td>403</td>\n",
       "      <td>0.09359</td>\n",
       "    </tr>\n",
       "    <tr>\n",
       "      <td>education</td>\n",
       "      <td>3643</td>\n",
       "      <td>370</td>\n",
       "      <td>0.09220</td>\n",
       "    </tr>\n",
       "  </tbody>\n",
       "</table>\n",
       "</div>"
      ],
      "text/plain": [
       "debt                 0    1  debt_ratio\n",
       "purpose_category                       \n",
       "car_purchase      3903  403     0.09359\n",
       "education         3643  370     0.09220"
      ]
     },
     "execution_count": 74,
     "metadata": {},
     "output_type": "execute_result"
    }
   ],
   "source": [
    "credit_scoring_debt = credit_scoring.pivot_table(index=['purpose_category'], columns=['debt'], aggfunc='size')\n",
    "\n",
    "credit_scoring_total_debt =  credit_scoring_debt[1] + credit_scoring_debt[0]\n",
    "credit_scoring_debt['debt_ratio'] = credit_scoring_debt[1]/credit_scoring_total_debt\n",
    "\n",
    "print(credit_scoring_debt)\n",
    "\n",
    "credit_scoring_final_debt_candidates = credit_scoring_debt[credit_scoring_debt['debt_ratio']>0.09]\n",
    "\n",
    "print (\"HIGHEST %AGE of DEFAULTS \")\n",
    "credit_scoring_final_debt_candidates"
   ]
  },
  {
   "cell_type": "markdown",
   "metadata": {},
   "source": [
    "### Conclusion"
   ]
  },
  {
   "cell_type": "markdown",
   "metadata": {},
   "source": [
    "Loan purpose of car_purchase and education has the highest default rate:\n",
    "car_purchase 9.4% \n",
    "education    9.2%\n",
    "\n",
    "All purpose categories are above 7% so we can assume that all categories are equally defaulting."
   ]
  },
  {
   "cell_type": "markdown",
   "metadata": {},
   "source": [
    "EVALUATION FOR EDUCATION CATEGORY"
   ]
  },
  {
   "cell_type": "code",
   "execution_count": 75,
   "metadata": {},
   "outputs": [
    {
     "name": "stdout",
     "output_type": "stream",
     "text": [
      "debt                       0       1  debt_ratio\n",
      "education                                       \n",
      "bachelor's degree     4972.0   278.0    0.052952\n",
      "graduate degree          6.0     NaN         NaN\n",
      "primary education      251.0    31.0    0.109929\n",
      "secondary education  13808.0  1364.0    0.089902\n",
      "some college           676.0    68.0    0.091398\n",
      "HIGHEST %AGE of DEFAULTS \n"
     ]
    },
    {
     "data": {
      "text/html": [
       "<div>\n",
       "<style scoped>\n",
       "    .dataframe tbody tr th:only-of-type {\n",
       "        vertical-align: middle;\n",
       "    }\n",
       "\n",
       "    .dataframe tbody tr th {\n",
       "        vertical-align: top;\n",
       "    }\n",
       "\n",
       "    .dataframe thead th {\n",
       "        text-align: right;\n",
       "    }\n",
       "</style>\n",
       "<table border=\"1\" class=\"dataframe\">\n",
       "  <thead>\n",
       "    <tr style=\"text-align: right;\">\n",
       "      <th>debt</th>\n",
       "      <th>0</th>\n",
       "      <th>1</th>\n",
       "      <th>debt_ratio</th>\n",
       "    </tr>\n",
       "    <tr>\n",
       "      <th>education</th>\n",
       "      <th></th>\n",
       "      <th></th>\n",
       "      <th></th>\n",
       "    </tr>\n",
       "  </thead>\n",
       "  <tbody>\n",
       "    <tr>\n",
       "      <td>primary education</td>\n",
       "      <td>251.0</td>\n",
       "      <td>31.0</td>\n",
       "      <td>0.109929</td>\n",
       "    </tr>\n",
       "    <tr>\n",
       "      <td>some college</td>\n",
       "      <td>676.0</td>\n",
       "      <td>68.0</td>\n",
       "      <td>0.091398</td>\n",
       "    </tr>\n",
       "  </tbody>\n",
       "</table>\n",
       "</div>"
      ],
      "text/plain": [
       "debt                   0     1  debt_ratio\n",
       "education                                 \n",
       "primary education  251.0  31.0    0.109929\n",
       "some college       676.0  68.0    0.091398"
      ]
     },
     "execution_count": 75,
     "metadata": {},
     "output_type": "execute_result"
    }
   ],
   "source": [
    "credit_scoring_debt = credit_scoring.pivot_table(index=['education'], columns=['debt'], aggfunc='size')\n",
    "\n",
    "credit_scoring_total_debt =  credit_scoring_debt[1] + credit_scoring_debt[0]\n",
    "credit_scoring_debt['debt_ratio'] = credit_scoring_debt[1]/credit_scoring_total_debt\n",
    "\n",
    "print(credit_scoring_debt)\n",
    "\n",
    "credit_scoring_final_debt_candidates = credit_scoring_debt[credit_scoring_debt['debt_ratio']>0.09]\n",
    "\n",
    "print (\"HIGHEST %AGE of DEFAULTS \")\n",
    "credit_scoring_final_debt_candidates"
   ]
  },
  {
   "cell_type": "markdown",
   "metadata": {},
   "source": [
    "Education : Debt highest for \"Primary Education\", \"Some college\" and Secondary Education.\n",
    "\n",
    "Bachelors degree - lowest debt defaults\n",
    "Graduate degree - no defaults"
   ]
  },
  {
   "cell_type": "markdown",
   "metadata": {},
   "source": [
    "EVALUATION FOR COMBINATION CATEGORIES:\n",
    "    INCOME, EDUCATION, FAMILY STATUS\n",
    "    \n",
    "    FIND HIGHEST DEFAULT COMBINATIONS.\n",
    "    FIND DEFAULT COMBINATIONS FOR 20 or MORE PEOPLE DEFAULTING."
   ]
  },
  {
   "cell_type": "code",
   "execution_count": 109,
   "metadata": {},
   "outputs": [
    {
     "name": "stdout",
     "output_type": "stream",
     "text": [
      "HIGHEST %AGE of DEFAULTS \n"
     ]
    },
    {
     "data": {
      "text/html": [
       "<div>\n",
       "<style scoped>\n",
       "    .dataframe tbody tr th:only-of-type {\n",
       "        vertical-align: middle;\n",
       "    }\n",
       "\n",
       "    .dataframe tbody tr th {\n",
       "        vertical-align: top;\n",
       "    }\n",
       "\n",
       "    .dataframe thead th {\n",
       "        text-align: right;\n",
       "    }\n",
       "</style>\n",
       "<table border=\"1\" class=\"dataframe\">\n",
       "  <thead>\n",
       "    <tr style=\"text-align: right;\">\n",
       "      <th></th>\n",
       "      <th></th>\n",
       "      <th>debt</th>\n",
       "      <th>0</th>\n",
       "      <th>1</th>\n",
       "      <th>debt_ratio</th>\n",
       "    </tr>\n",
       "    <tr>\n",
       "      <th>income_category</th>\n",
       "      <th>education</th>\n",
       "      <th>family_status</th>\n",
       "      <th></th>\n",
       "      <th></th>\n",
       "      <th></th>\n",
       "    </tr>\n",
       "  </thead>\n",
       "  <tbody>\n",
       "    <tr>\n",
       "      <td>f. extremely high</td>\n",
       "      <td>bachelor's degree</td>\n",
       "      <td>married</td>\n",
       "      <td>1.0</td>\n",
       "      <td>1.0</td>\n",
       "      <td>0.5</td>\n",
       "    </tr>\n",
       "  </tbody>\n",
       "</table>\n",
       "</div>"
      ],
      "text/plain": [
       "debt                                                 0    1  debt_ratio\n",
       "income_category   education         family_status                      \n",
       "f. extremely high bachelor's degree married        1.0  1.0         0.5"
      ]
     },
     "execution_count": 109,
     "metadata": {},
     "output_type": "execute_result"
    }
   ],
   "source": [
    "credit_scoring_debt = credit_scoring.pivot_table(index=['income_category','education','family_status'], columns=['debt'], aggfunc='size')\n",
    "\n",
    "credit_scoring_total_debt =  credit_scoring_debt[1] + credit_scoring_debt[0]\n",
    "credit_scoring_debt['debt_ratio'] = credit_scoring_debt[1]/credit_scoring_total_debt\n",
    "\n",
    "#print(credit_scoring_debt)\n",
    "\n",
    "credit_scoring_final_debt_candidates = credit_scoring_debt[(credit_scoring_debt['debt_ratio']>0.4)]\n",
    "\n",
    "print (\"HIGHEST %AGE of DEFAULTS \")\n",
    "credit_scoring_final_debt_candidates"
   ]
  },
  {
   "cell_type": "markdown",
   "metadata": {},
   "source": [
    "Combination of the following are high risk outliers as shown above."
   ]
  },
  {
   "cell_type": "code",
   "execution_count": 108,
   "metadata": {},
   "outputs": [
    {
     "name": "stdout",
     "output_type": "stream",
     "text": [
      "HIGHEST %AGE of DEFAULTS \n"
     ]
    },
    {
     "data": {
      "text/html": [
       "<div>\n",
       "<style scoped>\n",
       "    .dataframe tbody tr th:only-of-type {\n",
       "        vertical-align: middle;\n",
       "    }\n",
       "\n",
       "    .dataframe tbody tr th {\n",
       "        vertical-align: top;\n",
       "    }\n",
       "\n",
       "    .dataframe thead th {\n",
       "        text-align: right;\n",
       "    }\n",
       "</style>\n",
       "<table border=\"1\" class=\"dataframe\">\n",
       "  <thead>\n",
       "    <tr style=\"text-align: right;\">\n",
       "      <th></th>\n",
       "      <th></th>\n",
       "      <th>debt</th>\n",
       "      <th>0</th>\n",
       "      <th>1</th>\n",
       "      <th>debt_ratio</th>\n",
       "    </tr>\n",
       "    <tr>\n",
       "      <th>income_category</th>\n",
       "      <th>education</th>\n",
       "      <th>family_status</th>\n",
       "      <th></th>\n",
       "      <th></th>\n",
       "      <th></th>\n",
       "    </tr>\n",
       "  </thead>\n",
       "  <tbody>\n",
       "    <tr>\n",
       "      <td>a. no income</td>\n",
       "      <td>secondary education</td>\n",
       "      <td>civil partnership</td>\n",
       "      <td>258.0</td>\n",
       "      <td>39.0</td>\n",
       "      <td>0.131313</td>\n",
       "    </tr>\n",
       "    <tr>\n",
       "      <td>b. low income</td>\n",
       "      <td>secondary education</td>\n",
       "      <td>unmarried</td>\n",
       "      <td>1361.0</td>\n",
       "      <td>182.0</td>\n",
       "      <td>0.117952</td>\n",
       "    </tr>\n",
       "  </tbody>\n",
       "</table>\n",
       "</div>"
      ],
      "text/plain": [
       "debt                                                        0      1  \\\n",
       "income_category education           family_status                      \n",
       "a. no income    secondary education civil partnership   258.0   39.0   \n",
       "b. low income   secondary education unmarried          1361.0  182.0   \n",
       "\n",
       "debt                                                   debt_ratio  \n",
       "income_category education           family_status                  \n",
       "a. no income    secondary education civil partnership    0.131313  \n",
       "b. low income   secondary education unmarried            0.117952  "
      ]
     },
     "execution_count": 108,
     "metadata": {},
     "output_type": "execute_result"
    }
   ],
   "source": [
    "credit_scoring_debt = credit_scoring.pivot_table(index=['income_category','education','family_status'], columns=['debt'], aggfunc='size')\n",
    "\n",
    "credit_scoring_total_debt =  credit_scoring_debt[1] + credit_scoring_debt[0]\n",
    "credit_scoring_debt['debt_ratio'] = credit_scoring_debt[1]/credit_scoring_total_debt\n",
    "\n",
    "#print(credit_scoring_debt)\n",
    "\n",
    "credit_scoring_final_debt_candidates = credit_scoring_debt[(credit_scoring_debt['debt_ratio']>0.1) & (credit_scoring_debt[1]>20)]\n",
    "\n",
    "print (\"HIGHEST %AGE of DEFAULTS \")\n",
    "credit_scoring_final_debt_candidates\n"
   ]
  },
  {
   "cell_type": "markdown",
   "metadata": {},
   "source": [
    "### Step 4. General conclusion"
   ]
  },
  {
   "cell_type": "markdown",
   "metadata": {},
   "source": [
    "As you see above, Highest %age (based on ratio of debt to total) is in the following:\n",
    "\n",
    "low income\tand extremely high income\n",
    "secondary education or primary education\n",
    "married\t    \n",
    "\n",
    "Combining three Highest Risk categories : \n",
    "OUTLIERS: EXTREMELY HIGH SALARY, BACHELORS DEGREE, MARRIED\n",
    "\n",
    "COMBINATION WITH >30 PEOPE DEFAULTING:\n",
    "Low (or zero) income, Secondary education, Civil partnership or unmarried\n",
    "\n",
    "\"Is there a relation between having kids and repaying a loan on time?\"; NO\n",
    "\"Is there a relation between marital status and repaying a loan on time?\"; YES, UNMARRIED and \"CIVIL PARTNERSHIP\" HAVE HIGHEST LOAN DEFAULTS\n",
    "\"Is there a relation between income level and repaying a loan on time?\"; YES, LOW_INCOME_LEVEL, NO INCOME HAVE THE HIGH LOAN DEFAULTS. EXTREMELY HIGH INCOME HAS THE HIGHEST RATE OF DEFAULTS.\n",
    "\n"
   ]
  },
  {
   "cell_type": "markdown",
   "metadata": {},
   "source": [
    "### Project Readiness Checklist\n",
    "\n",
    "Put 'x' in the completed points. Then press Shift + Enter."
   ]
  },
  {
   "cell_type": "markdown",
   "metadata": {},
   "source": [
    "- [x]  file open;\n",
    "- [x]  file examined;\n",
    "- [x]  missing values defined;\n",
    "- [x]  missing values are filled;\n",
    "- [x]  an explanation of which missing value types were detected;\n",
    "- [x]  explanation for the possible causes of missing values;\n",
    "- [x]  an explanation of how the blanks are filled;\n",
    "- [x]  replaced the real data type with an integer;\n",
    "- [x]  an explanation of which method is used to change the data type and why;\n",
    "- [x]  duplicates deleted;\n",
    "- [x]  an explanation of which method is used to find and remove duplicates;\n",
    "- [x]  description of the possible reasons for the appearance of duplicates in the data;\n",
    "- [x]  data is categorized;\n",
    "- [x]  an explanation of the principle of data categorization;\n",
    "- [x]  an answer to the question \"Is there a relation between having kids and repaying a loan on time?\";\n",
    "- [x]  an answer to the question \" Is there a relation between marital status and repaying a loan on time?\";\n",
    "- [x]   an answer to the question \" Is there a relation between income level and repaying a loan on time?\";\n",
    "- [x]  an answer to the question \" How do different loan purposes affect on-time repayment of the loan?\"\n",
    "- [x]  conclusions are present on each stage;\n",
    "- [x]  a general conclusion is made."
   ]
  },
  {
   "cell_type": "code",
   "execution_count": 81,
   "metadata": {},
   "outputs": [
    {
     "name": "stdout",
     "output_type": "stream",
     "text": [
      "Thank you for evaluating my project, Looking forward to your feedback\n"
     ]
    }
   ],
   "source": [
    "print(\"Thank you for evaluating my project, Looking forward to your feedback\")"
   ]
  },
  {
   "cell_type": "code",
   "execution_count": null,
   "metadata": {},
   "outputs": [],
   "source": []
  }
 ],
 "metadata": {
  "kernelspec": {
   "display_name": "Python 3",
   "language": "python",
   "name": "python3"
  },
  "language_info": {
   "codemirror_mode": {
    "name": "ipython",
    "version": 3
   },
   "file_extension": ".py",
   "mimetype": "text/x-python",
   "name": "python",
   "nbconvert_exporter": "python",
   "pygments_lexer": "ipython3",
   "version": "3.7.8"
  },
  "toc": {
   "base_numbering": 1,
   "nav_menu": {},
   "number_sections": true,
   "sideBar": true,
   "skip_h1_title": true,
   "title_cell": "Table of Contents",
   "title_sidebar": "Contents",
   "toc_cell": false,
   "toc_position": {},
   "toc_section_display": true,
   "toc_window_display": false
  }
 },
 "nbformat": 4,
 "nbformat_minor": 2
}
