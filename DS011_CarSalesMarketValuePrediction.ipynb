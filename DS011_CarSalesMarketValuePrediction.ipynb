{
 "cells": [
  {
   "cell_type": "markdown",
   "metadata": {
    "id": "POMmdvXqceiW"
   },
   "source": [
    "# Project description\n",
    "Rusty Bargain used car sales service is developing an app to attract new customers. In that app, you can quickly find out the market value of your car. You have access to historical data: technical specifications, trim versions, and prices. You need to build the model to determine the value.\n",
    "Rusty Bargain is interested in:\n",
    "- the quality of the prediction\n",
    "- the speed of the prediction\n",
    "- the time required for training"
   ]
  },
  {
   "cell_type": "markdown",
   "metadata": {
    "id": "rUp3V-v2f7Gz"
   },
   "source": [
    "# 1. Data preparation"
   ]
  },
  {
   "cell_type": "code",
   "execution_count": 1,
   "metadata": {
    "colab": {
     "base_uri": "https://localhost:8080/"
    },
    "id": "4-mwsbpzpvpO",
    "outputId": "6f118b43-e777-4a29-bfd5-969d4e451fa8"
   },
   "outputs": [
    {
     "name": "stdout",
     "output_type": "stream",
     "text": [
      "3.7.6 | packaged by conda-forge | (default, Jun  1 2020, 18:57:50) \n",
      "[GCC 7.5.0]\n"
     ]
    }
   ],
   "source": [
    "#Import all libraries\n",
    "import pandas as pd\n",
    "import numpy as np \n",
    "import matplotlib.pyplot as plt\n",
    "import time\n",
    "import seaborn as sns   #visualization\n",
    "sns.set(style=\"ticks\", color_codes=True)\n",
    "\n",
    "import warnings\n",
    "warnings.filterwarnings('ignore')\n",
    "\n",
    "from sklearn.model_selection import train_test_split\n",
    "from sklearn import metrics\n",
    "from sklearn.model_selection import cross_val_score\n",
    "from sklearn.preprocessing import StandardScaler\n",
    "from sklearn.linear_model import LinearRegression\n",
    "from sklearn.tree import DecisionTreeRegressor\n",
    "from sklearn.ensemble import RandomForestRegressor\n",
    "from sklearn.linear_model import Ridge\n",
    "from sklearn.model_selection import GridSearchCV\n",
    "from sklearn.model_selection import cross_val_score\n",
    "from sklearn.model_selection import RepeatedKFold\n",
    "from sklearn.preprocessing import OrdinalEncoder\n",
    "from sklearn.metrics import mean_squared_error\n",
    "from sklearn.metrics import make_scorer\n",
    "from sklearn.model_selection import RepeatedKFold\n",
    "import xgboost as xgb\n",
    "from sklearn.preprocessing import OneHotEncoder\n",
    "##label encoding the data \n",
    "from sklearn.preprocessing import LabelEncoder \n",
    "\n",
    "from lightgbm import LGBMRegressor\n",
    "#from catboost import CatBoostRegressor\n",
    "\n",
    "from sklearn.metrics import r2_score\n",
    "\n",
    "import sys\n",
    "print (sys.version)\n",
    "\n",
    "#define most used variables\n",
    "RANDOM_STATE=12345\n",
    "PRINTING_SEPARATOR = '*' * 100\n",
    "TARGET = 'Price'\n",
    "pd.set_option('display.max_colwidth', -1)"
   ]
  },
  {
   "cell_type": "code",
   "execution_count": 2,
   "metadata": {
    "colab": {
     "base_uri": "https://localhost:8080/"
    },
    "id": "jeslyTF6peOo",
    "outputId": "fbc1fdea-cbe4-4c9b-d57d-04935ac5ec53"
   },
   "outputs": [
    {
     "name": "stdout",
     "output_type": "stream",
     "text": [
      "Defaulting to user installation because normal site-packages is not writeable\n",
      "Requirement already satisfied: catboost in /opt/conda/lib/python3.7/site-packages (0.20.2)\n",
      "Requirement already satisfied: numpy>=1.16.0 in /opt/conda/lib/python3.7/site-packages (from catboost) (1.19.0)\n",
      "Requirement already satisfied: matplotlib in /opt/conda/lib/python3.7/site-packages (from catboost) (3.1.0)\n",
      "Requirement already satisfied: pandas>=0.24.0 in /opt/conda/lib/python3.7/site-packages (from catboost) (0.25.1)\n",
      "Requirement already satisfied: scipy in /opt/conda/lib/python3.7/site-packages (from catboost) (1.4.1)\n",
      "Requirement already satisfied: graphviz in /opt/conda/lib/python3.7/site-packages (from catboost) (0.14.1)\n",
      "Requirement already satisfied: six in /opt/conda/lib/python3.7/site-packages (from catboost) (1.15.0)\n",
      "Requirement already satisfied: plotly in /opt/conda/lib/python3.7/site-packages (from catboost) (4.1.0)\n",
      "Requirement already satisfied: cycler>=0.10 in /opt/conda/lib/python3.7/site-packages (from matplotlib->catboost) (0.10.0)\n",
      "Requirement already satisfied: kiwisolver>=1.0.1 in /opt/conda/lib/python3.7/site-packages (from matplotlib->catboost) (1.2.0)\n",
      "Requirement already satisfied: pyparsing!=2.0.4,!=2.1.2,!=2.1.6,>=2.0.1 in /opt/conda/lib/python3.7/site-packages (from matplotlib->catboost) (2.4.7)\n",
      "Requirement already satisfied: python-dateutil>=2.1 in /opt/conda/lib/python3.7/site-packages (from matplotlib->catboost) (2.8.1)\n",
      "Requirement already satisfied: pytz>=2017.2 in /opt/conda/lib/python3.7/site-packages (from pandas>=0.24.0->catboost) (2020.1)\n",
      "Requirement already satisfied: retrying>=1.3.3 in /opt/conda/lib/python3.7/site-packages (from plotly->catboost) (1.3.3)\n"
     ]
    }
   ],
   "source": [
    "!pip install catboost"
   ]
  },
  {
   "cell_type": "code",
   "execution_count": 3,
   "metadata": {
    "colab": {
     "base_uri": "https://localhost:8080/"
    },
    "id": "ndJ1qhNc6ker",
    "outputId": "15e61ca0-c003-4296-f5e1-b2b730c204ef"
   },
   "outputs": [
    {
     "name": "stdout",
     "output_type": "stream",
     "text": [
      "DEBUG ON\n"
     ]
    }
   ],
   "source": [
    "#I DEFINED A MACRO FOR \"PRINT\" and \"DISPLAY\" FUNCTION using DEBUG FLAG\n",
    "#If DEBUG=0, the PRINT(), DISPLAY() function will print nothing\n",
    "#If DEBUG=1, the PRINT(), DISPLAY() function will work like the standard functions\n",
    "\n",
    "def printNothing(*args):\n",
    "  pass\n",
    "\n",
    "DEBUG=1\n",
    "if (DEBUG):\n",
    "  print('DEBUG ON')\n",
    "  PRINT = print\n",
    "  DISPLAY = display\n",
    "else:\n",
    "  print('DEBUG OFF')\n",
    "  PRINT = printNothing\n",
    "  DISPLAY = printNothing"
   ]
  },
  {
   "cell_type": "code",
   "execution_count": 4,
   "metadata": {
    "id": "HhuvTGKpN0y4"
   },
   "outputs": [],
   "source": [
    "#Use it to print separator between the printing information\n",
    "def PRINT_SEPARATOR():\n",
    "  print(PRINTING_SEPARATOR)\n",
    "  print()"
   ]
  },
  {
   "cell_type": "markdown",
   "metadata": {
    "id": "hjkNcoZc9u2T"
   },
   "source": [
    "## 1.1 CREATE A RESULTS DATAFRAME"
   ]
  },
  {
   "cell_type": "code",
   "execution_count": 5,
   "metadata": {
    "colab": {
     "base_uri": "https://localhost:8080/",
     "height": 49
    },
    "id": "1WKJiM3XeCPn",
    "outputId": "33e8024c-604b-430b-ac2e-3814bbacefc4"
   },
   "outputs": [
    {
     "data": {
      "text/html": [
       "<div>\n",
       "<style scoped>\n",
       "    .dataframe tbody tr th:only-of-type {\n",
       "        vertical-align: middle;\n",
       "    }\n",
       "\n",
       "    .dataframe tbody tr th {\n",
       "        vertical-align: top;\n",
       "    }\n",
       "\n",
       "    .dataframe thead th {\n",
       "        text-align: right;\n",
       "    }\n",
       "</style>\n",
       "<table border=\"1\" class=\"dataframe\">\n",
       "  <thead>\n",
       "    <tr style=\"text-align: right;\">\n",
       "      <th></th>\n",
       "      <th>Model-name</th>\n",
       "      <th>Train-Score</th>\n",
       "      <th>Fit-RunTime (ms)</th>\n",
       "      <th>Predict-RunTime (ms)</th>\n",
       "      <th>RMSE-RunTime (ms)</th>\n",
       "      <th>RMSE</th>\n",
       "      <th>Hyper-Parameters</th>\n",
       "    </tr>\n",
       "  </thead>\n",
       "  <tbody>\n",
       "  </tbody>\n",
       "</table>\n",
       "</div>"
      ],
      "text/plain": [
       "Empty DataFrame\n",
       "Columns: [Model-name, Train-Score, Fit-RunTime (ms), Predict-RunTime (ms), RMSE-RunTime (ms), RMSE, Hyper-Parameters]\n",
       "Index: []"
      ]
     },
     "metadata": {},
     "output_type": "display_data"
    }
   ],
   "source": [
    "#Create a dataframe to dataframe name, Model name and model results\n",
    "\n",
    "column_names = [\"Model-name\",\"Train-Score\",\"Fit-RunTime (ms)\",\"Predict-RunTime (ms)\",'RMSE-RunTime (ms)','RMSE',\"Hyper-Parameters\"]\n",
    "##Intitialize lists data. \n",
    "df_results = pd.DataFrame(columns = column_names)\n",
    "display(df_results)"
   ]
  },
  {
   "cell_type": "markdown",
   "metadata": {
    "id": "jT_2CcNizbEB"
   },
   "source": [
    "## 1.2 Data downloading"
   ]
  },
  {
   "cell_type": "code",
   "execution_count": 6,
   "metadata": {
    "id": "Fv8g25RnpvpV"
   },
   "outputs": [],
   "source": [
    "#Import the file and create the dataset\n",
    "path = '/datasets'\n",
    "\n",
    "#Create dataframe to store the source data\n",
    "dfOriginal = pd.read_csv(path+'/car_data.csv')   #training dataset download"
   ]
  },
  {
   "cell_type": "code",
   "execution_count": 7,
   "metadata": {
    "id": "wZiiaM57kUHJ"
   },
   "outputs": [],
   "source": [
    "def display_information(df):\n",
    "    print('Head:')\n",
    "    print()\n",
    "    display(df.head())\n",
    "    PRINT_SEPARATOR()\n",
    "    print('Info:')\n",
    "    print()\n",
    "    display(df.info())\n",
    "    PRINT_SEPARATOR()\n",
    "    print('Describe:')\n",
    "    print()\n",
    "    display(df.describe())\n",
    "    PRINT_SEPARATOR()\n",
    "    print('Skew Factor')\n",
    "    print(df.skew())\n",
    "    PRINT_SEPARATOR()\n",
    "    print('Columns with nulls:')\n",
    "    display(get_percent_of_na_df(df,4))\n",
    "    PRINT_SEPARATOR()\n",
    "    print('Shape:')\n",
    "    print(df.shape)\n",
    "    PRINT_SEPARATOR()\n",
    "    print('Duplicated:')\n",
    "    print('Duplicate rows:', df.duplicated().sum(), ', Duplicate percentage:', (df.duplicated().sum() * 100 ) /df.shape[0],'%')\n",
    "    \n",
    "def get_percent_of_na_df(df,num):\n",
    "    df_nulls = pd.DataFrame(df.isna().sum(),columns=['Missing Values'])\n",
    "    df_nulls['Percent of Nulls'] = round(df_nulls['Missing Values'] / df.shape[0],num) *100\n",
    "    return df_nulls"
   ]
  },
  {
   "cell_type": "code",
   "execution_count": 8,
   "metadata": {
    "colab": {
     "base_uri": "https://localhost:8080/",
     "height": 1000
    },
    "id": "zht6sYrwtUZS",
    "outputId": "a59e1f3d-b9d1-4b95-f31b-4f3719a57c4a"
   },
   "outputs": [
    {
     "name": "stdout",
     "output_type": "stream",
     "text": [
      "Head:\n",
      "\n"
     ]
    },
    {
     "data": {
      "text/html": [
       "<div>\n",
       "<style scoped>\n",
       "    .dataframe tbody tr th:only-of-type {\n",
       "        vertical-align: middle;\n",
       "    }\n",
       "\n",
       "    .dataframe tbody tr th {\n",
       "        vertical-align: top;\n",
       "    }\n",
       "\n",
       "    .dataframe thead th {\n",
       "        text-align: right;\n",
       "    }\n",
       "</style>\n",
       "<table border=\"1\" class=\"dataframe\">\n",
       "  <thead>\n",
       "    <tr style=\"text-align: right;\">\n",
       "      <th></th>\n",
       "      <th>DateCrawled</th>\n",
       "      <th>Price</th>\n",
       "      <th>VehicleType</th>\n",
       "      <th>RegistrationYear</th>\n",
       "      <th>Gearbox</th>\n",
       "      <th>Power</th>\n",
       "      <th>Model</th>\n",
       "      <th>Mileage</th>\n",
       "      <th>RegistrationMonth</th>\n",
       "      <th>FuelType</th>\n",
       "      <th>Brand</th>\n",
       "      <th>NotRepaired</th>\n",
       "      <th>DateCreated</th>\n",
       "      <th>NumberOfPictures</th>\n",
       "      <th>PostalCode</th>\n",
       "      <th>LastSeen</th>\n",
       "    </tr>\n",
       "  </thead>\n",
       "  <tbody>\n",
       "    <tr>\n",
       "      <td>0</td>\n",
       "      <td>24/03/2016 11:52</td>\n",
       "      <td>480</td>\n",
       "      <td>NaN</td>\n",
       "      <td>1993</td>\n",
       "      <td>manual</td>\n",
       "      <td>0</td>\n",
       "      <td>golf</td>\n",
       "      <td>150000</td>\n",
       "      <td>0</td>\n",
       "      <td>petrol</td>\n",
       "      <td>volkswagen</td>\n",
       "      <td>NaN</td>\n",
       "      <td>24/03/2016 00:00</td>\n",
       "      <td>0</td>\n",
       "      <td>70435</td>\n",
       "      <td>07/04/2016 03:16</td>\n",
       "    </tr>\n",
       "    <tr>\n",
       "      <td>1</td>\n",
       "      <td>24/03/2016 10:58</td>\n",
       "      <td>18300</td>\n",
       "      <td>coupe</td>\n",
       "      <td>2011</td>\n",
       "      <td>manual</td>\n",
       "      <td>190</td>\n",
       "      <td>NaN</td>\n",
       "      <td>125000</td>\n",
       "      <td>5</td>\n",
       "      <td>gasoline</td>\n",
       "      <td>audi</td>\n",
       "      <td>yes</td>\n",
       "      <td>24/03/2016 00:00</td>\n",
       "      <td>0</td>\n",
       "      <td>66954</td>\n",
       "      <td>07/04/2016 01:46</td>\n",
       "    </tr>\n",
       "    <tr>\n",
       "      <td>2</td>\n",
       "      <td>14/03/2016 12:52</td>\n",
       "      <td>9800</td>\n",
       "      <td>suv</td>\n",
       "      <td>2004</td>\n",
       "      <td>auto</td>\n",
       "      <td>163</td>\n",
       "      <td>grand</td>\n",
       "      <td>125000</td>\n",
       "      <td>8</td>\n",
       "      <td>gasoline</td>\n",
       "      <td>jeep</td>\n",
       "      <td>NaN</td>\n",
       "      <td>14/03/2016 00:00</td>\n",
       "      <td>0</td>\n",
       "      <td>90480</td>\n",
       "      <td>05/04/2016 12:47</td>\n",
       "    </tr>\n",
       "    <tr>\n",
       "      <td>3</td>\n",
       "      <td>17/03/2016 16:54</td>\n",
       "      <td>1500</td>\n",
       "      <td>small</td>\n",
       "      <td>2001</td>\n",
       "      <td>manual</td>\n",
       "      <td>75</td>\n",
       "      <td>golf</td>\n",
       "      <td>150000</td>\n",
       "      <td>6</td>\n",
       "      <td>petrol</td>\n",
       "      <td>volkswagen</td>\n",
       "      <td>no</td>\n",
       "      <td>17/03/2016 00:00</td>\n",
       "      <td>0</td>\n",
       "      <td>91074</td>\n",
       "      <td>17/03/2016 17:40</td>\n",
       "    </tr>\n",
       "    <tr>\n",
       "      <td>4</td>\n",
       "      <td>31/03/2016 17:25</td>\n",
       "      <td>3600</td>\n",
       "      <td>small</td>\n",
       "      <td>2008</td>\n",
       "      <td>manual</td>\n",
       "      <td>69</td>\n",
       "      <td>fabia</td>\n",
       "      <td>90000</td>\n",
       "      <td>7</td>\n",
       "      <td>gasoline</td>\n",
       "      <td>skoda</td>\n",
       "      <td>no</td>\n",
       "      <td>31/03/2016 00:00</td>\n",
       "      <td>0</td>\n",
       "      <td>60437</td>\n",
       "      <td>06/04/2016 10:17</td>\n",
       "    </tr>\n",
       "  </tbody>\n",
       "</table>\n",
       "</div>"
      ],
      "text/plain": [
       "        DateCrawled  Price VehicleType  RegistrationYear Gearbox  Power  \\\n",
       "0  24/03/2016 11:52  480    NaN         1993              manual  0       \n",
       "1  24/03/2016 10:58  18300  coupe       2011              manual  190     \n",
       "2  14/03/2016 12:52  9800   suv         2004              auto    163     \n",
       "3  17/03/2016 16:54  1500   small       2001              manual  75      \n",
       "4  31/03/2016 17:25  3600   small       2008              manual  69      \n",
       "\n",
       "   Model  Mileage  RegistrationMonth  FuelType       Brand NotRepaired  \\\n",
       "0  golf   150000   0                  petrol    volkswagen  NaN          \n",
       "1  NaN    125000   5                  gasoline  audi        yes          \n",
       "2  grand  125000   8                  gasoline  jeep        NaN          \n",
       "3  golf   150000   6                  petrol    volkswagen  no           \n",
       "4  fabia  90000    7                  gasoline  skoda       no           \n",
       "\n",
       "        DateCreated  NumberOfPictures  PostalCode          LastSeen  \n",
       "0  24/03/2016 00:00  0                 70435       07/04/2016 03:16  \n",
       "1  24/03/2016 00:00  0                 66954       07/04/2016 01:46  \n",
       "2  14/03/2016 00:00  0                 90480       05/04/2016 12:47  \n",
       "3  17/03/2016 00:00  0                 91074       17/03/2016 17:40  \n",
       "4  31/03/2016 00:00  0                 60437       06/04/2016 10:17  "
      ]
     },
     "metadata": {},
     "output_type": "display_data"
    },
    {
     "name": "stdout",
     "output_type": "stream",
     "text": [
      "****************************************************************************************************\n",
      "\n",
      "Info:\n",
      "\n",
      "<class 'pandas.core.frame.DataFrame'>\n",
      "RangeIndex: 354369 entries, 0 to 354368\n",
      "Data columns (total 16 columns):\n",
      "DateCrawled          354369 non-null object\n",
      "Price                354369 non-null int64\n",
      "VehicleType          316879 non-null object\n",
      "RegistrationYear     354369 non-null int64\n",
      "Gearbox              334536 non-null object\n",
      "Power                354369 non-null int64\n",
      "Model                334664 non-null object\n",
      "Mileage              354369 non-null int64\n",
      "RegistrationMonth    354369 non-null int64\n",
      "FuelType             321474 non-null object\n",
      "Brand                354369 non-null object\n",
      "NotRepaired          283215 non-null object\n",
      "DateCreated          354369 non-null object\n",
      "NumberOfPictures     354369 non-null int64\n",
      "PostalCode           354369 non-null int64\n",
      "LastSeen             354369 non-null object\n",
      "dtypes: int64(7), object(9)\n",
      "memory usage: 43.3+ MB\n"
     ]
    },
    {
     "data": {
      "text/plain": [
       "None"
      ]
     },
     "metadata": {},
     "output_type": "display_data"
    },
    {
     "name": "stdout",
     "output_type": "stream",
     "text": [
      "****************************************************************************************************\n",
      "\n",
      "Describe:\n",
      "\n"
     ]
    },
    {
     "data": {
      "text/html": [
       "<div>\n",
       "<style scoped>\n",
       "    .dataframe tbody tr th:only-of-type {\n",
       "        vertical-align: middle;\n",
       "    }\n",
       "\n",
       "    .dataframe tbody tr th {\n",
       "        vertical-align: top;\n",
       "    }\n",
       "\n",
       "    .dataframe thead th {\n",
       "        text-align: right;\n",
       "    }\n",
       "</style>\n",
       "<table border=\"1\" class=\"dataframe\">\n",
       "  <thead>\n",
       "    <tr style=\"text-align: right;\">\n",
       "      <th></th>\n",
       "      <th>Price</th>\n",
       "      <th>RegistrationYear</th>\n",
       "      <th>Power</th>\n",
       "      <th>Mileage</th>\n",
       "      <th>RegistrationMonth</th>\n",
       "      <th>NumberOfPictures</th>\n",
       "      <th>PostalCode</th>\n",
       "    </tr>\n",
       "  </thead>\n",
       "  <tbody>\n",
       "    <tr>\n",
       "      <td>count</td>\n",
       "      <td>354369.000000</td>\n",
       "      <td>354369.000000</td>\n",
       "      <td>354369.000000</td>\n",
       "      <td>354369.000000</td>\n",
       "      <td>354369.000000</td>\n",
       "      <td>354369.0</td>\n",
       "      <td>354369.000000</td>\n",
       "    </tr>\n",
       "    <tr>\n",
       "      <td>mean</td>\n",
       "      <td>4416.656776</td>\n",
       "      <td>2004.234448</td>\n",
       "      <td>110.094337</td>\n",
       "      <td>128211.172535</td>\n",
       "      <td>5.714645</td>\n",
       "      <td>0.0</td>\n",
       "      <td>50508.689087</td>\n",
       "    </tr>\n",
       "    <tr>\n",
       "      <td>std</td>\n",
       "      <td>4514.158514</td>\n",
       "      <td>90.227958</td>\n",
       "      <td>189.850405</td>\n",
       "      <td>37905.341530</td>\n",
       "      <td>3.726421</td>\n",
       "      <td>0.0</td>\n",
       "      <td>25783.096248</td>\n",
       "    </tr>\n",
       "    <tr>\n",
       "      <td>min</td>\n",
       "      <td>0.000000</td>\n",
       "      <td>1000.000000</td>\n",
       "      <td>0.000000</td>\n",
       "      <td>5000.000000</td>\n",
       "      <td>0.000000</td>\n",
       "      <td>0.0</td>\n",
       "      <td>1067.000000</td>\n",
       "    </tr>\n",
       "    <tr>\n",
       "      <td>25%</td>\n",
       "      <td>1050.000000</td>\n",
       "      <td>1999.000000</td>\n",
       "      <td>69.000000</td>\n",
       "      <td>125000.000000</td>\n",
       "      <td>3.000000</td>\n",
       "      <td>0.0</td>\n",
       "      <td>30165.000000</td>\n",
       "    </tr>\n",
       "    <tr>\n",
       "      <td>50%</td>\n",
       "      <td>2700.000000</td>\n",
       "      <td>2003.000000</td>\n",
       "      <td>105.000000</td>\n",
       "      <td>150000.000000</td>\n",
       "      <td>6.000000</td>\n",
       "      <td>0.0</td>\n",
       "      <td>49413.000000</td>\n",
       "    </tr>\n",
       "    <tr>\n",
       "      <td>75%</td>\n",
       "      <td>6400.000000</td>\n",
       "      <td>2008.000000</td>\n",
       "      <td>143.000000</td>\n",
       "      <td>150000.000000</td>\n",
       "      <td>9.000000</td>\n",
       "      <td>0.0</td>\n",
       "      <td>71083.000000</td>\n",
       "    </tr>\n",
       "    <tr>\n",
       "      <td>max</td>\n",
       "      <td>20000.000000</td>\n",
       "      <td>9999.000000</td>\n",
       "      <td>20000.000000</td>\n",
       "      <td>150000.000000</td>\n",
       "      <td>12.000000</td>\n",
       "      <td>0.0</td>\n",
       "      <td>99998.000000</td>\n",
       "    </tr>\n",
       "  </tbody>\n",
       "</table>\n",
       "</div>"
      ],
      "text/plain": [
       "               Price  RegistrationYear          Power        Mileage  \\\n",
       "count  354369.000000  354369.000000     354369.000000  354369.000000   \n",
       "mean   4416.656776    2004.234448       110.094337     128211.172535   \n",
       "std    4514.158514    90.227958         189.850405     37905.341530    \n",
       "min    0.000000       1000.000000       0.000000       5000.000000     \n",
       "25%    1050.000000    1999.000000       69.000000      125000.000000   \n",
       "50%    2700.000000    2003.000000       105.000000     150000.000000   \n",
       "75%    6400.000000    2008.000000       143.000000     150000.000000   \n",
       "max    20000.000000   9999.000000       20000.000000   150000.000000   \n",
       "\n",
       "       RegistrationMonth  NumberOfPictures     PostalCode  \n",
       "count  354369.000000      354369.0          354369.000000  \n",
       "mean   5.714645           0.0               50508.689087   \n",
       "std    3.726421           0.0               25783.096248   \n",
       "min    0.000000           0.0               1067.000000    \n",
       "25%    3.000000           0.0               30165.000000   \n",
       "50%    6.000000           0.0               49413.000000   \n",
       "75%    9.000000           0.0               71083.000000   \n",
       "max    12.000000          0.0               99998.000000   "
      ]
     },
     "metadata": {},
     "output_type": "display_data"
    },
    {
     "name": "stdout",
     "output_type": "stream",
     "text": [
      "****************************************************************************************************\n",
      "\n",
      "Skew Factor\n",
      "Price                1.430609 \n",
      "RegistrationYear     74.621005\n",
      "Power                60.157196\n",
      "Mileage             -1.724119 \n",
      "RegistrationMonth    0.081207 \n",
      "NumberOfPictures     0.000000 \n",
      "PostalCode           0.077054 \n",
      "dtype: float64\n",
      "****************************************************************************************************\n",
      "\n",
      "Columns with nulls:\n"
     ]
    },
    {
     "data": {
      "text/html": [
       "<div>\n",
       "<style scoped>\n",
       "    .dataframe tbody tr th:only-of-type {\n",
       "        vertical-align: middle;\n",
       "    }\n",
       "\n",
       "    .dataframe tbody tr th {\n",
       "        vertical-align: top;\n",
       "    }\n",
       "\n",
       "    .dataframe thead th {\n",
       "        text-align: right;\n",
       "    }\n",
       "</style>\n",
       "<table border=\"1\" class=\"dataframe\">\n",
       "  <thead>\n",
       "    <tr style=\"text-align: right;\">\n",
       "      <th></th>\n",
       "      <th>Missing Values</th>\n",
       "      <th>Percent of Nulls</th>\n",
       "    </tr>\n",
       "  </thead>\n",
       "  <tbody>\n",
       "    <tr>\n",
       "      <td>DateCrawled</td>\n",
       "      <td>0</td>\n",
       "      <td>0.00</td>\n",
       "    </tr>\n",
       "    <tr>\n",
       "      <td>Price</td>\n",
       "      <td>0</td>\n",
       "      <td>0.00</td>\n",
       "    </tr>\n",
       "    <tr>\n",
       "      <td>VehicleType</td>\n",
       "      <td>37490</td>\n",
       "      <td>10.58</td>\n",
       "    </tr>\n",
       "    <tr>\n",
       "      <td>RegistrationYear</td>\n",
       "      <td>0</td>\n",
       "      <td>0.00</td>\n",
       "    </tr>\n",
       "    <tr>\n",
       "      <td>Gearbox</td>\n",
       "      <td>19833</td>\n",
       "      <td>5.60</td>\n",
       "    </tr>\n",
       "    <tr>\n",
       "      <td>Power</td>\n",
       "      <td>0</td>\n",
       "      <td>0.00</td>\n",
       "    </tr>\n",
       "    <tr>\n",
       "      <td>Model</td>\n",
       "      <td>19705</td>\n",
       "      <td>5.56</td>\n",
       "    </tr>\n",
       "    <tr>\n",
       "      <td>Mileage</td>\n",
       "      <td>0</td>\n",
       "      <td>0.00</td>\n",
       "    </tr>\n",
       "    <tr>\n",
       "      <td>RegistrationMonth</td>\n",
       "      <td>0</td>\n",
       "      <td>0.00</td>\n",
       "    </tr>\n",
       "    <tr>\n",
       "      <td>FuelType</td>\n",
       "      <td>32895</td>\n",
       "      <td>9.28</td>\n",
       "    </tr>\n",
       "    <tr>\n",
       "      <td>Brand</td>\n",
       "      <td>0</td>\n",
       "      <td>0.00</td>\n",
       "    </tr>\n",
       "    <tr>\n",
       "      <td>NotRepaired</td>\n",
       "      <td>71154</td>\n",
       "      <td>20.08</td>\n",
       "    </tr>\n",
       "    <tr>\n",
       "      <td>DateCreated</td>\n",
       "      <td>0</td>\n",
       "      <td>0.00</td>\n",
       "    </tr>\n",
       "    <tr>\n",
       "      <td>NumberOfPictures</td>\n",
       "      <td>0</td>\n",
       "      <td>0.00</td>\n",
       "    </tr>\n",
       "    <tr>\n",
       "      <td>PostalCode</td>\n",
       "      <td>0</td>\n",
       "      <td>0.00</td>\n",
       "    </tr>\n",
       "    <tr>\n",
       "      <td>LastSeen</td>\n",
       "      <td>0</td>\n",
       "      <td>0.00</td>\n",
       "    </tr>\n",
       "  </tbody>\n",
       "</table>\n",
       "</div>"
      ],
      "text/plain": [
       "                   Missing Values  Percent of Nulls\n",
       "DateCrawled        0               0.00            \n",
       "Price              0               0.00            \n",
       "VehicleType        37490           10.58           \n",
       "RegistrationYear   0               0.00            \n",
       "Gearbox            19833           5.60            \n",
       "Power              0               0.00            \n",
       "Model              19705           5.56            \n",
       "Mileage            0               0.00            \n",
       "RegistrationMonth  0               0.00            \n",
       "FuelType           32895           9.28            \n",
       "Brand              0               0.00            \n",
       "NotRepaired        71154           20.08           \n",
       "DateCreated        0               0.00            \n",
       "NumberOfPictures   0               0.00            \n",
       "PostalCode         0               0.00            \n",
       "LastSeen           0               0.00            "
      ]
     },
     "metadata": {},
     "output_type": "display_data"
    },
    {
     "name": "stdout",
     "output_type": "stream",
     "text": [
      "****************************************************************************************************\n",
      "\n",
      "Shape:\n",
      "(354369, 16)\n",
      "****************************************************************************************************\n",
      "\n",
      "Duplicated:\n",
      "Duplicate rows: 262 , Duplicate percentage: 0.07393423239617461 %\n",
      "****************************************************************************************************\n",
      "\n"
     ]
    }
   ],
   "source": [
    "display_information(dfOriginal)\n",
    "PRINT_SEPARATOR()"
   ]
  },
  {
   "cell_type": "markdown",
   "metadata": {
    "id": "0FW_sM8Wplj5"
   },
   "source": [
    "## CONCLUSION\n",
    "- We see 262 duplicated rows, which is 0.07% of the total dataset.\n",
    "- Remove the duplicated rows and check\n",
    "\n",
    "\n",
    "\n",
    "## 1.3 DATA PREPROCESSING: Remove Duplicated Rows\n"
   ]
  },
  {
   "cell_type": "code",
   "execution_count": 9,
   "metadata": {
    "colab": {
     "base_uri": "https://localhost:8080/"
    },
    "id": "8hlERwg-nk4w",
    "outputId": "eb34cf62-e939-4a5e-c1f0-4ab9cd657221"
   },
   "outputs": [
    {
     "name": "stdout",
     "output_type": "stream",
     "text": [
      "(354107, 16)\n",
      "Duplicated:\n",
      "\u001b[1mWe have 262 duplicated rows.\u001b[0m\n"
     ]
    }
   ],
   "source": [
    "df0 = dfOriginal.drop_duplicates()\n",
    "print(df0.shape)\n",
    "\n",
    "print('Duplicated:')\n",
    "print(\"\\033[1m\" + 'We have {} duplicated rows.'.format(dfOriginal.duplicated().sum()) + \"\\033[0m\")"
   ]
  },
  {
   "cell_type": "markdown",
   "metadata": {
    "id": "jM_ObEu-qaRI"
   },
   "source": [
    "## CONCLUSION\n",
    "- No more duplicated rows, removed 262 duplicated rows, which is 0.07% of the total dataset.\n"
   ]
  },
  {
   "cell_type": "markdown",
   "metadata": {
    "id": "M7jIuVzSByu_"
   },
   "source": [
    "DATA PREPROCESSING: Identify and remove/fill Nans"
   ]
  },
  {
   "cell_type": "code",
   "execution_count": 10,
   "metadata": {
    "colab": {
     "base_uri": "https://localhost:8080/",
     "height": 1000
    },
    "id": "9uP6l3bKBzO9",
    "outputId": "cc66b616-078b-4ff3-9c83-326858030778"
   },
   "outputs": [
    {
     "name": "stdout",
     "output_type": "stream",
     "text": [
      "****************************************************************************************************\n",
      "\n"
     ]
    },
    {
     "data": {
      "text/plain": [
       "05/03/2016 14:25    66\n",
       "05/03/2016 14:26    57\n",
       "16/03/2016 18:49    55\n",
       "20/03/2016 11:50    54\n",
       "05/03/2016 14:49    54\n",
       "                    ..\n",
       "23/03/2016 19:28    1 \n",
       "04/04/2016 02:01    1 \n",
       "18/03/2016 21:09    1 \n",
       "11/03/2016 08:50    1 \n",
       "31/03/2016 12:41    1 \n",
       "Name: DateCrawled, Length: 15470, dtype: int64"
      ]
     },
     "metadata": {},
     "output_type": "display_data"
    },
    {
     "name": "stdout",
     "output_type": "stream",
     "text": [
      "****************************************************************************************************\n",
      "\n"
     ]
    },
    {
     "data": {
      "text/plain": [
       "0        10770\n",
       "500      5667 \n",
       "1500     5391 \n",
       "1000     4647 \n",
       "1200     4589 \n",
       "         ...  \n",
       "13440    1    \n",
       "1414     1    \n",
       "8069     1    \n",
       "10370    1    \n",
       "384      1    \n",
       "Name: Price, Length: 3731, dtype: int64"
      ]
     },
     "metadata": {},
     "output_type": "display_data"
    },
    {
     "name": "stdout",
     "output_type": "stream",
     "text": [
      "****************************************************************************************************\n",
      "\n"
     ]
    },
    {
     "data": {
      "text/plain": [
       "sedan          91399\n",
       "small          79753\n",
       "wagon          65115\n",
       "NaN            37484\n",
       "bus            28752\n",
       "convertible    20180\n",
       "coupe          16147\n",
       "suv            11991\n",
       "other          3286 \n",
       "Name: VehicleType, dtype: int64"
      ]
     },
     "metadata": {},
     "output_type": "display_data"
    },
    {
     "name": "stdout",
     "output_type": "stream",
     "text": [
      "****************************************************************************************************\n",
      "\n"
     ]
    },
    {
     "data": {
      "text/plain": [
       "2000    24476\n",
       "1999    22703\n",
       "2005    22094\n",
       "2001    20107\n",
       "2006    19874\n",
       "        ...  \n",
       "3200    1    \n",
       "1920    1    \n",
       "1919    1    \n",
       "1915    1    \n",
       "8455    1    \n",
       "Name: RegistrationYear, Length: 151, dtype: int64"
      ]
     },
     "metadata": {},
     "output_type": "display_data"
    },
    {
     "name": "stdout",
     "output_type": "stream",
     "text": [
      "****************************************************************************************************\n",
      "\n"
     ]
    },
    {
     "data": {
      "text/plain": [
       "manual    268034\n",
       "auto      66243 \n",
       "NaN       19830 \n",
       "Name: Gearbox, dtype: int64"
      ]
     },
     "metadata": {},
     "output_type": "display_data"
    },
    {
     "name": "stdout",
     "output_type": "stream",
     "text": [
      "****************************************************************************************************\n",
      "\n"
     ]
    },
    {
     "data": {
      "text/plain": [
       "0        40218\n",
       "75       24001\n",
       "60       15879\n",
       "150      14571\n",
       "101      13286\n",
       "         ...  \n",
       "16311    1    \n",
       "1360     1    \n",
       "1968     1    \n",
       "6226     1    \n",
       "6006     1    \n",
       "Name: Power, Length: 712, dtype: int64"
      ]
     },
     "metadata": {},
     "output_type": "display_data"
    },
    {
     "name": "stdout",
     "output_type": "stream",
     "text": [
      "****************************************************************************************************\n",
      "\n"
     ]
    },
    {
     "data": {
      "text/plain": [
       "golf                  29215\n",
       "other                 24402\n",
       "3er                   19744\n",
       "NaN                   19701\n",
       "polo                  13057\n",
       "                      ...  \n",
       "serie_2               8    \n",
       "rangerover            4    \n",
       "serie_3               4    \n",
       "serie_1               2    \n",
       "range_rover_evoque    2    \n",
       "Name: Model, Length: 251, dtype: int64"
      ]
     },
     "metadata": {},
     "output_type": "display_data"
    },
    {
     "name": "stdout",
     "output_type": "stream",
     "text": [
      "****************************************************************************************************\n",
      "\n"
     ]
    },
    {
     "data": {
      "text/plain": [
       "150000    238042\n",
       "125000    36424 \n",
       "100000    14869 \n",
       "90000     11555 \n",
       "80000     10036 \n",
       "70000     8589  \n",
       "60000     7439  \n",
       "5000      6396  \n",
       "50000     6225  \n",
       "40000     4905  \n",
       "30000     4434  \n",
       "20000     3972  \n",
       "10000     1221  \n",
       "Name: Mileage, dtype: int64"
      ]
     },
     "metadata": {},
     "output_type": "display_data"
    },
    {
     "name": "stdout",
     "output_type": "stream",
     "text": [
      "****************************************************************************************************\n",
      "\n"
     ]
    },
    {
     "data": {
      "text/plain": [
       "0     37347\n",
       "3     34348\n",
       "6     31471\n",
       "4     29246\n",
       "5     29131\n",
       "7     27186\n",
       "10    26076\n",
       "12    24271\n",
       "11    24167\n",
       "9     23798\n",
       "1     23202\n",
       "8     22610\n",
       "2     21254\n",
       "Name: RegistrationMonth, dtype: int64"
      ]
     },
     "metadata": {},
     "output_type": "display_data"
    },
    {
     "name": "stdout",
     "output_type": "stream",
     "text": [
      "****************************************************************************************************\n",
      "\n"
     ]
    },
    {
     "data": {
      "text/plain": [
       "petrol      216161\n",
       "gasoline    98658 \n",
       "NaN         32889 \n",
       "lpg         5307  \n",
       "cng         565   \n",
       "hybrid      233   \n",
       "other       204   \n",
       "electric    90    \n",
       "Name: FuelType, dtype: int64"
      ]
     },
     "metadata": {},
     "output_type": "display_data"
    },
    {
     "name": "stdout",
     "output_type": "stream",
     "text": [
      "****************************************************************************************************\n",
      "\n"
     ]
    },
    {
     "data": {
      "text/plain": [
       "volkswagen        76960\n",
       "opel              39902\n",
       "bmw               36881\n",
       "mercedes_benz     32025\n",
       "audi              29439\n",
       "ford              25163\n",
       "renault           17915\n",
       "peugeot           10988\n",
       "fiat              9634 \n",
       "seat              6901 \n",
       "mazda             5611 \n",
       "skoda             5490 \n",
       "smart             5241 \n",
       "citroen           5143 \n",
       "nissan            4936 \n",
       "toyota            4601 \n",
       "hyundai           3583 \n",
       "sonstige_autos    3373 \n",
       "volvo             3207 \n",
       "mini              3201 \n",
       "mitsubishi        3022 \n",
       "honda             2817 \n",
       "kia               2463 \n",
       "suzuki            2320 \n",
       "alfa_romeo        2311 \n",
       "chevrolet         1751 \n",
       "chrysler          1439 \n",
       "dacia             898  \n",
       "daihatsu          806  \n",
       "subaru            762  \n",
       "porsche           758  \n",
       "jeep              677  \n",
       "trabant           589  \n",
       "land_rover        545  \n",
       "daewoo            542  \n",
       "saab              526  \n",
       "jaguar            505  \n",
       "rover             486  \n",
       "lancia            471  \n",
       "lada              225  \n",
       "Name: Brand, dtype: int64"
      ]
     },
     "metadata": {},
     "output_type": "display_data"
    },
    {
     "name": "stdout",
     "output_type": "stream",
     "text": [
      "****************************************************************************************************\n",
      "\n"
     ]
    },
    {
     "data": {
      "text/plain": [
       "no     246927\n",
       "NaN    71145 \n",
       "yes    36035 \n",
       "Name: NotRepaired, dtype: int64"
      ]
     },
     "metadata": {},
     "output_type": "display_data"
    },
    {
     "name": "stdout",
     "output_type": "stream",
     "text": [
      "****************************************************************************************************\n",
      "\n"
     ]
    },
    {
     "data": {
      "text/plain": [
       "03/04/2016 00:00    13705\n",
       "04/04/2016 00:00    13301\n",
       "20/03/2016 00:00    12909\n",
       "12/03/2016 00:00    12833\n",
       "21/03/2016 00:00    12681\n",
       "                    ...  \n",
       "10/08/2015 00:00    1    \n",
       "08/01/2016 00:00    1    \n",
       "09/09/2015 00:00    1    \n",
       "18/01/2016 00:00    1    \n",
       "10/11/2015 00:00    1    \n",
       "Name: DateCreated, Length: 109, dtype: int64"
      ]
     },
     "metadata": {},
     "output_type": "display_data"
    },
    {
     "name": "stdout",
     "output_type": "stream",
     "text": [
      "****************************************************************************************************\n",
      "\n"
     ]
    },
    {
     "data": {
      "text/plain": [
       "0    354107\n",
       "Name: NumberOfPictures, dtype: int64"
      ]
     },
     "metadata": {},
     "output_type": "display_data"
    },
    {
     "name": "stdout",
     "output_type": "stream",
     "text": [
      "****************************************************************************************************\n",
      "\n"
     ]
    },
    {
     "data": {
      "text/plain": [
       "10115    819\n",
       "65428    611\n",
       "66333    343\n",
       "32257    316\n",
       "44145    316\n",
       "        ... \n",
       "72655    1  \n",
       "29587    1  \n",
       "29496    1  \n",
       "38528    1  \n",
       "17154    1  \n",
       "Name: PostalCode, Length: 8143, dtype: int64"
      ]
     },
     "metadata": {},
     "output_type": "display_data"
    },
    {
     "name": "stdout",
     "output_type": "stream",
     "text": [
      "****************************************************************************************************\n",
      "\n"
     ]
    },
    {
     "data": {
      "text/plain": [
       "07/04/2016 07:16    653\n",
       "07/04/2016 06:45    646\n",
       "06/04/2016 09:17    641\n",
       "06/04/2016 04:45    640\n",
       "07/04/2016 05:45    639\n",
       "                   ... \n",
       "10/03/2016 11:56    1  \n",
       "28/03/2016 10:21    1  \n",
       "10/03/2016 16:52    1  \n",
       "12/03/2016 10:56    1  \n",
       "29/03/2016 18:31    1  \n",
       "Name: LastSeen, Length: 18592, dtype: int64"
      ]
     },
     "metadata": {},
     "output_type": "display_data"
    }
   ],
   "source": [
    "listOfFields = df0.columns\n",
    "for field in listOfFields:\n",
    "  PRINT_SEPARATOR()\n",
    "  display(df0[field].value_counts(dropna=False))"
   ]
  },
  {
   "cell_type": "code",
   "execution_count": 11,
   "metadata": {
    "colab": {
     "base_uri": "https://localhost:8080/"
    },
    "id": "y3wKaG9-_YiK",
    "outputId": "63946873-234e-48ee-a9d8-8388f84d30e1"
   },
   "outputs": [
    {
     "data": {
      "text/plain": [
       "DateCrawled          0    \n",
       "Price                0    \n",
       "VehicleType          37484\n",
       "RegistrationYear     0    \n",
       "Gearbox              19830\n",
       "Power                0    \n",
       "Model                19701\n",
       "Mileage              0    \n",
       "RegistrationMonth    0    \n",
       "FuelType             32889\n",
       "Brand                0    \n",
       "NotRepaired          71145\n",
       "DateCreated          0    \n",
       "NumberOfPictures     0    \n",
       "PostalCode           0    \n",
       "LastSeen             0    \n",
       "dtype: int64"
      ]
     },
     "execution_count": 11,
     "metadata": {},
     "output_type": "execute_result"
    }
   ],
   "source": [
    "df0.isna().sum()"
   ]
  },
  {
   "cell_type": "markdown",
   "metadata": {
    "id": "D3qo7WN_SqOM"
   },
   "source": [
    "## 1.4 REMOVE OUTLIER RECORDS BASED ON QUANTILES\n"
   ]
  },
  {
   "cell_type": "code",
   "execution_count": 12,
   "metadata": {
    "colab": {
     "base_uri": "https://localhost:8080/",
     "height": 478
    },
    "id": "7u5MqmnaSpfd",
    "outputId": "9be4c645-5234-44a3-e0e0-cb0fe5be17c2"
   },
   "outputs": [
    {
     "name": "stdout",
     "output_type": "stream",
     "text": [
      "Price                5350.0 \n",
      "RegistrationYear     9.0    \n",
      "Power                74.0   \n",
      "Mileage              25000.0\n",
      "RegistrationMonth    6.0    \n",
      "NumberOfPictures     0.0    \n",
      "PostalCode           40918.0\n",
      "dtype: float64\n",
      "22452  records removed using quantile, which is:  6.340456415716154 %\n"
     ]
    },
    {
     "data": {
      "text/plain": [
       "'Original skew factor:'"
      ]
     },
     "metadata": {},
     "output_type": "display_data"
    },
    {
     "data": {
      "text/plain": [
       "Price                1.430729 \n",
       "RegistrationYear     74.593789\n",
       "Power                60.140380\n",
       "Mileage             -1.724262 \n",
       "RegistrationMonth    0.081302 \n",
       "NumberOfPictures     0.000000 \n",
       "PostalCode           0.077137 \n",
       "dtype: float64"
      ]
     },
     "metadata": {},
     "output_type": "display_data"
    },
    {
     "data": {
      "text/plain": [
       "'New Skew factor:'"
      ]
     },
     "metadata": {},
     "output_type": "display_data"
    },
    {
     "data": {
      "text/plain": [
       "Price                1.503449\n",
       "RegistrationYear    -0.170756\n",
       "Power                0.603224\n",
       "Mileage             -1.715706\n",
       "RegistrationMonth    0.074250\n",
       "NumberOfPictures     0.000000\n",
       "PostalCode           0.075796\n",
       "dtype: float64"
      ]
     },
     "metadata": {},
     "output_type": "display_data"
    }
   ],
   "source": [
    "recordsTotal = df0.shape[0]\n",
    "Q1 = df0.quantile(0.25)\n",
    "Q3 = df0.quantile(0.75)\n",
    "IQR = Q3 - Q1\n",
    "\n",
    "print(IQR)\n",
    "\n",
    "#df_out = df0[~((df0 < (Q1 - 1.5 * IQR)) |(df0 > (Q3 + 1.5 * IQR))).any(axis=1)]\n",
    "df_out = df0[~((df0 < (Q1 - 3 * IQR)) |(df0 > (Q3 + 6 * IQR))).any(axis=1)]\n",
    "\n",
    "recordsQuantile = df0.shape[0] - df_out.shape[0]\n",
    "PRINT(recordsQuantile, ' records removed using quantile, which is: ',recordsQuantile*100/recordsTotal , '%' )\n",
    "DISPLAY('Original skew factor:',df0.skew())\n",
    "DISPLAY('New Skew factor:', df_out.skew()) "
   ]
  },
  {
   "cell_type": "markdown",
   "metadata": {
    "id": "GL6YdHuCXtCb"
   },
   "source": [
    "## 1.5 REMOVE COLUMNS THAT WON'T HELP IN PREDICTION"
   ]
  },
  {
   "cell_type": "code",
   "execution_count": 13,
   "metadata": {
    "colab": {
     "base_uri": "https://localhost:8080/",
     "height": 425
    },
    "id": "9MZQiSBbqCPn",
    "outputId": "82ab9747-bd76-4ea7-8b98-2b6645738bdf"
   },
   "outputs": [
    {
     "name": "stdout",
     "output_type": "stream",
     "text": [
      "Price                0    \n",
      "VehicleType          33600\n",
      "RegistrationYear     0    \n",
      "Gearbox              16528\n",
      "Power                0    \n",
      "Model                16824\n",
      "Mileage              0    \n",
      "RegistrationMonth    0    \n",
      "FuelType             29048\n",
      "Brand                0    \n",
      "NotRepaired          65184\n",
      "PostalCode           0    \n",
      "dtype: int64\n"
     ]
    },
    {
     "data": {
      "text/html": [
       "<div>\n",
       "<style scoped>\n",
       "    .dataframe tbody tr th:only-of-type {\n",
       "        vertical-align: middle;\n",
       "    }\n",
       "\n",
       "    .dataframe tbody tr th {\n",
       "        vertical-align: top;\n",
       "    }\n",
       "\n",
       "    .dataframe thead th {\n",
       "        text-align: right;\n",
       "    }\n",
       "</style>\n",
       "<table border=\"1\" class=\"dataframe\">\n",
       "  <thead>\n",
       "    <tr style=\"text-align: right;\">\n",
       "      <th></th>\n",
       "      <th>Price</th>\n",
       "      <th>VehicleType</th>\n",
       "      <th>RegistrationYear</th>\n",
       "      <th>Gearbox</th>\n",
       "      <th>Power</th>\n",
       "      <th>Model</th>\n",
       "      <th>Mileage</th>\n",
       "      <th>RegistrationMonth</th>\n",
       "      <th>FuelType</th>\n",
       "      <th>Brand</th>\n",
       "      <th>NotRepaired</th>\n",
       "      <th>PostalCode</th>\n",
       "    </tr>\n",
       "  </thead>\n",
       "  <tbody>\n",
       "    <tr>\n",
       "      <td>0</td>\n",
       "      <td>480</td>\n",
       "      <td>NaN</td>\n",
       "      <td>1993</td>\n",
       "      <td>manual</td>\n",
       "      <td>0</td>\n",
       "      <td>golf</td>\n",
       "      <td>150000</td>\n",
       "      <td>0</td>\n",
       "      <td>petrol</td>\n",
       "      <td>volkswagen</td>\n",
       "      <td>NaN</td>\n",
       "      <td>70435</td>\n",
       "    </tr>\n",
       "    <tr>\n",
       "      <td>1</td>\n",
       "      <td>18300</td>\n",
       "      <td>coupe</td>\n",
       "      <td>2011</td>\n",
       "      <td>manual</td>\n",
       "      <td>190</td>\n",
       "      <td>NaN</td>\n",
       "      <td>125000</td>\n",
       "      <td>5</td>\n",
       "      <td>gasoline</td>\n",
       "      <td>audi</td>\n",
       "      <td>yes</td>\n",
       "      <td>66954</td>\n",
       "    </tr>\n",
       "    <tr>\n",
       "      <td>2</td>\n",
       "      <td>9800</td>\n",
       "      <td>suv</td>\n",
       "      <td>2004</td>\n",
       "      <td>auto</td>\n",
       "      <td>163</td>\n",
       "      <td>grand</td>\n",
       "      <td>125000</td>\n",
       "      <td>8</td>\n",
       "      <td>gasoline</td>\n",
       "      <td>jeep</td>\n",
       "      <td>NaN</td>\n",
       "      <td>90480</td>\n",
       "    </tr>\n",
       "    <tr>\n",
       "      <td>3</td>\n",
       "      <td>1500</td>\n",
       "      <td>small</td>\n",
       "      <td>2001</td>\n",
       "      <td>manual</td>\n",
       "      <td>75</td>\n",
       "      <td>golf</td>\n",
       "      <td>150000</td>\n",
       "      <td>6</td>\n",
       "      <td>petrol</td>\n",
       "      <td>volkswagen</td>\n",
       "      <td>no</td>\n",
       "      <td>91074</td>\n",
       "    </tr>\n",
       "    <tr>\n",
       "      <td>4</td>\n",
       "      <td>3600</td>\n",
       "      <td>small</td>\n",
       "      <td>2008</td>\n",
       "      <td>manual</td>\n",
       "      <td>69</td>\n",
       "      <td>fabia</td>\n",
       "      <td>90000</td>\n",
       "      <td>7</td>\n",
       "      <td>gasoline</td>\n",
       "      <td>skoda</td>\n",
       "      <td>no</td>\n",
       "      <td>60437</td>\n",
       "    </tr>\n",
       "  </tbody>\n",
       "</table>\n",
       "</div>"
      ],
      "text/plain": [
       "   Price VehicleType  RegistrationYear Gearbox  Power  Model  Mileage  \\\n",
       "0  480    NaN         1993              manual  0      golf   150000    \n",
       "1  18300  coupe       2011              manual  190    NaN    125000    \n",
       "2  9800   suv         2004              auto    163    grand  125000    \n",
       "3  1500   small       2001              manual  75     golf   150000    \n",
       "4  3600   small       2008              manual  69     fabia  90000     \n",
       "\n",
       "   RegistrationMonth  FuelType       Brand NotRepaired  PostalCode  \n",
       "0  0                  petrol    volkswagen  NaN         70435       \n",
       "1  5                  gasoline  audi        yes         66954       \n",
       "2  8                  gasoline  jeep        NaN         90480       \n",
       "3  6                  petrol    volkswagen  no          91074       \n",
       "4  7                  gasoline  skoda       no          60437       "
      ]
     },
     "metadata": {},
     "output_type": "display_data"
    }
   ],
   "source": [
    "colsRemove = ['DateCrawled', 'DateCreated', 'LastSeen','NumberOfPictures'] \n",
    "df1 = df_out.drop(colsRemove,axis=1)\n",
    "print(df1.isna().sum())\n",
    "display(df1.head())"
   ]
  },
  {
   "cell_type": "markdown",
   "metadata": {
    "id": "E0dib3XCFhPD"
   },
   "source": [
    "## 1.6 PROCESS NaN values (if in many columns)\n",
    "- Remove rows with Nan values in multiple columns\n",
    "- Then use ffill and bfill to fill rows with Nan values"
   ]
  },
  {
   "cell_type": "code",
   "execution_count": 14,
   "metadata": {
    "colab": {
     "base_uri": "https://localhost:8080/",
     "height": 425
    },
    "id": "fAzZr4zlxAAX",
    "outputId": "388aab83-3f10-4152-a1a3-7b9eaa978ba7"
   },
   "outputs": [
    {
     "data": {
      "text/html": [
       "<div>\n",
       "<style scoped>\n",
       "    .dataframe tbody tr th:only-of-type {\n",
       "        vertical-align: middle;\n",
       "    }\n",
       "\n",
       "    .dataframe tbody tr th {\n",
       "        vertical-align: top;\n",
       "    }\n",
       "\n",
       "    .dataframe thead th {\n",
       "        text-align: right;\n",
       "    }\n",
       "</style>\n",
       "<table border=\"1\" class=\"dataframe\">\n",
       "  <thead>\n",
       "    <tr style=\"text-align: right;\">\n",
       "      <th></th>\n",
       "      <th>Price</th>\n",
       "      <th>VehicleType</th>\n",
       "      <th>RegistrationYear</th>\n",
       "      <th>Gearbox</th>\n",
       "      <th>Power</th>\n",
       "      <th>Model</th>\n",
       "      <th>Mileage</th>\n",
       "      <th>RegistrationMonth</th>\n",
       "      <th>FuelType</th>\n",
       "      <th>Brand</th>\n",
       "      <th>NotRepaired</th>\n",
       "      <th>PostalCode</th>\n",
       "    </tr>\n",
       "  </thead>\n",
       "  <tbody>\n",
       "    <tr>\n",
       "      <td>94</td>\n",
       "      <td>8390</td>\n",
       "      <td>NaN</td>\n",
       "      <td>2009</td>\n",
       "      <td>NaN</td>\n",
       "      <td>0</td>\n",
       "      <td>insignia</td>\n",
       "      <td>150000</td>\n",
       "      <td>0</td>\n",
       "      <td>NaN</td>\n",
       "      <td>opel</td>\n",
       "      <td>NaN</td>\n",
       "      <td>29221</td>\n",
       "    </tr>\n",
       "    <tr>\n",
       "      <td>309</td>\n",
       "      <td>350</td>\n",
       "      <td>NaN</td>\n",
       "      <td>2017</td>\n",
       "      <td>NaN</td>\n",
       "      <td>0</td>\n",
       "      <td>corsa</td>\n",
       "      <td>150000</td>\n",
       "      <td>0</td>\n",
       "      <td>petrol</td>\n",
       "      <td>opel</td>\n",
       "      <td>NaN</td>\n",
       "      <td>26655</td>\n",
       "    </tr>\n",
       "    <tr>\n",
       "      <td>334</td>\n",
       "      <td>0</td>\n",
       "      <td>NaN</td>\n",
       "      <td>2005</td>\n",
       "      <td>NaN</td>\n",
       "      <td>0</td>\n",
       "      <td>polo</td>\n",
       "      <td>150000</td>\n",
       "      <td>0</td>\n",
       "      <td>petrol</td>\n",
       "      <td>volkswagen</td>\n",
       "      <td>NaN</td>\n",
       "      <td>35392</td>\n",
       "    </tr>\n",
       "    <tr>\n",
       "      <td>355</td>\n",
       "      <td>1050</td>\n",
       "      <td>NaN</td>\n",
       "      <td>2018</td>\n",
       "      <td>NaN</td>\n",
       "      <td>0</td>\n",
       "      <td>golf</td>\n",
       "      <td>150000</td>\n",
       "      <td>0</td>\n",
       "      <td>NaN</td>\n",
       "      <td>volkswagen</td>\n",
       "      <td>NaN</td>\n",
       "      <td>53567</td>\n",
       "    </tr>\n",
       "    <tr>\n",
       "      <td>415</td>\n",
       "      <td>0</td>\n",
       "      <td>NaN</td>\n",
       "      <td>1985</td>\n",
       "      <td>NaN</td>\n",
       "      <td>0</td>\n",
       "      <td>3er</td>\n",
       "      <td>150000</td>\n",
       "      <td>0</td>\n",
       "      <td>NaN</td>\n",
       "      <td>bmw</td>\n",
       "      <td>NaN</td>\n",
       "      <td>85051</td>\n",
       "    </tr>\n",
       "  </tbody>\n",
       "</table>\n",
       "</div>"
      ],
      "text/plain": [
       "     Price VehicleType  RegistrationYear Gearbox  Power     Model  Mileage  \\\n",
       "94   8390   NaN         2009              NaN     0      insignia  150000    \n",
       "309  350    NaN         2017              NaN     0      corsa     150000    \n",
       "334  0      NaN         2005              NaN     0      polo      150000    \n",
       "355  1050   NaN         2018              NaN     0      golf      150000    \n",
       "415  0      NaN         1985              NaN     0      3er       150000    \n",
       "\n",
       "     RegistrationMonth FuelType       Brand NotRepaired  PostalCode  \n",
       "94   0                  NaN      opel        NaN         29221       \n",
       "309  0                  petrol   opel        NaN         26655       \n",
       "334  0                  petrol   volkswagen  NaN         35392       \n",
       "355  0                  NaN      volkswagen  NaN         53567       \n",
       "415  0                  NaN      bmw         NaN         85051       "
      ]
     },
     "metadata": {},
     "output_type": "display_data"
    },
    {
     "name": "stdout",
     "output_type": "stream",
     "text": [
      "Price                0    \n",
      "VehicleType          29713\n",
      "RegistrationYear     0    \n",
      "Gearbox              12641\n",
      "Power                0    \n",
      "Model                15585\n",
      "Mileage              0    \n",
      "RegistrationMonth    0    \n",
      "FuelType             25883\n",
      "Brand                0    \n",
      "NotRepaired          61297\n",
      "PostalCode           0    \n",
      "dtype: int64\n"
     ]
    }
   ],
   "source": [
    "dfTest2 = df1.query('VehicleType != VehicleType & Power==0 & RegistrationMonth==0 & NotRepaired != NotRepaired & Gearbox != Gearbox')\n",
    "DISPLAY(dfTest2.head())\n",
    "df2 = df1.drop(dfTest2.index)\n",
    "recordsNan = dfTest2.shape[0]\n",
    "print(df2.isna().sum())"
   ]
  },
  {
   "cell_type": "code",
   "execution_count": 15,
   "metadata": {
    "colab": {
     "base_uri": "https://localhost:8080/"
    },
    "id": "zYq7M7B2YQAC",
    "outputId": "3cf1eb2a-d325-4138-abb7-42e67aa6deb9"
   },
   "outputs": [
    {
     "name": "stdout",
     "output_type": "stream",
     "text": [
      "Total Records 354107 Quantile Records Removed: 22452 Records Nan removed 3887\n",
      "%age records removed:  7.438147226685719 %\n"
     ]
    }
   ],
   "source": [
    "## Total records removed\n",
    "print('Total Records',recordsTotal, 'Quantile Records Removed:', recordsQuantile,'Records Nan removed', recordsNan)\n",
    "print('%age records removed: ', (recordsQuantile+recordsNan)*100/recordsTotal,'%')"
   ]
  },
  {
   "cell_type": "code",
   "execution_count": 16,
   "metadata": {
    "colab": {
     "base_uri": "https://localhost:8080/",
     "height": 297
    },
    "id": "aYukn_3MY0iJ",
    "outputId": "c33c0c37-cd78-48b5-f10a-e9ffca19f6c0"
   },
   "outputs": [
    {
     "data": {
      "text/html": [
       "<div>\n",
       "<style scoped>\n",
       "    .dataframe tbody tr th:only-of-type {\n",
       "        vertical-align: middle;\n",
       "    }\n",
       "\n",
       "    .dataframe tbody tr th {\n",
       "        vertical-align: top;\n",
       "    }\n",
       "\n",
       "    .dataframe thead th {\n",
       "        text-align: right;\n",
       "    }\n",
       "</style>\n",
       "<table border=\"1\" class=\"dataframe\">\n",
       "  <thead>\n",
       "    <tr style=\"text-align: right;\">\n",
       "      <th></th>\n",
       "      <th>Price</th>\n",
       "      <th>RegistrationYear</th>\n",
       "      <th>Power</th>\n",
       "      <th>Mileage</th>\n",
       "      <th>RegistrationMonth</th>\n",
       "      <th>PostalCode</th>\n",
       "    </tr>\n",
       "  </thead>\n",
       "  <tbody>\n",
       "    <tr>\n",
       "      <td>count</td>\n",
       "      <td>327768.000000</td>\n",
       "      <td>327768.000000</td>\n",
       "      <td>327768.000000</td>\n",
       "      <td>327768.000000</td>\n",
       "      <td>327768.000000</td>\n",
       "      <td>327768.000000</td>\n",
       "    </tr>\n",
       "    <tr>\n",
       "      <td>mean</td>\n",
       "      <td>4265.386749</td>\n",
       "      <td>2003.097252</td>\n",
       "      <td>109.291096</td>\n",
       "      <td>134950.742598</td>\n",
       "      <td>5.825474</td>\n",
       "      <td>50609.510852</td>\n",
       "    </tr>\n",
       "    <tr>\n",
       "      <td>std</td>\n",
       "      <td>4330.658304</td>\n",
       "      <td>6.606709</td>\n",
       "      <td>62.373921</td>\n",
       "      <td>27479.022890</td>\n",
       "      <td>3.681549</td>\n",
       "      <td>25755.750670</td>\n",
       "    </tr>\n",
       "    <tr>\n",
       "      <td>min</td>\n",
       "      <td>0.000000</td>\n",
       "      <td>1972.000000</td>\n",
       "      <td>0.000000</td>\n",
       "      <td>50000.000000</td>\n",
       "      <td>0.000000</td>\n",
       "      <td>1067.000000</td>\n",
       "    </tr>\n",
       "    <tr>\n",
       "      <td>25%</td>\n",
       "      <td>1100.000000</td>\n",
       "      <td>1999.000000</td>\n",
       "      <td>73.000000</td>\n",
       "      <td>125000.000000</td>\n",
       "      <td>3.000000</td>\n",
       "      <td>30179.000000</td>\n",
       "    </tr>\n",
       "    <tr>\n",
       "      <td>50%</td>\n",
       "      <td>2650.000000</td>\n",
       "      <td>2003.000000</td>\n",
       "      <td>105.000000</td>\n",
       "      <td>150000.000000</td>\n",
       "      <td>6.000000</td>\n",
       "      <td>49477.000000</td>\n",
       "    </tr>\n",
       "    <tr>\n",
       "      <td>75%</td>\n",
       "      <td>5999.000000</td>\n",
       "      <td>2007.000000</td>\n",
       "      <td>143.000000</td>\n",
       "      <td>150000.000000</td>\n",
       "      <td>9.000000</td>\n",
       "      <td>71131.000000</td>\n",
       "    </tr>\n",
       "    <tr>\n",
       "      <td>max</td>\n",
       "      <td>20000.000000</td>\n",
       "      <td>2019.000000</td>\n",
       "      <td>585.000000</td>\n",
       "      <td>150000.000000</td>\n",
       "      <td>12.000000</td>\n",
       "      <td>99998.000000</td>\n",
       "    </tr>\n",
       "  </tbody>\n",
       "</table>\n",
       "</div>"
      ],
      "text/plain": [
       "               Price  RegistrationYear          Power        Mileage  \\\n",
       "count  327768.000000  327768.000000     327768.000000  327768.000000   \n",
       "mean   4265.386749    2003.097252       109.291096     134950.742598   \n",
       "std    4330.658304    6.606709          62.373921      27479.022890    \n",
       "min    0.000000       1972.000000       0.000000       50000.000000    \n",
       "25%    1100.000000    1999.000000       73.000000      125000.000000   \n",
       "50%    2650.000000    2003.000000       105.000000     150000.000000   \n",
       "75%    5999.000000    2007.000000       143.000000     150000.000000   \n",
       "max    20000.000000   2019.000000       585.000000     150000.000000   \n",
       "\n",
       "       RegistrationMonth     PostalCode  \n",
       "count  327768.000000      327768.000000  \n",
       "mean   5.825474           50609.510852   \n",
       "std    3.681549           25755.750670   \n",
       "min    0.000000           1067.000000    \n",
       "25%    3.000000           30179.000000   \n",
       "50%    6.000000           49477.000000   \n",
       "75%    9.000000           71131.000000   \n",
       "max    12.000000          99998.000000   "
      ]
     },
     "execution_count": 16,
     "metadata": {},
     "output_type": "execute_result"
    }
   ],
   "source": [
    "df2.describe()"
   ]
  },
  {
   "cell_type": "code",
   "execution_count": 17,
   "metadata": {
    "colab": {
     "base_uri": "https://localhost:8080/"
    },
    "id": "IrsUSNT03klS",
    "outputId": "b04fbc2c-3471-4862-812a-b1e4e31d389f"
   },
   "outputs": [
    {
     "name": "stdout",
     "output_type": "stream",
     "text": [
      "Price                0\n",
      "VehicleType          0\n",
      "RegistrationYear     0\n",
      "Gearbox              0\n",
      "Power                0\n",
      "Model                0\n",
      "Mileage              0\n",
      "RegistrationMonth    0\n",
      "FuelType             0\n",
      "Brand                0\n",
      "NotRepaired          0\n",
      "PostalCode           0\n",
      "dtype: int64\n",
      "<class 'pandas.core.frame.DataFrame'>\n",
      "Int64Index: 327768 entries, 0 to 354368\n",
      "Data columns (total 12 columns):\n",
      "Price                327768 non-null int64\n",
      "VehicleType          327768 non-null object\n",
      "RegistrationYear     327768 non-null int64\n",
      "Gearbox              327768 non-null object\n",
      "Power                327768 non-null int64\n",
      "Model                327768 non-null object\n",
      "Mileage              327768 non-null int64\n",
      "RegistrationMonth    327768 non-null int64\n",
      "FuelType             327768 non-null object\n",
      "Brand                327768 non-null object\n",
      "NotRepaired          327768 non-null object\n",
      "PostalCode           327768 non-null int64\n",
      "dtypes: int64(6), object(6)\n",
      "memory usage: 32.5+ MB\n"
     ]
    }
   ],
   "source": [
    "df3 = df2.fillna(method='ffill')\n",
    "df4 = df3.fillna(method='bfill')\n",
    "#df4 = df2.dropna()\n",
    "PRINT(df4.isnull().sum())\n",
    "df4.info()"
   ]
  },
  {
   "cell_type": "code",
   "execution_count": 18,
   "metadata": {
    "colab": {
     "base_uri": "https://localhost:8080/"
    },
    "id": "zsuSQ2ae2zgA",
    "outputId": "5e73accb-a7d7-410f-a376-a474edbe92fd"
   },
   "outputs": [
    {
     "name": "stdout",
     "output_type": "stream",
     "text": [
      "Original skew: Price                1.430729 \n",
      "RegistrationYear     74.593789\n",
      "Power                60.140380\n",
      "Mileage             -1.724262 \n",
      "RegistrationMonth    0.081302 \n",
      "NumberOfPictures     0.000000 \n",
      "PostalCode           0.077137 \n",
      "dtype: float64\n",
      "Final skew: Price                1.494880\n",
      "RegistrationYear    -0.172118\n",
      "Power                0.632299\n",
      "Mileage             -1.710939\n",
      "RegistrationMonth    0.066796\n",
      "PostalCode           0.073439\n",
      "dtype: float64\n"
     ]
    }
   ],
   "source": [
    "print('Original skew:',df0.skew())\n",
    "print('Final skew:',df4.skew())"
   ]
  },
  {
   "cell_type": "code",
   "execution_count": 19,
   "metadata": {
    "colab": {
     "base_uri": "https://localhost:8080/",
     "height": 285
    },
    "id": "KL_kepbDbvVd",
    "outputId": "7fdfdaed-0ca3-4c55-b4d1-a0cc0891712b"
   },
   "outputs": [
    {
     "data": {
      "image/png": "[encoded data removed]",
      "text/plain": [
       "<Figure size 432x288 with 1 Axes>"
      ]
     },
     "metadata": {},
     "output_type": "display_data"
    }
   ],
   "source": [
    "sns.distplot(df4['Price'])\n",
    "df=df4  #[df4['Price']!=0]  #Final df"
   ]
  },
  {
   "cell_type": "markdown",
   "metadata": {
    "id": "DyiK-55Z8nrl"
   },
   "source": [
    "## 1.7 EXPLORATORY DATA ANALYSIS\n",
    "- Heatmap\n",
    "- Bar Chart"
   ]
  },
  {
   "cell_type": "code",
   "execution_count": 20,
   "metadata": {
    "colab": {
     "base_uri": "https://localhost:8080/",
     "height": 284
    },
    "id": "-4BZYbob-5k5",
    "outputId": "ede62c57-2a1b-462f-cca5-0fd9b14a1da0"
   },
   "outputs": [
    {
     "data": {
      "image/png": "[encoded data removed]",
      "text/plain": [
       "<Figure size 432x288 with 2 Axes>"
      ]
     },
     "metadata": {},
     "output_type": "display_data"
    }
   ],
   "source": [
    "ax = sns.heatmap(df.corr()[[TARGET]].sort_values(by=TARGET, ascending=False), vmin=-1, vmax=1, annot=True, cmap='BrBG')\n",
    "ax.set(title=\"Heatmap for \" + TARGET);"
   ]
  },
  {
   "cell_type": "code",
   "execution_count": 21,
   "metadata": {
    "colab": {
     "base_uri": "https://localhost:8080/",
     "height": 375
    },
    "id": "9Wk5xR_GdDS3",
    "outputId": "623cb971-126a-4457-ef12-a92636be7ee5"
   },
   "outputs": [
    {
     "data": {
      "image/png": "[encoded data removed]",
      "text/plain": [
       "<Figure size 720x288 with 1 Axes>"
      ]
     },
     "metadata": {},
     "output_type": "display_data"
    }
   ],
   "source": [
    "  plt.figure(figsize=(10,4))\n",
    "  ax = df.corr()[TARGET].sort_values(ascending = False).plot(kind='bar')\n",
    "  ax.set(title=\"Relationship of \" + TARGET + \" with various factors\",ylabel=TARGET);"
   ]
  },
  {
   "cell_type": "markdown",
   "metadata": {
    "id": "8y35V5qaqlnq"
   },
   "source": [
    "## CONCLUSION\n",
    "Price has: \n",
    "- Strong positive correlation with Power, Registration Year.\n",
    "- very weak positive correlation with PostalCode and RegistrationMonth .\n",
    "- Strong negative correlation with Mileage. This is obvious. More the mileage, lower the cost."
   ]
  },
  {
   "cell_type": "markdown",
   "metadata": {
    "id": "8w2nNlj3ghI-"
   },
   "source": [
    "# 2. Model training"
   ]
  },
  {
   "cell_type": "markdown",
   "metadata": {
    "id": "5L_A3860njwr"
   },
   "source": [
    "## 2.1 FEATURE ENGINEERING"
   ]
  },
  {
   "cell_type": "code",
   "execution_count": 22,
   "metadata": {
    "colab": {
     "base_uri": "https://localhost:8080/"
    },
    "id": "8qOG-ucNnitl",
    "outputId": "929ac137-e25d-4315-b9f3-ba9550f970df"
   },
   "outputs": [
    {
     "name": "stdout",
     "output_type": "stream",
     "text": [
      "****************************************************************************************************\n",
      "\n",
      "training set  : 75% (245826, 11) , training target   : (245826,)\n",
      "test set: 25% (81942, 11) , test target : (81942,)\n"
     ]
    }
   ],
   "source": [
    "features =  df.drop(TARGET , axis=1)\n",
    "target = df[TARGET]\n",
    "\n",
    "#SPLIT TRAINING INTO TRAINING (75%) AND VALIDATION_TEST (25%)\n",
    "features_train, features_test, target_train, target_test = train_test_split(\n",
    "        features, target, test_size=0.25, random_state=RANDOM_STATE)\n",
    "\n",
    "totsize = len(df)\n",
    "PRINT_SEPARATOR()\n",
    "print('training set  : {0:.0%}'.format(len(features_train) /totsize),features_train.shape, ', training target   :',target_train.shape)\n",
    "print('test set: {0:.0%}'.format(len(features_test)/totsize),features_test.shape,', test target :',target_test.shape)"
   ]
  },
  {
   "cell_type": "code",
   "execution_count": 23,
   "metadata": {
    "colab": {
     "base_uri": "https://localhost:8080/"
    },
    "id": "aEJEUJ3GqzHs",
    "outputId": "2fd9ea2d-d4ea-4b1f-a05c-16280677aa36"
   },
   "outputs": [
    {
     "data": {
      "text/plain": [
       "Index(['Price', 'VehicleType', 'RegistrationYear', 'Gearbox', 'Power', 'Model',\n",
       "       'Mileage', 'RegistrationMonth', 'FuelType', 'Brand', 'NotRepaired',\n",
       "       'PostalCode'],\n",
       "      dtype='object')"
      ]
     },
     "execution_count": 23,
     "metadata": {},
     "output_type": "execute_result"
    }
   ],
   "source": [
    "df.columns"
   ]
  },
  {
   "cell_type": "code",
   "execution_count": 24,
   "metadata": {
    "colab": {
     "base_uri": "https://localhost:8080/",
     "height": 612
    },
    "id": "7dAcB0rApcJs",
    "outputId": "382d0cce-4519-4f7e-fed2-e998925be1ba"
   },
   "outputs": [
    {
     "name": "stdout",
     "output_type": "stream",
     "text": [
      "<class 'pandas.core.frame.DataFrame'>\n",
      "Int64Index: 327768 entries, 0 to 354368\n",
      "Data columns (total 12 columns):\n",
      "Price                327768 non-null int64\n",
      "VehicleType          327768 non-null object\n",
      "RegistrationYear     327768 non-null int64\n",
      "Gearbox              327768 non-null object\n",
      "Power                327768 non-null int64\n",
      "Model                327768 non-null object\n",
      "Mileage              327768 non-null int64\n",
      "RegistrationMonth    327768 non-null int64\n",
      "FuelType             327768 non-null object\n",
      "Brand                327768 non-null object\n",
      "NotRepaired          327768 non-null object\n",
      "PostalCode           327768 non-null int64\n",
      "dtypes: int64(6), object(6)\n",
      "memory usage: 32.5+ MB\n",
      "None\n"
     ]
    },
    {
     "data": {
      "text/html": [
       "<div>\n",
       "<style scoped>\n",
       "    .dataframe tbody tr th:only-of-type {\n",
       "        vertical-align: middle;\n",
       "    }\n",
       "\n",
       "    .dataframe tbody tr th {\n",
       "        vertical-align: top;\n",
       "    }\n",
       "\n",
       "    .dataframe thead th {\n",
       "        text-align: right;\n",
       "    }\n",
       "</style>\n",
       "<table border=\"1\" class=\"dataframe\">\n",
       "  <thead>\n",
       "    <tr style=\"text-align: right;\">\n",
       "      <th></th>\n",
       "      <th>Price</th>\n",
       "      <th>VehicleType</th>\n",
       "      <th>RegistrationYear</th>\n",
       "      <th>Gearbox</th>\n",
       "      <th>Power</th>\n",
       "      <th>Model</th>\n",
       "      <th>Mileage</th>\n",
       "      <th>RegistrationMonth</th>\n",
       "      <th>FuelType</th>\n",
       "      <th>Brand</th>\n",
       "      <th>NotRepaired</th>\n",
       "      <th>PostalCode</th>\n",
       "    </tr>\n",
       "  </thead>\n",
       "  <tbody>\n",
       "    <tr>\n",
       "      <td>0</td>\n",
       "      <td>480</td>\n",
       "      <td>2.0</td>\n",
       "      <td>21.0</td>\n",
       "      <td>1.0</td>\n",
       "      <td>0</td>\n",
       "      <td>116.0</td>\n",
       "      <td>150000</td>\n",
       "      <td>0.0</td>\n",
       "      <td>6.0</td>\n",
       "      <td>38.0</td>\n",
       "      <td>1.0</td>\n",
       "      <td>4892.0</td>\n",
       "    </tr>\n",
       "    <tr>\n",
       "      <td>1</td>\n",
       "      <td>18300</td>\n",
       "      <td>2.0</td>\n",
       "      <td>39.0</td>\n",
       "      <td>1.0</td>\n",
       "      <td>190</td>\n",
       "      <td>116.0</td>\n",
       "      <td>125000</td>\n",
       "      <td>5.0</td>\n",
       "      <td>2.0</td>\n",
       "      <td>1.0</td>\n",
       "      <td>1.0</td>\n",
       "      <td>4609.0</td>\n",
       "    </tr>\n",
       "    <tr>\n",
       "      <td>2</td>\n",
       "      <td>9800</td>\n",
       "      <td>6.0</td>\n",
       "      <td>32.0</td>\n",
       "      <td>0.0</td>\n",
       "      <td>163</td>\n",
       "      <td>117.0</td>\n",
       "      <td>125000</td>\n",
       "      <td>8.0</td>\n",
       "      <td>2.0</td>\n",
       "      <td>14.0</td>\n",
       "      <td>1.0</td>\n",
       "      <td>6981.0</td>\n",
       "    </tr>\n",
       "    <tr>\n",
       "      <td>3</td>\n",
       "      <td>1500</td>\n",
       "      <td>5.0</td>\n",
       "      <td>29.0</td>\n",
       "      <td>1.0</td>\n",
       "      <td>75</td>\n",
       "      <td>116.0</td>\n",
       "      <td>150000</td>\n",
       "      <td>6.0</td>\n",
       "      <td>6.0</td>\n",
       "      <td>38.0</td>\n",
       "      <td>0.0</td>\n",
       "      <td>7021.0</td>\n",
       "    </tr>\n",
       "    <tr>\n",
       "      <td>4</td>\n",
       "      <td>3600</td>\n",
       "      <td>5.0</td>\n",
       "      <td>36.0</td>\n",
       "      <td>1.0</td>\n",
       "      <td>69</td>\n",
       "      <td>101.0</td>\n",
       "      <td>90000</td>\n",
       "      <td>7.0</td>\n",
       "      <td>2.0</td>\n",
       "      <td>31.0</td>\n",
       "      <td>0.0</td>\n",
       "      <td>4206.0</td>\n",
       "    </tr>\n",
       "  </tbody>\n",
       "</table>\n",
       "</div>"
      ],
      "text/plain": [
       "   Price  VehicleType  RegistrationYear  Gearbox  Power  Model  Mileage  \\\n",
       "0  480    2.0          21.0              1.0      0      116.0  150000    \n",
       "1  18300  2.0          39.0              1.0      190    116.0  125000    \n",
       "2  9800   6.0          32.0              0.0      163    117.0  125000    \n",
       "3  1500   5.0          29.0              1.0      75     116.0  150000    \n",
       "4  3600   5.0          36.0              1.0      69     101.0  90000     \n",
       "\n",
       "   RegistrationMonth  FuelType  Brand  NotRepaired  PostalCode  \n",
       "0  0.0                6.0       38.0   1.0          4892.0      \n",
       "1  5.0                2.0       1.0    1.0          4609.0      \n",
       "2  8.0                2.0       14.0   1.0          6981.0      \n",
       "3  6.0                6.0       38.0   0.0          7021.0      \n",
       "4  7.0                2.0       31.0   0.0          4206.0      "
      ]
     },
     "metadata": {},
     "output_type": "display_data"
    },
    {
     "name": "stdout",
     "output_type": "stream",
     "text": [
      "****************************************************************************************************\n",
      "\n",
      "training set  : 75% (245826, 11) , training target   : (245826,)\n",
      "test set: 25% (81942, 11) , test target : (81942,)\n"
     ]
    }
   ],
   "source": [
    "##Encode categorical features\n",
    "from sklearn.preprocessing import OrdinalEncoder\n",
    "listCategory = ['VehicleType', 'RegistrationYear', 'Gearbox', 'Model', 'RegistrationMonth', 'FuelType', 'Brand', 'NotRepaired', 'PostalCode']\n",
    "\n",
    "encoder = OrdinalEncoder()\n",
    "\n",
    "PRINT(df.info())\n",
    "dfE=df\n",
    "dfE[listCategory]= encoder.fit_transform(dfE[listCategory])\n",
    "display(dfE.head())\n",
    "\n",
    "featuresE =  dfE.drop(TARGET , axis=1)\n",
    "targetE = dfE[TARGET]\n",
    "\n",
    "#SPLIT TRAINING INTO TRAINING (75%) AND VALIDATION_TEST (25%)\n",
    "featuresE_train, featuresE_test, targetE_train, targetE_test = train_test_split(\n",
    "        featuresE, targetE, test_size=0.25, random_state=RANDOM_STATE)\n",
    "\n",
    "totsizeE = len(dfE)\n",
    "PRINT_SEPARATOR()\n",
    "print('training set  : {0:.0%}'.format(len(featuresE_train) /totsize),featuresE_train.shape, ', training target   :',targetE_train.shape)\n",
    "print('test set: {0:.0%}'.format(len(featuresE_test)/totsizeE),featuresE_test.shape,', test target :',targetE_test.shape)"
   ]
  },
  {
   "cell_type": "code",
   "execution_count": 25,
   "metadata": {
    "id": "IUBj9mQPLwwv"
   },
   "outputs": [],
   "source": [
    "dfPredictions=pd.DataFrame()\n",
    "dfPredictions['Actual']=target_test\n",
    "\n",
    "##RMSE. Define a function to score RMSE\n",
    "##sklearn.metrics has a mean_squared_error function with a squared kwarg (defaults to True). Setting squared to False will return the RMSE.\n",
    "def rmse_scorer(target: np.ndarray, predicted: np.ndarray):\n",
    "    return np.sqrt(mean_squared_error(target, predicted))\n",
    "    \n",
    "#map rmse_scoring - to be used in model scoring for GridSearchCV.   \n",
    "rmse_scoring = make_scorer(rmse_scorer,greater_is_better=False)"
   ]
  },
  {
   "cell_type": "markdown",
   "metadata": {
    "id": "re4m-5rfHRLF"
   },
   "source": [
    "## 2.2 LINEAR REGRESSION"
   ]
  },
  {
   "cell_type": "markdown",
   "metadata": {
    "id": "UOozbPpclBVV"
   },
   "source": []
  },
  {
   "cell_type": "code",
   "execution_count": 26,
   "metadata": {
    "id": "Rr6pXPfPdF93"
   },
   "outputs": [],
   "source": [
    "def updateResults(model_name,hyperParam,score,resultFit,resultPredict,resultRMSE,rmseModel,df_results):\n",
    "    resultRowStr= [model_name,score,resultFit,resultPredict,resultRMSE,rmseModel,hyperParam]\n",
    "    #print(resultRowStr,df_results.columns)\n",
    "\n",
    "    rows = [pd.Series(resultRowStr, index=df_results.columns)]\n",
    "    ##append the rows\n",
    "    df_results=df_results.append(rows,ignore_index=True)\n",
    "    \n",
    "    ##check the rows \n",
    "    display(df_results)\n",
    "    return(df_results)"
   ]
  },
  {
   "cell_type": "code",
   "execution_count": 27,
   "metadata": {
    "id": "bP__wMk4DGAJ"
   },
   "outputs": [],
   "source": [
    "def timesOfModel(model1,features_train1,target_train1,features_test1,target_test1):\n",
    "    startFit=time.time()\n",
    "    model1.fit(features_train1, target_train1)\n",
    "    timeFit=time.time()-startFit\n",
    "\n",
    "    startPredict = time.time()\n",
    "    predicted_test = model1.predict(features_test1)\n",
    "    timePredict=time.time() - startPredict\n",
    "\n",
    "    startRMSE=time.time()\n",
    "    rmseModel = rmse_scorer(target_test1, predicted_test) \n",
    "    timeRMSE=time.time()-startRMSE\n",
    "\n",
    "    return(predicted_test, timeFit*1000,timePredict*1000,timeRMSE*1000,rmseModel)"
   ]
  },
  {
   "cell_type": "code",
   "execution_count": 28,
   "metadata": {
    "colab": {
     "base_uri": "https://localhost:8080/",
     "height": 80
    },
    "id": "j0wbGigpMrlT",
    "outputId": "bf191dc6-f023-4b2d-fd81-d62ce2572a73"
   },
   "outputs": [
    {
     "data": {
      "text/html": [
       "<div>\n",
       "<style scoped>\n",
       "    .dataframe tbody tr th:only-of-type {\n",
       "        vertical-align: middle;\n",
       "    }\n",
       "\n",
       "    .dataframe tbody tr th {\n",
       "        vertical-align: top;\n",
       "    }\n",
       "\n",
       "    .dataframe thead th {\n",
       "        text-align: right;\n",
       "    }\n",
       "</style>\n",
       "<table border=\"1\" class=\"dataframe\">\n",
       "  <thead>\n",
       "    <tr style=\"text-align: right;\">\n",
       "      <th></th>\n",
       "      <th>Model-name</th>\n",
       "      <th>Train-Score</th>\n",
       "      <th>Fit-RunTime (ms)</th>\n",
       "      <th>Predict-RunTime (ms)</th>\n",
       "      <th>RMSE-RunTime (ms)</th>\n",
       "      <th>RMSE</th>\n",
       "      <th>Hyper-Parameters</th>\n",
       "    </tr>\n",
       "  </thead>\n",
       "  <tbody>\n",
       "    <tr>\n",
       "      <td>0</td>\n",
       "      <td>LinearRegression</td>\n",
       "      <td>-2918.223238</td>\n",
       "      <td>213.126183</td>\n",
       "      <td>3.970385</td>\n",
       "      <td>1.332998</td>\n",
       "      <td>2913.33146</td>\n",
       "      <td>none</td>\n",
       "    </tr>\n",
       "  </tbody>\n",
       "</table>\n",
       "</div>"
      ],
      "text/plain": [
       "         Model-name  Train-Score  Fit-RunTime (ms)  Predict-RunTime (ms)  \\\n",
       "0  LinearRegression -2918.223238  213.126183        3.970385               \n",
       "\n",
       "   RMSE-RunTime (ms)        RMSE Hyper-Parameters  \n",
       "0  1.332998           2913.33146  none             "
      ]
     },
     "metadata": {},
     "output_type": "display_data"
    }
   ],
   "source": [
    "##Linear Regression\n",
    "modelName=\"LinearRegression\"\n",
    "hyperParam = \"none\"\n",
    "model = LinearRegression()\n",
    "\n",
    "score = cross_val_score(model, featuresE_train, targetE_train , scoring=rmse_scoring,cv=2)\n",
    "predicted, timeFit,timePredict,timeRMSE,rmseModel = timesOfModel(model,featuresE_train, targetE_train,featuresE_test,targetE_test)\n",
    "dfPredictions[modelName]=predicted\n",
    "\n",
    "df_results = updateResults(modelName,hyperParam,score.mean(),timeFit,timePredict,timeRMSE,rmseModel,df_results)"
   ]
  },
  {
   "cell_type": "markdown",
   "metadata": {
    "id": "lgjngTydX1bo"
   },
   "source": [
    "## 2.3 RANDOM FOREST REGRESSOR"
   ]
  },
  {
   "cell_type": "code",
   "execution_count": 29,
   "metadata": {
    "colab": {
     "base_uri": "https://localhost:8080/"
    },
    "id": "5b9SpJ1ZWlhx",
    "outputId": "b89808e7-540b-4109-aaae-4a0030a1ef99"
   },
   "outputs": [
    {
     "name": "stdout",
     "output_type": "stream",
     "text": [
      "Max_Depth= 1 : -3645.3292244665026\n",
      "Max_Depth= 2 : -3103.4184354492263\n",
      "Max_Depth= 3 : -2855.8030429417\n",
      "Max_Depth= 4 : -2582.993598467686\n",
      "Max_Depth= 5 : -2414.742750827724\n",
      "Max_Depth= 6 : -2263.6586380513545\n",
      "Max_Depth= 7 : -2153.1015870692254\n",
      "Max_Depth= 8 : -2071.2833268121963\n",
      "Max_Depth= 9 : -1993.3766859733107\n"
     ]
    }
   ],
   "source": [
    "for depth in range(1, 10, 1): \n",
    "    model = RandomForestRegressor(n_estimators=30, max_depth=depth, random_state = RANDOM_STATE)\n",
    "    score = cross_val_score(model, featuresE_train, targetE_train, scoring=rmse_scoring, cv=5)\n",
    "    print('Max_Depth=', depth, ':', score.mean())"
   ]
  },
  {
   "cell_type": "code",
   "execution_count": 30,
   "metadata": {
    "id": "hKvGD1dZYBJ0"
   },
   "outputs": [],
   "source": [
    "model = RandomForestRegressor(n_estimators=30, max_depth=9, random_state=RANDOM_STATE)\n",
    "predicted, timeFit,timePredict,timeRMSE,rmseModel = timesOfModel(model,featuresE_train, targetE_train,featuresE_test,targetE_test)"
   ]
  },
  {
   "cell_type": "code",
   "execution_count": 31,
   "metadata": {
    "colab": {
     "base_uri": "https://localhost:8080/",
     "height": 111
    },
    "id": "St3OO0Bnwfo8",
    "outputId": "78bb9da9-d2eb-41a7-aec6-c0a6657cc3a7"
   },
   "outputs": [
    {
     "data": {
      "text/html": [
       "<div>\n",
       "<style scoped>\n",
       "    .dataframe tbody tr th:only-of-type {\n",
       "        vertical-align: middle;\n",
       "    }\n",
       "\n",
       "    .dataframe tbody tr th {\n",
       "        vertical-align: top;\n",
       "    }\n",
       "\n",
       "    .dataframe thead th {\n",
       "        text-align: right;\n",
       "    }\n",
       "</style>\n",
       "<table border=\"1\" class=\"dataframe\">\n",
       "  <thead>\n",
       "    <tr style=\"text-align: right;\">\n",
       "      <th></th>\n",
       "      <th>Model-name</th>\n",
       "      <th>Train-Score</th>\n",
       "      <th>Fit-RunTime (ms)</th>\n",
       "      <th>Predict-RunTime (ms)</th>\n",
       "      <th>RMSE-RunTime (ms)</th>\n",
       "      <th>RMSE</th>\n",
       "      <th>Hyper-Parameters</th>\n",
       "    </tr>\n",
       "  </thead>\n",
       "  <tbody>\n",
       "    <tr>\n",
       "      <td>0</td>\n",
       "      <td>LinearRegression</td>\n",
       "      <td>-2918.223238</td>\n",
       "      <td>213.126183</td>\n",
       "      <td>3.970385</td>\n",
       "      <td>1.332998</td>\n",
       "      <td>2913.331460</td>\n",
       "      <td>none</td>\n",
       "    </tr>\n",
       "    <tr>\n",
       "      <td>1</td>\n",
       "      <td>RandomForestRegressor</td>\n",
       "      <td>-1993.376686</td>\n",
       "      <td>14926.349640</td>\n",
       "      <td>215.947151</td>\n",
       "      <td>0.814199</td>\n",
       "      <td>1974.667199</td>\n",
       "      <td>Max_Depth = 9</td>\n",
       "    </tr>\n",
       "  </tbody>\n",
       "</table>\n",
       "</div>"
      ],
      "text/plain": [
       "              Model-name  Train-Score  Fit-RunTime (ms)  Predict-RunTime (ms)  \\\n",
       "0  LinearRegression      -2918.223238  213.126183        3.970385               \n",
       "1  RandomForestRegressor -1993.376686  14926.349640      215.947151             \n",
       "\n",
       "   RMSE-RunTime (ms)         RMSE Hyper-Parameters  \n",
       "0  1.332998           2913.331460  none             \n",
       "1  0.814199           1974.667199  Max_Depth = 9    "
      ]
     },
     "metadata": {},
     "output_type": "display_data"
    }
   ],
   "source": [
    "modelName = \"RandomForestRegressor\"\n",
    "hyperParam = 'Max_Depth = 9'\n",
    "dfPredictions[modelName]=predicted\n",
    "df_results = updateResults(modelName,hyperParam,score.mean(),timeFit,timePredict,timeRMSE,rmseModel,df_results)"
   ]
  },
  {
   "cell_type": "markdown",
   "metadata": {
    "id": "YiZknU0fZZWP"
   },
   "source": [
    "## 2.4 DECISION TREE REGRESSOR"
   ]
  },
  {
   "cell_type": "code",
   "execution_count": 32,
   "metadata": {
    "colab": {
     "base_uri": "https://localhost:8080/"
    },
    "id": "HQk4PPOxZYEs",
    "outputId": "da03cf83-cfa2-47f9-f13b-66817c70e9bd"
   },
   "outputs": [
    {
     "name": "stdout",
     "output_type": "stream",
     "text": [
      "Max_Depth= 1 : -3645.3360478918185\n",
      "Max_Depth= 2 : -3122.055398002115\n",
      "Max_Depth= 3 : -2876.9261524919875\n",
      "Max_Depth= 4 : -2609.145666000958\n",
      "Max_Depth= 5 : -2450.151706163441\n",
      "Max_Depth= 6 : -2300.85248309925\n",
      "Max_Depth= 7 : -2199.666232735684\n",
      "Max_Depth= 8 : -2130.365927705179\n",
      "Max_Depth= 9 : -2074.1583974184864\n"
     ]
    }
   ],
   "source": [
    "##Decision Tree Regressor\n",
    "for depth in range(1,10):\n",
    "    model = DecisionTreeRegressor(max_depth=depth, random_state=RANDOM_STATE)\n",
    "    score = cross_val_score(model, featuresE_train, targetE_train, scoring=rmse_scoring, cv=5)\n",
    "    print('Max_Depth=', depth, ':', score.mean())"
   ]
  },
  {
   "cell_type": "code",
   "execution_count": 33,
   "metadata": {
    "id": "RsPWImu4ZmNA"
   },
   "outputs": [],
   "source": [
    "model = DecisionTreeRegressor(max_depth=9, random_state=RANDOM_STATE)\n",
    "predicted, timeFit,timePredict,timeRMSE,rmseModel = timesOfModel(model,featuresE_train, targetE_train,featuresE_test,targetE_test)"
   ]
  },
  {
   "cell_type": "code",
   "execution_count": 34,
   "metadata": {
    "colab": {
     "base_uri": "https://localhost:8080/",
     "height": 159
    },
    "id": "Ma5w_yhtzE3-",
    "outputId": "938c83a3-529f-45cc-f158-67dd5c819751"
   },
   "outputs": [
    {
     "data": {
      "text/html": [
       "<div>\n",
       "<style scoped>\n",
       "    .dataframe tbody tr th:only-of-type {\n",
       "        vertical-align: middle;\n",
       "    }\n",
       "\n",
       "    .dataframe tbody tr th {\n",
       "        vertical-align: top;\n",
       "    }\n",
       "\n",
       "    .dataframe thead th {\n",
       "        text-align: right;\n",
       "    }\n",
       "</style>\n",
       "<table border=\"1\" class=\"dataframe\">\n",
       "  <thead>\n",
       "    <tr style=\"text-align: right;\">\n",
       "      <th></th>\n",
       "      <th>Model-name</th>\n",
       "      <th>Train-Score</th>\n",
       "      <th>Fit-RunTime (ms)</th>\n",
       "      <th>Predict-RunTime (ms)</th>\n",
       "      <th>RMSE-RunTime (ms)</th>\n",
       "      <th>RMSE</th>\n",
       "      <th>Hyper-Parameters</th>\n",
       "    </tr>\n",
       "  </thead>\n",
       "  <tbody>\n",
       "    <tr>\n",
       "      <td>0</td>\n",
       "      <td>LinearRegression</td>\n",
       "      <td>-2918.223238</td>\n",
       "      <td>213.126183</td>\n",
       "      <td>3.970385</td>\n",
       "      <td>1.332998</td>\n",
       "      <td>2913.331460</td>\n",
       "      <td>none</td>\n",
       "    </tr>\n",
       "    <tr>\n",
       "      <td>1</td>\n",
       "      <td>RandomForestRegressor</td>\n",
       "      <td>-1993.376686</td>\n",
       "      <td>14926.349640</td>\n",
       "      <td>215.947151</td>\n",
       "      <td>0.814199</td>\n",
       "      <td>1974.667199</td>\n",
       "      <td>Max_Depth = 9</td>\n",
       "    </tr>\n",
       "    <tr>\n",
       "      <td>2</td>\n",
       "      <td>DecisionTreeRegressor</td>\n",
       "      <td>-2074.158397</td>\n",
       "      <td>753.551483</td>\n",
       "      <td>10.897875</td>\n",
       "      <td>0.885725</td>\n",
       "      <td>2052.243639</td>\n",
       "      <td>Max_Depth = 9</td>\n",
       "    </tr>\n",
       "  </tbody>\n",
       "</table>\n",
       "</div>"
      ],
      "text/plain": [
       "              Model-name  Train-Score  Fit-RunTime (ms)  Predict-RunTime (ms)  \\\n",
       "0  LinearRegression      -2918.223238  213.126183        3.970385               \n",
       "1  RandomForestRegressor -1993.376686  14926.349640      215.947151             \n",
       "2  DecisionTreeRegressor -2074.158397  753.551483        10.897875              \n",
       "\n",
       "   RMSE-RunTime (ms)         RMSE Hyper-Parameters  \n",
       "0  1.332998           2913.331460  none             \n",
       "1  0.814199           1974.667199  Max_Depth = 9    \n",
       "2  0.885725           2052.243639  Max_Depth = 9    "
      ]
     },
     "metadata": {},
     "output_type": "display_data"
    }
   ],
   "source": [
    "modelName = \"DecisionTreeRegressor\"\n",
    "hyperParam = 'Max_Depth = 9'\n",
    "\n",
    "dfPredictions[modelName]=predicted\n",
    "df_results = updateResults(modelName,hyperParam,score.mean(),timeFit,timePredict,timeRMSE,rmseModel,df_results)"
   ]
  },
  {
   "cell_type": "markdown",
   "metadata": {
    "id": "35bQvzo_J66q"
   },
   "source": [
    "## 2.5 CatBoost Regressor with Ordinal Encoding"
   ]
  },
  {
   "cell_type": "code",
   "execution_count": 35,
   "metadata": {
    "colab": {
     "base_uri": "https://localhost:8080/"
    },
    "id": "HJahVgyLJ66q",
    "outputId": "978e9b54-e34b-430b-8e0d-22ff49cf2cbd",
    "scrolled": true
   },
   "outputs": [
    {
     "name": "stdout",
     "output_type": "stream",
     "text": [
      "Fitting 3 folds for each of 12 candidates, totalling 36 fits\n"
     ]
    },
    {
     "name": "stderr",
     "output_type": "stream",
     "text": [
      "[Parallel(n_jobs=-1)]: Using backend SequentialBackend with 1 concurrent workers.\n"
     ]
    },
    {
     "name": "stdout",
     "output_type": "stream",
     "text": [
      "0:\tlearn: 3162.0657282\ttotal: 90.8ms\tremaining: 817ms\n",
      "9:\tlearn: 1984.6663898\ttotal: 1.19s\tremaining: 0us\n",
      "0:\tlearn: 3167.7874945\ttotal: 102ms\tremaining: 915ms\n",
      "9:\tlearn: 1988.3808354\ttotal: 1.2s\tremaining: 0us\n",
      "0:\tlearn: 3165.1613301\ttotal: 25.8ms\tremaining: 232ms\n",
      "9:\tlearn: 1988.7779197\ttotal: 1.13s\tremaining: 0us\n",
      "0:\tlearn: 4063.1663283\ttotal: 103ms\tremaining: 923ms\n",
      "9:\tlearn: 2688.3804232\ttotal: 1.21s\tremaining: 0us\n",
      "0:\tlearn: 4075.8706560\ttotal: 34.5ms\tremaining: 311ms\n",
      "9:\tlearn: 2704.3389760\ttotal: 1.13s\tremaining: 0us\n",
      "0:\tlearn: 4069.8683996\ttotal: 16.9ms\tremaining: 152ms\n",
      "9:\tlearn: 2707.8909835\ttotal: 1.11s\tremaining: 0us\n",
      "0:\tlearn: 3162.5909675\ttotal: 17.7ms\tremaining: 159ms\n",
      "9:\tlearn: 1985.1392041\ttotal: 1.12s\tremaining: 0us\n",
      "0:\tlearn: 3168.3132073\ttotal: 72.9ms\tremaining: 656ms\n",
      "9:\tlearn: 1991.0447487\ttotal: 1.17s\tremaining: 0us\n",
      "0:\tlearn: 3165.7668587\ttotal: 64.7ms\tremaining: 582ms\n",
      "9:\tlearn: 1983.1064780\ttotal: 1.26s\tremaining: 0us\n",
      "0:\tlearn: 4063.3131510\ttotal: 35.3ms\tremaining: 318ms\n",
      "9:\tlearn: 2689.6963010\ttotal: 1.22s\tremaining: 0us\n",
      "0:\tlearn: 4076.0174693\ttotal: 16.5ms\tremaining: 149ms\n",
      "9:\tlearn: 2704.9034365\ttotal: 1.13s\tremaining: 0us\n",
      "0:\tlearn: 4070.0372654\ttotal: 91.8ms\tremaining: 826ms\n",
      "9:\tlearn: 2706.5319760\ttotal: 1.28s\tremaining: 0us\n",
      "0:\tlearn: 3027.2264350\ttotal: 37.8ms\tremaining: 340ms\n",
      "9:\tlearn: 1896.0341372\ttotal: 1.43s\tremaining: 0us\n",
      "0:\tlearn: 3035.3423667\ttotal: 95.1ms\tremaining: 856ms\n",
      "9:\tlearn: 1897.8679722\ttotal: 1.49s\tremaining: 0us\n",
      "0:\tlearn: 3029.6464820\ttotal: 82ms\tremaining: 738ms\n",
      "9:\tlearn: 1904.6826736\ttotal: 1.48s\tremaining: 0us\n",
      "0:\tlearn: 4037.1360084\ttotal: 32.9ms\tremaining: 296ms\n",
      "9:\tlearn: 2615.4625878\ttotal: 1.52s\tremaining: 0us\n",
      "0:\tlearn: 4050.3279503\ttotal: 39.8ms\tremaining: 358ms\n",
      "9:\tlearn: 2621.1931360\ttotal: 1.53s\tremaining: 0us\n",
      "0:\tlearn: 4043.7304197\ttotal: 47.3ms\tremaining: 426ms\n",
      "9:\tlearn: 2620.7542669\ttotal: 1.53s\tremaining: 0us\n",
      "0:\tlearn: 3028.6595900\ttotal: 108ms\tremaining: 976ms\n",
      "9:\tlearn: 1896.8139789\ttotal: 1.51s\tremaining: 0us\n",
      "0:\tlearn: 3036.7709163\ttotal: 106ms\tremaining: 950ms\n",
      "9:\tlearn: 1891.7194613\ttotal: 1.51s\tremaining: 0us\n",
      "0:\tlearn: 3031.2069527\ttotal: 108ms\tremaining: 969ms\n",
      "9:\tlearn: 1905.0154865\ttotal: 1.5s\tremaining: 0us\n",
      "0:\tlearn: 4037.5189594\ttotal: 55ms\tremaining: 495ms\n",
      "9:\tlearn: 2616.9666891\ttotal: 1.54s\tremaining: 0us\n",
      "0:\tlearn: 4050.7097123\ttotal: 89.3ms\tremaining: 804ms\n",
      "9:\tlearn: 2622.8347653\ttotal: 1.58s\tremaining: 0us\n",
      "0:\tlearn: 4044.1477419\ttotal: 60ms\tremaining: 540ms\n",
      "9:\tlearn: 2622.4187618\ttotal: 1.55s\tremaining: 0us\n",
      "0:\tlearn: 2982.0380593\ttotal: 124ms\tremaining: 1.12s\n",
      "9:\tlearn: 1825.5740932\ttotal: 2.03s\tremaining: 0us\n",
      "0:\tlearn: 2989.2937018\ttotal: 116ms\tremaining: 1.05s\n",
      "9:\tlearn: 1835.7493557\ttotal: 2.11s\tremaining: 0us\n",
      "0:\tlearn: 2976.8353054\ttotal: 126ms\tremaining: 1.14s\n",
      "9:\tlearn: 1844.7417868\ttotal: 2.03s\tremaining: 0us\n",
      "0:\tlearn: 4028.9987251\ttotal: 117ms\tremaining: 1.05s\n",
      "9:\tlearn: 2543.1309283\ttotal: 2.02s\tremaining: 0us\n",
      "0:\tlearn: 4042.0424706\ttotal: 119ms\tremaining: 1.07s\n",
      "9:\tlearn: 2547.9000763\ttotal: 2.03s\tremaining: 0us\n",
      "0:\tlearn: 4034.2283569\ttotal: 142ms\tremaining: 1.28s\n",
      "9:\tlearn: 2551.9305391\ttotal: 2.14s\tremaining: 0us\n",
      "0:\tlearn: 2988.5326571\ttotal: 182ms\tremaining: 1.63s\n",
      "9:\tlearn: 1835.1429105\ttotal: 2.18s\tremaining: 0us\n",
      "0:\tlearn: 2995.8965555\ttotal: 194ms\tremaining: 1.74s\n",
      "9:\tlearn: 1833.7715085\ttotal: 2.1s\tremaining: 0us\n",
      "0:\tlearn: 2984.2084386\ttotal: 150ms\tremaining: 1.35s\n",
      "9:\tlearn: 1837.9320914\ttotal: 2.15s\tremaining: 0us\n",
      "0:\tlearn: 4030.6474661\ttotal: 120ms\tremaining: 1.08s\n",
      "9:\tlearn: 2548.7540060\ttotal: 2.03s\tremaining: 0us\n",
      "0:\tlearn: 4043.7147338\ttotal: 123ms\tremaining: 1.1s\n",
      "9:\tlearn: 2552.4555819\ttotal: 2.03s\tremaining: 0us\n",
      "0:\tlearn: 4036.0742628\ttotal: 118ms\tremaining: 1.06s\n",
      "9:\tlearn: 2558.1248054\ttotal: 2.1s\tremaining: 0us\n"
     ]
    },
    {
     "name": "stderr",
     "output_type": "stream",
     "text": [
      "[Parallel(n_jobs=-1)]: Done  36 out of  36 | elapsed:  1.9min finished\n"
     ]
    },
    {
     "name": "stdout",
     "output_type": "stream",
     "text": [
      "0:\tlearn: 2988.5953458\ttotal: 182ms\tremaining: 1.64s\n",
      "9:\tlearn: 1837.4540168\ttotal: 2.87s\tremaining: 0us\n",
      "\n",
      " The best score across ALL searched params:\n",
      " -1867.61960482278\n",
      "\n",
      " The best parameters across ALL searched params:\n",
      " {'depth': 10, 'eval_metric': 'RMSE', 'iterations': 10, 'l2_leaf_reg': 4, 'learning_rate': 0.5, 'metric_period': 10, 'random_state': 12345}\n",
      "0:\tlearn: 2988.5953458\ttotal: 196ms\tremaining: 3m 16s\n",
      "50:\tlearn: 1622.2337056\ttotal: 14.5s\tremaining: 4m 29s\n",
      "100:\tlearn: 1519.7619139\ttotal: 29s\tremaining: 4m 17s\n",
      "150:\tlearn: 1448.6551519\ttotal: 43.4s\tremaining: 4m 4s\n",
      "200:\tlearn: 1388.1220988\ttotal: 57.7s\tremaining: 3m 49s\n",
      "250:\tlearn: 1343.4055447\ttotal: 1m 12s\tremaining: 3m 35s\n",
      "300:\tlearn: 1305.4175342\ttotal: 1m 26s\tremaining: 3m 20s\n",
      "350:\tlearn: 1268.9838904\ttotal: 1m 40s\tremaining: 3m 6s\n",
      "400:\tlearn: 1238.7023964\ttotal: 1m 54s\tremaining: 2m 51s\n",
      "450:\tlearn: 1209.2513377\ttotal: 2m 9s\tremaining: 2m 37s\n",
      "500:\tlearn: 1182.7912569\ttotal: 2m 23s\tremaining: 2m 22s\n",
      "550:\tlearn: 1158.5891649\ttotal: 2m 37s\tremaining: 2m 8s\n",
      "600:\tlearn: 1134.3943150\ttotal: 2m 52s\tremaining: 1m 54s\n",
      "650:\tlearn: 1115.3856044\ttotal: 3m 6s\tremaining: 1m 39s\n",
      "700:\tlearn: 1095.2156661\ttotal: 3m 20s\tremaining: 1m 25s\n",
      "750:\tlearn: 1077.6592096\ttotal: 3m 35s\tremaining: 1m 11s\n",
      "800:\tlearn: 1060.1638227\ttotal: 3m 49s\tremaining: 57s\n",
      "850:\tlearn: 1043.8287546\ttotal: 4m 3s\tremaining: 42.7s\n",
      "900:\tlearn: 1026.9206619\ttotal: 4m 17s\tremaining: 28.3s\n",
      "950:\tlearn: 1010.8445976\ttotal: 4m 32s\tremaining: 14s\n",
      "999:\tlearn: 995.6846854\ttotal: 4m 46s\tremaining: 0us\n"
     ]
    }
   ],
   "source": [
    "\n",
    "##Setting up parameters for gridsearch\n",
    "from catboost import CatBoostRegressor\n",
    "model = CatBoostRegressor()\n",
    "parameters = {'depth' : [6,8,10], \n",
    "              'learning_rate' : [0.5,0.1],\n",
    "              'l2_leaf_reg' : [2,4],\n",
    "              'iterations' : [10],\n",
    "              'metric_period' : [10],\n",
    "              'random_state' : [RANDOM_STATE],\n",
    "              'eval_metric':['RMSE']}\n",
    "grid = GridSearchCV(estimator=model, param_grid = parameters, scoring=rmse_scoring, cv = 3, n_jobs=-1, verbose=1)\n",
    "grid.fit(featuresE_train, targetE_train)\n",
    "best_param = grid.best_params_\n",
    "print(\"\\n The best score across ALL searched params:\\n\",\n",
    "          grid.best_score_)\n",
    "    \n",
    "print(\"\\n The best parameters across ALL searched params:\\n\",\n",
    "          grid.best_params_)\n",
    "\n",
    "##Specify the training parameters \n",
    "model = CatBoostRegressor(iterations=1000, \n",
    "                          depth=best_param['depth'], \n",
    "                          learning_rate=best_param['learning_rate'],\n",
    "                          l2_leaf_reg = best_param['l2_leaf_reg'],\n",
    "                          metric_period=50,\n",
    "                          eval_metric='RMSE',\n",
    "                          random_state=RANDOM_STATE)\n",
    "\n",
    "predicted, timeFit,timePredict,timeRMSE,rmseModel = timesOfModel(model,featuresE_train, targetE_train,featuresE_test,targetE_test)"
   ]
  },
  {
   "cell_type": "code",
   "execution_count": 36,
   "metadata": {
    "colab": {
     "base_uri": "https://localhost:8080/",
     "height": 173
    },
    "id": "-e_F9KUEIcHK",
    "outputId": "de0da768-6952-45c6-df43-86cd3007cad7",
    "scrolled": true
   },
   "outputs": [
    {
     "data": {
      "text/html": [
       "<div>\n",
       "<style scoped>\n",
       "    .dataframe tbody tr th:only-of-type {\n",
       "        vertical-align: middle;\n",
       "    }\n",
       "\n",
       "    .dataframe tbody tr th {\n",
       "        vertical-align: top;\n",
       "    }\n",
       "\n",
       "    .dataframe thead th {\n",
       "        text-align: right;\n",
       "    }\n",
       "</style>\n",
       "<table border=\"1\" class=\"dataframe\">\n",
       "  <thead>\n",
       "    <tr style=\"text-align: right;\">\n",
       "      <th></th>\n",
       "      <th>Model-name</th>\n",
       "      <th>Train-Score</th>\n",
       "      <th>Fit-RunTime (ms)</th>\n",
       "      <th>Predict-RunTime (ms)</th>\n",
       "      <th>RMSE-RunTime (ms)</th>\n",
       "      <th>RMSE</th>\n",
       "      <th>Hyper-Parameters</th>\n",
       "    </tr>\n",
       "  </thead>\n",
       "  <tbody>\n",
       "    <tr>\n",
       "      <td>0</td>\n",
       "      <td>LinearRegression</td>\n",
       "      <td>-2918.223238</td>\n",
       "      <td>213.126183</td>\n",
       "      <td>3.970385</td>\n",
       "      <td>1.332998</td>\n",
       "      <td>2913.331460</td>\n",
       "      <td>none</td>\n",
       "    </tr>\n",
       "    <tr>\n",
       "      <td>1</td>\n",
       "      <td>RandomForestRegressor</td>\n",
       "      <td>-1993.376686</td>\n",
       "      <td>14926.349640</td>\n",
       "      <td>215.947151</td>\n",
       "      <td>0.814199</td>\n",
       "      <td>1974.667199</td>\n",
       "      <td>Max_Depth = 9</td>\n",
       "    </tr>\n",
       "    <tr>\n",
       "      <td>2</td>\n",
       "      <td>DecisionTreeRegressor</td>\n",
       "      <td>-2074.158397</td>\n",
       "      <td>753.551483</td>\n",
       "      <td>10.897875</td>\n",
       "      <td>0.885725</td>\n",
       "      <td>2052.243639</td>\n",
       "      <td>Max_Depth = 9</td>\n",
       "    </tr>\n",
       "    <tr>\n",
       "      <td>3</td>\n",
       "      <td>CatBoost Enc</td>\n",
       "      <td>-1867.619605</td>\n",
       "      <td>288657.253265</td>\n",
       "      <td>683.476925</td>\n",
       "      <td>1.041174</td>\n",
       "      <td>1655.173732</td>\n",
       "      <td>{'depth': 10, 'eval_metric': 'RMSE', 'iterations': 10, 'l2_leaf_reg': 4, 'learning_rate': 0.5, 'metric_period': 10, 'random_state': 12345}</td>\n",
       "    </tr>\n",
       "  </tbody>\n",
       "</table>\n",
       "</div>"
      ],
      "text/plain": [
       "              Model-name  Train-Score  Fit-RunTime (ms)  Predict-RunTime (ms)  \\\n",
       "0  LinearRegression      -2918.223238  213.126183        3.970385               \n",
       "1  RandomForestRegressor -1993.376686  14926.349640      215.947151             \n",
       "2  DecisionTreeRegressor -2074.158397  753.551483        10.897875              \n",
       "3  CatBoost Enc          -1867.619605  288657.253265     683.476925             \n",
       "\n",
       "   RMSE-RunTime (ms)         RMSE  \\\n",
       "0  1.332998           2913.331460   \n",
       "1  0.814199           1974.667199   \n",
       "2  0.885725           2052.243639   \n",
       "3  1.041174           1655.173732   \n",
       "\n",
       "                                                                                                                             Hyper-Parameters  \n",
       "0  none                                                                                                                                        \n",
       "1  Max_Depth = 9                                                                                                                               \n",
       "2  Max_Depth = 9                                                                                                                               \n",
       "3  {'depth': 10, 'eval_metric': 'RMSE', 'iterations': 10, 'l2_leaf_reg': 4, 'learning_rate': 0.5, 'metric_period': 10, 'random_state': 12345}  "
      ]
     },
     "metadata": {},
     "output_type": "display_data"
    }
   ],
   "source": [
    "modelName = 'CatBoost Enc'\n",
    "\n",
    "dfPredictions[modelName]=predicted\n",
    "df_results = updateResults(modelName,best_param,grid.best_score_,timeFit,timePredict,timeRMSE,rmseModel,df_results)"
   ]
  },
  {
   "cell_type": "markdown",
   "metadata": {
    "id": "17UQFaPsa6aS"
   },
   "source": [
    "## 2.6 LightGBM with Ordinal Encoding"
   ]
  },
  {
   "cell_type": "code",
   "execution_count": 37,
   "metadata": {
    "colab": {
     "base_uri": "https://localhost:8080/"
    },
    "id": "c_3jO9w_a61a",
    "outputId": "5800f628-dceb-43b7-f78a-2739afe56f65"
   },
   "outputs": [
    {
     "name": "stdout",
     "output_type": "stream",
     "text": [
      "\n",
      " The best score across ALL searched params:\n",
      " -1816.141077838079\n",
      "\n",
      " The best parameters across ALL searched params:\n",
      " {'eval_metric': 'RMSE', 'learning_rate': 0.5, 'n_estimators': 20, 'num_leaves': 30, 'random_state': 12345}\n"
     ]
    }
   ],
   "source": [
    "##Setting up parameters for gridsearch\n",
    "model = LGBMRegressor()\n",
    "parameters = {'num_leaves' : [10,20,30], \n",
    "              'learning_rate' : [0.5,0.1],\n",
    "              'n_estimators' : [10,20],\n",
    "              'eval_metric':['RMSE'],\n",
    "              'random_state' : [RANDOM_STATE]\n",
    "           }\n",
    "grid = GridSearchCV(estimator=model, param_grid = parameters, scoring=rmse_scoring, cv = 3, n_jobs=-1)\n",
    "grid.fit(featuresE_train, targetE_train)\n",
    "best_param = grid.best_params_\n",
    "\n",
    "print(\"\\n The best score across ALL searched params:\\n\",\n",
    "          grid.best_score_)\n",
    "    \n",
    "print(\"\\n The best parameters across ALL searched params:\\n\",\n",
    "          grid.best_params_)\n",
    "\n",
    "##Specify the training parameters \n",
    "model = LGBMRegressor(num_leaves=best_param['num_leaves'], \n",
    "                          learning_rate=best_param['learning_rate'], \n",
    "                          n_estimators=100,\n",
    "                          eval_metric='RMSE',\n",
    "                          random_state = best_param['random_state'])\n",
    "\n",
    "predicted, timeFit,timePredict,timeRMSE,rmseModel = timesOfModel(model,featuresE_train, targetE_train,featuresE_test,targetE_test)"
   ]
  },
  {
   "cell_type": "code",
   "execution_count": 38,
   "metadata": {
    "colab": {
     "base_uri": "https://localhost:8080/",
     "height": 204
    },
    "id": "3PB_7YNAa7L3",
    "outputId": "fe6f1221-a81e-45db-9ee7-64cf7b35a8c0"
   },
   "outputs": [
    {
     "data": {
      "text/html": [
       "<div>\n",
       "<style scoped>\n",
       "    .dataframe tbody tr th:only-of-type {\n",
       "        vertical-align: middle;\n",
       "    }\n",
       "\n",
       "    .dataframe tbody tr th {\n",
       "        vertical-align: top;\n",
       "    }\n",
       "\n",
       "    .dataframe thead th {\n",
       "        text-align: right;\n",
       "    }\n",
       "</style>\n",
       "<table border=\"1\" class=\"dataframe\">\n",
       "  <thead>\n",
       "    <tr style=\"text-align: right;\">\n",
       "      <th></th>\n",
       "      <th>Model-name</th>\n",
       "      <th>Train-Score</th>\n",
       "      <th>Fit-RunTime (ms)</th>\n",
       "      <th>Predict-RunTime (ms)</th>\n",
       "      <th>RMSE-RunTime (ms)</th>\n",
       "      <th>RMSE</th>\n",
       "      <th>Hyper-Parameters</th>\n",
       "    </tr>\n",
       "  </thead>\n",
       "  <tbody>\n",
       "    <tr>\n",
       "      <td>0</td>\n",
       "      <td>LinearRegression</td>\n",
       "      <td>-2918.223238</td>\n",
       "      <td>213.126183</td>\n",
       "      <td>3.970385</td>\n",
       "      <td>1.332998</td>\n",
       "      <td>2913.331460</td>\n",
       "      <td>none</td>\n",
       "    </tr>\n",
       "    <tr>\n",
       "      <td>1</td>\n",
       "      <td>RandomForestRegressor</td>\n",
       "      <td>-1993.376686</td>\n",
       "      <td>14926.349640</td>\n",
       "      <td>215.947151</td>\n",
       "      <td>0.814199</td>\n",
       "      <td>1974.667199</td>\n",
       "      <td>Max_Depth = 9</td>\n",
       "    </tr>\n",
       "    <tr>\n",
       "      <td>2</td>\n",
       "      <td>DecisionTreeRegressor</td>\n",
       "      <td>-2074.158397</td>\n",
       "      <td>753.551483</td>\n",
       "      <td>10.897875</td>\n",
       "      <td>0.885725</td>\n",
       "      <td>2052.243639</td>\n",
       "      <td>Max_Depth = 9</td>\n",
       "    </tr>\n",
       "    <tr>\n",
       "      <td>3</td>\n",
       "      <td>CatBoost Enc</td>\n",
       "      <td>-1867.619605</td>\n",
       "      <td>288657.253265</td>\n",
       "      <td>683.476925</td>\n",
       "      <td>1.041174</td>\n",
       "      <td>1655.173732</td>\n",
       "      <td>{'depth': 10, 'eval_metric': 'RMSE', 'iterations': 10, 'l2_leaf_reg': 4, 'learning_rate': 0.5, 'metric_period': 10, 'random_state': 12345}</td>\n",
       "    </tr>\n",
       "    <tr>\n",
       "      <td>4</td>\n",
       "      <td>LightGBM Enc</td>\n",
       "      <td>-1816.141078</td>\n",
       "      <td>8701.848269</td>\n",
       "      <td>602.875948</td>\n",
       "      <td>1.307249</td>\n",
       "      <td>1697.628156</td>\n",
       "      <td>{'eval_metric': 'RMSE', 'learning_rate': 0.5, 'n_estimators': 20, 'num_leaves': 30, 'random_state': 12345}</td>\n",
       "    </tr>\n",
       "  </tbody>\n",
       "</table>\n",
       "</div>"
      ],
      "text/plain": [
       "              Model-name  Train-Score  Fit-RunTime (ms)  Predict-RunTime (ms)  \\\n",
       "0  LinearRegression      -2918.223238  213.126183        3.970385               \n",
       "1  RandomForestRegressor -1993.376686  14926.349640      215.947151             \n",
       "2  DecisionTreeRegressor -2074.158397  753.551483        10.897875              \n",
       "3  CatBoost Enc          -1867.619605  288657.253265     683.476925             \n",
       "4  LightGBM Enc          -1816.141078  8701.848269       602.875948             \n",
       "\n",
       "   RMSE-RunTime (ms)         RMSE  \\\n",
       "0  1.332998           2913.331460   \n",
       "1  0.814199           1974.667199   \n",
       "2  0.885725           2052.243639   \n",
       "3  1.041174           1655.173732   \n",
       "4  1.307249           1697.628156   \n",
       "\n",
       "                                                                                                                             Hyper-Parameters  \n",
       "0  none                                                                                                                                        \n",
       "1  Max_Depth = 9                                                                                                                               \n",
       "2  Max_Depth = 9                                                                                                                               \n",
       "3  {'depth': 10, 'eval_metric': 'RMSE', 'iterations': 10, 'l2_leaf_reg': 4, 'learning_rate': 0.5, 'metric_period': 10, 'random_state': 12345}  \n",
       "4  {'eval_metric': 'RMSE', 'learning_rate': 0.5, 'n_estimators': 20, 'num_leaves': 30, 'random_state': 12345}                                  "
      ]
     },
     "metadata": {},
     "output_type": "display_data"
    }
   ],
   "source": [
    "modelName='LightGBM Enc'\n",
    "dfPredictions[modelName]=predicted\n",
    "df_results = updateResults(modelName,best_param,grid.best_score_,timeFit,timePredict,timeRMSE,rmseModel,df_results)"
   ]
  },
  {
   "cell_type": "markdown",
   "metadata": {
    "id": "e296tIWKY5YY"
   },
   "source": [
    "##  2.7 CatBoostRegressor without Ordinal Encoding "
   ]
  },
  {
   "cell_type": "markdown",
   "metadata": {
    "colab": {
     "base_uri": "https://localhost:8080/"
    },
    "id": "Gb-hD4iRYSAQ",
    "outputId": "9a12bc37-6662-4754-b43d-0d46a836b447"
   },
   "source": [
    "model = CatBoostRegressor()\n",
    "parameters = {'depth' : [6,8,10], \n",
    "              'learning_rate' : [0.5,0.1],\n",
    "              'l2_leaf_reg' : [2,4],\n",
    "              'metric_period':[10],\n",
    "              'iterations' : [10],\n",
    "              'eval_metric':['RMSE'],\n",
    "              'random_state' : [RANDOM_STATE]}\n",
    "grid = GridSearchCV(estimator=model, param_grid = parameters, scoring=rmse_scoring, cv = 3, n_jobs=-1, verbose=1)\n",
    "grid.fit(features_train, target_train, cat_features=listCategory)\n",
    "best_param = grid.best_params_\n",
    "print(\"\\n The best score across ALL searched params:\\n\",\n",
    "          grid.best_score_)\n",
    "    \n",
    "print(\"\\n The best parameters across ALL searched params:\\n\",\n",
    "          grid.best_params_)\n",
    "\n",
    "##Specify the training parameters \n",
    "model = CatBoostRegressor(iterations=1000, \n",
    "                          depth=best_param['depth'], \n",
    "                          learning_rate=best_param['learning_rate'],\n",
    "                          l2_leaf_reg = best_param['l2_leaf_reg'],\n",
    "                          eval_metric='RMSE',\n",
    "                          random_state=RANDOM_STATE,\n",
    "                          metric_period=50)\n",
    "\n",
    "\n",
    "startFit=time.time()\n",
    "model.fit(features_train, target_train, cat_features=listCategory, verbose=False, plot=False)\n",
    "timeFit=1000*(time.time()-startFit)\n",
    "\n",
    "startPredict = time.time()\n",
    "predicted_test = model.predict(features_test)\n",
    "timePredict=1000*(time.time() - startPredict)\n",
    "\n",
    "startRMSE=time.time()\n",
    "rmseModel = rmse_scorer(target_test, predicted_test) \n",
    "timeRMSE=1000*(time.time()-startRMSE)"
   ]
  },
  {
   "cell_type": "markdown",
   "metadata": {
    "colab": {
     "base_uri": "https://localhost:8080/",
     "height": 235
    },
    "id": "wv8mfS4AZJwj",
    "outputId": "6e06ad8b-539a-4a91-8ac6-dacc65f97ecd"
   },
   "source": [
    "modelName='CatBoost NoEnc'\n",
    "dfPredictions[modelName]=predicted_test\n",
    "df_results = updateResults(modelName,best_param,grid.best_score_,timeFit,timePredict,timeRMSE,rmseModel,df_results)"
   ]
  },
  {
   "cell_type": "markdown",
   "metadata": {
    "id": "wyQ_UGTudN7i"
   },
   "source": [
    "## 2.8 LightGBM Regressor without Ordinal Encoding"
   ]
  },
  {
   "cell_type": "code",
   "execution_count": 39,
   "metadata": {
    "colab": {
     "base_uri": "https://localhost:8080/"
    },
    "id": "LMFrG5PkdMk8",
    "outputId": "77befa77-2d25-422e-fa2a-2c63c97581cd"
   },
   "outputs": [
    {
     "name": "stdout",
     "output_type": "stream",
     "text": [
      "\n",
      " The best score across ALL searched params:\n",
      " -1807.504736555936\n",
      "\n",
      " The best parameters across ALL searched params:\n",
      " {'eval_metric': 'RMSE', 'learning_rate': 0.5, 'n_estimators': 10, 'num_leaves': 30, 'random_state': 12345}\n"
     ]
    }
   ],
   "source": [
    "for c in listCategory:\n",
    "    features_train[c] = features_train[c].astype('category')\n",
    "    features_test[c] = features_test[c].astype('category')\n",
    "\n",
    "##Setting up parameters for gridsearch\n",
    "model = LGBMRegressor()\n",
    "parameters = {'num_leaves' : [10,20,30], \n",
    "              'learning_rate' : [0.5,0.1],\n",
    "              'n_estimators' : [10],\n",
    "              'eval_metric':['RMSE'],\n",
    "              'random_state' : [RANDOM_STATE]}\n",
    "grid = GridSearchCV(estimator=model, param_grid = parameters, scoring=rmse_scoring, cv = 3, n_jobs=-1)\n",
    "grid.fit(features_train, target_train, categorical_feature = listCategory)\n",
    "best_param = grid.best_params_\n",
    "\n",
    "print(\"\\n The best score across ALL searched params:\\n\",\n",
    "          grid.best_score_)\n",
    "    \n",
    "print(\"\\n The best parameters across ALL searched params:\\n\",\n",
    "          grid.best_params_)\n",
    "\n",
    "##Specify the training parameters \n",
    "model = LGBMRegressor(num_leaves=best_param['num_leaves'], \n",
    "                          learning_rate=best_param['learning_rate'], \n",
    "                          n_estimators=100,\n",
    "                          eval_metric = 'RMSE',\n",
    "                          random_state = RANDOM_STATE\n",
    "                         )\n",
    "\n",
    "predicted, timeFit,timePredict,timeRMSE,rmseModel = timesOfModel(model,features_train, target_train,features_test,target_test)"
   ]
  },
  {
   "cell_type": "code",
   "execution_count": 40,
   "metadata": {
    "colab": {
     "base_uri": "https://localhost:8080/",
     "height": 266
    },
    "id": "3LtFbJA0ePtJ",
    "outputId": "1cf3697b-1b01-413b-9e00-ca2709ce46a2"
   },
   "outputs": [
    {
     "data": {
      "text/html": [
       "<div>\n",
       "<style scoped>\n",
       "    .dataframe tbody tr th:only-of-type {\n",
       "        vertical-align: middle;\n",
       "    }\n",
       "\n",
       "    .dataframe tbody tr th {\n",
       "        vertical-align: top;\n",
       "    }\n",
       "\n",
       "    .dataframe thead th {\n",
       "        text-align: right;\n",
       "    }\n",
       "</style>\n",
       "<table border=\"1\" class=\"dataframe\">\n",
       "  <thead>\n",
       "    <tr style=\"text-align: right;\">\n",
       "      <th></th>\n",
       "      <th>Model-name</th>\n",
       "      <th>Train-Score</th>\n",
       "      <th>Fit-RunTime (ms)</th>\n",
       "      <th>Predict-RunTime (ms)</th>\n",
       "      <th>RMSE-RunTime (ms)</th>\n",
       "      <th>RMSE</th>\n",
       "      <th>Hyper-Parameters</th>\n",
       "    </tr>\n",
       "  </thead>\n",
       "  <tbody>\n",
       "    <tr>\n",
       "      <td>0</td>\n",
       "      <td>LinearRegression</td>\n",
       "      <td>-2918.223238</td>\n",
       "      <td>213.126183</td>\n",
       "      <td>3.970385</td>\n",
       "      <td>1.332998</td>\n",
       "      <td>2913.331460</td>\n",
       "      <td>none</td>\n",
       "    </tr>\n",
       "    <tr>\n",
       "      <td>1</td>\n",
       "      <td>RandomForestRegressor</td>\n",
       "      <td>-1993.376686</td>\n",
       "      <td>14926.349640</td>\n",
       "      <td>215.947151</td>\n",
       "      <td>0.814199</td>\n",
       "      <td>1974.667199</td>\n",
       "      <td>Max_Depth = 9</td>\n",
       "    </tr>\n",
       "    <tr>\n",
       "      <td>2</td>\n",
       "      <td>DecisionTreeRegressor</td>\n",
       "      <td>-2074.158397</td>\n",
       "      <td>753.551483</td>\n",
       "      <td>10.897875</td>\n",
       "      <td>0.885725</td>\n",
       "      <td>2052.243639</td>\n",
       "      <td>Max_Depth = 9</td>\n",
       "    </tr>\n",
       "    <tr>\n",
       "      <td>3</td>\n",
       "      <td>CatBoost Enc</td>\n",
       "      <td>-1867.619605</td>\n",
       "      <td>288657.253265</td>\n",
       "      <td>683.476925</td>\n",
       "      <td>1.041174</td>\n",
       "      <td>1655.173732</td>\n",
       "      <td>{'depth': 10, 'eval_metric': 'RMSE', 'iterations': 10, 'l2_leaf_reg': 4, 'learning_rate': 0.5, 'metric_period': 10, 'random_state': 12345}</td>\n",
       "    </tr>\n",
       "    <tr>\n",
       "      <td>4</td>\n",
       "      <td>LightGBM Enc</td>\n",
       "      <td>-1816.141078</td>\n",
       "      <td>8701.848269</td>\n",
       "      <td>602.875948</td>\n",
       "      <td>1.307249</td>\n",
       "      <td>1697.628156</td>\n",
       "      <td>{'eval_metric': 'RMSE', 'learning_rate': 0.5, 'n_estimators': 20, 'num_leaves': 30, 'random_state': 12345}</td>\n",
       "    </tr>\n",
       "    <tr>\n",
       "      <td>5</td>\n",
       "      <td>LightGBM NoEnc</td>\n",
       "      <td>-1807.504737</td>\n",
       "      <td>18907.879114</td>\n",
       "      <td>1496.854544</td>\n",
       "      <td>1.317024</td>\n",
       "      <td>1701.224634</td>\n",
       "      <td>{'eval_metric': 'RMSE', 'learning_rate': 0.5, 'n_estimators': 10, 'num_leaves': 30, 'random_state': 12345}</td>\n",
       "    </tr>\n",
       "  </tbody>\n",
       "</table>\n",
       "</div>"
      ],
      "text/plain": [
       "              Model-name  Train-Score  Fit-RunTime (ms)  Predict-RunTime (ms)  \\\n",
       "0  LinearRegression      -2918.223238  213.126183        3.970385               \n",
       "1  RandomForestRegressor -1993.376686  14926.349640      215.947151             \n",
       "2  DecisionTreeRegressor -2074.158397  753.551483        10.897875              \n",
       "3  CatBoost Enc          -1867.619605  288657.253265     683.476925             \n",
       "4  LightGBM Enc          -1816.141078  8701.848269       602.875948             \n",
       "5  LightGBM NoEnc        -1807.504737  18907.879114      1496.854544            \n",
       "\n",
       "   RMSE-RunTime (ms)         RMSE  \\\n",
       "0  1.332998           2913.331460   \n",
       "1  0.814199           1974.667199   \n",
       "2  0.885725           2052.243639   \n",
       "3  1.041174           1655.173732   \n",
       "4  1.307249           1697.628156   \n",
       "5  1.317024           1701.224634   \n",
       "\n",
       "                                                                                                                             Hyper-Parameters  \n",
       "0  none                                                                                                                                        \n",
       "1  Max_Depth = 9                                                                                                                               \n",
       "2  Max_Depth = 9                                                                                                                               \n",
       "3  {'depth': 10, 'eval_metric': 'RMSE', 'iterations': 10, 'l2_leaf_reg': 4, 'learning_rate': 0.5, 'metric_period': 10, 'random_state': 12345}  \n",
       "4  {'eval_metric': 'RMSE', 'learning_rate': 0.5, 'n_estimators': 20, 'num_leaves': 30, 'random_state': 12345}                                  \n",
       "5  {'eval_metric': 'RMSE', 'learning_rate': 0.5, 'n_estimators': 10, 'num_leaves': 30, 'random_state': 12345}                                  "
      ]
     },
     "metadata": {},
     "output_type": "display_data"
    }
   ],
   "source": [
    "modelName='LightGBM NoEnc'\n",
    "dfPredictions[modelName]=predicted\n",
    "\n",
    "df_results = updateResults(modelName,best_param,grid.best_score_,timeFit,timePredict,timeRMSE,rmseModel,df_results)"
   ]
  },
  {
   "cell_type": "markdown",
   "metadata": {
    "id": "h5weOfJF_94-"
   },
   "source": [
    "## 2.9 XGBoostRegressor\n",
    "- We already have the ordinal encoded features. We will use DMatrix on them."
   ]
  },
  {
   "cell_type": "code",
   "execution_count": 41,
   "metadata": {
    "colab": {
     "base_uri": "https://localhost:8080/",
     "height": 442
    },
    "id": "zuC_3rghA02N",
    "outputId": "506838f9-a8b8-4871-a56a-79440c549b77"
   },
   "outputs": [
    {
     "data": {
      "text/plain": [
       "<bound method NDFrame.head of         Price  VehicleType  RegistrationYear  Gearbox  Power  Model  Mileage  \\\n",
       "0       480    2.0          21.0              1.0      0      116.0  150000    \n",
       "1       18300  2.0          39.0              1.0      190    116.0  125000    \n",
       "2       9800   6.0          32.0              0.0      163    117.0  125000    \n",
       "3       1500   5.0          29.0              1.0      75     116.0  150000    \n",
       "4       3600   5.0          36.0              1.0      69     101.0  90000     \n",
       "...      ...   ...           ...              ...      ..       ...    ...     \n",
       "354363  1150   0.0          28.0              1.0      0      248.0  150000    \n",
       "354364  0      0.0          33.0              1.0      0      78.0   150000    \n",
       "354366  1199   1.0          28.0              0.0      101    106.0  125000    \n",
       "354367  9200   0.0          24.0              1.0      102    223.0  150000    \n",
       "354368  3400   7.0          30.0              1.0      100    116.0  150000    \n",
       "\n",
       "        RegistrationMonth  FuelType  Brand  NotRepaired  PostalCode  \n",
       "0       0.0                6.0       38.0   1.0          4892.0      \n",
       "1       5.0                2.0       1.0    1.0          4609.0      \n",
       "2       8.0                2.0       14.0   1.0          6981.0      \n",
       "3       6.0                6.0       38.0   0.0          7021.0      \n",
       "4       7.0                2.0       31.0   0.0          4206.0      \n",
       "...     ...                ...        ...   ...             ...      \n",
       "354363  3.0                6.0       24.0   0.0          1856.0      \n",
       "354364  7.0                6.0       22.0   1.0          102.0       \n",
       "354366  3.0                6.0       32.0   0.0          1818.0      \n",
       "354367  3.0                2.0       38.0   0.0          6623.0      \n",
       "354368  6.0                2.0       38.0   0.0          2969.0      \n",
       "\n",
       "[327768 rows x 12 columns]>"
      ]
     },
     "metadata": {},
     "output_type": "display_data"
    },
    {
     "data": {
      "text/html": [
       "<div>\n",
       "<style scoped>\n",
       "    .dataframe tbody tr th:only-of-type {\n",
       "        vertical-align: middle;\n",
       "    }\n",
       "\n",
       "    .dataframe tbody tr th {\n",
       "        vertical-align: top;\n",
       "    }\n",
       "\n",
       "    .dataframe thead th {\n",
       "        text-align: right;\n",
       "    }\n",
       "</style>\n",
       "<table border=\"1\" class=\"dataframe\">\n",
       "  <thead>\n",
       "    <tr style=\"text-align: right;\">\n",
       "      <th></th>\n",
       "      <th>Price</th>\n",
       "      <th>VehicleType</th>\n",
       "      <th>RegistrationYear</th>\n",
       "      <th>Gearbox</th>\n",
       "      <th>Power</th>\n",
       "      <th>Model</th>\n",
       "      <th>Mileage</th>\n",
       "      <th>RegistrationMonth</th>\n",
       "      <th>FuelType</th>\n",
       "      <th>Brand</th>\n",
       "      <th>NotRepaired</th>\n",
       "      <th>PostalCode</th>\n",
       "    </tr>\n",
       "  </thead>\n",
       "  <tbody>\n",
       "    <tr>\n",
       "      <td>0</td>\n",
       "      <td>480</td>\n",
       "      <td>2</td>\n",
       "      <td>21</td>\n",
       "      <td>1</td>\n",
       "      <td>0</td>\n",
       "      <td>116</td>\n",
       "      <td>150000</td>\n",
       "      <td>0</td>\n",
       "      <td>6</td>\n",
       "      <td>38</td>\n",
       "      <td>1</td>\n",
       "      <td>4892</td>\n",
       "    </tr>\n",
       "    <tr>\n",
       "      <td>1</td>\n",
       "      <td>18300</td>\n",
       "      <td>2</td>\n",
       "      <td>39</td>\n",
       "      <td>1</td>\n",
       "      <td>190</td>\n",
       "      <td>116</td>\n",
       "      <td>125000</td>\n",
       "      <td>5</td>\n",
       "      <td>2</td>\n",
       "      <td>1</td>\n",
       "      <td>1</td>\n",
       "      <td>4609</td>\n",
       "    </tr>\n",
       "    <tr>\n",
       "      <td>2</td>\n",
       "      <td>9800</td>\n",
       "      <td>6</td>\n",
       "      <td>32</td>\n",
       "      <td>0</td>\n",
       "      <td>163</td>\n",
       "      <td>117</td>\n",
       "      <td>125000</td>\n",
       "      <td>8</td>\n",
       "      <td>2</td>\n",
       "      <td>14</td>\n",
       "      <td>1</td>\n",
       "      <td>6981</td>\n",
       "    </tr>\n",
       "    <tr>\n",
       "      <td>3</td>\n",
       "      <td>1500</td>\n",
       "      <td>5</td>\n",
       "      <td>29</td>\n",
       "      <td>1</td>\n",
       "      <td>75</td>\n",
       "      <td>116</td>\n",
       "      <td>150000</td>\n",
       "      <td>6</td>\n",
       "      <td>6</td>\n",
       "      <td>38</td>\n",
       "      <td>0</td>\n",
       "      <td>7021</td>\n",
       "    </tr>\n",
       "    <tr>\n",
       "      <td>4</td>\n",
       "      <td>3600</td>\n",
       "      <td>5</td>\n",
       "      <td>36</td>\n",
       "      <td>1</td>\n",
       "      <td>69</td>\n",
       "      <td>101</td>\n",
       "      <td>90000</td>\n",
       "      <td>7</td>\n",
       "      <td>2</td>\n",
       "      <td>31</td>\n",
       "      <td>0</td>\n",
       "      <td>4206</td>\n",
       "    </tr>\n",
       "  </tbody>\n",
       "</table>\n",
       "</div>"
      ],
      "text/plain": [
       "   Price  VehicleType  RegistrationYear  Gearbox  Power  Model  Mileage  \\\n",
       "0  480    2            21                1        0      116    150000    \n",
       "1  18300  2            39                1        190    116    125000    \n",
       "2  9800   6            32                0        163    117    125000    \n",
       "3  1500   5            29                1        75     116    150000    \n",
       "4  3600   5            36                1        69     101    90000     \n",
       "\n",
       "   RegistrationMonth  FuelType  Brand  NotRepaired  PostalCode  \n",
       "0  0                  6         38     1            4892        \n",
       "1  5                  2         1      1            4609        \n",
       "2  8                  2         14     1            6981        \n",
       "3  6                  6         38     0            7021        \n",
       "4  7                  2         31     0            4206        "
      ]
     },
     "metadata": {},
     "output_type": "display_data"
    }
   ],
   "source": [
    "display(df.head)\n",
    "from sklearn.preprocessing import OneHotEncoder\n",
    "from xgboost import XGBRegressor\n",
    "##Encode categorical features\n",
    "#listCategory = ['VehicleType', 'RegistrationYear', 'Gearbox', 'Model', 'RegistrationMonth', 'FuelType', 'Brand', 'NotRepaired', 'PostalCode']\n",
    "\n",
    "encoder =  OneHotEncoder(categories=listCategory, sparse=False)\n",
    "\n",
    "dftmp=df.astype(int)\n",
    "display(dftmp.head(5))\n",
    "dfOHE = dftmp\n",
    "featuresOHE =  dfOHE.drop(TARGET , axis=1)\n",
    "targetOHE = dfOHE[TARGET]\n",
    "\n",
    "##Apply OneHotEncoder to categorical columns - output is no longer a dataframe: df_encoded\n",
    "tmp=featuresOHE[listCategory]\n",
    "#tmp = encoder.fit_transform(tmp).toarray()\n",
    "#print(tmp)\n",
    "#One hot encoding gave errors so I decided to use Ordinally Encoded dataset.\n",
    "#I will check it against the 'XGB.cv' results to see if results were good.\n",
    "\n",
    "#SPLIT TRAINING INTO TRAINING (75%) AND VALIDATION_TEST (25%)\n",
    "featuresOHE_train, featuresOHE_test, targetOHE_train, targetOHE_test = train_test_split(\n",
    "        featuresOHE, targetOHE, test_size=0.25, random_state=RANDOM_STATE)"
   ]
  },
  {
   "cell_type": "markdown",
   "metadata": {
    "id": "g08QQooKc9EB"
   },
   "source": [
    "## 2.10 Evaluate Best scoring using xgb.cv"
   ]
  },
  {
   "cell_type": "code",
   "execution_count": 42,
   "metadata": {
    "colab": {
     "base_uri": "https://localhost:8080/",
     "height": 102
    },
    "id": "nJcHwGWWEDNt",
    "outputId": "32b8e3a8-5002-403b-e8f3-f39df3fd8114"
   },
   "outputs": [
    {
     "data": {
      "text/plain": [
       "train-rmse-mean    1795.852295\n",
       "train-rmse-std     4.607737   \n",
       "test-rmse-mean     1826.771322\n",
       "test-rmse-std      1.612413   \n",
       "dtype: float64"
      ]
     },
     "metadata": {},
     "output_type": "display_data"
    }
   ],
   "source": [
    "featuresOHE_dmatrix = xgb.DMatrix(data=featuresE,label=targetE)\n",
    "#k-fold Cross Validation using XGBoost\n",
    "model=XGBRegressor()\n",
    "params = {'nthread': 4,'colsample_bytree': 0.7,'learning_rate': 0.07,'max_depth': 7, 'min_child_weight': 4, 'n_estimators': 500,\n",
    "           'alpha': 10,'seed':RANDOM_STATE,'nfold':3,'num_boost_round':50,\n",
    "          'early_stopping_rounds':10,'metrics':\"rmse\",'silent': 1, 'subsample': 0.7}\n",
    "scores = xgb.cv(dtrain=featuresOHE_dmatrix, params=params, nfold=3,\n",
    "                    num_boost_round=50,early_stopping_rounds=10,metrics=\"rmse\", as_pandas=True, seed=RANDOM_STATE)\n",
    "display(scores.min())"
   ]
  },
  {
   "cell_type": "markdown",
   "metadata": {
    "id": "cQWbERFQNQq4"
   },
   "source": [
    "## 2.11 XGB Regressor"
   ]
  },
  {
   "cell_type": "code",
   "execution_count": 43,
   "metadata": {
    "colab": {
     "base_uri": "https://localhost:8080/"
    },
    "id": "-UbEiIfq_7sH",
    "outputId": "de1ab49e-3e63-4c68-9fc0-b739e1aff101"
   },
   "outputs": [
    {
     "name": "stdout",
     "output_type": "stream",
     "text": [
      "[14:21:52] WARNING: /workspace/src/objective/regression_obj.cu:152: reg:linear is now deprecated in favor of reg:squarederror.\n"
     ]
    }
   ],
   "source": [
    "##Specify the training parameters \n",
    "model =  XGBRegressor( colsample_bytree = 0.3, learning_rate = 0.1, max_depth = 5, alpha = 10, n_estimators = 100)\n",
    "\n",
    "predicted, timeFit,timePredict,timeRMSE,rmseModel = timesOfModel(model,featuresOHE_train, targetOHE_train,featuresOHE_test,targetOHE_test)"
   ]
  },
  {
   "cell_type": "code",
   "execution_count": 44,
   "metadata": {
    "colab": {
     "base_uri": "https://localhost:8080/",
     "height": 297
    },
    "id": "XYeUEoAIQbu7",
    "outputId": "991e7079-9247-46d7-816a-a9d63f07d251"
   },
   "outputs": [
    {
     "data": {
      "text/html": [
       "<div>\n",
       "<style scoped>\n",
       "    .dataframe tbody tr th:only-of-type {\n",
       "        vertical-align: middle;\n",
       "    }\n",
       "\n",
       "    .dataframe tbody tr th {\n",
       "        vertical-align: top;\n",
       "    }\n",
       "\n",
       "    .dataframe thead th {\n",
       "        text-align: right;\n",
       "    }\n",
       "</style>\n",
       "<table border=\"1\" class=\"dataframe\">\n",
       "  <thead>\n",
       "    <tr style=\"text-align: right;\">\n",
       "      <th></th>\n",
       "      <th>Model-name</th>\n",
       "      <th>Train-Score</th>\n",
       "      <th>Fit-RunTime (ms)</th>\n",
       "      <th>Predict-RunTime (ms)</th>\n",
       "      <th>RMSE-RunTime (ms)</th>\n",
       "      <th>RMSE</th>\n",
       "      <th>Hyper-Parameters</th>\n",
       "    </tr>\n",
       "  </thead>\n",
       "  <tbody>\n",
       "    <tr>\n",
       "      <td>0</td>\n",
       "      <td>LinearRegression</td>\n",
       "      <td>-2918.22</td>\n",
       "      <td>213.126183</td>\n",
       "      <td>3.970385</td>\n",
       "      <td>1.332998</td>\n",
       "      <td>2913.331460</td>\n",
       "      <td>none</td>\n",
       "    </tr>\n",
       "    <tr>\n",
       "      <td>1</td>\n",
       "      <td>RandomForestRegressor</td>\n",
       "      <td>-1993.38</td>\n",
       "      <td>14926.349640</td>\n",
       "      <td>215.947151</td>\n",
       "      <td>0.814199</td>\n",
       "      <td>1974.667199</td>\n",
       "      <td>Max_Depth = 9</td>\n",
       "    </tr>\n",
       "    <tr>\n",
       "      <td>2</td>\n",
       "      <td>DecisionTreeRegressor</td>\n",
       "      <td>-2074.16</td>\n",
       "      <td>753.551483</td>\n",
       "      <td>10.897875</td>\n",
       "      <td>0.885725</td>\n",
       "      <td>2052.243639</td>\n",
       "      <td>Max_Depth = 9</td>\n",
       "    </tr>\n",
       "    <tr>\n",
       "      <td>3</td>\n",
       "      <td>CatBoost Enc</td>\n",
       "      <td>-1867.62</td>\n",
       "      <td>288657.253265</td>\n",
       "      <td>683.476925</td>\n",
       "      <td>1.041174</td>\n",
       "      <td>1655.173732</td>\n",
       "      <td>{'depth': 10, 'eval_metric': 'RMSE', 'iterations': 10, 'l2_leaf_reg': 4, 'learning_rate': 0.5, 'metric_period': 10, 'random_state': 12345}</td>\n",
       "    </tr>\n",
       "    <tr>\n",
       "      <td>4</td>\n",
       "      <td>LightGBM Enc</td>\n",
       "      <td>-1816.14</td>\n",
       "      <td>8701.848269</td>\n",
       "      <td>602.875948</td>\n",
       "      <td>1.307249</td>\n",
       "      <td>1697.628156</td>\n",
       "      <td>{'eval_metric': 'RMSE', 'learning_rate': 0.5, 'n_estimators': 20, 'num_leaves': 30, 'random_state': 12345}</td>\n",
       "    </tr>\n",
       "    <tr>\n",
       "      <td>5</td>\n",
       "      <td>LightGBM NoEnc</td>\n",
       "      <td>-1807.5</td>\n",
       "      <td>18907.879114</td>\n",
       "      <td>1496.854544</td>\n",
       "      <td>1.317024</td>\n",
       "      <td>1701.224634</td>\n",
       "      <td>{'eval_metric': 'RMSE', 'learning_rate': 0.5, 'n_estimators': 10, 'num_leaves': 30, 'random_state': 12345}</td>\n",
       "    </tr>\n",
       "    <tr>\n",
       "      <td>6</td>\n",
       "      <td>XGBRegressor</td>\n",
       "      <td>-</td>\n",
       "      <td>14363.831520</td>\n",
       "      <td>505.872011</td>\n",
       "      <td>1.080751</td>\n",
       "      <td>1822.092082</td>\n",
       "      <td>colsample_bytree = 0.3, learning_rate = 0.1, max_depth = 5, alpha = 10, n_estimators = 100</td>\n",
       "    </tr>\n",
       "  </tbody>\n",
       "</table>\n",
       "</div>"
      ],
      "text/plain": [
       "              Model-name Train-Score  Fit-RunTime (ms)  Predict-RunTime (ms)  \\\n",
       "0  LinearRegression      -2918.22     213.126183        3.970385               \n",
       "1  RandomForestRegressor -1993.38     14926.349640      215.947151             \n",
       "2  DecisionTreeRegressor -2074.16     753.551483        10.897875              \n",
       "3  CatBoost Enc          -1867.62     288657.253265     683.476925             \n",
       "4  LightGBM Enc          -1816.14     8701.848269       602.875948             \n",
       "5  LightGBM NoEnc        -1807.5      18907.879114      1496.854544            \n",
       "6  XGBRegressor           -           14363.831520      505.872011             \n",
       "\n",
       "   RMSE-RunTime (ms)         RMSE  \\\n",
       "0  1.332998           2913.331460   \n",
       "1  0.814199           1974.667199   \n",
       "2  0.885725           2052.243639   \n",
       "3  1.041174           1655.173732   \n",
       "4  1.307249           1697.628156   \n",
       "5  1.317024           1701.224634   \n",
       "6  1.080751           1822.092082   \n",
       "\n",
       "                                                                                                                             Hyper-Parameters  \n",
       "0  none                                                                                                                                        \n",
       "1  Max_Depth = 9                                                                                                                               \n",
       "2  Max_Depth = 9                                                                                                                               \n",
       "3  {'depth': 10, 'eval_metric': 'RMSE', 'iterations': 10, 'l2_leaf_reg': 4, 'learning_rate': 0.5, 'metric_period': 10, 'random_state': 12345}  \n",
       "4  {'eval_metric': 'RMSE', 'learning_rate': 0.5, 'n_estimators': 20, 'num_leaves': 30, 'random_state': 12345}                                  \n",
       "5  {'eval_metric': 'RMSE', 'learning_rate': 0.5, 'n_estimators': 10, 'num_leaves': 30, 'random_state': 12345}                                  \n",
       "6  colsample_bytree = 0.3, learning_rate = 0.1, max_depth = 5, alpha = 10, n_estimators = 100                                                  "
      ]
     },
     "metadata": {},
     "output_type": "display_data"
    }
   ],
   "source": [
    "modelName='XGBRegressor'\n",
    "hyperParam=\"colsample_bytree = 0.3, learning_rate = 0.1, max_depth = 5, alpha = 10, n_estimators = 100\"\n",
    "dfPredictions[modelName]=predicted\n",
    "\n",
    "df_results = updateResults(modelName,hyperParam,\"-\",timeFit,timePredict,timeRMSE,rmseModel,df_results)"
   ]
  },
  {
   "cell_type": "markdown",
   "metadata": {
    "id": "ioNWl1RtT0Zl"
   },
   "source": [
    "## 2.12 XGB Regressor with GridSearchCV"
   ]
  },
  {
   "cell_type": "code",
   "execution_count": 45,
   "metadata": {
    "colab": {
     "base_uri": "https://localhost:8080/"
    },
    "id": "uSmoRh4OTy57",
    "outputId": "82cb8e19-f53e-4e46-89f2-8e9ef23f8ec1"
   },
   "outputs": [
    {
     "name": "stdout",
     "output_type": "stream",
     "text": [
      "Fitting 2 folds for each of 4 candidates, totalling 8 fits\n"
     ]
    },
    {
     "name": "stderr",
     "output_type": "stream",
     "text": [
      "[Parallel(n_jobs=5)]: Using backend LokyBackend with 5 concurrent workers.\n",
      "[Parallel(n_jobs=5)]: Done   8 out of   8 | elapsed:  3.5min remaining:    0.0s\n",
      "[Parallel(n_jobs=5)]: Done   8 out of   8 | elapsed:  3.5min finished\n"
     ]
    },
    {
     "name": "stdout",
     "output_type": "stream",
     "text": [
      "\n",
      " The best score across ALL searched params:\n",
      " -1845.6173101001664\n",
      "\n",
      " The best parameters across ALL searched params:\n",
      " {'colsample_bytree': 0.7, 'learning_rate': 0.07, 'max_depth': 7, 'min_child_weight': 4, 'n_estimators': 50, 'nthread': 4, 'random_state': 12345, 'silent': 1, 'subsample': 0.7}\n"
     ]
    }
   ],
   "source": [
    "model = XGBRegressor()\n",
    "\n",
    "##Setting up parameters for gridsearch\n",
    "parameters = {'nthread':[4], #when use hyperthread, xgboost may become slower\n",
    "              'learning_rate': [0.05, .07], #so called `eta` value\n",
    "              'max_depth': [6, 7],\n",
    "              'min_child_weight': [4],\n",
    "              'silent': [1],\n",
    "              'subsample': [0.7],\n",
    "              'colsample_bytree': [0.7],\n",
    "              'n_estimators': [50],\n",
    "              'random_state':[RANDOM_STATE]}\n",
    "\n",
    "grid = GridSearchCV(estimator=model,\n",
    "                        param_grid=parameters,\n",
    "                        scoring=rmse_scoring,\n",
    "                        cv = 2,\n",
    "                        n_jobs = 5,\n",
    "                        verbose=1)\n",
    "\n",
    "grid.fit(featuresOHE_train, targetOHE_train)\n",
    "best_param = grid.best_params_\n",
    "\n",
    "print(\"\\n The best score across ALL searched params:\\n\",\n",
    "          grid.best_score_)\n",
    "    \n",
    "print(\"\\n The best parameters across ALL searched params:\\n\",\n",
    "         best_param)\n",
    "\n",
    "##Specify the training parameters \n",
    "model = XGBRegressor(\n",
    "                      nthread=best_param['nthread'],\n",
    "                      max_depth= best_param['max_depth'],\n",
    "                      min_child_weight= best_param['min_child_weight'],\n",
    "                      silent= best_param['silent'],\n",
    "                      subsample= best_param['subsample'],\n",
    "                      colsample_bytree= best_param['colsample_bytree'],\n",
    "                      learning_rate=best_param['learning_rate'], \n",
    "                      n_estimators=500,\n",
    "                      random_state = RANDOM_STATE,\n",
    "                     )\n",
    "\n",
    "predicted, timeFit,timePredict,timeRMSE,rmseModel = timesOfModel(model,featuresOHE_train, targetOHE_train,featuresOHE_test,targetOHE_test)"
   ]
  },
  {
   "cell_type": "code",
   "execution_count": 46,
   "metadata": {
    "colab": {
     "base_uri": "https://localhost:8080/",
     "height": 328
    },
    "id": "f90Z1FykT3zH",
    "outputId": "6113f2e1-bbb2-4c3e-f9ca-741b320f9267"
   },
   "outputs": [
    {
     "data": {
      "text/html": [
       "<div>\n",
       "<style scoped>\n",
       "    .dataframe tbody tr th:only-of-type {\n",
       "        vertical-align: middle;\n",
       "    }\n",
       "\n",
       "    .dataframe tbody tr th {\n",
       "        vertical-align: top;\n",
       "    }\n",
       "\n",
       "    .dataframe thead th {\n",
       "        text-align: right;\n",
       "    }\n",
       "</style>\n",
       "<table border=\"1\" class=\"dataframe\">\n",
       "  <thead>\n",
       "    <tr style=\"text-align: right;\">\n",
       "      <th></th>\n",
       "      <th>Model-name</th>\n",
       "      <th>Train-Score</th>\n",
       "      <th>Fit-RunTime (ms)</th>\n",
       "      <th>Predict-RunTime (ms)</th>\n",
       "      <th>RMSE-RunTime (ms)</th>\n",
       "      <th>RMSE</th>\n",
       "      <th>Hyper-Parameters</th>\n",
       "    </tr>\n",
       "  </thead>\n",
       "  <tbody>\n",
       "    <tr>\n",
       "      <td>0</td>\n",
       "      <td>LinearRegression</td>\n",
       "      <td>-2918.22</td>\n",
       "      <td>213.126183</td>\n",
       "      <td>3.970385</td>\n",
       "      <td>1.332998</td>\n",
       "      <td>2913.331460</td>\n",
       "      <td>none</td>\n",
       "    </tr>\n",
       "    <tr>\n",
       "      <td>1</td>\n",
       "      <td>RandomForestRegressor</td>\n",
       "      <td>-1993.38</td>\n",
       "      <td>14926.349640</td>\n",
       "      <td>215.947151</td>\n",
       "      <td>0.814199</td>\n",
       "      <td>1974.667199</td>\n",
       "      <td>Max_Depth = 9</td>\n",
       "    </tr>\n",
       "    <tr>\n",
       "      <td>2</td>\n",
       "      <td>DecisionTreeRegressor</td>\n",
       "      <td>-2074.16</td>\n",
       "      <td>753.551483</td>\n",
       "      <td>10.897875</td>\n",
       "      <td>0.885725</td>\n",
       "      <td>2052.243639</td>\n",
       "      <td>Max_Depth = 9</td>\n",
       "    </tr>\n",
       "    <tr>\n",
       "      <td>3</td>\n",
       "      <td>CatBoost Enc</td>\n",
       "      <td>-1867.62</td>\n",
       "      <td>288657.253265</td>\n",
       "      <td>683.476925</td>\n",
       "      <td>1.041174</td>\n",
       "      <td>1655.173732</td>\n",
       "      <td>{'depth': 10, 'eval_metric': 'RMSE', 'iterations': 10, 'l2_leaf_reg': 4, 'learning_rate': 0.5, 'metric_period': 10, 'random_state': 12345}</td>\n",
       "    </tr>\n",
       "    <tr>\n",
       "      <td>4</td>\n",
       "      <td>LightGBM Enc</td>\n",
       "      <td>-1816.14</td>\n",
       "      <td>8701.848269</td>\n",
       "      <td>602.875948</td>\n",
       "      <td>1.307249</td>\n",
       "      <td>1697.628156</td>\n",
       "      <td>{'eval_metric': 'RMSE', 'learning_rate': 0.5, 'n_estimators': 20, 'num_leaves': 30, 'random_state': 12345}</td>\n",
       "    </tr>\n",
       "    <tr>\n",
       "      <td>5</td>\n",
       "      <td>LightGBM NoEnc</td>\n",
       "      <td>-1807.5</td>\n",
       "      <td>18907.879114</td>\n",
       "      <td>1496.854544</td>\n",
       "      <td>1.317024</td>\n",
       "      <td>1701.224634</td>\n",
       "      <td>{'eval_metric': 'RMSE', 'learning_rate': 0.5, 'n_estimators': 10, 'num_leaves': 30, 'random_state': 12345}</td>\n",
       "    </tr>\n",
       "    <tr>\n",
       "      <td>6</td>\n",
       "      <td>XGBRegressor</td>\n",
       "      <td>-</td>\n",
       "      <td>14363.831520</td>\n",
       "      <td>505.872011</td>\n",
       "      <td>1.080751</td>\n",
       "      <td>1822.092082</td>\n",
       "      <td>colsample_bytree = 0.3, learning_rate = 0.1, max_depth = 5, alpha = 10, n_estimators = 100</td>\n",
       "    </tr>\n",
       "    <tr>\n",
       "      <td>7</td>\n",
       "      <td>XGBoost with GridSearchCV</td>\n",
       "      <td>-1845.62</td>\n",
       "      <td>252299.439907</td>\n",
       "      <td>6244.969606</td>\n",
       "      <td>1.467228</td>\n",
       "      <td>1628.258792</td>\n",
       "      <td>{'colsample_bytree': 0.7, 'learning_rate': 0.07, 'max_depth': 7, 'min_child_weight': 4, 'n_estimators': 50, 'nthread': 4, 'random_state': 12345, 'silent': 1, 'subsample': 0.7}</td>\n",
       "    </tr>\n",
       "  </tbody>\n",
       "</table>\n",
       "</div>"
      ],
      "text/plain": [
       "                  Model-name Train-Score  Fit-RunTime (ms)  \\\n",
       "0  LinearRegression          -2918.22     213.126183         \n",
       "1  RandomForestRegressor     -1993.38     14926.349640       \n",
       "2  DecisionTreeRegressor     -2074.16     753.551483         \n",
       "3  CatBoost Enc              -1867.62     288657.253265      \n",
       "4  LightGBM Enc              -1816.14     8701.848269        \n",
       "5  LightGBM NoEnc            -1807.5      18907.879114       \n",
       "6  XGBRegressor               -           14363.831520       \n",
       "7  XGBoost with GridSearchCV -1845.62     252299.439907      \n",
       "\n",
       "   Predict-RunTime (ms)  RMSE-RunTime (ms)         RMSE  \\\n",
       "0  3.970385              1.332998           2913.331460   \n",
       "1  215.947151            0.814199           1974.667199   \n",
       "2  10.897875             0.885725           2052.243639   \n",
       "3  683.476925            1.041174           1655.173732   \n",
       "4  602.875948            1.307249           1697.628156   \n",
       "5  1496.854544           1.317024           1701.224634   \n",
       "6  505.872011            1.080751           1822.092082   \n",
       "7  6244.969606           1.467228           1628.258792   \n",
       "\n",
       "                                                                                                                                                                  Hyper-Parameters  \n",
       "0  none                                                                                                                                                                             \n",
       "1  Max_Depth = 9                                                                                                                                                                    \n",
       "2  Max_Depth = 9                                                                                                                                                                    \n",
       "3  {'depth': 10, 'eval_metric': 'RMSE', 'iterations': 10, 'l2_leaf_reg': 4, 'learning_rate': 0.5, 'metric_period': 10, 'random_state': 12345}                                       \n",
       "4  {'eval_metric': 'RMSE', 'learning_rate': 0.5, 'n_estimators': 20, 'num_leaves': 30, 'random_state': 12345}                                                                       \n",
       "5  {'eval_metric': 'RMSE', 'learning_rate': 0.5, 'n_estimators': 10, 'num_leaves': 30, 'random_state': 12345}                                                                       \n",
       "6  colsample_bytree = 0.3, learning_rate = 0.1, max_depth = 5, alpha = 10, n_estimators = 100                                                                                       \n",
       "7  {'colsample_bytree': 0.7, 'learning_rate': 0.07, 'max_depth': 7, 'min_child_weight': 4, 'n_estimators': 50, 'nthread': 4, 'random_state': 12345, 'silent': 1, 'subsample': 0.7}  "
      ]
     },
     "metadata": {},
     "output_type": "display_data"
    }
   ],
   "source": [
    "modelName='XGBoost with GridSearchCV'\n",
    "dfPredictions[modelName]=predicted\n",
    "\n",
    "df_results = updateResults(modelName,best_param,grid.best_score_,timeFit,timePredict,timeRMSE,rmseModel,df_results)"
   ]
  },
  {
   "cell_type": "markdown",
   "metadata": {
    "id": "md3BQHApgXrJ"
   },
   "source": [
    "# 3. Model analysis"
   ]
  },
  {
   "cell_type": "code",
   "execution_count": 47,
   "metadata": {
    "colab": {
     "base_uri": "https://localhost:8080/",
     "height": 515
    },
    "id": "CvxavCRH5WzF",
    "outputId": "acedc838-77b4-42e7-c71e-373e082d5c79"
   },
   "outputs": [
    {
     "data": {
      "text/html": [
       "<div>\n",
       "<style scoped>\n",
       "    .dataframe tbody tr th:only-of-type {\n",
       "        vertical-align: middle;\n",
       "    }\n",
       "\n",
       "    .dataframe tbody tr th {\n",
       "        vertical-align: top;\n",
       "    }\n",
       "\n",
       "    .dataframe thead th {\n",
       "        text-align: right;\n",
       "    }\n",
       "</style>\n",
       "<table border=\"1\" class=\"dataframe\">\n",
       "  <thead>\n",
       "    <tr style=\"text-align: right;\">\n",
       "      <th></th>\n",
       "      <th>Actual</th>\n",
       "      <th>LinearRegression</th>\n",
       "      <th>RandomForestRegressor</th>\n",
       "      <th>DecisionTreeRegressor</th>\n",
       "      <th>CatBoost Enc</th>\n",
       "      <th>LightGBM Enc</th>\n",
       "      <th>LightGBM NoEnc</th>\n",
       "      <th>XGBRegressor</th>\n",
       "      <th>XGBoost with GridSearchCV</th>\n",
       "    </tr>\n",
       "  </thead>\n",
       "  <tbody>\n",
       "    <tr>\n",
       "      <td>count</td>\n",
       "      <td>81942.000000</td>\n",
       "      <td>81942.000000</td>\n",
       "      <td>81942.000000</td>\n",
       "      <td>81942.000000</td>\n",
       "      <td>81942.000000</td>\n",
       "      <td>81942.000000</td>\n",
       "      <td>81942.000000</td>\n",
       "      <td>81942.000000</td>\n",
       "      <td>81942.000000</td>\n",
       "    </tr>\n",
       "    <tr>\n",
       "      <td>mean</td>\n",
       "      <td>4249.435393</td>\n",
       "      <td>4252.000457</td>\n",
       "      <td>4252.882536</td>\n",
       "      <td>4256.178166</td>\n",
       "      <td>4251.551624</td>\n",
       "      <td>4250.191516</td>\n",
       "      <td>4248.051310</td>\n",
       "      <td>4245.242188</td>\n",
       "      <td>4250.749512</td>\n",
       "    </tr>\n",
       "    <tr>\n",
       "      <td>std</td>\n",
       "      <td>4321.121863</td>\n",
       "      <td>3193.089468</td>\n",
       "      <td>3787.752535</td>\n",
       "      <td>3835.024384</td>\n",
       "      <td>4081.519556</td>\n",
       "      <td>4002.416588</td>\n",
       "      <td>4048.066254</td>\n",
       "      <td>3781.855225</td>\n",
       "      <td>3980.468750</td>\n",
       "    </tr>\n",
       "    <tr>\n",
       "      <td>min</td>\n",
       "      <td>0.000000</td>\n",
       "      <td>-5800.014626</td>\n",
       "      <td>465.196854</td>\n",
       "      <td>0.000000</td>\n",
       "      <td>-3877.500798</td>\n",
       "      <td>-1125.943714</td>\n",
       "      <td>-2288.937040</td>\n",
       "      <td>-764.520935</td>\n",
       "      <td>-1024.559814</td>\n",
       "    </tr>\n",
       "    <tr>\n",
       "      <td>25%</td>\n",
       "      <td>1100.000000</td>\n",
       "      <td>1812.996725</td>\n",
       "      <td>1538.701426</td>\n",
       "      <td>1570.416684</td>\n",
       "      <td>1263.133255</td>\n",
       "      <td>1303.722433</td>\n",
       "      <td>1293.780714</td>\n",
       "      <td>1372.973755</td>\n",
       "      <td>1313.857666</td>\n",
       "    </tr>\n",
       "    <tr>\n",
       "      <td>50%</td>\n",
       "      <td>2600.000000</td>\n",
       "      <td>4029.709142</td>\n",
       "      <td>2847.703049</td>\n",
       "      <td>2768.640930</td>\n",
       "      <td>2727.114608</td>\n",
       "      <td>2733.950132</td>\n",
       "      <td>2759.151722</td>\n",
       "      <td>2964.702637</td>\n",
       "      <td>2766.521973</td>\n",
       "    </tr>\n",
       "    <tr>\n",
       "      <td>75%</td>\n",
       "      <td>5999.000000</td>\n",
       "      <td>6423.188506</td>\n",
       "      <td>5674.331926</td>\n",
       "      <td>5566.801440</td>\n",
       "      <td>5958.414965</td>\n",
       "      <td>5930.977091</td>\n",
       "      <td>5963.477156</td>\n",
       "      <td>6065.398438</td>\n",
       "      <td>5929.219849</td>\n",
       "    </tr>\n",
       "    <tr>\n",
       "      <td>max</td>\n",
       "      <td>20000.000000</td>\n",
       "      <td>24098.582094</td>\n",
       "      <td>16655.086093</td>\n",
       "      <td>19500.000000</td>\n",
       "      <td>22662.592467</td>\n",
       "      <td>22515.448322</td>\n",
       "      <td>21771.846633</td>\n",
       "      <td>20485.470703</td>\n",
       "      <td>20740.552734</td>\n",
       "    </tr>\n",
       "  </tbody>\n",
       "</table>\n",
       "</div>"
      ],
      "text/plain": [
       "             Actual  LinearRegression  RandomForestRegressor  \\\n",
       "count  81942.000000  81942.000000      81942.000000            \n",
       "mean   4249.435393   4252.000457       4252.882536             \n",
       "std    4321.121863   3193.089468       3787.752535             \n",
       "min    0.000000     -5800.014626       465.196854              \n",
       "25%    1100.000000   1812.996725       1538.701426             \n",
       "50%    2600.000000   4029.709142       2847.703049             \n",
       "75%    5999.000000   6423.188506       5674.331926             \n",
       "max    20000.000000  24098.582094      16655.086093            \n",
       "\n",
       "       DecisionTreeRegressor  CatBoost Enc  LightGBM Enc  LightGBM NoEnc  \\\n",
       "count  81942.000000           81942.000000  81942.000000  81942.000000     \n",
       "mean   4256.178166            4251.551624   4250.191516   4248.051310      \n",
       "std    3835.024384            4081.519556   4002.416588   4048.066254      \n",
       "min    0.000000              -3877.500798  -1125.943714  -2288.937040      \n",
       "25%    1570.416684            1263.133255   1303.722433   1293.780714      \n",
       "50%    2768.640930            2727.114608   2733.950132   2759.151722      \n",
       "75%    5566.801440            5958.414965   5930.977091   5963.477156      \n",
       "max    19500.000000           22662.592467  22515.448322  21771.846633     \n",
       "\n",
       "       XGBRegressor  XGBoost with GridSearchCV  \n",
       "count  81942.000000  81942.000000               \n",
       "mean   4245.242188   4250.749512                \n",
       "std    3781.855225   3980.468750                \n",
       "min   -764.520935   -1024.559814                \n",
       "25%    1372.973755   1313.857666                \n",
       "50%    2964.702637   2766.521973                \n",
       "75%    6065.398438   5929.219849                \n",
       "max    20485.470703  20740.552734               "
      ]
     },
     "metadata": {},
     "output_type": "display_data"
    },
    {
     "name": "stdout",
     "output_type": "stream",
     "text": [
      "****************************************************************************************************\n",
      "\n"
     ]
    },
    {
     "data": {
      "text/html": [
       "<div>\n",
       "<style scoped>\n",
       "    .dataframe tbody tr th:only-of-type {\n",
       "        vertical-align: middle;\n",
       "    }\n",
       "\n",
       "    .dataframe tbody tr th {\n",
       "        vertical-align: top;\n",
       "    }\n",
       "\n",
       "    .dataframe thead th {\n",
       "        text-align: right;\n",
       "    }\n",
       "</style>\n",
       "<table border=\"1\" class=\"dataframe\">\n",
       "  <thead>\n",
       "    <tr style=\"text-align: right;\">\n",
       "      <th></th>\n",
       "      <th>Model-name</th>\n",
       "      <th>Train-Score</th>\n",
       "      <th>Fit-RunTime (ms)</th>\n",
       "      <th>Predict-RunTime (ms)</th>\n",
       "      <th>RMSE-RunTime (ms)</th>\n",
       "      <th>RMSE</th>\n",
       "      <th>Hyper-Parameters</th>\n",
       "    </tr>\n",
       "  </thead>\n",
       "  <tbody>\n",
       "    <tr>\n",
       "      <td>0</td>\n",
       "      <td>LinearRegression</td>\n",
       "      <td>-2918.22</td>\n",
       "      <td>213.126183</td>\n",
       "      <td>3.970385</td>\n",
       "      <td>1.332998</td>\n",
       "      <td>2913.331460</td>\n",
       "      <td>none</td>\n",
       "    </tr>\n",
       "    <tr>\n",
       "      <td>1</td>\n",
       "      <td>RandomForestRegressor</td>\n",
       "      <td>-1993.38</td>\n",
       "      <td>14926.349640</td>\n",
       "      <td>215.947151</td>\n",
       "      <td>0.814199</td>\n",
       "      <td>1974.667199</td>\n",
       "      <td>Max_Depth = 9</td>\n",
       "    </tr>\n",
       "    <tr>\n",
       "      <td>2</td>\n",
       "      <td>DecisionTreeRegressor</td>\n",
       "      <td>-2074.16</td>\n",
       "      <td>753.551483</td>\n",
       "      <td>10.897875</td>\n",
       "      <td>0.885725</td>\n",
       "      <td>2052.243639</td>\n",
       "      <td>Max_Depth = 9</td>\n",
       "    </tr>\n",
       "    <tr>\n",
       "      <td>3</td>\n",
       "      <td>CatBoost Enc</td>\n",
       "      <td>-1867.62</td>\n",
       "      <td>288657.253265</td>\n",
       "      <td>683.476925</td>\n",
       "      <td>1.041174</td>\n",
       "      <td>1655.173732</td>\n",
       "      <td>{'depth': 10, 'eval_metric': 'RMSE', 'iterations': 10, 'l2_leaf_reg': 4, 'learning_rate': 0.5, 'metric_period': 10, 'random_state': 12345}</td>\n",
       "    </tr>\n",
       "    <tr>\n",
       "      <td>4</td>\n",
       "      <td>LightGBM Enc</td>\n",
       "      <td>-1816.14</td>\n",
       "      <td>8701.848269</td>\n",
       "      <td>602.875948</td>\n",
       "      <td>1.307249</td>\n",
       "      <td>1697.628156</td>\n",
       "      <td>{'eval_metric': 'RMSE', 'learning_rate': 0.5, 'n_estimators': 20, 'num_leaves': 30, 'random_state': 12345}</td>\n",
       "    </tr>\n",
       "    <tr>\n",
       "      <td>5</td>\n",
       "      <td>LightGBM NoEnc</td>\n",
       "      <td>-1807.5</td>\n",
       "      <td>18907.879114</td>\n",
       "      <td>1496.854544</td>\n",
       "      <td>1.317024</td>\n",
       "      <td>1701.224634</td>\n",
       "      <td>{'eval_metric': 'RMSE', 'learning_rate': 0.5, 'n_estimators': 10, 'num_leaves': 30, 'random_state': 12345}</td>\n",
       "    </tr>\n",
       "    <tr>\n",
       "      <td>6</td>\n",
       "      <td>XGBRegressor</td>\n",
       "      <td>-</td>\n",
       "      <td>14363.831520</td>\n",
       "      <td>505.872011</td>\n",
       "      <td>1.080751</td>\n",
       "      <td>1822.092082</td>\n",
       "      <td>colsample_bytree = 0.3, learning_rate = 0.1, max_depth = 5, alpha = 10, n_estimators = 100</td>\n",
       "    </tr>\n",
       "    <tr>\n",
       "      <td>7</td>\n",
       "      <td>XGBoost with GridSearchCV</td>\n",
       "      <td>-1845.62</td>\n",
       "      <td>252299.439907</td>\n",
       "      <td>6244.969606</td>\n",
       "      <td>1.467228</td>\n",
       "      <td>1628.258792</td>\n",
       "      <td>{'colsample_bytree': 0.7, 'learning_rate': 0.07, 'max_depth': 7, 'min_child_weight': 4, 'n_estimators': 50, 'nthread': 4, 'random_state': 12345, 'silent': 1, 'subsample': 0.7}</td>\n",
       "    </tr>\n",
       "  </tbody>\n",
       "</table>\n",
       "</div>"
      ],
      "text/plain": [
       "                  Model-name Train-Score  Fit-RunTime (ms)  \\\n",
       "0  LinearRegression          -2918.22     213.126183         \n",
       "1  RandomForestRegressor     -1993.38     14926.349640       \n",
       "2  DecisionTreeRegressor     -2074.16     753.551483         \n",
       "3  CatBoost Enc              -1867.62     288657.253265      \n",
       "4  LightGBM Enc              -1816.14     8701.848269        \n",
       "5  LightGBM NoEnc            -1807.5      18907.879114       \n",
       "6  XGBRegressor               -           14363.831520       \n",
       "7  XGBoost with GridSearchCV -1845.62     252299.439907      \n",
       "\n",
       "   Predict-RunTime (ms)  RMSE-RunTime (ms)         RMSE  \\\n",
       "0  3.970385              1.332998           2913.331460   \n",
       "1  215.947151            0.814199           1974.667199   \n",
       "2  10.897875             0.885725           2052.243639   \n",
       "3  683.476925            1.041174           1655.173732   \n",
       "4  602.875948            1.307249           1697.628156   \n",
       "5  1496.854544           1.317024           1701.224634   \n",
       "6  505.872011            1.080751           1822.092082   \n",
       "7  6244.969606           1.467228           1628.258792   \n",
       "\n",
       "                                                                                                                                                                  Hyper-Parameters  \n",
       "0  none                                                                                                                                                                             \n",
       "1  Max_Depth = 9                                                                                                                                                                    \n",
       "2  Max_Depth = 9                                                                                                                                                                    \n",
       "3  {'depth': 10, 'eval_metric': 'RMSE', 'iterations': 10, 'l2_leaf_reg': 4, 'learning_rate': 0.5, 'metric_period': 10, 'random_state': 12345}                                       \n",
       "4  {'eval_metric': 'RMSE', 'learning_rate': 0.5, 'n_estimators': 20, 'num_leaves': 30, 'random_state': 12345}                                                                       \n",
       "5  {'eval_metric': 'RMSE', 'learning_rate': 0.5, 'n_estimators': 10, 'num_leaves': 30, 'random_state': 12345}                                                                       \n",
       "6  colsample_bytree = 0.3, learning_rate = 0.1, max_depth = 5, alpha = 10, n_estimators = 100                                                                                       \n",
       "7  {'colsample_bytree': 0.7, 'learning_rate': 0.07, 'max_depth': 7, 'min_child_weight': 4, 'n_estimators': 50, 'nthread': 4, 'random_state': 12345, 'silent': 1, 'subsample': 0.7}  "
      ]
     },
     "metadata": {},
     "output_type": "display_data"
    },
    {
     "name": "stdout",
     "output_type": "stream",
     "text": [
      "****************************************************************************************************\n",
      "\n"
     ]
    }
   ],
   "source": [
    "display(dfPredictions.describe())\n",
    "PRINT_SEPARATOR()\n",
    "display(df_results)\n",
    "PRINT_SEPARATOR()"
   ]
  },
  {
   "cell_type": "markdown",
   "metadata": {
    "id": "yIh_75cuJ66w"
   },
   "source": [
    "## 3.1 Conclusion\n",
    "\n",
    "Based on the above results:\n",
    "\n",
    "## Best Model In All Models\n",
    "- 1. Best Model for lowest RMSE:  XGBoost with GridSearchCV\n",
    "- 2. Best Model for lowest time in training data: Linear Regression\n",
    "- 3. Best Model for lowest time in predicting values: Linear Regression\n",
    "\n",
    "## Best Model Amongst Catboost, LightGBM, XGBoost\n",
    "- 1. Best Model for lowest RMSE:  1. XGboost with GridSearch, 2. Catboost with Encoding\n",
    "- 2. Best Model for lowest time in training data: 1. LightGBM Encoding 2. LightGBM without Encoding\n",
    "- 3. Best Model for lowest time in predicting values: 1. LightGBM with - Encoding, 2. CatBoost with Encoding\n",
    "\n",
    "## Worst Models\n",
    "- 1. Worst model for RMSE: LinearRegression\n",
    "- 2. Worst model - highest time in training data: XGBoost with GridSearchCV\n",
    "- 3. Worst model - highest time in predicting values: XGBoost with GridSearchCV"
   ]
  },
  {
   "cell_type": "markdown",
   "metadata": {
    "id": "0grKCUXIgENp"
   },
   "source": [
    "## Checklist"
   ]
  },
  {
   "cell_type": "markdown",
   "metadata": {
    "id": "8sACn0qkgSJp"
   },
   "source": [
    "Type 'x' to check. Then press Shift+Enter."
   ]
  },
  {
   "cell_type": "markdown",
   "metadata": {
    "id": "_srFchatgHJJ"
   },
   "source": [
    "- [x]  Jupyter Notebook is open\n",
    "- [x]  Code is error free\n",
    "- [x]  The cells with the code have been arranged in order of execution\n",
    "- [x]  The data has been downloaded and prepared\n",
    "- [x]  The models have been trained\n",
    "- [x]  The analysis of speed and quality of the models has been performed"
   ]
  },
  {
   "cell_type": "code",
   "execution_count": null,
   "metadata": {},
   "outputs": [],
   "source": []
  }
 ],
 "metadata": {
  "kernelspec": {
   "display_name": "Python 3",
   "language": "python",
   "name": "python3"
  },
  "language_info": {
   "codemirror_mode": {
    "name": "ipython",
    "version": 3
   },
   "file_extension": ".py",
   "mimetype": "text/x-python",
   "name": "python",
   "nbconvert_exporter": "python",
   "pygments_lexer": "ipython3",
   "version": "3.7.8"
  },
  "toc": {
   "base_numbering": 1,
   "nav_menu": {},
   "number_sections": true,
   "sideBar": true,
   "skip_h1_title": true,
   "title_cell": "Table of Contents",
   "title_sidebar": "Contents",
   "toc_cell": false,
   "toc_position": {},
   "toc_section_display": true,
   "toc_window_display": false
  }
 },
 "nbformat": 4,
 "nbformat_minor": 2
}
