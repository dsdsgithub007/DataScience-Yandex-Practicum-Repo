{
 "cells": [
  {
   "cell_type": "markdown",
   "metadata": {
    "colab_type": "text",
    "id": "2Bw9XEz1znPT"
   },
   "source": [
    "**Project description**\n",
    "\n",
    "\n",
    "You work as an analyst for the telecom operator Megaline. The company offers its clients two prepaid plans, Surf and Ultimate. The commercial department wants to know which of the plans is more profitable in order to adjust the advertising budget.\n",
    "\n",
    "\n",
    "You are going to carry out a preliminary analysis of the plans based on a relatively small client selection. You'll have the data on 500 Megaline clients: who the clients are, where they're from, which plan they use, and the number of calls they made and text messages they sent in 2018. Your job is to analyze clients' behavior and determine which prepaid plan is more profitable."
   ]
  },
  {
   "cell_type": "markdown",
   "metadata": {
    "colab_type": "text",
    "id": "6COPYwc-0Jl_"
   },
   "source": [
    "**Initialize the Datasets for Megaline Data**"
   ]
  },
  {
   "cell_type": "code",
   "execution_count": 3,
   "metadata": {
    "colab": {},
    "colab_type": "code",
    "id": "YQKFV0L_fAXK"
   },
   "outputs": [],
   "source": [
    "import pandas as pd\n",
    "import matplotlib.pyplot as plt\n",
    "import seaborn as sns\n",
    "import numpy as np \n",
    "from scipy import stats as st\n",
    "%matplotlib inline\n",
    "\n",
    "path = '/datasets/'\n",
    "path1 = path + 'megaline_calls.csv'\n",
    "path2 = path + 'megaline_internet.csv'\n",
    "path3 = path + 'megaline_messages.csv'\n",
    "path4 = path + 'megaline_plans.csv'\n",
    "path5 = path +  'megaline_users.csv'\n",
    "\n",
    "df_calls = pd.read_csv(path1 ,sep=',')\n",
    "df_internet = pd.read_csv(path2,sep=',')\n",
    "df_messages = pd.read_csv(path3,sep=',')\n",
    "df_plans = pd.read_csv(path4,sep=',')\n",
    "df_users = pd.read_csv(path5,sep=',')"
   ]
  },
  {
   "cell_type": "code",
   "execution_count": 56,
   "metadata": {
    "colab": {
     "base_uri": "https://localhost:8080/",
     "height": 425
    },
    "colab_type": "code",
    "id": "-Q2n01w1lkkU",
    "outputId": "290b064c-45d5-4c29-cb00-92ff1b23273c"
   },
   "outputs": [
    {
     "name": "stdout",
     "output_type": "stream",
     "text": [
      "<class 'pandas.core.frame.DataFrame'>\n",
      "RangeIndex: 137735 entries, 0 to 137734\n",
      "Data columns (total 4 columns):\n",
      "id           137735 non-null object\n",
      "user_id      137735 non-null int64\n",
      "call_date    137735 non-null datetime64[ns]\n",
      "duration     137735 non-null float64\n",
      "dtypes: datetime64[ns](1), float64(1), int64(1), object(1)\n",
      "memory usage: 4.2+ MB\n"
     ]
    },
    {
     "data": {
      "text/html": [
       "<div>\n",
       "<style scoped>\n",
       "    .dataframe tbody tr th:only-of-type {\n",
       "        vertical-align: middle;\n",
       "    }\n",
       "\n",
       "    .dataframe tbody tr th {\n",
       "        vertical-align: top;\n",
       "    }\n",
       "\n",
       "    .dataframe thead th {\n",
       "        text-align: right;\n",
       "    }\n",
       "</style>\n",
       "<table border=\"1\" class=\"dataframe\">\n",
       "  <thead>\n",
       "    <tr style=\"text-align: right;\">\n",
       "      <th></th>\n",
       "      <th>id</th>\n",
       "      <th>user_id</th>\n",
       "      <th>call_date</th>\n",
       "      <th>duration</th>\n",
       "    </tr>\n",
       "  </thead>\n",
       "  <tbody>\n",
       "    <tr>\n",
       "      <td>0</td>\n",
       "      <td>1000_93</td>\n",
       "      <td>1000</td>\n",
       "      <td>2018-12-27</td>\n",
       "      <td>8.52</td>\n",
       "    </tr>\n",
       "    <tr>\n",
       "      <td>1</td>\n",
       "      <td>1000_145</td>\n",
       "      <td>1000</td>\n",
       "      <td>2018-12-27</td>\n",
       "      <td>13.66</td>\n",
       "    </tr>\n",
       "    <tr>\n",
       "      <td>2</td>\n",
       "      <td>1000_247</td>\n",
       "      <td>1000</td>\n",
       "      <td>2018-12-27</td>\n",
       "      <td>14.48</td>\n",
       "    </tr>\n",
       "    <tr>\n",
       "      <td>3</td>\n",
       "      <td>1000_309</td>\n",
       "      <td>1000</td>\n",
       "      <td>2018-12-28</td>\n",
       "      <td>5.76</td>\n",
       "    </tr>\n",
       "    <tr>\n",
       "      <td>4</td>\n",
       "      <td>1000_380</td>\n",
       "      <td>1000</td>\n",
       "      <td>2018-12-30</td>\n",
       "      <td>4.22</td>\n",
       "    </tr>\n",
       "  </tbody>\n",
       "</table>\n",
       "</div>"
      ],
      "text/plain": [
       "         id  user_id  call_date  duration\n",
       "0   1000_93     1000 2018-12-27      8.52\n",
       "1  1000_145     1000 2018-12-27     13.66\n",
       "2  1000_247     1000 2018-12-27     14.48\n",
       "3  1000_309     1000 2018-12-28      5.76\n",
       "4  1000_380     1000 2018-12-30      4.22"
      ]
     },
     "metadata": {},
     "output_type": "display_data"
    },
    {
     "data": {
      "text/html": [
       "<div>\n",
       "<style scoped>\n",
       "    .dataframe tbody tr th:only-of-type {\n",
       "        vertical-align: middle;\n",
       "    }\n",
       "\n",
       "    .dataframe tbody tr th {\n",
       "        vertical-align: top;\n",
       "    }\n",
       "\n",
       "    .dataframe thead th {\n",
       "        text-align: right;\n",
       "    }\n",
       "</style>\n",
       "<table border=\"1\" class=\"dataframe\">\n",
       "  <thead>\n",
       "    <tr style=\"text-align: right;\">\n",
       "      <th></th>\n",
       "      <th>id</th>\n",
       "      <th>user_id</th>\n",
       "      <th>call_date</th>\n",
       "      <th>duration</th>\n",
       "    </tr>\n",
       "  </thead>\n",
       "  <tbody>\n",
       "    <tr>\n",
       "      <td>137730</td>\n",
       "      <td>1499_199</td>\n",
       "      <td>1499</td>\n",
       "      <td>2018-11-21</td>\n",
       "      <td>8.72</td>\n",
       "    </tr>\n",
       "    <tr>\n",
       "      <td>137731</td>\n",
       "      <td>1499_200</td>\n",
       "      <td>1499</td>\n",
       "      <td>2018-10-20</td>\n",
       "      <td>10.89</td>\n",
       "    </tr>\n",
       "    <tr>\n",
       "      <td>137732</td>\n",
       "      <td>1499_201</td>\n",
       "      <td>1499</td>\n",
       "      <td>2018-09-21</td>\n",
       "      <td>8.12</td>\n",
       "    </tr>\n",
       "    <tr>\n",
       "      <td>137733</td>\n",
       "      <td>1499_202</td>\n",
       "      <td>1499</td>\n",
       "      <td>2018-10-10</td>\n",
       "      <td>0.37</td>\n",
       "    </tr>\n",
       "    <tr>\n",
       "      <td>137734</td>\n",
       "      <td>1499_203</td>\n",
       "      <td>1499</td>\n",
       "      <td>2018-12-29</td>\n",
       "      <td>13.86</td>\n",
       "    </tr>\n",
       "  </tbody>\n",
       "</table>\n",
       "</div>"
      ],
      "text/plain": [
       "              id  user_id  call_date  duration\n",
       "137730  1499_199     1499 2018-11-21      8.72\n",
       "137731  1499_200     1499 2018-10-20     10.89\n",
       "137732  1499_201     1499 2018-09-21      8.12\n",
       "137733  1499_202     1499 2018-10-10      0.37\n",
       "137734  1499_203     1499 2018-12-29     13.86"
      ]
     },
     "metadata": {},
     "output_type": "display_data"
    }
   ],
   "source": [
    "df_calls.info()\n",
    "df_calls.count()\n",
    "#df_calls.head(),df_calls.tail()\n",
    "display(df_calls.head(),df_calls.tail())"
   ]
  },
  {
   "cell_type": "markdown",
   "metadata": {
    "colab_type": "text",
    "id": "i1EZ3Vmx0hAQ"
   },
   "source": [
    "df_calls Dataset, All looks good except the \"call_date\" which is an object. I will convert it to date-time format.\n",
    "This dataset provides the calls and duration of each call for users (user_id)."
   ]
  },
  {
   "cell_type": "code",
   "execution_count": 5,
   "metadata": {
    "colab": {
     "base_uri": "https://localhost:8080/",
     "height": 230
    },
    "colab_type": "code",
    "id": "TrUR48H9o3pl",
    "outputId": "b109313f-9d63-4455-be04-7183dac41300"
   },
   "outputs": [
    {
     "data": {
      "text/plain": [
       "0         2018\n",
       "1         2018\n",
       "2         2018\n",
       "3         2018\n",
       "4         2018\n",
       "          ... \n",
       "137730    2018\n",
       "137731    2018\n",
       "137732    2018\n",
       "137733    2018\n",
       "137734    2018\n",
       "Name: call_date, Length: 137735, dtype: int64"
      ]
     },
     "execution_count": 5,
     "metadata": {},
     "output_type": "execute_result"
    }
   ],
   "source": [
    "df_calls['call_date'] = pd.to_datetime(df_calls['call_date'])\n",
    "df_calls['call_date'].dt.month\n",
    "df_calls['call_date'].dt.year"
   ]
  },
  {
   "cell_type": "code",
   "execution_count": 6,
   "metadata": {
    "colab": {
     "base_uri": "https://localhost:8080/",
     "height": 425
    },
    "colab_type": "code",
    "id": "yjzlYCuBlqbJ",
    "outputId": "b040473d-85e5-4a73-fd6c-5a4dfe79c74c"
   },
   "outputs": [
    {
     "name": "stdout",
     "output_type": "stream",
     "text": [
      "<class 'pandas.core.frame.DataFrame'>\n",
      "RangeIndex: 104825 entries, 0 to 104824\n",
      "Data columns (total 4 columns):\n",
      "id              104825 non-null object\n",
      "user_id         104825 non-null int64\n",
      "session_date    104825 non-null object\n",
      "mb_used         104825 non-null float64\n",
      "dtypes: float64(1), int64(1), object(2)\n",
      "memory usage: 3.2+ MB\n"
     ]
    },
    {
     "data": {
      "text/plain": [
       "(         id  user_id session_date  mb_used\n",
       " 0   1000_13     1000   2018-12-29    89.86\n",
       " 1  1000_204     1000   2018-12-31     0.00\n",
       " 2  1000_379     1000   2018-12-28   660.40\n",
       " 3  1000_413     1000   2018-12-26   270.99\n",
       " 4  1000_442     1000   2018-12-27   880.22,\n",
       "               id  user_id session_date  mb_used\n",
       " 104820  1499_215     1499   2018-10-20   218.06\n",
       " 104821  1499_216     1499   2018-12-30   304.72\n",
       " 104822  1499_217     1499   2018-09-22   292.75\n",
       " 104823  1499_218     1499   2018-12-07     0.00\n",
       " 104824  1499_219     1499   2018-12-24   758.31)"
      ]
     },
     "execution_count": 6,
     "metadata": {},
     "output_type": "execute_result"
    }
   ],
   "source": [
    "df_internet.info()\n",
    "df_internet.count()\n",
    "df_internet.head(),df_internet.tail()"
   ]
  },
  {
   "cell_type": "code",
   "execution_count": 7,
   "metadata": {
    "colab": {},
    "colab_type": "code",
    "id": "814mu2nxtUKj"
   },
   "outputs": [],
   "source": [
    "df_internet['session_date'] = pd.to_datetime(df_internet['session_date'])"
   ]
  },
  {
   "cell_type": "markdown",
   "metadata": {
    "colab_type": "text",
    "id": "tLqvaYdB0tpQ"
   },
   "source": [
    "df_internet dataset for internet usage (data usage). This dataset provides the data usage by a user (user-id) for each date. Changed the session_date to date_time format."
   ]
  },
  {
   "cell_type": "code",
   "execution_count": 8,
   "metadata": {
    "colab": {
     "base_uri": "https://localhost:8080/",
     "height": 390
    },
    "colab_type": "code",
    "id": "DrnsJ0wllqhQ",
    "outputId": "59900a29-57d4-4291-abbd-fe9d2b32401d"
   },
   "outputs": [
    {
     "name": "stdout",
     "output_type": "stream",
     "text": [
      "<class 'pandas.core.frame.DataFrame'>\n",
      "RangeIndex: 76051 entries, 0 to 76050\n",
      "Data columns (total 3 columns):\n",
      "id              76051 non-null object\n",
      "user_id         76051 non-null int64\n",
      "message_date    76051 non-null object\n",
      "dtypes: int64(1), object(2)\n",
      "memory usage: 1.7+ MB\n"
     ]
    },
    {
     "data": {
      "text/plain": [
       "(         id  user_id message_date\n",
       " 0  1000_125     1000   2018-12-27\n",
       " 1  1000_160     1000   2018-12-31\n",
       " 2  1000_223     1000   2018-12-31\n",
       " 3  1000_251     1000   2018-12-27\n",
       " 4  1000_255     1000   2018-12-26,\n",
       "              id  user_id message_date\n",
       " 76046  1497_526     1497   2018-12-24\n",
       " 76047  1497_536     1497   2018-12-24\n",
       " 76048  1497_547     1497   2018-12-31\n",
       " 76049  1497_558     1497   2018-12-24\n",
       " 76050  1497_613     1497   2018-12-23)"
      ]
     },
     "execution_count": 8,
     "metadata": {},
     "output_type": "execute_result"
    }
   ],
   "source": [
    "df_messages.info()\n",
    "df_messages.count()\n",
    "df_messages.head(),df_messages.tail()"
   ]
  },
  {
   "cell_type": "code",
   "execution_count": 9,
   "metadata": {
    "colab": {},
    "colab_type": "code",
    "id": "aAw4aToMtXii"
   },
   "outputs": [],
   "source": [
    "df_messages['message_date'] = pd.to_datetime(df_messages['message_date'])"
   ]
  },
  {
   "cell_type": "markdown",
   "metadata": {
    "colab_type": "text",
    "id": "MIpUE3Eq1O7T"
   },
   "source": [
    "df_messages dataset depicts messages activity for each user (user-id), converted message_date to date_time format."
   ]
  },
  {
   "cell_type": "code",
   "execution_count": 10,
   "metadata": {
    "colab": {
     "base_uri": "https://localhost:8080/",
     "height": 374
    },
    "colab_type": "code",
    "id": "BaPf1ln2lqoM",
    "outputId": "8a268629-8110-45b5-d045-78b53325c9e3"
   },
   "outputs": [
    {
     "name": "stdout",
     "output_type": "stream",
     "text": [
      "<class 'pandas.core.frame.DataFrame'>\n",
      "RangeIndex: 2 entries, 0 to 1\n",
      "Data columns (total 8 columns):\n",
      "messages_included        2 non-null int64\n",
      "mb_per_month_included    2 non-null int64\n",
      "minutes_included         2 non-null int64\n",
      "usd_monthly_pay          2 non-null int64\n",
      "usd_per_gb               2 non-null int64\n",
      "usd_per_message          2 non-null float64\n",
      "usd_per_minute           2 non-null float64\n",
      "plan_name                2 non-null object\n",
      "dtypes: float64(2), int64(5), object(1)\n",
      "memory usage: 256.0+ bytes\n"
     ]
    },
    {
     "data": {
      "text/html": [
       "<div>\n",
       "<style scoped>\n",
       "    .dataframe tbody tr th:only-of-type {\n",
       "        vertical-align: middle;\n",
       "    }\n",
       "\n",
       "    .dataframe tbody tr th {\n",
       "        vertical-align: top;\n",
       "    }\n",
       "\n",
       "    .dataframe thead th {\n",
       "        text-align: right;\n",
       "    }\n",
       "</style>\n",
       "<table border=\"1\" class=\"dataframe\">\n",
       "  <thead>\n",
       "    <tr style=\"text-align: right;\">\n",
       "      <th></th>\n",
       "      <th>messages_included</th>\n",
       "      <th>mb_per_month_included</th>\n",
       "      <th>minutes_included</th>\n",
       "      <th>usd_monthly_pay</th>\n",
       "      <th>usd_per_gb</th>\n",
       "      <th>usd_per_message</th>\n",
       "      <th>usd_per_minute</th>\n",
       "      <th>plan_name</th>\n",
       "    </tr>\n",
       "  </thead>\n",
       "  <tbody>\n",
       "    <tr>\n",
       "      <td>0</td>\n",
       "      <td>50</td>\n",
       "      <td>15360</td>\n",
       "      <td>500</td>\n",
       "      <td>20</td>\n",
       "      <td>10</td>\n",
       "      <td>0.03</td>\n",
       "      <td>0.03</td>\n",
       "      <td>surf</td>\n",
       "    </tr>\n",
       "    <tr>\n",
       "      <td>1</td>\n",
       "      <td>1000</td>\n",
       "      <td>30720</td>\n",
       "      <td>3000</td>\n",
       "      <td>70</td>\n",
       "      <td>7</td>\n",
       "      <td>0.01</td>\n",
       "      <td>0.01</td>\n",
       "      <td>ultimate</td>\n",
       "    </tr>\n",
       "  </tbody>\n",
       "</table>\n",
       "</div>"
      ],
      "text/plain": [
       "   messages_included  mb_per_month_included  minutes_included  \\\n",
       "0                 50                  15360               500   \n",
       "1               1000                  30720              3000   \n",
       "\n",
       "   usd_monthly_pay  usd_per_gb  usd_per_message  usd_per_minute plan_name  \n",
       "0               20          10             0.03            0.03      surf  \n",
       "1               70           7             0.01            0.01  ultimate  "
      ]
     },
     "execution_count": 10,
     "metadata": {},
     "output_type": "execute_result"
    }
   ],
   "source": [
    "df_plans.info()\n",
    "df_plans.count()\n",
    "df_plans.head()"
   ]
  },
  {
   "cell_type": "markdown",
   "metadata": {
    "colab_type": "text",
    "id": "nyypxbWY1ejS"
   },
   "source": [
    "df_plans dataset depicts the two different plans (surf, ultimate) with plan features: plan rate per month, number of messages included, data per month, minutes per month, data charge per gb (beyond included data), charge per message (beyond included messages), charge per minute (beyond included minutes).\n",
    "\n",
    "Data included is in mb, data rate charge for extra data used is per gb."
   ]
  },
  {
   "cell_type": "code",
   "execution_count": 11,
   "metadata": {
    "colab": {
     "base_uri": "https://localhost:8080/",
     "height": 567
    },
    "colab_type": "code",
    "id": "SOu3OAg8lqwA",
    "outputId": "eb6c5b85-b5b9-4f8c-e2a8-a3dc435484b6"
   },
   "outputs": [
    {
     "name": "stdout",
     "output_type": "stream",
     "text": [
      "<class 'pandas.core.frame.DataFrame'>\n",
      "RangeIndex: 500 entries, 0 to 499\n",
      "Data columns (total 8 columns):\n",
      "user_id       500 non-null int64\n",
      "first_name    500 non-null object\n",
      "last_name     500 non-null object\n",
      "age           500 non-null int64\n",
      "city          500 non-null object\n",
      "reg_date      500 non-null object\n",
      "plan          500 non-null object\n",
      "churn_date    34 non-null object\n",
      "dtypes: int64(2), object(6)\n",
      "memory usage: 31.4+ KB\n"
     ]
    },
    {
     "data": {
      "text/plain": [
       "(   user_id first_name  last_name  age                                   city  \\\n",
       " 0     1000   Anamaria      Bauer   45  Atlanta-Sandy Springs-Roswell, GA MSA   \n",
       " 1     1001     Mickey  Wilkerson   28        Seattle-Tacoma-Bellevue, WA MSA   \n",
       " 2     1002     Carlee    Hoffman   36   Las Vegas-Henderson-Paradise, NV MSA   \n",
       " 3     1003   Reynaldo    Jenkins   52                          Tulsa, OK MSA   \n",
       " 4     1004    Leonila   Thompson   40        Seattle-Tacoma-Bellevue, WA MSA   \n",
       " \n",
       "      reg_date      plan churn_date  \n",
       " 0  2018-12-24  ultimate        NaN  \n",
       " 1  2018-08-13      surf        NaN  \n",
       " 2  2018-10-21      surf        NaN  \n",
       " 3  2018-01-28      surf        NaN  \n",
       " 4  2018-05-23      surf        NaN  ,\n",
       "      user_id first_name   last_name  age  \\\n",
       " 495     1495      Fidel      Sharpe   67   \n",
       " 496     1496      Ariel    Shepherd   49   \n",
       " 497     1497      Donte     Barrera   49   \n",
       " 498     1498       Scot  Williamson   51   \n",
       " 499     1499      Shena     Dickson   37   \n",
       " \n",
       "                                           city    reg_date      plan  \\\n",
       " 495  New York-Newark-Jersey City, NY-NJ-PA MSA  2018-09-04      surf   \n",
       " 496               New Orleans-Metairie, LA MSA  2018-02-20      surf   \n",
       " 497     Los Angeles-Long Beach-Anaheim, CA MSA  2018-12-10  ultimate   \n",
       " 498  New York-Newark-Jersey City, NY-NJ-PA MSA  2018-02-04      surf   \n",
       " 499          Orlando-Kissimmee-Sanford, FL MSA  2018-05-06      surf   \n",
       " \n",
       "     churn_date  \n",
       " 495        NaN  \n",
       " 496        NaN  \n",
       " 497        NaN  \n",
       " 498        NaN  \n",
       " 499        NaN  )"
      ]
     },
     "execution_count": 11,
     "metadata": {},
     "output_type": "execute_result"
    }
   ],
   "source": [
    "df_users.info()\n",
    "df_users.count()\n",
    "df_users.head(),df_users.tail()"
   ]
  },
  {
   "cell_type": "markdown",
   "metadata": {
    "colab_type": "text",
    "id": "F440V9am2D8L"
   },
   "source": [
    "df_users dataset. Shows user-id, name, age, city, date of plan, plan type (surf or ultimate) and churn date. 500 users starting with id 1000, last id 1499."
   ]
  },
  {
   "cell_type": "code",
   "execution_count": 12,
   "metadata": {
    "colab": {
     "base_uri": "https://localhost:8080/",
     "height": 436
    },
    "colab_type": "code",
    "id": "jORJcKfGtwyC",
    "outputId": "ba085813-f276-41aa-a16f-27ce886ee62b"
   },
   "outputs": [
    {
     "data": {
      "text/html": [
       "<div>\n",
       "<style scoped>\n",
       "    .dataframe tbody tr th:only-of-type {\n",
       "        vertical-align: middle;\n",
       "    }\n",
       "\n",
       "    .dataframe tbody tr th {\n",
       "        vertical-align: top;\n",
       "    }\n",
       "\n",
       "    .dataframe thead th {\n",
       "        text-align: right;\n",
       "    }\n",
       "</style>\n",
       "<table border=\"1\" class=\"dataframe\">\n",
       "  <thead>\n",
       "    <tr style=\"text-align: right;\">\n",
       "      <th></th>\n",
       "      <th>first_name</th>\n",
       "      <th>last_name</th>\n",
       "      <th>age</th>\n",
       "      <th>city</th>\n",
       "      <th>reg_date</th>\n",
       "      <th>plan</th>\n",
       "      <th>churn_date</th>\n",
       "    </tr>\n",
       "    <tr>\n",
       "      <th>user_id</th>\n",
       "      <th></th>\n",
       "      <th></th>\n",
       "      <th></th>\n",
       "      <th></th>\n",
       "      <th></th>\n",
       "      <th></th>\n",
       "      <th></th>\n",
       "    </tr>\n",
       "  </thead>\n",
       "  <tbody>\n",
       "    <tr>\n",
       "      <td>1000</td>\n",
       "      <td>Anamaria</td>\n",
       "      <td>Bauer</td>\n",
       "      <td>45</td>\n",
       "      <td>Atlanta-Sandy Springs-Roswell, GA MSA</td>\n",
       "      <td>2018-12-24</td>\n",
       "      <td>ultimate</td>\n",
       "      <td>NaT</td>\n",
       "    </tr>\n",
       "    <tr>\n",
       "      <td>1001</td>\n",
       "      <td>Mickey</td>\n",
       "      <td>Wilkerson</td>\n",
       "      <td>28</td>\n",
       "      <td>Seattle-Tacoma-Bellevue, WA MSA</td>\n",
       "      <td>2018-08-13</td>\n",
       "      <td>surf</td>\n",
       "      <td>NaT</td>\n",
       "    </tr>\n",
       "    <tr>\n",
       "      <td>1002</td>\n",
       "      <td>Carlee</td>\n",
       "      <td>Hoffman</td>\n",
       "      <td>36</td>\n",
       "      <td>Las Vegas-Henderson-Paradise, NV MSA</td>\n",
       "      <td>2018-10-21</td>\n",
       "      <td>surf</td>\n",
       "      <td>NaT</td>\n",
       "    </tr>\n",
       "    <tr>\n",
       "      <td>1003</td>\n",
       "      <td>Reynaldo</td>\n",
       "      <td>Jenkins</td>\n",
       "      <td>52</td>\n",
       "      <td>Tulsa, OK MSA</td>\n",
       "      <td>2018-01-28</td>\n",
       "      <td>surf</td>\n",
       "      <td>NaT</td>\n",
       "    </tr>\n",
       "    <tr>\n",
       "      <td>1004</td>\n",
       "      <td>Leonila</td>\n",
       "      <td>Thompson</td>\n",
       "      <td>40</td>\n",
       "      <td>Seattle-Tacoma-Bellevue, WA MSA</td>\n",
       "      <td>2018-05-23</td>\n",
       "      <td>surf</td>\n",
       "      <td>NaT</td>\n",
       "    </tr>\n",
       "    <tr>\n",
       "      <td>...</td>\n",
       "      <td>...</td>\n",
       "      <td>...</td>\n",
       "      <td>...</td>\n",
       "      <td>...</td>\n",
       "      <td>...</td>\n",
       "      <td>...</td>\n",
       "      <td>...</td>\n",
       "    </tr>\n",
       "    <tr>\n",
       "      <td>1495</td>\n",
       "      <td>Fidel</td>\n",
       "      <td>Sharpe</td>\n",
       "      <td>67</td>\n",
       "      <td>New York-Newark-Jersey City, NY-NJ-PA MSA</td>\n",
       "      <td>2018-09-04</td>\n",
       "      <td>surf</td>\n",
       "      <td>NaT</td>\n",
       "    </tr>\n",
       "    <tr>\n",
       "      <td>1496</td>\n",
       "      <td>Ariel</td>\n",
       "      <td>Shepherd</td>\n",
       "      <td>49</td>\n",
       "      <td>New Orleans-Metairie, LA MSA</td>\n",
       "      <td>2018-02-20</td>\n",
       "      <td>surf</td>\n",
       "      <td>NaT</td>\n",
       "    </tr>\n",
       "    <tr>\n",
       "      <td>1497</td>\n",
       "      <td>Donte</td>\n",
       "      <td>Barrera</td>\n",
       "      <td>49</td>\n",
       "      <td>Los Angeles-Long Beach-Anaheim, CA MSA</td>\n",
       "      <td>2018-12-10</td>\n",
       "      <td>ultimate</td>\n",
       "      <td>NaT</td>\n",
       "    </tr>\n",
       "    <tr>\n",
       "      <td>1498</td>\n",
       "      <td>Scot</td>\n",
       "      <td>Williamson</td>\n",
       "      <td>51</td>\n",
       "      <td>New York-Newark-Jersey City, NY-NJ-PA MSA</td>\n",
       "      <td>2018-02-04</td>\n",
       "      <td>surf</td>\n",
       "      <td>NaT</td>\n",
       "    </tr>\n",
       "    <tr>\n",
       "      <td>1499</td>\n",
       "      <td>Shena</td>\n",
       "      <td>Dickson</td>\n",
       "      <td>37</td>\n",
       "      <td>Orlando-Kissimmee-Sanford, FL MSA</td>\n",
       "      <td>2018-05-06</td>\n",
       "      <td>surf</td>\n",
       "      <td>NaT</td>\n",
       "    </tr>\n",
       "  </tbody>\n",
       "</table>\n",
       "<p>500 rows × 7 columns</p>\n",
       "</div>"
      ],
      "text/plain": [
       "        first_name   last_name  age  \\\n",
       "user_id                               \n",
       "1000      Anamaria       Bauer   45   \n",
       "1001        Mickey   Wilkerson   28   \n",
       "1002        Carlee     Hoffman   36   \n",
       "1003      Reynaldo     Jenkins   52   \n",
       "1004       Leonila    Thompson   40   \n",
       "...            ...         ...  ...   \n",
       "1495         Fidel      Sharpe   67   \n",
       "1496         Ariel    Shepherd   49   \n",
       "1497         Donte     Barrera   49   \n",
       "1498          Scot  Williamson   51   \n",
       "1499         Shena     Dickson   37   \n",
       "\n",
       "                                              city   reg_date      plan  \\\n",
       "user_id                                                                   \n",
       "1000         Atlanta-Sandy Springs-Roswell, GA MSA 2018-12-24  ultimate   \n",
       "1001               Seattle-Tacoma-Bellevue, WA MSA 2018-08-13      surf   \n",
       "1002          Las Vegas-Henderson-Paradise, NV MSA 2018-10-21      surf   \n",
       "1003                                 Tulsa, OK MSA 2018-01-28      surf   \n",
       "1004               Seattle-Tacoma-Bellevue, WA MSA 2018-05-23      surf   \n",
       "...                                            ...        ...       ...   \n",
       "1495     New York-Newark-Jersey City, NY-NJ-PA MSA 2018-09-04      surf   \n",
       "1496                  New Orleans-Metairie, LA MSA 2018-02-20      surf   \n",
       "1497        Los Angeles-Long Beach-Anaheim, CA MSA 2018-12-10  ultimate   \n",
       "1498     New York-Newark-Jersey City, NY-NJ-PA MSA 2018-02-04      surf   \n",
       "1499             Orlando-Kissimmee-Sanford, FL MSA 2018-05-06      surf   \n",
       "\n",
       "        churn_date  \n",
       "user_id             \n",
       "1000           NaT  \n",
       "1001           NaT  \n",
       "1002           NaT  \n",
       "1003           NaT  \n",
       "1004           NaT  \n",
       "...            ...  \n",
       "1495           NaT  \n",
       "1496           NaT  \n",
       "1497           NaT  \n",
       "1498           NaT  \n",
       "1499           NaT  \n",
       "\n",
       "[500 rows x 7 columns]"
      ]
     },
     "execution_count": 12,
     "metadata": {},
     "output_type": "execute_result"
    }
   ],
   "source": [
    "df_users['reg_date'] = pd.to_datetime(df_users['reg_date'])\n",
    "df_users['churn_date'] = pd.to_datetime(df_users['churn_date'])\n",
    "df_users.set_index('user_id')"
   ]
  },
  {
   "cell_type": "markdown",
   "metadata": {
    "colab_type": "text",
    "id": "ShCMgMKr8gC_"
   },
   "source": [
    "Index df_users on user_id, changed date_time column to date_time format."
   ]
  },
  {
   "cell_type": "markdown",
   "metadata": {
    "colab_type": "text",
    "id": "XSU7YJ0uujma"
   },
   "source": [
    "For each user, find:\n",
    "The number of calls made and minutes used per month\n"
   ]
  },
  {
   "cell_type": "code",
   "execution_count": 13,
   "metadata": {
    "colab": {
     "base_uri": "https://localhost:8080/",
     "height": 436
    },
    "colab_type": "code",
    "id": "eXGC18RZvfu_",
    "outputId": "31cd55fc-7065-475f-8a42-6cf2c65f9845"
   },
   "outputs": [
    {
     "data": {
      "text/html": [
       "<div>\n",
       "<style scoped>\n",
       "    .dataframe tbody tr th:only-of-type {\n",
       "        vertical-align: middle;\n",
       "    }\n",
       "\n",
       "    .dataframe tbody tr th {\n",
       "        vertical-align: top;\n",
       "    }\n",
       "\n",
       "    .dataframe thead th {\n",
       "        text-align: right;\n",
       "    }\n",
       "</style>\n",
       "<table border=\"1\" class=\"dataframe\">\n",
       "  <thead>\n",
       "    <tr style=\"text-align: right;\">\n",
       "      <th></th>\n",
       "      <th>call_count</th>\n",
       "      <th>minutes</th>\n",
       "    </tr>\n",
       "    <tr>\n",
       "      <th>user_id</th>\n",
       "      <th></th>\n",
       "      <th></th>\n",
       "    </tr>\n",
       "  </thead>\n",
       "  <tbody>\n",
       "    <tr>\n",
       "      <td>1000</td>\n",
       "      <td>16</td>\n",
       "      <td>116.83</td>\n",
       "    </tr>\n",
       "    <tr>\n",
       "      <td>1001</td>\n",
       "      <td>261</td>\n",
       "      <td>1640.46</td>\n",
       "    </tr>\n",
       "    <tr>\n",
       "      <td>1002</td>\n",
       "      <td>113</td>\n",
       "      <td>777.13</td>\n",
       "    </tr>\n",
       "    <tr>\n",
       "      <td>1003</td>\n",
       "      <td>149</td>\n",
       "      <td>1041.00</td>\n",
       "    </tr>\n",
       "    <tr>\n",
       "      <td>1004</td>\n",
       "      <td>370</td>\n",
       "      <td>2618.95</td>\n",
       "    </tr>\n",
       "    <tr>\n",
       "      <td>...</td>\n",
       "      <td>...</td>\n",
       "      <td>...</td>\n",
       "    </tr>\n",
       "    <tr>\n",
       "      <td>1495</td>\n",
       "      <td>253</td>\n",
       "      <td>1666.41</td>\n",
       "    </tr>\n",
       "    <tr>\n",
       "      <td>1496</td>\n",
       "      <td>195</td>\n",
       "      <td>1376.21</td>\n",
       "    </tr>\n",
       "    <tr>\n",
       "      <td>1497</td>\n",
       "      <td>54</td>\n",
       "      <td>276.53</td>\n",
       "    </tr>\n",
       "    <tr>\n",
       "      <td>1498</td>\n",
       "      <td>451</td>\n",
       "      <td>3029.97</td>\n",
       "    </tr>\n",
       "    <tr>\n",
       "      <td>1499</td>\n",
       "      <td>204</td>\n",
       "      <td>1450.31</td>\n",
       "    </tr>\n",
       "  </tbody>\n",
       "</table>\n",
       "<p>481 rows × 2 columns</p>\n",
       "</div>"
      ],
      "text/plain": [
       "         call_count  minutes\n",
       "user_id                     \n",
       "1000             16   116.83\n",
       "1001            261  1640.46\n",
       "1002            113   777.13\n",
       "1003            149  1041.00\n",
       "1004            370  2618.95\n",
       "...             ...      ...\n",
       "1495            253  1666.41\n",
       "1496            195  1376.21\n",
       "1497             54   276.53\n",
       "1498            451  3029.97\n",
       "1499            204  1450.31\n",
       "\n",
       "[481 rows x 2 columns]"
      ]
     },
     "execution_count": 13,
     "metadata": {},
     "output_type": "execute_result"
    }
   ],
   "source": [
    "call_stat = df_calls.pivot_table(index='user_id',values='duration',aggfunc=['count','sum'])\n",
    "call_stat.columns=['call_count','minutes']\n",
    "\n",
    "call_stat"
   ]
  },
  {
   "cell_type": "markdown",
   "metadata": {
    "colab_type": "text",
    "id": "T-KvKUP28peO"
   },
   "source": [
    "**CONCLUSION**\n",
    "\n",
    "The above pivot table displays number of calls made and minutes used each month. 481 rows imply we have call info on 481 users. Missing info on 19 users since total users is 500."
   ]
  },
  {
   "cell_type": "code",
   "execution_count": 14,
   "metadata": {
    "colab": {
     "base_uri": "https://localhost:8080/",
     "height": 406
    },
    "colab_type": "code",
    "id": "ciW-Oqmo-Jwu",
    "outputId": "bbce6bdb-3509-4136-bd27-426837fb44e7"
   },
   "outputs": [
    {
     "data": {
      "text/html": [
       "<div>\n",
       "<style scoped>\n",
       "    .dataframe tbody tr th:only-of-type {\n",
       "        vertical-align: middle;\n",
       "    }\n",
       "\n",
       "    .dataframe tbody tr th {\n",
       "        vertical-align: top;\n",
       "    }\n",
       "\n",
       "    .dataframe thead th {\n",
       "        text-align: right;\n",
       "    }\n",
       "</style>\n",
       "<table border=\"1\" class=\"dataframe\">\n",
       "  <thead>\n",
       "    <tr style=\"text-align: right;\">\n",
       "      <th></th>\n",
       "      <th>id</th>\n",
       "      <th>user_id</th>\n",
       "      <th>call_date</th>\n",
       "      <th>duration</th>\n",
       "    </tr>\n",
       "  </thead>\n",
       "  <tbody>\n",
       "    <tr>\n",
       "      <td>19</td>\n",
       "      <td>1001_4</td>\n",
       "      <td>1001</td>\n",
       "      <td>2018-12-05</td>\n",
       "      <td>0.0</td>\n",
       "    </tr>\n",
       "    <tr>\n",
       "      <td>25</td>\n",
       "      <td>1001_13</td>\n",
       "      <td>1001</td>\n",
       "      <td>2018-12-24</td>\n",
       "      <td>0.0</td>\n",
       "    </tr>\n",
       "    <tr>\n",
       "      <td>31</td>\n",
       "      <td>1001_30</td>\n",
       "      <td>1001</td>\n",
       "      <td>2018-10-17</td>\n",
       "      <td>0.0</td>\n",
       "    </tr>\n",
       "    <tr>\n",
       "      <td>32</td>\n",
       "      <td>1001_31</td>\n",
       "      <td>1001</td>\n",
       "      <td>2018-11-03</td>\n",
       "      <td>0.0</td>\n",
       "    </tr>\n",
       "    <tr>\n",
       "      <td>34</td>\n",
       "      <td>1001_35</td>\n",
       "      <td>1001</td>\n",
       "      <td>2018-12-21</td>\n",
       "      <td>0.0</td>\n",
       "    </tr>\n",
       "    <tr>\n",
       "      <td>...</td>\n",
       "      <td>...</td>\n",
       "      <td>...</td>\n",
       "      <td>...</td>\n",
       "      <td>...</td>\n",
       "    </tr>\n",
       "    <tr>\n",
       "      <td>137714</td>\n",
       "      <td>1499_183</td>\n",
       "      <td>1499</td>\n",
       "      <td>2018-11-10</td>\n",
       "      <td>0.0</td>\n",
       "    </tr>\n",
       "    <tr>\n",
       "      <td>137715</td>\n",
       "      <td>1499_184</td>\n",
       "      <td>1499</td>\n",
       "      <td>2018-09-15</td>\n",
       "      <td>0.0</td>\n",
       "    </tr>\n",
       "    <tr>\n",
       "      <td>137720</td>\n",
       "      <td>1499_189</td>\n",
       "      <td>1499</td>\n",
       "      <td>2018-12-27</td>\n",
       "      <td>0.0</td>\n",
       "    </tr>\n",
       "    <tr>\n",
       "      <td>137722</td>\n",
       "      <td>1499_191</td>\n",
       "      <td>1499</td>\n",
       "      <td>2018-12-24</td>\n",
       "      <td>0.0</td>\n",
       "    </tr>\n",
       "    <tr>\n",
       "      <td>137725</td>\n",
       "      <td>1499_194</td>\n",
       "      <td>1499</td>\n",
       "      <td>2018-10-31</td>\n",
       "      <td>0.0</td>\n",
       "    </tr>\n",
       "  </tbody>\n",
       "</table>\n",
       "<p>26834 rows × 4 columns</p>\n",
       "</div>"
      ],
      "text/plain": [
       "              id  user_id  call_date  duration\n",
       "19        1001_4     1001 2018-12-05       0.0\n",
       "25       1001_13     1001 2018-12-24       0.0\n",
       "31       1001_30     1001 2018-10-17       0.0\n",
       "32       1001_31     1001 2018-11-03       0.0\n",
       "34       1001_35     1001 2018-12-21       0.0\n",
       "...          ...      ...        ...       ...\n",
       "137714  1499_183     1499 2018-11-10       0.0\n",
       "137715  1499_184     1499 2018-09-15       0.0\n",
       "137720  1499_189     1499 2018-12-27       0.0\n",
       "137722  1499_191     1499 2018-12-24       0.0\n",
       "137725  1499_194     1499 2018-10-31       0.0\n",
       "\n",
       "[26834 rows x 4 columns]"
      ]
     },
     "execution_count": 14,
     "metadata": {},
     "output_type": "execute_result"
    }
   ],
   "source": [
    "calls_with_zero_minutes = df_calls[df_calls['duration']==0]\n",
    "calls_with_zero_minutes"
   ]
  },
  {
   "cell_type": "markdown",
   "metadata": {
    "colab_type": "text",
    "id": "gCRGPYk899Sg"
   },
   "source": [
    "**CONCLUSION**\n",
    "\n",
    "The charge is on the number of minutes used for calls and not on number of calls. There are 26834 calls with zero minutes, but that doesn't impact the total charge. Hence I will leave the data in the system and not remove it. "
   ]
  },
  {
   "cell_type": "markdown",
   "metadata": {
    "colab_type": "text",
    "id": "P5BrkDQpvMrc"
   },
   "source": [
    "For each user, find:\n",
    "The number of text messages sent per month"
   ]
  },
  {
   "cell_type": "code",
   "execution_count": 15,
   "metadata": {
    "colab": {
     "base_uri": "https://localhost:8080/",
     "height": 436
    },
    "colab_type": "code",
    "id": "acdXoxKJwXZe",
    "outputId": "0b346da5-6340-468d-ade1-e09f1750023d"
   },
   "outputs": [
    {
     "data": {
      "text/html": [
       "<div>\n",
       "<style scoped>\n",
       "    .dataframe tbody tr th:only-of-type {\n",
       "        vertical-align: middle;\n",
       "    }\n",
       "\n",
       "    .dataframe tbody tr th {\n",
       "        vertical-align: top;\n",
       "    }\n",
       "\n",
       "    .dataframe thead th {\n",
       "        text-align: right;\n",
       "    }\n",
       "</style>\n",
       "<table border=\"1\" class=\"dataframe\">\n",
       "  <thead>\n",
       "    <tr style=\"text-align: right;\">\n",
       "      <th></th>\n",
       "      <th>msg_count</th>\n",
       "    </tr>\n",
       "    <tr>\n",
       "      <th>user_id</th>\n",
       "      <th></th>\n",
       "    </tr>\n",
       "  </thead>\n",
       "  <tbody>\n",
       "    <tr>\n",
       "      <td>1000</td>\n",
       "      <td>11</td>\n",
       "    </tr>\n",
       "    <tr>\n",
       "      <td>1001</td>\n",
       "      <td>207</td>\n",
       "    </tr>\n",
       "    <tr>\n",
       "      <td>1002</td>\n",
       "      <td>88</td>\n",
       "    </tr>\n",
       "    <tr>\n",
       "      <td>1003</td>\n",
       "      <td>50</td>\n",
       "    </tr>\n",
       "    <tr>\n",
       "      <td>1004</td>\n",
       "      <td>177</td>\n",
       "    </tr>\n",
       "    <tr>\n",
       "      <td>...</td>\n",
       "      <td>...</td>\n",
       "    </tr>\n",
       "    <tr>\n",
       "      <td>1491</td>\n",
       "      <td>409</td>\n",
       "    </tr>\n",
       "    <tr>\n",
       "      <td>1492</td>\n",
       "      <td>108</td>\n",
       "    </tr>\n",
       "    <tr>\n",
       "      <td>1494</td>\n",
       "      <td>174</td>\n",
       "    </tr>\n",
       "    <tr>\n",
       "      <td>1496</td>\n",
       "      <td>65</td>\n",
       "    </tr>\n",
       "    <tr>\n",
       "      <td>1497</td>\n",
       "      <td>50</td>\n",
       "    </tr>\n",
       "  </tbody>\n",
       "</table>\n",
       "<p>402 rows × 1 columns</p>\n",
       "</div>"
      ],
      "text/plain": [
       "         msg_count\n",
       "user_id           \n",
       "1000            11\n",
       "1001           207\n",
       "1002            88\n",
       "1003            50\n",
       "1004           177\n",
       "...            ...\n",
       "1491           409\n",
       "1492           108\n",
       "1494           174\n",
       "1496            65\n",
       "1497            50\n",
       "\n",
       "[402 rows x 1 columns]"
      ]
     },
     "execution_count": 15,
     "metadata": {},
     "output_type": "execute_result"
    }
   ],
   "source": [
    "messages_stat = df_messages.pivot_table(index='user_id',aggfunc=['size'])\n",
    "messages_stat.columns=['msg_count']\n",
    "messages_stat"
   ]
  },
  {
   "cell_type": "markdown",
   "metadata": {
    "colab_type": "text",
    "id": "XppQ8tl-20gS"
   },
   "source": [
    "**CONCLUSION**\n",
    "\n",
    "The above table depicts user-id and number of messages sent per user_id. Message data available for 402 users. 98 users have message data missing, since total users is 500."
   ]
  },
  {
   "cell_type": "markdown",
   "metadata": {
    "colab_type": "text",
    "id": "ppGDGV9lvRIJ"
   },
   "source": [
    "The data_mb of data per month"
   ]
  },
  {
   "cell_type": "code",
   "execution_count": 16,
   "metadata": {
    "colab": {
     "base_uri": "https://localhost:8080/",
     "height": 436
    },
    "colab_type": "code",
    "id": "1j0OdZR3vV7J",
    "outputId": "fa65798d-e46d-4fbf-98ac-aa0e65e2c16c"
   },
   "outputs": [
    {
     "data": {
      "text/html": [
       "<div>\n",
       "<style scoped>\n",
       "    .dataframe tbody tr th:only-of-type {\n",
       "        vertical-align: middle;\n",
       "    }\n",
       "\n",
       "    .dataframe tbody tr th {\n",
       "        vertical-align: top;\n",
       "    }\n",
       "\n",
       "    .dataframe thead th {\n",
       "        text-align: right;\n",
       "    }\n",
       "</style>\n",
       "<table border=\"1\" class=\"dataframe\">\n",
       "  <thead>\n",
       "    <tr style=\"text-align: right;\">\n",
       "      <th></th>\n",
       "      <th>data_mb</th>\n",
       "    </tr>\n",
       "    <tr>\n",
       "      <th>user_id</th>\n",
       "      <th></th>\n",
       "    </tr>\n",
       "  </thead>\n",
       "  <tbody>\n",
       "    <tr>\n",
       "      <td>1000</td>\n",
       "      <td>1901.47</td>\n",
       "    </tr>\n",
       "    <tr>\n",
       "      <td>1001</td>\n",
       "      <td>80437.94</td>\n",
       "    </tr>\n",
       "    <tr>\n",
       "      <td>1002</td>\n",
       "      <td>40293.33</td>\n",
       "    </tr>\n",
       "    <tr>\n",
       "      <td>1003</td>\n",
       "      <td>27044.14</td>\n",
       "    </tr>\n",
       "    <tr>\n",
       "      <td>1004</td>\n",
       "      <td>156352.81</td>\n",
       "    </tr>\n",
       "    <tr>\n",
       "      <td>...</td>\n",
       "      <td>...</td>\n",
       "    </tr>\n",
       "    <tr>\n",
       "      <td>1495</td>\n",
       "      <td>98890.96</td>\n",
       "    </tr>\n",
       "    <tr>\n",
       "      <td>1496</td>\n",
       "      <td>64268.64</td>\n",
       "    </tr>\n",
       "    <tr>\n",
       "      <td>1497</td>\n",
       "      <td>11106.55</td>\n",
       "    </tr>\n",
       "    <tr>\n",
       "      <td>1498</td>\n",
       "      <td>227525.13</td>\n",
       "    </tr>\n",
       "    <tr>\n",
       "      <td>1499</td>\n",
       "      <td>71350.23</td>\n",
       "    </tr>\n",
       "  </tbody>\n",
       "</table>\n",
       "<p>489 rows × 1 columns</p>\n",
       "</div>"
      ],
      "text/plain": [
       "           data_mb\n",
       "user_id           \n",
       "1000       1901.47\n",
       "1001      80437.94\n",
       "1002      40293.33\n",
       "1003      27044.14\n",
       "1004     156352.81\n",
       "...            ...\n",
       "1495      98890.96\n",
       "1496      64268.64\n",
       "1497      11106.55\n",
       "1498     227525.13\n",
       "1499      71350.23\n",
       "\n",
       "[489 rows x 1 columns]"
      ]
     },
     "execution_count": 16,
     "metadata": {},
     "output_type": "execute_result"
    }
   ],
   "source": [
    "internet_stat = df_internet.pivot_table(index='user_id',values='mb_used',aggfunc=['sum'])\n",
    "internet_stat.columns=['data_mb']\n",
    "internet_stat"
   ]
  },
  {
   "cell_type": "markdown",
   "metadata": {
    "colab_type": "text",
    "id": "dzyFyS1q3Dq6"
   },
   "source": [
    "**CONCLUSION**\n",
    "\n",
    "The above pivot_table displays the data used per month by internet users. Internet data available for 489 users, and is missing for 11 users since total 500 users."
   ]
  },
  {
   "cell_type": "markdown",
   "metadata": {
    "colab_type": "text",
    "id": "iAD-Sq9rvWZR"
   },
   "source": [
    "The monthly profit from each user (subtract the free package limit from the total number of calls, text messages, and data; multiply the result by the calling plan value; add the monthly charge depending on the calling plan)\n",
    "\n"
   ]
  },
  {
   "cell_type": "code",
   "execution_count": 17,
   "metadata": {
    "colab": {
     "base_uri": "https://localhost:8080/",
     "height": 283
    },
    "colab_type": "code",
    "id": "skLXGGJ2vL3S",
    "outputId": "2169271c-488e-4902-b5f9-8144fba2b756"
   },
   "outputs": [
    {
     "data": {
      "text/plain": [
       "(False    420\n",
       " True      80\n",
       " Name: NYNJ, dtype: int64,\n",
       " New York-Newark-Jersey City, NY-NJ-PA MSA          80\n",
       " Los Angeles-Long Beach-Anaheim, CA MSA             29\n",
       " Dallas-Fort Worth-Arlington, TX MSA                21\n",
       " Chicago-Naperville-Elgin, IL-IN-WI MSA             19\n",
       " Philadelphia-Camden-Wilmington, PA-NJ-DE-MD MSA    17\n",
       "                                                    ..\n",
       " Greensboro-High Point, NC MSA                       1\n",
       " Raleigh-Cary, NC MSA                                1\n",
       " Stockton, CA MSA                                    1\n",
       " Oxnard-Thousand Oaks-Ventura, CA MSA                1\n",
       " Jacksonville, FL MSA                                1\n",
       " Name: city, Length: 73, dtype: int64)"
      ]
     },
     "execution_count": 17,
     "metadata": {},
     "output_type": "execute_result"
    }
   ],
   "source": [
    "# Merge User data with calls data stats\n",
    "df_users['NYNJ'] = df_users['city'].str.contains('NY-NJ')\n",
    "data_combined =df_users[['user_id','plan','NYNJ']].copy()\n",
    "\n",
    "data_combined = pd.merge(data_combined,call_stat,'left',on='user_id')\n",
    "data_combined['NYNJ'].value_counts(),df_users['city'].value_counts()"
   ]
  },
  {
   "cell_type": "markdown",
   "metadata": {
    "colab_type": "text",
    "id": "gNmHrXOp3QLh"
   },
   "source": [
    "Created a new column in df_users for NYNJ users (to be used later).\n",
    "This column will be True, if the user is NYNJ user, False otherwise\n",
    "We have 80 NYNJ users, 420 other\n",
    "\n",
    "Merging user data (df_users_ with call_stat (pivot_table) data based on user_id. Combined dataset is data_combined.\n"
   ]
  },
  {
   "cell_type": "code",
   "execution_count": 18,
   "metadata": {
    "colab": {
     "base_uri": "https://localhost:8080/",
     "height": 460
    },
    "colab_type": "code",
    "id": "DZ2ujViHYtYh",
    "outputId": "35c9f373-7d2c-4001-ceef-2597b862f295"
   },
   "outputs": [
    {
     "name": "stdout",
     "output_type": "stream",
     "text": [
      "True     489\n",
      "False     11\n",
      "Name: user_id, dtype: int64\n"
     ]
    },
    {
     "data": {
      "text/html": [
       "<div>\n",
       "<style scoped>\n",
       "    .dataframe tbody tr th:only-of-type {\n",
       "        vertical-align: middle;\n",
       "    }\n",
       "\n",
       "    .dataframe tbody tr th {\n",
       "        vertical-align: top;\n",
       "    }\n",
       "\n",
       "    .dataframe thead th {\n",
       "        text-align: right;\n",
       "    }\n",
       "</style>\n",
       "<table border=\"1\" class=\"dataframe\">\n",
       "  <thead>\n",
       "    <tr style=\"text-align: right;\">\n",
       "      <th></th>\n",
       "      <th>user_id</th>\n",
       "      <th>plan</th>\n",
       "      <th>NYNJ</th>\n",
       "      <th>call_count</th>\n",
       "      <th>minutes</th>\n",
       "      <th>data_mb</th>\n",
       "    </tr>\n",
       "  </thead>\n",
       "  <tbody>\n",
       "    <tr>\n",
       "      <td>0</td>\n",
       "      <td>1000</td>\n",
       "      <td>ultimate</td>\n",
       "      <td>False</td>\n",
       "      <td>16.0</td>\n",
       "      <td>116.83</td>\n",
       "      <td>1901.47</td>\n",
       "    </tr>\n",
       "    <tr>\n",
       "      <td>1</td>\n",
       "      <td>1001</td>\n",
       "      <td>surf</td>\n",
       "      <td>False</td>\n",
       "      <td>261.0</td>\n",
       "      <td>1640.46</td>\n",
       "      <td>80437.94</td>\n",
       "    </tr>\n",
       "    <tr>\n",
       "      <td>2</td>\n",
       "      <td>1002</td>\n",
       "      <td>surf</td>\n",
       "      <td>False</td>\n",
       "      <td>113.0</td>\n",
       "      <td>777.13</td>\n",
       "      <td>40293.33</td>\n",
       "    </tr>\n",
       "    <tr>\n",
       "      <td>3</td>\n",
       "      <td>1003</td>\n",
       "      <td>surf</td>\n",
       "      <td>False</td>\n",
       "      <td>149.0</td>\n",
       "      <td>1041.00</td>\n",
       "      <td>27044.14</td>\n",
       "    </tr>\n",
       "    <tr>\n",
       "      <td>4</td>\n",
       "      <td>1004</td>\n",
       "      <td>surf</td>\n",
       "      <td>False</td>\n",
       "      <td>370.0</td>\n",
       "      <td>2618.95</td>\n",
       "      <td>156352.81</td>\n",
       "    </tr>\n",
       "    <tr>\n",
       "      <td>...</td>\n",
       "      <td>...</td>\n",
       "      <td>...</td>\n",
       "      <td>...</td>\n",
       "      <td>...</td>\n",
       "      <td>...</td>\n",
       "      <td>...</td>\n",
       "    </tr>\n",
       "    <tr>\n",
       "      <td>495</td>\n",
       "      <td>1495</td>\n",
       "      <td>surf</td>\n",
       "      <td>True</td>\n",
       "      <td>253.0</td>\n",
       "      <td>1666.41</td>\n",
       "      <td>98890.96</td>\n",
       "    </tr>\n",
       "    <tr>\n",
       "      <td>496</td>\n",
       "      <td>1496</td>\n",
       "      <td>surf</td>\n",
       "      <td>False</td>\n",
       "      <td>195.0</td>\n",
       "      <td>1376.21</td>\n",
       "      <td>64268.64</td>\n",
       "    </tr>\n",
       "    <tr>\n",
       "      <td>497</td>\n",
       "      <td>1497</td>\n",
       "      <td>ultimate</td>\n",
       "      <td>False</td>\n",
       "      <td>54.0</td>\n",
       "      <td>276.53</td>\n",
       "      <td>11106.55</td>\n",
       "    </tr>\n",
       "    <tr>\n",
       "      <td>498</td>\n",
       "      <td>1498</td>\n",
       "      <td>surf</td>\n",
       "      <td>True</td>\n",
       "      <td>451.0</td>\n",
       "      <td>3029.97</td>\n",
       "      <td>227525.13</td>\n",
       "    </tr>\n",
       "    <tr>\n",
       "      <td>499</td>\n",
       "      <td>1499</td>\n",
       "      <td>surf</td>\n",
       "      <td>False</td>\n",
       "      <td>204.0</td>\n",
       "      <td>1450.31</td>\n",
       "      <td>71350.23</td>\n",
       "    </tr>\n",
       "  </tbody>\n",
       "</table>\n",
       "<p>500 rows × 6 columns</p>\n",
       "</div>"
      ],
      "text/plain": [
       "     user_id      plan   NYNJ  call_count  minutes    data_mb\n",
       "0       1000  ultimate  False        16.0   116.83    1901.47\n",
       "1       1001      surf  False       261.0  1640.46   80437.94\n",
       "2       1002      surf  False       113.0   777.13   40293.33\n",
       "3       1003      surf  False       149.0  1041.00   27044.14\n",
       "4       1004      surf  False       370.0  2618.95  156352.81\n",
       "..       ...       ...    ...         ...      ...        ...\n",
       "495     1495      surf   True       253.0  1666.41   98890.96\n",
       "496     1496      surf  False       195.0  1376.21   64268.64\n",
       "497     1497  ultimate  False        54.0   276.53   11106.55\n",
       "498     1498      surf   True       451.0  3029.97  227525.13\n",
       "499     1499      surf  False       204.0  1450.31   71350.23\n",
       "\n",
       "[500 rows x 6 columns]"
      ]
     },
     "execution_count": 18,
     "metadata": {},
     "output_type": "execute_result"
    }
   ],
   "source": [
    "# Merge user data with internet data\n",
    "print(data_combined['user_id'].isin(df_internet['user_id']).value_counts())\n",
    "\n",
    "data_combined = pd.merge(data_combined,internet_stat,'left',on='user_id')\n",
    "data_combined"
   ]
  },
  {
   "cell_type": "markdown",
   "metadata": {
    "colab_type": "text",
    "id": "hu4AK9uA4Wsc"
   },
   "source": [
    "Merging dataset data_combined with internet_stat (pivot_table) data based on user_id. Combined dataset is data_combined.\n",
    "11 users have no internet data. 489 users have internet data."
   ]
  },
  {
   "cell_type": "code",
   "execution_count": 19,
   "metadata": {
    "colab": {
     "base_uri": "https://localhost:8080/",
     "height": 460
    },
    "colab_type": "code",
    "id": "JZkpcHIUuiTT",
    "outputId": "27561f1a-26b9-4c76-d68e-d57df7471451"
   },
   "outputs": [
    {
     "name": "stdout",
     "output_type": "stream",
     "text": [
      "True     402\n",
      "False     98\n",
      "Name: user_id, dtype: int64\n"
     ]
    },
    {
     "data": {
      "text/html": [
       "<div>\n",
       "<style scoped>\n",
       "    .dataframe tbody tr th:only-of-type {\n",
       "        vertical-align: middle;\n",
       "    }\n",
       "\n",
       "    .dataframe tbody tr th {\n",
       "        vertical-align: top;\n",
       "    }\n",
       "\n",
       "    .dataframe thead th {\n",
       "        text-align: right;\n",
       "    }\n",
       "</style>\n",
       "<table border=\"1\" class=\"dataframe\">\n",
       "  <thead>\n",
       "    <tr style=\"text-align: right;\">\n",
       "      <th></th>\n",
       "      <th>user_id</th>\n",
       "      <th>plan</th>\n",
       "      <th>NYNJ</th>\n",
       "      <th>call_count</th>\n",
       "      <th>minutes</th>\n",
       "      <th>data_mb</th>\n",
       "      <th>msg_count</th>\n",
       "    </tr>\n",
       "  </thead>\n",
       "  <tbody>\n",
       "    <tr>\n",
       "      <td>0</td>\n",
       "      <td>1000</td>\n",
       "      <td>ultimate</td>\n",
       "      <td>False</td>\n",
       "      <td>16.0</td>\n",
       "      <td>116.83</td>\n",
       "      <td>1901.47</td>\n",
       "      <td>11.0</td>\n",
       "    </tr>\n",
       "    <tr>\n",
       "      <td>1</td>\n",
       "      <td>1001</td>\n",
       "      <td>surf</td>\n",
       "      <td>False</td>\n",
       "      <td>261.0</td>\n",
       "      <td>1640.46</td>\n",
       "      <td>80437.94</td>\n",
       "      <td>207.0</td>\n",
       "    </tr>\n",
       "    <tr>\n",
       "      <td>2</td>\n",
       "      <td>1002</td>\n",
       "      <td>surf</td>\n",
       "      <td>False</td>\n",
       "      <td>113.0</td>\n",
       "      <td>777.13</td>\n",
       "      <td>40293.33</td>\n",
       "      <td>88.0</td>\n",
       "    </tr>\n",
       "    <tr>\n",
       "      <td>3</td>\n",
       "      <td>1003</td>\n",
       "      <td>surf</td>\n",
       "      <td>False</td>\n",
       "      <td>149.0</td>\n",
       "      <td>1041.00</td>\n",
       "      <td>27044.14</td>\n",
       "      <td>50.0</td>\n",
       "    </tr>\n",
       "    <tr>\n",
       "      <td>4</td>\n",
       "      <td>1004</td>\n",
       "      <td>surf</td>\n",
       "      <td>False</td>\n",
       "      <td>370.0</td>\n",
       "      <td>2618.95</td>\n",
       "      <td>156352.81</td>\n",
       "      <td>177.0</td>\n",
       "    </tr>\n",
       "    <tr>\n",
       "      <td>...</td>\n",
       "      <td>...</td>\n",
       "      <td>...</td>\n",
       "      <td>...</td>\n",
       "      <td>...</td>\n",
       "      <td>...</td>\n",
       "      <td>...</td>\n",
       "      <td>...</td>\n",
       "    </tr>\n",
       "    <tr>\n",
       "      <td>495</td>\n",
       "      <td>1495</td>\n",
       "      <td>surf</td>\n",
       "      <td>True</td>\n",
       "      <td>253.0</td>\n",
       "      <td>1666.41</td>\n",
       "      <td>98890.96</td>\n",
       "      <td>NaN</td>\n",
       "    </tr>\n",
       "    <tr>\n",
       "      <td>496</td>\n",
       "      <td>1496</td>\n",
       "      <td>surf</td>\n",
       "      <td>False</td>\n",
       "      <td>195.0</td>\n",
       "      <td>1376.21</td>\n",
       "      <td>64268.64</td>\n",
       "      <td>65.0</td>\n",
       "    </tr>\n",
       "    <tr>\n",
       "      <td>497</td>\n",
       "      <td>1497</td>\n",
       "      <td>ultimate</td>\n",
       "      <td>False</td>\n",
       "      <td>54.0</td>\n",
       "      <td>276.53</td>\n",
       "      <td>11106.55</td>\n",
       "      <td>50.0</td>\n",
       "    </tr>\n",
       "    <tr>\n",
       "      <td>498</td>\n",
       "      <td>1498</td>\n",
       "      <td>surf</td>\n",
       "      <td>True</td>\n",
       "      <td>451.0</td>\n",
       "      <td>3029.97</td>\n",
       "      <td>227525.13</td>\n",
       "      <td>NaN</td>\n",
       "    </tr>\n",
       "    <tr>\n",
       "      <td>499</td>\n",
       "      <td>1499</td>\n",
       "      <td>surf</td>\n",
       "      <td>False</td>\n",
       "      <td>204.0</td>\n",
       "      <td>1450.31</td>\n",
       "      <td>71350.23</td>\n",
       "      <td>NaN</td>\n",
       "    </tr>\n",
       "  </tbody>\n",
       "</table>\n",
       "<p>500 rows × 7 columns</p>\n",
       "</div>"
      ],
      "text/plain": [
       "     user_id      plan   NYNJ  call_count  minutes    data_mb  msg_count\n",
       "0       1000  ultimate  False        16.0   116.83    1901.47       11.0\n",
       "1       1001      surf  False       261.0  1640.46   80437.94      207.0\n",
       "2       1002      surf  False       113.0   777.13   40293.33       88.0\n",
       "3       1003      surf  False       149.0  1041.00   27044.14       50.0\n",
       "4       1004      surf  False       370.0  2618.95  156352.81      177.0\n",
       "..       ...       ...    ...         ...      ...        ...        ...\n",
       "495     1495      surf   True       253.0  1666.41   98890.96        NaN\n",
       "496     1496      surf  False       195.0  1376.21   64268.64       65.0\n",
       "497     1497  ultimate  False        54.0   276.53   11106.55       50.0\n",
       "498     1498      surf   True       451.0  3029.97  227525.13        NaN\n",
       "499     1499      surf  False       204.0  1450.31   71350.23        NaN\n",
       "\n",
       "[500 rows x 7 columns]"
      ]
     },
     "execution_count": 19,
     "metadata": {},
     "output_type": "execute_result"
    }
   ],
   "source": [
    "# Merge user data with txtmsg data\n",
    "print(data_combined['user_id'].isin(df_messages['user_id']).value_counts())\n",
    "\n",
    "data_combined = pd.merge(data_combined,messages_stat,'left',on='user_id')\n",
    "data_combined"
   ]
  },
  {
   "cell_type": "markdown",
   "metadata": {
    "colab_type": "text",
    "id": "8UZEODXu5a2h"
   },
   "source": [
    "Merging dataset data_combined with messages_stat (pivot_table) data based on user_id. Combined dataset is data_combined.\n",
    "98 users have no message data. 402 users have message data."
   ]
  },
  {
   "cell_type": "code",
   "execution_count": 20,
   "metadata": {
    "colab": {},
    "colab_type": "code",
    "id": "EG1IDXghvGF6"
   },
   "outputs": [],
   "source": [
    "value_maps={'call_count':0,'minutes':0,'data_mb':0,'msg_count':0}\n",
    "data_combined.fillna(value_maps,inplace=True)"
   ]
  },
  {
   "cell_type": "markdown",
   "metadata": {
    "colab_type": "text",
    "id": "7RH0Qipq5siU"
   },
   "source": [
    "Filled NaN values for missing data with 0. Since we merged the different datasets, and the stats had missing data, we need to replace the NaN values with 0s for processing and analysis."
   ]
  },
  {
   "cell_type": "code",
   "execution_count": 21,
   "metadata": {
    "colab": {
     "base_uri": "https://localhost:8080/",
     "height": 462
    },
    "colab_type": "code",
    "id": "owEvobrwrRar",
    "outputId": "37de8af2-a671-4cd0-d5d4-417e5f77f3d1"
   },
   "outputs": [
    {
     "name": "stdout",
     "output_type": "stream",
     "text": [
      "True    500\n",
      "Name: plan, dtype: int64\n"
     ]
    },
    {
     "data": {
      "text/html": [
       "<div>\n",
       "<style scoped>\n",
       "    .dataframe tbody tr th:only-of-type {\n",
       "        vertical-align: middle;\n",
       "    }\n",
       "\n",
       "    .dataframe tbody tr th {\n",
       "        vertical-align: top;\n",
       "    }\n",
       "\n",
       "    .dataframe thead th {\n",
       "        text-align: right;\n",
       "    }\n",
       "</style>\n",
       "<table border=\"1\" class=\"dataframe\">\n",
       "  <thead>\n",
       "    <tr style=\"text-align: right;\">\n",
       "      <th></th>\n",
       "      <th>user_id</th>\n",
       "      <th>plan</th>\n",
       "      <th>NYNJ</th>\n",
       "      <th>call_count</th>\n",
       "      <th>minutes</th>\n",
       "      <th>data_mb</th>\n",
       "      <th>msg_count</th>\n",
       "      <th>messages_included</th>\n",
       "      <th>mb_per_month_included</th>\n",
       "      <th>minutes_included</th>\n",
       "      <th>usd_monthly_pay</th>\n",
       "      <th>usd_per_gb</th>\n",
       "      <th>usd_per_message</th>\n",
       "      <th>usd_per_minute</th>\n",
       "      <th>plan_name</th>\n",
       "    </tr>\n",
       "  </thead>\n",
       "  <tbody>\n",
       "    <tr>\n",
       "      <td>0</td>\n",
       "      <td>1000</td>\n",
       "      <td>ultimate</td>\n",
       "      <td>False</td>\n",
       "      <td>16.0</td>\n",
       "      <td>116.83</td>\n",
       "      <td>1901.47</td>\n",
       "      <td>11.0</td>\n",
       "      <td>1000</td>\n",
       "      <td>30720</td>\n",
       "      <td>3000</td>\n",
       "      <td>70</td>\n",
       "      <td>7</td>\n",
       "      <td>0.01</td>\n",
       "      <td>0.01</td>\n",
       "      <td>ultimate</td>\n",
       "    </tr>\n",
       "    <tr>\n",
       "      <td>1</td>\n",
       "      <td>1001</td>\n",
       "      <td>surf</td>\n",
       "      <td>False</td>\n",
       "      <td>261.0</td>\n",
       "      <td>1640.46</td>\n",
       "      <td>80437.94</td>\n",
       "      <td>207.0</td>\n",
       "      <td>50</td>\n",
       "      <td>15360</td>\n",
       "      <td>500</td>\n",
       "      <td>20</td>\n",
       "      <td>10</td>\n",
       "      <td>0.03</td>\n",
       "      <td>0.03</td>\n",
       "      <td>surf</td>\n",
       "    </tr>\n",
       "    <tr>\n",
       "      <td>2</td>\n",
       "      <td>1002</td>\n",
       "      <td>surf</td>\n",
       "      <td>False</td>\n",
       "      <td>113.0</td>\n",
       "      <td>777.13</td>\n",
       "      <td>40293.33</td>\n",
       "      <td>88.0</td>\n",
       "      <td>50</td>\n",
       "      <td>15360</td>\n",
       "      <td>500</td>\n",
       "      <td>20</td>\n",
       "      <td>10</td>\n",
       "      <td>0.03</td>\n",
       "      <td>0.03</td>\n",
       "      <td>surf</td>\n",
       "    </tr>\n",
       "    <tr>\n",
       "      <td>3</td>\n",
       "      <td>1003</td>\n",
       "      <td>surf</td>\n",
       "      <td>False</td>\n",
       "      <td>149.0</td>\n",
       "      <td>1041.00</td>\n",
       "      <td>27044.14</td>\n",
       "      <td>50.0</td>\n",
       "      <td>50</td>\n",
       "      <td>15360</td>\n",
       "      <td>500</td>\n",
       "      <td>20</td>\n",
       "      <td>10</td>\n",
       "      <td>0.03</td>\n",
       "      <td>0.03</td>\n",
       "      <td>surf</td>\n",
       "    </tr>\n",
       "    <tr>\n",
       "      <td>4</td>\n",
       "      <td>1004</td>\n",
       "      <td>surf</td>\n",
       "      <td>False</td>\n",
       "      <td>370.0</td>\n",
       "      <td>2618.95</td>\n",
       "      <td>156352.81</td>\n",
       "      <td>177.0</td>\n",
       "      <td>50</td>\n",
       "      <td>15360</td>\n",
       "      <td>500</td>\n",
       "      <td>20</td>\n",
       "      <td>10</td>\n",
       "      <td>0.03</td>\n",
       "      <td>0.03</td>\n",
       "      <td>surf</td>\n",
       "    </tr>\n",
       "    <tr>\n",
       "      <td>...</td>\n",
       "      <td>...</td>\n",
       "      <td>...</td>\n",
       "      <td>...</td>\n",
       "      <td>...</td>\n",
       "      <td>...</td>\n",
       "      <td>...</td>\n",
       "      <td>...</td>\n",
       "      <td>...</td>\n",
       "      <td>...</td>\n",
       "      <td>...</td>\n",
       "      <td>...</td>\n",
       "      <td>...</td>\n",
       "      <td>...</td>\n",
       "      <td>...</td>\n",
       "      <td>...</td>\n",
       "    </tr>\n",
       "    <tr>\n",
       "      <td>495</td>\n",
       "      <td>1495</td>\n",
       "      <td>surf</td>\n",
       "      <td>True</td>\n",
       "      <td>253.0</td>\n",
       "      <td>1666.41</td>\n",
       "      <td>98890.96</td>\n",
       "      <td>0.0</td>\n",
       "      <td>50</td>\n",
       "      <td>15360</td>\n",
       "      <td>500</td>\n",
       "      <td>20</td>\n",
       "      <td>10</td>\n",
       "      <td>0.03</td>\n",
       "      <td>0.03</td>\n",
       "      <td>surf</td>\n",
       "    </tr>\n",
       "    <tr>\n",
       "      <td>496</td>\n",
       "      <td>1496</td>\n",
       "      <td>surf</td>\n",
       "      <td>False</td>\n",
       "      <td>195.0</td>\n",
       "      <td>1376.21</td>\n",
       "      <td>64268.64</td>\n",
       "      <td>65.0</td>\n",
       "      <td>50</td>\n",
       "      <td>15360</td>\n",
       "      <td>500</td>\n",
       "      <td>20</td>\n",
       "      <td>10</td>\n",
       "      <td>0.03</td>\n",
       "      <td>0.03</td>\n",
       "      <td>surf</td>\n",
       "    </tr>\n",
       "    <tr>\n",
       "      <td>497</td>\n",
       "      <td>1497</td>\n",
       "      <td>ultimate</td>\n",
       "      <td>False</td>\n",
       "      <td>54.0</td>\n",
       "      <td>276.53</td>\n",
       "      <td>11106.55</td>\n",
       "      <td>50.0</td>\n",
       "      <td>1000</td>\n",
       "      <td>30720</td>\n",
       "      <td>3000</td>\n",
       "      <td>70</td>\n",
       "      <td>7</td>\n",
       "      <td>0.01</td>\n",
       "      <td>0.01</td>\n",
       "      <td>ultimate</td>\n",
       "    </tr>\n",
       "    <tr>\n",
       "      <td>498</td>\n",
       "      <td>1498</td>\n",
       "      <td>surf</td>\n",
       "      <td>True</td>\n",
       "      <td>451.0</td>\n",
       "      <td>3029.97</td>\n",
       "      <td>227525.13</td>\n",
       "      <td>0.0</td>\n",
       "      <td>50</td>\n",
       "      <td>15360</td>\n",
       "      <td>500</td>\n",
       "      <td>20</td>\n",
       "      <td>10</td>\n",
       "      <td>0.03</td>\n",
       "      <td>0.03</td>\n",
       "      <td>surf</td>\n",
       "    </tr>\n",
       "    <tr>\n",
       "      <td>499</td>\n",
       "      <td>1499</td>\n",
       "      <td>surf</td>\n",
       "      <td>False</td>\n",
       "      <td>204.0</td>\n",
       "      <td>1450.31</td>\n",
       "      <td>71350.23</td>\n",
       "      <td>0.0</td>\n",
       "      <td>50</td>\n",
       "      <td>15360</td>\n",
       "      <td>500</td>\n",
       "      <td>20</td>\n",
       "      <td>10</td>\n",
       "      <td>0.03</td>\n",
       "      <td>0.03</td>\n",
       "      <td>surf</td>\n",
       "    </tr>\n",
       "  </tbody>\n",
       "</table>\n",
       "<p>500 rows × 15 columns</p>\n",
       "</div>"
      ],
      "text/plain": [
       "     user_id      plan   NYNJ  call_count  minutes    data_mb  msg_count  \\\n",
       "0       1000  ultimate  False        16.0   116.83    1901.47       11.0   \n",
       "1       1001      surf  False       261.0  1640.46   80437.94      207.0   \n",
       "2       1002      surf  False       113.0   777.13   40293.33       88.0   \n",
       "3       1003      surf  False       149.0  1041.00   27044.14       50.0   \n",
       "4       1004      surf  False       370.0  2618.95  156352.81      177.0   \n",
       "..       ...       ...    ...         ...      ...        ...        ...   \n",
       "495     1495      surf   True       253.0  1666.41   98890.96        0.0   \n",
       "496     1496      surf  False       195.0  1376.21   64268.64       65.0   \n",
       "497     1497  ultimate  False        54.0   276.53   11106.55       50.0   \n",
       "498     1498      surf   True       451.0  3029.97  227525.13        0.0   \n",
       "499     1499      surf  False       204.0  1450.31   71350.23        0.0   \n",
       "\n",
       "     messages_included  mb_per_month_included  minutes_included  \\\n",
       "0                 1000                  30720              3000   \n",
       "1                   50                  15360               500   \n",
       "2                   50                  15360               500   \n",
       "3                   50                  15360               500   \n",
       "4                   50                  15360               500   \n",
       "..                 ...                    ...               ...   \n",
       "495                 50                  15360               500   \n",
       "496                 50                  15360               500   \n",
       "497               1000                  30720              3000   \n",
       "498                 50                  15360               500   \n",
       "499                 50                  15360               500   \n",
       "\n",
       "     usd_monthly_pay  usd_per_gb  usd_per_message  usd_per_minute plan_name  \n",
       "0                 70           7             0.01            0.01  ultimate  \n",
       "1                 20          10             0.03            0.03      surf  \n",
       "2                 20          10             0.03            0.03      surf  \n",
       "3                 20          10             0.03            0.03      surf  \n",
       "4                 20          10             0.03            0.03      surf  \n",
       "..               ...         ...              ...             ...       ...  \n",
       "495               20          10             0.03            0.03      surf  \n",
       "496               20          10             0.03            0.03      surf  \n",
       "497               70           7             0.01            0.01  ultimate  \n",
       "498               20          10             0.03            0.03      surf  \n",
       "499               20          10             0.03            0.03      surf  \n",
       "\n",
       "[500 rows x 15 columns]"
      ]
     },
     "execution_count": 21,
     "metadata": {},
     "output_type": "execute_result"
    }
   ],
   "source": [
    "# Merge user data with txtmsg data\n",
    "print(data_combined['plan'].isin(df_plans['plan_name']).value_counts())\n",
    "\n",
    "data_combined = pd.merge(data_combined,df_plans,how='left',left_on='plan',right_on='plan_name')\n",
    "data_combined"
   ]
  },
  {
   "cell_type": "markdown",
   "metadata": {
    "colab_type": "text",
    "id": "bNA-T8wf56RT"
   },
   "source": [
    "**CONCLUSION**\n",
    "\n",
    "Combined the dataset data_combined with the plan_name and plan info for each user using df_plans dataset. Now we can see details of plan for each user."
   ]
  },
  {
   "cell_type": "markdown",
   "metadata": {
    "colab_type": "text",
    "id": "X2RFrwWqfDqa"
   },
   "source": [
    "**The monthly profit from each user**\n",
    "\n",
    "\n",
    "  (subtract the free package limit from the total number of calls, \n",
    "  text messages, and data; \n",
    "  multiply the result by the calling plan value; \n",
    "  add the monthly charge depending on the calling plan)\n",
    "\n",
    "  messages_included\tmb_per_month_included\tminutes_included\t\n",
    "\n",
    "\n",
    "  usd_monthly_pay\tusd_per_gb\tusd_per_message\tusd_per_minute\tplan_name\n",
    "\n",
    "\n",
    "0\t50\t15360\t500\t20\t10\t0.03\t0.03\tsurf\n",
    "\n",
    "\n",
    "1\t1000\t30720\t3000\t70\t7\t0.01\t0.01\tultimate"
   ]
  },
  {
   "cell_type": "code",
   "execution_count": 22,
   "metadata": {
    "colab": {
     "base_uri": "https://localhost:8080/",
     "height": 426
    },
    "colab_type": "code",
    "id": "SWi3LFLgfVry",
    "outputId": "8aeccdd6-a185-4538-9981-b1bb23c3b08e"
   },
   "outputs": [
    {
     "data": {
      "text/html": [
       "<div>\n",
       "<style scoped>\n",
       "    .dataframe tbody tr th:only-of-type {\n",
       "        vertical-align: middle;\n",
       "    }\n",
       "\n",
       "    .dataframe tbody tr th {\n",
       "        vertical-align: top;\n",
       "    }\n",
       "\n",
       "    .dataframe thead th {\n",
       "        text-align: right;\n",
       "    }\n",
       "</style>\n",
       "<table border=\"1\" class=\"dataframe\">\n",
       "  <thead>\n",
       "    <tr style=\"text-align: right;\">\n",
       "      <th></th>\n",
       "      <th>user_id</th>\n",
       "      <th>plan</th>\n",
       "      <th>NYNJ</th>\n",
       "      <th>call_count</th>\n",
       "      <th>minutes</th>\n",
       "      <th>data_mb</th>\n",
       "      <th>msg_count</th>\n",
       "      <th>messages_included</th>\n",
       "      <th>mb_per_month_included</th>\n",
       "      <th>minutes_included</th>\n",
       "      <th>usd_monthly_pay</th>\n",
       "      <th>usd_per_gb</th>\n",
       "      <th>usd_per_message</th>\n",
       "      <th>usd_per_minute</th>\n",
       "      <th>plan_name</th>\n",
       "      <th>extra_minutes</th>\n",
       "      <th>extra_data_mb</th>\n",
       "      <th>extra_msg_count</th>\n",
       "      <th>profit</th>\n",
       "    </tr>\n",
       "  </thead>\n",
       "  <tbody>\n",
       "    <tr>\n",
       "      <td>0</td>\n",
       "      <td>1000</td>\n",
       "      <td>ultimate</td>\n",
       "      <td>False</td>\n",
       "      <td>16.0</td>\n",
       "      <td>116.83</td>\n",
       "      <td>1901.47</td>\n",
       "      <td>11.0</td>\n",
       "      <td>1000</td>\n",
       "      <td>30720</td>\n",
       "      <td>3000</td>\n",
       "      <td>70</td>\n",
       "      <td>7</td>\n",
       "      <td>0.01</td>\n",
       "      <td>0.01</td>\n",
       "      <td>ultimate</td>\n",
       "      <td>0.00</td>\n",
       "      <td>0.00</td>\n",
       "      <td>0.0</td>\n",
       "      <td>70.0000</td>\n",
       "    </tr>\n",
       "    <tr>\n",
       "      <td>1</td>\n",
       "      <td>1001</td>\n",
       "      <td>surf</td>\n",
       "      <td>False</td>\n",
       "      <td>261.0</td>\n",
       "      <td>1640.46</td>\n",
       "      <td>80437.94</td>\n",
       "      <td>207.0</td>\n",
       "      <td>50</td>\n",
       "      <td>15360</td>\n",
       "      <td>500</td>\n",
       "      <td>20</td>\n",
       "      <td>10</td>\n",
       "      <td>0.03</td>\n",
       "      <td>0.03</td>\n",
       "      <td>surf</td>\n",
       "      <td>1140.46</td>\n",
       "      <td>65077.94</td>\n",
       "      <td>157.0</td>\n",
       "      <td>709.7032</td>\n",
       "    </tr>\n",
       "    <tr>\n",
       "      <td>2</td>\n",
       "      <td>1002</td>\n",
       "      <td>surf</td>\n",
       "      <td>False</td>\n",
       "      <td>113.0</td>\n",
       "      <td>777.13</td>\n",
       "      <td>40293.33</td>\n",
       "      <td>88.0</td>\n",
       "      <td>50</td>\n",
       "      <td>15360</td>\n",
       "      <td>500</td>\n",
       "      <td>20</td>\n",
       "      <td>10</td>\n",
       "      <td>0.03</td>\n",
       "      <td>0.03</td>\n",
       "      <td>surf</td>\n",
       "      <td>277.13</td>\n",
       "      <td>24933.33</td>\n",
       "      <td>38.0</td>\n",
       "      <td>278.7872</td>\n",
       "    </tr>\n",
       "    <tr>\n",
       "      <td>3</td>\n",
       "      <td>1003</td>\n",
       "      <td>surf</td>\n",
       "      <td>False</td>\n",
       "      <td>149.0</td>\n",
       "      <td>1041.00</td>\n",
       "      <td>27044.14</td>\n",
       "      <td>50.0</td>\n",
       "      <td>50</td>\n",
       "      <td>15360</td>\n",
       "      <td>500</td>\n",
       "      <td>20</td>\n",
       "      <td>10</td>\n",
       "      <td>0.03</td>\n",
       "      <td>0.03</td>\n",
       "      <td>surf</td>\n",
       "      <td>541.00</td>\n",
       "      <td>11684.14</td>\n",
       "      <td>0.0</td>\n",
       "      <td>153.0714</td>\n",
       "    </tr>\n",
       "    <tr>\n",
       "      <td>4</td>\n",
       "      <td>1004</td>\n",
       "      <td>surf</td>\n",
       "      <td>False</td>\n",
       "      <td>370.0</td>\n",
       "      <td>2618.95</td>\n",
       "      <td>156352.81</td>\n",
       "      <td>177.0</td>\n",
       "      <td>50</td>\n",
       "      <td>15360</td>\n",
       "      <td>500</td>\n",
       "      <td>20</td>\n",
       "      <td>10</td>\n",
       "      <td>0.03</td>\n",
       "      <td>0.03</td>\n",
       "      <td>surf</td>\n",
       "      <td>2118.95</td>\n",
       "      <td>140992.81</td>\n",
       "      <td>127.0</td>\n",
       "      <td>1497.3066</td>\n",
       "    </tr>\n",
       "    <tr>\n",
       "      <td>...</td>\n",
       "      <td>...</td>\n",
       "      <td>...</td>\n",
       "      <td>...</td>\n",
       "      <td>...</td>\n",
       "      <td>...</td>\n",
       "      <td>...</td>\n",
       "      <td>...</td>\n",
       "      <td>...</td>\n",
       "      <td>...</td>\n",
       "      <td>...</td>\n",
       "      <td>...</td>\n",
       "      <td>...</td>\n",
       "      <td>...</td>\n",
       "      <td>...</td>\n",
       "      <td>...</td>\n",
       "      <td>...</td>\n",
       "      <td>...</td>\n",
       "      <td>...</td>\n",
       "      <td>...</td>\n",
       "    </tr>\n",
       "    <tr>\n",
       "      <td>495</td>\n",
       "      <td>1495</td>\n",
       "      <td>surf</td>\n",
       "      <td>True</td>\n",
       "      <td>253.0</td>\n",
       "      <td>1666.41</td>\n",
       "      <td>98890.96</td>\n",
       "      <td>0.0</td>\n",
       "      <td>50</td>\n",
       "      <td>15360</td>\n",
       "      <td>500</td>\n",
       "      <td>20</td>\n",
       "      <td>10</td>\n",
       "      <td>0.03</td>\n",
       "      <td>0.03</td>\n",
       "      <td>surf</td>\n",
       "      <td>1166.41</td>\n",
       "      <td>83530.96</td>\n",
       "      <td>0.0</td>\n",
       "      <td>890.3019</td>\n",
       "    </tr>\n",
       "    <tr>\n",
       "      <td>496</td>\n",
       "      <td>1496</td>\n",
       "      <td>surf</td>\n",
       "      <td>False</td>\n",
       "      <td>195.0</td>\n",
       "      <td>1376.21</td>\n",
       "      <td>64268.64</td>\n",
       "      <td>65.0</td>\n",
       "      <td>50</td>\n",
       "      <td>15360</td>\n",
       "      <td>500</td>\n",
       "      <td>20</td>\n",
       "      <td>10</td>\n",
       "      <td>0.03</td>\n",
       "      <td>0.03</td>\n",
       "      <td>surf</td>\n",
       "      <td>876.21</td>\n",
       "      <td>48908.64</td>\n",
       "      <td>15.0</td>\n",
       "      <td>535.8227</td>\n",
       "    </tr>\n",
       "    <tr>\n",
       "      <td>497</td>\n",
       "      <td>1497</td>\n",
       "      <td>ultimate</td>\n",
       "      <td>False</td>\n",
       "      <td>54.0</td>\n",
       "      <td>276.53</td>\n",
       "      <td>11106.55</td>\n",
       "      <td>50.0</td>\n",
       "      <td>1000</td>\n",
       "      <td>30720</td>\n",
       "      <td>3000</td>\n",
       "      <td>70</td>\n",
       "      <td>7</td>\n",
       "      <td>0.01</td>\n",
       "      <td>0.01</td>\n",
       "      <td>ultimate</td>\n",
       "      <td>0.00</td>\n",
       "      <td>0.00</td>\n",
       "      <td>0.0</td>\n",
       "      <td>70.0000</td>\n",
       "    </tr>\n",
       "    <tr>\n",
       "      <td>498</td>\n",
       "      <td>1498</td>\n",
       "      <td>surf</td>\n",
       "      <td>True</td>\n",
       "      <td>451.0</td>\n",
       "      <td>3029.97</td>\n",
       "      <td>227525.13</td>\n",
       "      <td>0.0</td>\n",
       "      <td>50</td>\n",
       "      <td>15360</td>\n",
       "      <td>500</td>\n",
       "      <td>20</td>\n",
       "      <td>10</td>\n",
       "      <td>0.03</td>\n",
       "      <td>0.03</td>\n",
       "      <td>surf</td>\n",
       "      <td>2529.97</td>\n",
       "      <td>212165.13</td>\n",
       "      <td>0.0</td>\n",
       "      <td>2217.5504</td>\n",
       "    </tr>\n",
       "    <tr>\n",
       "      <td>499</td>\n",
       "      <td>1499</td>\n",
       "      <td>surf</td>\n",
       "      <td>False</td>\n",
       "      <td>204.0</td>\n",
       "      <td>1450.31</td>\n",
       "      <td>71350.23</td>\n",
       "      <td>0.0</td>\n",
       "      <td>50</td>\n",
       "      <td>15360</td>\n",
       "      <td>500</td>\n",
       "      <td>20</td>\n",
       "      <td>10</td>\n",
       "      <td>0.03</td>\n",
       "      <td>0.03</td>\n",
       "      <td>surf</td>\n",
       "      <td>950.31</td>\n",
       "      <td>55990.23</td>\n",
       "      <td>0.0</td>\n",
       "      <td>608.4116</td>\n",
       "    </tr>\n",
       "  </tbody>\n",
       "</table>\n",
       "<p>500 rows × 19 columns</p>\n",
       "</div>"
      ],
      "text/plain": [
       "     user_id      plan   NYNJ  call_count  minutes    data_mb  msg_count  \\\n",
       "0       1000  ultimate  False        16.0   116.83    1901.47       11.0   \n",
       "1       1001      surf  False       261.0  1640.46   80437.94      207.0   \n",
       "2       1002      surf  False       113.0   777.13   40293.33       88.0   \n",
       "3       1003      surf  False       149.0  1041.00   27044.14       50.0   \n",
       "4       1004      surf  False       370.0  2618.95  156352.81      177.0   \n",
       "..       ...       ...    ...         ...      ...        ...        ...   \n",
       "495     1495      surf   True       253.0  1666.41   98890.96        0.0   \n",
       "496     1496      surf  False       195.0  1376.21   64268.64       65.0   \n",
       "497     1497  ultimate  False        54.0   276.53   11106.55       50.0   \n",
       "498     1498      surf   True       451.0  3029.97  227525.13        0.0   \n",
       "499     1499      surf  False       204.0  1450.31   71350.23        0.0   \n",
       "\n",
       "     messages_included  mb_per_month_included  minutes_included  \\\n",
       "0                 1000                  30720              3000   \n",
       "1                   50                  15360               500   \n",
       "2                   50                  15360               500   \n",
       "3                   50                  15360               500   \n",
       "4                   50                  15360               500   \n",
       "..                 ...                    ...               ...   \n",
       "495                 50                  15360               500   \n",
       "496                 50                  15360               500   \n",
       "497               1000                  30720              3000   \n",
       "498                 50                  15360               500   \n",
       "499                 50                  15360               500   \n",
       "\n",
       "     usd_monthly_pay  usd_per_gb  usd_per_message  usd_per_minute plan_name  \\\n",
       "0                 70           7             0.01            0.01  ultimate   \n",
       "1                 20          10             0.03            0.03      surf   \n",
       "2                 20          10             0.03            0.03      surf   \n",
       "3                 20          10             0.03            0.03      surf   \n",
       "4                 20          10             0.03            0.03      surf   \n",
       "..               ...         ...              ...             ...       ...   \n",
       "495               20          10             0.03            0.03      surf   \n",
       "496               20          10             0.03            0.03      surf   \n",
       "497               70           7             0.01            0.01  ultimate   \n",
       "498               20          10             0.03            0.03      surf   \n",
       "499               20          10             0.03            0.03      surf   \n",
       "\n",
       "     extra_minutes  extra_data_mb  extra_msg_count     profit  \n",
       "0             0.00           0.00              0.0    70.0000  \n",
       "1          1140.46       65077.94            157.0   709.7032  \n",
       "2           277.13       24933.33             38.0   278.7872  \n",
       "3           541.00       11684.14              0.0   153.0714  \n",
       "4          2118.95      140992.81            127.0  1497.3066  \n",
       "..             ...            ...              ...        ...  \n",
       "495        1166.41       83530.96              0.0   890.3019  \n",
       "496         876.21       48908.64             15.0   535.8227  \n",
       "497           0.00           0.00              0.0    70.0000  \n",
       "498        2529.97      212165.13              0.0  2217.5504  \n",
       "499         950.31       55990.23              0.0   608.4116  \n",
       "\n",
       "[500 rows x 19 columns]"
      ]
     },
     "execution_count": 22,
     "metadata": {},
     "output_type": "execute_result"
    }
   ],
   "source": [
    "#Get extra minutes, extra_data_mb, extra_msg_count\n",
    "\n",
    "data_combined['extra_minutes'] = data_combined['minutes']-data_combined['minutes_included']\n",
    "data_combined['extra_data_mb'] = data_combined['data_mb']  - data_combined['mb_per_month_included']\n",
    "data_combined['extra_msg_count'] = data_combined['msg_count'] - data_combined['messages_included']\n",
    "\n",
    "#replace the columns with no extra values to 0\n",
    "num = data_combined._get_numeric_data()\n",
    "num[num < 0] = 0\n",
    "\n",
    "#calculate profit, caution: data rate is per gb, data_mb was in mbs, so divided by 1000\n",
    "data_combined['profit'] = data_combined['usd_monthly_pay'] + \\\n",
    "                        data_combined['extra_minutes'] * data_combined['usd_per_minute'] + \\\n",
    "                        data_combined['extra_msg_count'] * data_combined['usd_per_message']  + \\\n",
    "                        (data_combined['extra_data_mb'] * data_combined['usd_per_gb'])/1000\n",
    "data_combined"
   ]
  },
  {
   "cell_type": "markdown",
   "metadata": {
    "colab_type": "text",
    "id": "xA2mOj-i6zCZ"
   },
   "source": [
    "Calculation of extra data, messages, minutes used by each user, then used it to calculate total charges per user. \n",
    "\n",
    "\n",
    "Note: The data usage included is in mb, data usage charge is per gb, so divided by 1000 to calculate charges per gb."
   ]
  },
  {
   "cell_type": "markdown",
   "metadata": {
    "colab_type": "text",
    "id": "gb58Jb896Yk4"
   },
   "source": [
    "**# PLAN Usage (within plan limits, extra usage)**\n",
    "\n",
    "Calculating users who stay within the plan, and who have usage beyond the plan included limits.\n",
    "\n"
   ]
  },
  {
   "cell_type": "code",
   "execution_count": 23,
   "metadata": {
    "colab": {
     "base_uri": "https://localhost:8080/",
     "height": 514
    },
    "colab_type": "code",
    "id": "hOkNalqrpYXl",
    "outputId": "5306a725-1223-4ee4-ea09-e44e9c1759f8"
   },
   "outputs": [
    {
     "data": {
      "text/plain": [
       "(     user_id      plan   NYNJ  call_count  minutes   data_mb  msg_count  \\\n",
       " 0       1000  ultimate  False        16.0   116.83   1901.47       11.0   \n",
       " 13      1013  ultimate  False        35.0   203.37  20113.92       16.0   \n",
       " 21      1021      surf  False        52.0   378.27   6084.63        0.0   \n",
       " 25      1025  ultimate  False         0.0     0.00      0.00        0.0   \n",
       " 26      1026  ultimate  False        57.0   335.64  13224.46       22.0   \n",
       " ..       ...       ...    ...         ...      ...       ...        ...   \n",
       " 473     1473      surf  False         0.0     0.00      0.00        0.0   \n",
       " 481     1481      surf  False         6.0    33.19   1265.78        3.0   \n",
       " 482     1482  ultimate   True       120.0   786.62  20806.13       94.0   \n",
       " 487     1487  ultimate  False        56.0   392.71  13992.39       66.0   \n",
       " 497     1497  ultimate  False        54.0   276.53  11106.55       50.0   \n",
       " \n",
       "      messages_included  mb_per_month_included  minutes_included  \\\n",
       " 0                 1000                  30720              3000   \n",
       " 13                1000                  30720              3000   \n",
       " 21                  50                  15360               500   \n",
       " 25                1000                  30720              3000   \n",
       " 26                1000                  30720              3000   \n",
       " ..                 ...                    ...               ...   \n",
       " 473                 50                  15360               500   \n",
       " 481                 50                  15360               500   \n",
       " 482               1000                  30720              3000   \n",
       " 487               1000                  30720              3000   \n",
       " 497               1000                  30720              3000   \n",
       " \n",
       "      usd_monthly_pay  usd_per_gb  usd_per_message  usd_per_minute plan_name  \\\n",
       " 0                 70           7             0.01            0.01  ultimate   \n",
       " 13                70           7             0.01            0.01  ultimate   \n",
       " 21                20          10             0.03            0.03      surf   \n",
       " 25                70           7             0.01            0.01  ultimate   \n",
       " 26                70           7             0.01            0.01  ultimate   \n",
       " ..               ...         ...              ...             ...       ...   \n",
       " 473               20          10             0.03            0.03      surf   \n",
       " 481               20          10             0.03            0.03      surf   \n",
       " 482               70           7             0.01            0.01  ultimate   \n",
       " 487               70           7             0.01            0.01  ultimate   \n",
       " 497               70           7             0.01            0.01  ultimate   \n",
       " \n",
       "      extra_minutes  extra_data_mb  extra_msg_count  profit  \n",
       " 0              0.0            0.0              0.0    70.0  \n",
       " 13             0.0            0.0              0.0    70.0  \n",
       " 21             0.0            0.0              0.0    20.0  \n",
       " 25             0.0            0.0              0.0    70.0  \n",
       " 26             0.0            0.0              0.0    70.0  \n",
       " ..             ...            ...              ...     ...  \n",
       " 473            0.0            0.0              0.0    20.0  \n",
       " 481            0.0            0.0              0.0    20.0  \n",
       " 482            0.0            0.0              0.0    70.0  \n",
       " 487            0.0            0.0              0.0    70.0  \n",
       " 497            0.0            0.0              0.0    70.0  \n",
       " \n",
       " [73 rows x 19 columns],\n",
       "      user_id  plan   NYNJ  call_count  minutes    data_mb  msg_count  \\\n",
       " 1       1001  surf  False       261.0  1640.46   80437.94      207.0   \n",
       " 2       1002  surf  False       113.0   777.13   40293.33       88.0   \n",
       " 3       1003  surf  False       149.0  1041.00   27044.14       50.0   \n",
       " 4       1004  surf  False       370.0  2618.95  156352.81      177.0   \n",
       " 5       1005  surf  False        59.0   470.22   17140.17       11.0   \n",
       " ..       ...   ...    ...         ...      ...        ...        ...   \n",
       " 494     1494  surf   True       420.0  2672.66   91389.19      174.0   \n",
       " 495     1495  surf   True       253.0  1666.41   98890.96        0.0   \n",
       " 496     1496  surf  False       195.0  1376.21   64268.64       65.0   \n",
       " 498     1498  surf   True       451.0  3029.97  227525.13        0.0   \n",
       " 499     1499  surf  False       204.0  1450.31   71350.23        0.0   \n",
       " \n",
       "      messages_included  mb_per_month_included  minutes_included  \\\n",
       " 1                   50                  15360               500   \n",
       " 2                   50                  15360               500   \n",
       " 3                   50                  15360               500   \n",
       " 4                   50                  15360               500   \n",
       " 5                   50                  15360               500   \n",
       " ..                 ...                    ...               ...   \n",
       " 494                 50                  15360               500   \n",
       " 495                 50                  15360               500   \n",
       " 496                 50                  15360               500   \n",
       " 498                 50                  15360               500   \n",
       " 499                 50                  15360               500   \n",
       " \n",
       "      usd_monthly_pay  usd_per_gb  usd_per_message  usd_per_minute plan_name  \\\n",
       " 1                 20          10             0.03            0.03      surf   \n",
       " 2                 20          10             0.03            0.03      surf   \n",
       " 3                 20          10             0.03            0.03      surf   \n",
       " 4                 20          10             0.03            0.03      surf   \n",
       " 5                 20          10             0.03            0.03      surf   \n",
       " ..               ...         ...              ...             ...       ...   \n",
       " 494               20          10             0.03            0.03      surf   \n",
       " 495               20          10             0.03            0.03      surf   \n",
       " 496               20          10             0.03            0.03      surf   \n",
       " 498               20          10             0.03            0.03      surf   \n",
       " 499               20          10             0.03            0.03      surf   \n",
       " \n",
       "      extra_minutes  extra_data_mb  extra_msg_count     profit  \n",
       " 1          1140.46       65077.94            157.0   709.7032  \n",
       " 2           277.13       24933.33             38.0   278.7872  \n",
       " 3           541.00       11684.14              0.0   153.0714  \n",
       " 4          2118.95      140992.81            127.0  1497.3066  \n",
       " 5             0.00        1780.17              0.0    37.8017  \n",
       " ..             ...            ...              ...        ...  \n",
       " 494        2172.66       76029.19            124.0   849.1917  \n",
       " 495        1166.41       83530.96              0.0   890.3019  \n",
       " 496         876.21       48908.64             15.0   535.8227  \n",
       " 498        2529.97      212165.13              0.0  2217.5504  \n",
       " 499         950.31       55990.23              0.0   608.4116  \n",
       " \n",
       " [427 rows x 19 columns])"
      ]
     },
     "execution_count": 23,
     "metadata": {},
     "output_type": "execute_result"
    }
   ],
   "source": [
    "within_plan_users = data_combined[data_combined['usd_monthly_pay']==data_combined['profit']]\n",
    "extra_usage_users = data_combined[data_combined['usd_monthly_pay']<data_combined['profit']]\n",
    "within_plan_users, extra_usage_users"
   ]
  },
  {
   "cell_type": "markdown",
   "metadata": {
    "colab_type": "text",
    "id": "xl-NWHXUqk2I"
   },
   "source": [
    "**CONCLUSION**\n",
    "\n",
    "We have 73 users who are using the plan within limits of minutes, messages, and data.\n",
    "All other 427 users are exceeding usage in minutes/messages/data or a combination of them. "
   ]
  },
  {
   "cell_type": "markdown",
   "metadata": {
    "colab_type": "text",
    "id": "niBDv-VPLOjV"
   },
   "source": [
    "** Users who are paying beyond 1000USD per month **"
   ]
  },
  {
   "cell_type": "code",
   "execution_count": 24,
   "metadata": {
    "colab": {
     "base_uri": "https://localhost:8080/",
     "height": 336
    },
    "colab_type": "code",
    "id": "9ONzFKniLUuV",
    "outputId": "c09c87b1-1b03-492f-ae41-c403aae7f62d"
   },
   "outputs": [
    {
     "data": {
      "text/plain": [
       "(     user_id      plan   NYNJ  call_count  minutes    data_mb  msg_count  \\\n",
       " 268     1268      surf  False       690.0  4773.52  312518.64      300.0   \n",
       " 359     1359      surf  False       654.0  4552.42  306503.85        0.0   \n",
       " 147     1147      surf  False       876.0  5822.43  257374.65      203.0   \n",
       " 28      1028  ultimate  False        73.0   488.46  390159.35      756.0   \n",
       " 240     1240      surf  False      1022.0  6610.85  241510.24       77.0   \n",
       " ..       ...       ...    ...         ...      ...        ...        ...   \n",
       " 68      1068      surf   True       248.0  1716.60  113393.52        0.0   \n",
       " 131     1131      surf  False         0.0     0.00  115737.76      216.0   \n",
       " 60      1060      surf  False       440.0  3007.15  107380.33      330.0   \n",
       " 466     1466      surf  False       216.0  1355.52  111087.86      320.0   \n",
       " 332     1332      surf  False       215.0  1363.13  111476.81       10.0   \n",
       " \n",
       "      messages_included  mb_per_month_included  minutes_included  \\\n",
       " 268                 50                  15360               500   \n",
       " 359                 50                  15360               500   \n",
       " 147                 50                  15360               500   \n",
       " 28                1000                  30720              3000   \n",
       " 240                 50                  15360               500   \n",
       " ..                 ...                    ...               ...   \n",
       " 68                  50                  15360               500   \n",
       " 131                 50                  15360               500   \n",
       " 60                  50                  15360               500   \n",
       " 466                 50                  15360               500   \n",
       " 332                 50                  15360               500   \n",
       " \n",
       "      usd_monthly_pay  usd_per_gb  usd_per_message  usd_per_minute plan_name  \\\n",
       " 268               20          10             0.03            0.03      surf   \n",
       " 359               20          10             0.03            0.03      surf   \n",
       " 147               20          10             0.03            0.03      surf   \n",
       " 28                70           7             0.01            0.01  ultimate   \n",
       " 240               20          10             0.03            0.03      surf   \n",
       " ..               ...         ...              ...             ...       ...   \n",
       " 68                20          10             0.03            0.03      surf   \n",
       " 131               20          10             0.03            0.03      surf   \n",
       " 60                20          10             0.03            0.03      surf   \n",
       " 466               20          10             0.03            0.03      surf   \n",
       " 332               20          10             0.03            0.03      surf   \n",
       " \n",
       "      extra_minutes  extra_data_mb  extra_msg_count      profit  \n",
       " 268        4273.52      297158.64            250.0  3127.29200  \n",
       " 359        4052.42      291143.85              0.0  3053.01110  \n",
       " 147        5322.43      242014.65            153.0  2604.40940  \n",
       " 28            0.00      359439.35              0.0  2586.07545  \n",
       " 240        6110.85      226150.24             27.0  2465.63790  \n",
       " ..             ...            ...              ...         ...  \n",
       " 68         1216.60       98033.52              0.0  1036.83320  \n",
       " 131           0.00      100377.76            166.0  1028.75760  \n",
       " 60         2507.15       92020.33            280.0  1023.81780  \n",
       " 466         855.52       95727.86            270.0  1011.04420  \n",
       " 332         863.13       96116.81              0.0  1007.06200  \n",
       " \n",
       " [113 rows x 19 columns],\n",
       "                    sum         mean  count\n",
       "                 profit       profit profit\n",
       " plan                                      \n",
       " surf      148597.67110  1516.302766     98\n",
       " ultimate   22491.38862  1499.425908     15)"
      ]
     },
     "execution_count": 24,
     "metadata": {},
     "output_type": "execute_result"
    }
   ],
   "source": [
    "extreme_users= data_combined[data_combined['profit']>1000]\n",
    "extreme_users = extreme_users.sort_values(by=['profit'],ascending=False)\n",
    "extreme_stats = extreme_users.pivot_table(index=['plan'],values='profit',aggfunc=['sum','mean','count'])\n",
    "extreme_users, extreme_stats"
   ]
  },
  {
   "cell_type": "markdown",
   "metadata": {
    "colab_type": "text",
    "id": "faIjtaSZ7SnD"
   },
   "source": [
    "**Surf users who are paying beyond Ultimate plan users**"
   ]
  },
  {
   "cell_type": "code",
   "execution_count": 25,
   "metadata": {
    "colab": {
     "base_uri": "https://localhost:8080/",
     "height": 426
    },
    "colab_type": "code",
    "id": "hBGt-IXeq4cg",
    "outputId": "8b54cd1a-2bfd-4041-f4c8-8e43b56cf384"
   },
   "outputs": [
    {
     "data": {
      "text/html": [
       "<div>\n",
       "<style scoped>\n",
       "    .dataframe tbody tr th:only-of-type {\n",
       "        vertical-align: middle;\n",
       "    }\n",
       "\n",
       "    .dataframe tbody tr th {\n",
       "        vertical-align: top;\n",
       "    }\n",
       "\n",
       "    .dataframe thead th {\n",
       "        text-align: right;\n",
       "    }\n",
       "</style>\n",
       "<table border=\"1\" class=\"dataframe\">\n",
       "  <thead>\n",
       "    <tr style=\"text-align: right;\">\n",
       "      <th></th>\n",
       "      <th>user_id</th>\n",
       "      <th>plan</th>\n",
       "      <th>NYNJ</th>\n",
       "      <th>call_count</th>\n",
       "      <th>minutes</th>\n",
       "      <th>data_mb</th>\n",
       "      <th>msg_count</th>\n",
       "      <th>messages_included</th>\n",
       "      <th>mb_per_month_included</th>\n",
       "      <th>minutes_included</th>\n",
       "      <th>usd_monthly_pay</th>\n",
       "      <th>usd_per_gb</th>\n",
       "      <th>usd_per_message</th>\n",
       "      <th>usd_per_minute</th>\n",
       "      <th>plan_name</th>\n",
       "      <th>extra_minutes</th>\n",
       "      <th>extra_data_mb</th>\n",
       "      <th>extra_msg_count</th>\n",
       "      <th>profit</th>\n",
       "    </tr>\n",
       "  </thead>\n",
       "  <tbody>\n",
       "    <tr>\n",
       "      <td>1</td>\n",
       "      <td>1001</td>\n",
       "      <td>surf</td>\n",
       "      <td>False</td>\n",
       "      <td>261.0</td>\n",
       "      <td>1640.46</td>\n",
       "      <td>80437.94</td>\n",
       "      <td>207.0</td>\n",
       "      <td>50</td>\n",
       "      <td>15360</td>\n",
       "      <td>500</td>\n",
       "      <td>20</td>\n",
       "      <td>10</td>\n",
       "      <td>0.03</td>\n",
       "      <td>0.03</td>\n",
       "      <td>surf</td>\n",
       "      <td>1140.46</td>\n",
       "      <td>65077.94</td>\n",
       "      <td>157.0</td>\n",
       "      <td>709.7032</td>\n",
       "    </tr>\n",
       "    <tr>\n",
       "      <td>2</td>\n",
       "      <td>1002</td>\n",
       "      <td>surf</td>\n",
       "      <td>False</td>\n",
       "      <td>113.0</td>\n",
       "      <td>777.13</td>\n",
       "      <td>40293.33</td>\n",
       "      <td>88.0</td>\n",
       "      <td>50</td>\n",
       "      <td>15360</td>\n",
       "      <td>500</td>\n",
       "      <td>20</td>\n",
       "      <td>10</td>\n",
       "      <td>0.03</td>\n",
       "      <td>0.03</td>\n",
       "      <td>surf</td>\n",
       "      <td>277.13</td>\n",
       "      <td>24933.33</td>\n",
       "      <td>38.0</td>\n",
       "      <td>278.7872</td>\n",
       "    </tr>\n",
       "    <tr>\n",
       "      <td>3</td>\n",
       "      <td>1003</td>\n",
       "      <td>surf</td>\n",
       "      <td>False</td>\n",
       "      <td>149.0</td>\n",
       "      <td>1041.00</td>\n",
       "      <td>27044.14</td>\n",
       "      <td>50.0</td>\n",
       "      <td>50</td>\n",
       "      <td>15360</td>\n",
       "      <td>500</td>\n",
       "      <td>20</td>\n",
       "      <td>10</td>\n",
       "      <td>0.03</td>\n",
       "      <td>0.03</td>\n",
       "      <td>surf</td>\n",
       "      <td>541.00</td>\n",
       "      <td>11684.14</td>\n",
       "      <td>0.0</td>\n",
       "      <td>153.0714</td>\n",
       "    </tr>\n",
       "    <tr>\n",
       "      <td>4</td>\n",
       "      <td>1004</td>\n",
       "      <td>surf</td>\n",
       "      <td>False</td>\n",
       "      <td>370.0</td>\n",
       "      <td>2618.95</td>\n",
       "      <td>156352.81</td>\n",
       "      <td>177.0</td>\n",
       "      <td>50</td>\n",
       "      <td>15360</td>\n",
       "      <td>500</td>\n",
       "      <td>20</td>\n",
       "      <td>10</td>\n",
       "      <td>0.03</td>\n",
       "      <td>0.03</td>\n",
       "      <td>surf</td>\n",
       "      <td>2118.95</td>\n",
       "      <td>140992.81</td>\n",
       "      <td>127.0</td>\n",
       "      <td>1497.3066</td>\n",
       "    </tr>\n",
       "    <tr>\n",
       "      <td>7</td>\n",
       "      <td>1007</td>\n",
       "      <td>surf</td>\n",
       "      <td>False</td>\n",
       "      <td>380.0</td>\n",
       "      <td>2484.15</td>\n",
       "      <td>143852.74</td>\n",
       "      <td>255.0</td>\n",
       "      <td>50</td>\n",
       "      <td>15360</td>\n",
       "      <td>500</td>\n",
       "      <td>20</td>\n",
       "      <td>10</td>\n",
       "      <td>0.03</td>\n",
       "      <td>0.03</td>\n",
       "      <td>surf</td>\n",
       "      <td>1984.15</td>\n",
       "      <td>128492.74</td>\n",
       "      <td>205.0</td>\n",
       "      <td>1370.6019</td>\n",
       "    </tr>\n",
       "    <tr>\n",
       "      <td>...</td>\n",
       "      <td>...</td>\n",
       "      <td>...</td>\n",
       "      <td>...</td>\n",
       "      <td>...</td>\n",
       "      <td>...</td>\n",
       "      <td>...</td>\n",
       "      <td>...</td>\n",
       "      <td>...</td>\n",
       "      <td>...</td>\n",
       "      <td>...</td>\n",
       "      <td>...</td>\n",
       "      <td>...</td>\n",
       "      <td>...</td>\n",
       "      <td>...</td>\n",
       "      <td>...</td>\n",
       "      <td>...</td>\n",
       "      <td>...</td>\n",
       "      <td>...</td>\n",
       "      <td>...</td>\n",
       "    </tr>\n",
       "    <tr>\n",
       "      <td>494</td>\n",
       "      <td>1494</td>\n",
       "      <td>surf</td>\n",
       "      <td>True</td>\n",
       "      <td>420.0</td>\n",
       "      <td>2672.66</td>\n",
       "      <td>91389.19</td>\n",
       "      <td>174.0</td>\n",
       "      <td>50</td>\n",
       "      <td>15360</td>\n",
       "      <td>500</td>\n",
       "      <td>20</td>\n",
       "      <td>10</td>\n",
       "      <td>0.03</td>\n",
       "      <td>0.03</td>\n",
       "      <td>surf</td>\n",
       "      <td>2172.66</td>\n",
       "      <td>76029.19</td>\n",
       "      <td>124.0</td>\n",
       "      <td>849.1917</td>\n",
       "    </tr>\n",
       "    <tr>\n",
       "      <td>495</td>\n",
       "      <td>1495</td>\n",
       "      <td>surf</td>\n",
       "      <td>True</td>\n",
       "      <td>253.0</td>\n",
       "      <td>1666.41</td>\n",
       "      <td>98890.96</td>\n",
       "      <td>0.0</td>\n",
       "      <td>50</td>\n",
       "      <td>15360</td>\n",
       "      <td>500</td>\n",
       "      <td>20</td>\n",
       "      <td>10</td>\n",
       "      <td>0.03</td>\n",
       "      <td>0.03</td>\n",
       "      <td>surf</td>\n",
       "      <td>1166.41</td>\n",
       "      <td>83530.96</td>\n",
       "      <td>0.0</td>\n",
       "      <td>890.3019</td>\n",
       "    </tr>\n",
       "    <tr>\n",
       "      <td>496</td>\n",
       "      <td>1496</td>\n",
       "      <td>surf</td>\n",
       "      <td>False</td>\n",
       "      <td>195.0</td>\n",
       "      <td>1376.21</td>\n",
       "      <td>64268.64</td>\n",
       "      <td>65.0</td>\n",
       "      <td>50</td>\n",
       "      <td>15360</td>\n",
       "      <td>500</td>\n",
       "      <td>20</td>\n",
       "      <td>10</td>\n",
       "      <td>0.03</td>\n",
       "      <td>0.03</td>\n",
       "      <td>surf</td>\n",
       "      <td>876.21</td>\n",
       "      <td>48908.64</td>\n",
       "      <td>15.0</td>\n",
       "      <td>535.8227</td>\n",
       "    </tr>\n",
       "    <tr>\n",
       "      <td>498</td>\n",
       "      <td>1498</td>\n",
       "      <td>surf</td>\n",
       "      <td>True</td>\n",
       "      <td>451.0</td>\n",
       "      <td>3029.97</td>\n",
       "      <td>227525.13</td>\n",
       "      <td>0.0</td>\n",
       "      <td>50</td>\n",
       "      <td>15360</td>\n",
       "      <td>500</td>\n",
       "      <td>20</td>\n",
       "      <td>10</td>\n",
       "      <td>0.03</td>\n",
       "      <td>0.03</td>\n",
       "      <td>surf</td>\n",
       "      <td>2529.97</td>\n",
       "      <td>212165.13</td>\n",
       "      <td>0.0</td>\n",
       "      <td>2217.5504</td>\n",
       "    </tr>\n",
       "    <tr>\n",
       "      <td>499</td>\n",
       "      <td>1499</td>\n",
       "      <td>surf</td>\n",
       "      <td>False</td>\n",
       "      <td>204.0</td>\n",
       "      <td>1450.31</td>\n",
       "      <td>71350.23</td>\n",
       "      <td>0.0</td>\n",
       "      <td>50</td>\n",
       "      <td>15360</td>\n",
       "      <td>500</td>\n",
       "      <td>20</td>\n",
       "      <td>10</td>\n",
       "      <td>0.03</td>\n",
       "      <td>0.03</td>\n",
       "      <td>surf</td>\n",
       "      <td>950.31</td>\n",
       "      <td>55990.23</td>\n",
       "      <td>0.0</td>\n",
       "      <td>608.4116</td>\n",
       "    </tr>\n",
       "  </tbody>\n",
       "</table>\n",
       "<p>275 rows × 19 columns</p>\n",
       "</div>"
      ],
      "text/plain": [
       "     user_id  plan   NYNJ  call_count  minutes    data_mb  msg_count  \\\n",
       "1       1001  surf  False       261.0  1640.46   80437.94      207.0   \n",
       "2       1002  surf  False       113.0   777.13   40293.33       88.0   \n",
       "3       1003  surf  False       149.0  1041.00   27044.14       50.0   \n",
       "4       1004  surf  False       370.0  2618.95  156352.81      177.0   \n",
       "7       1007  surf  False       380.0  2484.15  143852.74      255.0   \n",
       "..       ...   ...    ...         ...      ...        ...        ...   \n",
       "494     1494  surf   True       420.0  2672.66   91389.19      174.0   \n",
       "495     1495  surf   True       253.0  1666.41   98890.96        0.0   \n",
       "496     1496  surf  False       195.0  1376.21   64268.64       65.0   \n",
       "498     1498  surf   True       451.0  3029.97  227525.13        0.0   \n",
       "499     1499  surf  False       204.0  1450.31   71350.23        0.0   \n",
       "\n",
       "     messages_included  mb_per_month_included  minutes_included  \\\n",
       "1                   50                  15360               500   \n",
       "2                   50                  15360               500   \n",
       "3                   50                  15360               500   \n",
       "4                   50                  15360               500   \n",
       "7                   50                  15360               500   \n",
       "..                 ...                    ...               ...   \n",
       "494                 50                  15360               500   \n",
       "495                 50                  15360               500   \n",
       "496                 50                  15360               500   \n",
       "498                 50                  15360               500   \n",
       "499                 50                  15360               500   \n",
       "\n",
       "     usd_monthly_pay  usd_per_gb  usd_per_message  usd_per_minute plan_name  \\\n",
       "1                 20          10             0.03            0.03      surf   \n",
       "2                 20          10             0.03            0.03      surf   \n",
       "3                 20          10             0.03            0.03      surf   \n",
       "4                 20          10             0.03            0.03      surf   \n",
       "7                 20          10             0.03            0.03      surf   \n",
       "..               ...         ...              ...             ...       ...   \n",
       "494               20          10             0.03            0.03      surf   \n",
       "495               20          10             0.03            0.03      surf   \n",
       "496               20          10             0.03            0.03      surf   \n",
       "498               20          10             0.03            0.03      surf   \n",
       "499               20          10             0.03            0.03      surf   \n",
       "\n",
       "     extra_minutes  extra_data_mb  extra_msg_count     profit  \n",
       "1          1140.46       65077.94            157.0   709.7032  \n",
       "2           277.13       24933.33             38.0   278.7872  \n",
       "3           541.00       11684.14              0.0   153.0714  \n",
       "4          2118.95      140992.81            127.0  1497.3066  \n",
       "7          1984.15      128492.74            205.0  1370.6019  \n",
       "..             ...            ...              ...        ...  \n",
       "494        2172.66       76029.19            124.0   849.1917  \n",
       "495        1166.41       83530.96              0.0   890.3019  \n",
       "496         876.21       48908.64             15.0   535.8227  \n",
       "498        2529.97      212165.13              0.0  2217.5504  \n",
       "499         950.31       55990.23              0.0   608.4116  \n",
       "\n",
       "[275 rows x 19 columns]"
      ]
     },
     "execution_count": 25,
     "metadata": {},
     "output_type": "execute_result"
    }
   ],
   "source": [
    "extra_surf_users = data_combined[(data_combined['usd_monthly_pay']==20) & (data_combined['profit'] > 70 )]\n",
    "extra_surf_users"
   ]
  },
  {
   "cell_type": "markdown",
   "metadata": {
    "colab_type": "text",
    "id": "YSqbsdMXszl9"
   },
   "source": [
    "**Conclusion**\n",
    "There are 275 surf plan users who are using the data above their above 20USD and also the ultimate plan 70USD limit. These users can be offered a the 70USD fixed month plan or a higher plan."
   ]
  },
  {
   "cell_type": "markdown",
   "metadata": {
    "colab_type": "text",
    "id": "UbhMwOVjzfrC"
   },
   "source": [
    "**Step 3. Analyze the data**\n",
    "Describe the customers' behavior. Find the minutes, texts, and data_mb of data the users of each plan require per month. Calculate the mean, dispersion, and standard deviation. Plot histograms. Describe the distributions."
   ]
  },
  {
   "cell_type": "code",
   "execution_count": 26,
   "metadata": {
    "colab": {
     "base_uri": "https://localhost:8080/",
     "height": 137
    },
    "colab_type": "code",
    "id": "cJG2wG3XzWwu",
    "outputId": "7ce8c326-2a77-4e0b-c70c-9687e82bbc67"
   },
   "outputs": [
    {
     "data": {
      "text/html": [
       "<div>\n",
       "<style scoped>\n",
       "    .dataframe tbody tr th:only-of-type {\n",
       "        vertical-align: middle;\n",
       "    }\n",
       "\n",
       "    .dataframe tbody tr th {\n",
       "        vertical-align: top;\n",
       "    }\n",
       "\n",
       "    .dataframe thead th {\n",
       "        text-align: right;\n",
       "    }\n",
       "</style>\n",
       "<table border=\"1\" class=\"dataframe\">\n",
       "  <thead>\n",
       "    <tr style=\"text-align: right;\">\n",
       "      <th></th>\n",
       "      <th>total_data_mb</th>\n",
       "      <th>total_minutes</th>\n",
       "      <th>total_msg_count</th>\n",
       "      <th>total_profit</th>\n",
       "      <th>mean_data_mb</th>\n",
       "      <th>mean_minutes</th>\n",
       "      <th>mean_msg_count</th>\n",
       "      <th>mean_profit</th>\n",
       "      <th>total_users</th>\n",
       "    </tr>\n",
       "    <tr>\n",
       "      <th>plan</th>\n",
       "      <th></th>\n",
       "      <th></th>\n",
       "      <th></th>\n",
       "      <th></th>\n",
       "      <th></th>\n",
       "      <th></th>\n",
       "      <th></th>\n",
       "      <th></th>\n",
       "      <th></th>\n",
       "    </tr>\n",
       "  </thead>\n",
       "  <tbody>\n",
       "    <tr>\n",
       "      <td>surf</td>\n",
       "      <td>26046179.93</td>\n",
       "      <td>636691.24</td>\n",
       "      <td>49014.0</td>\n",
       "      <td>234259.40780</td>\n",
       "      <td>76832.389174</td>\n",
       "      <td>1878.145251</td>\n",
       "      <td>144.584071</td>\n",
       "      <td>691.030701</td>\n",
       "      <td>339</td>\n",
       "    </tr>\n",
       "    <tr>\n",
       "      <td>ultimate</td>\n",
       "      <td>12394583.78</td>\n",
       "      <td>292459.02</td>\n",
       "      <td>27037.0</td>\n",
       "      <td>68925.62597</td>\n",
       "      <td>76984.992422</td>\n",
       "      <td>1816.515652</td>\n",
       "      <td>167.931677</td>\n",
       "      <td>428.109478</td>\n",
       "      <td>161</td>\n",
       "    </tr>\n",
       "  </tbody>\n",
       "</table>\n",
       "</div>"
      ],
      "text/plain": [
       "          total_data_mb  total_minutes  total_msg_count  total_profit  \\\n",
       "plan                                                                    \n",
       "surf        26046179.93      636691.24          49014.0  234259.40780   \n",
       "ultimate    12394583.78      292459.02          27037.0   68925.62597   \n",
       "\n",
       "          mean_data_mb  mean_minutes  mean_msg_count  mean_profit  total_users  \n",
       "plan                                                                            \n",
       "surf      76832.389174   1878.145251      144.584071   691.030701          339  \n",
       "ultimate  76984.992422   1816.515652      167.931677   428.109478          161  "
      ]
     },
     "execution_count": 26,
     "metadata": {},
     "output_type": "execute_result"
    }
   ],
   "source": [
    "data_combined_stats = data_combined.pivot_table(index='plan',values=['minutes','data_mb','msg_count','profit'],aggfunc=['sum','mean','size'])\n",
    "data_combined_stats.columns=['total_data_mb', 'total_minutes', 'total_msg_count', 'total_profit', 'mean_data_mb', 'mean_minutes', 'mean_msg_count', 'mean_profit','total_users']\n",
    "data_combined_stats"
   ]
  },
  {
   "cell_type": "markdown",
   "metadata": {
    "colab_type": "text",
    "id": "W0wqUo8c7i7x"
   },
   "source": [
    "**CONCLUSION**\n",
    "bold textPivot table depicts total and mean data, minutes, messages, profit for Surf and Combined users. Mean profit for surf users seems to be much higher than ultimate plan users. However, Surf plan also has 339 users vs 161 users of ultimate plan."
   ]
  },
  {
   "cell_type": "code",
   "execution_count": 27,
   "metadata": {
    "colab": {
     "base_uri": "https://localhost:8080/",
     "height": 514
    },
    "colab_type": "code",
    "id": "WOyyNwd5aFc2",
    "outputId": "150ab792-2ced-4ae2-87ee-2a2891765063"
   },
   "outputs": [
    {
     "data": {
      "text/plain": [
       "(     user_id  plan   NYNJ  call_count  minutes    data_mb  msg_count  \\\n",
       " 1       1001  surf  False       261.0  1640.46   80437.94      207.0   \n",
       " 2       1002  surf  False       113.0   777.13   40293.33       88.0   \n",
       " 3       1003  surf  False       149.0  1041.00   27044.14       50.0   \n",
       " 4       1004  surf  False       370.0  2618.95  156352.81      177.0   \n",
       " 5       1005  surf  False        59.0   470.22   17140.17       11.0   \n",
       " ..       ...   ...    ...         ...      ...        ...        ...   \n",
       " 494     1494  surf   True       420.0  2672.66   91389.19      174.0   \n",
       " 495     1495  surf   True       253.0  1666.41   98890.96        0.0   \n",
       " 496     1496  surf  False       195.0  1376.21   64268.64       65.0   \n",
       " 498     1498  surf   True       451.0  3029.97  227525.13        0.0   \n",
       " 499     1499  surf  False       204.0  1450.31   71350.23        0.0   \n",
       " \n",
       "      messages_included  mb_per_month_included  minutes_included  \\\n",
       " 1                   50                  15360               500   \n",
       " 2                   50                  15360               500   \n",
       " 3                   50                  15360               500   \n",
       " 4                   50                  15360               500   \n",
       " 5                   50                  15360               500   \n",
       " ..                 ...                    ...               ...   \n",
       " 494                 50                  15360               500   \n",
       " 495                 50                  15360               500   \n",
       " 496                 50                  15360               500   \n",
       " 498                 50                  15360               500   \n",
       " 499                 50                  15360               500   \n",
       " \n",
       "      usd_monthly_pay  usd_per_gb  usd_per_message  usd_per_minute plan_name  \\\n",
       " 1                 20          10             0.03            0.03      surf   \n",
       " 2                 20          10             0.03            0.03      surf   \n",
       " 3                 20          10             0.03            0.03      surf   \n",
       " 4                 20          10             0.03            0.03      surf   \n",
       " 5                 20          10             0.03            0.03      surf   \n",
       " ..               ...         ...              ...             ...       ...   \n",
       " 494               20          10             0.03            0.03      surf   \n",
       " 495               20          10             0.03            0.03      surf   \n",
       " 496               20          10             0.03            0.03      surf   \n",
       " 498               20          10             0.03            0.03      surf   \n",
       " 499               20          10             0.03            0.03      surf   \n",
       " \n",
       "      extra_minutes  extra_data_mb  extra_msg_count     profit  \n",
       " 1          1140.46       65077.94            157.0   709.7032  \n",
       " 2           277.13       24933.33             38.0   278.7872  \n",
       " 3           541.00       11684.14              0.0   153.0714  \n",
       " 4          2118.95      140992.81            127.0  1497.3066  \n",
       " 5             0.00        1780.17              0.0    37.8017  \n",
       " ..             ...            ...              ...        ...  \n",
       " 494        2172.66       76029.19            124.0   849.1917  \n",
       " 495        1166.41       83530.96              0.0   890.3019  \n",
       " 496         876.21       48908.64             15.0   535.8227  \n",
       " 498        2529.97      212165.13              0.0  2217.5504  \n",
       " 499         950.31       55990.23              0.0   608.4116  \n",
       " \n",
       " [339 rows x 19 columns],\n",
       "      user_id      plan   NYNJ  call_count  minutes    data_mb  msg_count  \\\n",
       " 0       1000  ultimate  False        16.0   116.83    1901.47       11.0   \n",
       " 6       1006  ultimate  False        11.0    64.11   34187.19      154.0   \n",
       " 8       1008  ultimate  False       219.0  1473.31   55473.04       84.0   \n",
       " 11      1011  ultimate  False       413.0  2744.87  131778.60      371.0   \n",
       " 13      1013  ultimate  False        35.0   203.37   20113.92       16.0   \n",
       " ..       ...       ...    ...         ...      ...        ...        ...   \n",
       " 482     1482  ultimate   True       120.0   786.62   20806.13       94.0   \n",
       " 487     1487  ultimate  False        56.0   392.71   13992.39       66.0   \n",
       " 490     1490  ultimate  False       312.0  2123.33  190904.51        0.0   \n",
       " 493     1493  ultimate  False       320.0  2197.37   76378.43        0.0   \n",
       " 497     1497  ultimate  False        54.0   276.53   11106.55       50.0   \n",
       " \n",
       "      messages_included  mb_per_month_included  minutes_included  \\\n",
       " 0                 1000                  30720              3000   \n",
       " 6                 1000                  30720              3000   \n",
       " 8                 1000                  30720              3000   \n",
       " 11                1000                  30720              3000   \n",
       " 13                1000                  30720              3000   \n",
       " ..                 ...                    ...               ...   \n",
       " 482               1000                  30720              3000   \n",
       " 487               1000                  30720              3000   \n",
       " 490               1000                  30720              3000   \n",
       " 493               1000                  30720              3000   \n",
       " 497               1000                  30720              3000   \n",
       " \n",
       "      usd_monthly_pay  usd_per_gb  usd_per_message  usd_per_minute plan_name  \\\n",
       " 0                 70           7             0.01            0.01  ultimate   \n",
       " 6                 70           7             0.01            0.01  ultimate   \n",
       " 8                 70           7             0.01            0.01  ultimate   \n",
       " 11                70           7             0.01            0.01  ultimate   \n",
       " 13                70           7             0.01            0.01  ultimate   \n",
       " ..               ...         ...              ...             ...       ...   \n",
       " 482               70           7             0.01            0.01  ultimate   \n",
       " 487               70           7             0.01            0.01  ultimate   \n",
       " 490               70           7             0.01            0.01  ultimate   \n",
       " 493               70           7             0.01            0.01  ultimate   \n",
       " 497               70           7             0.01            0.01  ultimate   \n",
       " \n",
       "      extra_minutes  extra_data_mb  extra_msg_count      profit  \n",
       " 0              0.0           0.00              0.0    70.00000  \n",
       " 6              0.0        3467.19              0.0    94.27033  \n",
       " 8              0.0       24753.04              0.0   243.27128  \n",
       " 11             0.0      101058.60              0.0   777.41020  \n",
       " 13             0.0           0.00              0.0    70.00000  \n",
       " ..             ...            ...              ...         ...  \n",
       " 482            0.0           0.00              0.0    70.00000  \n",
       " 487            0.0           0.00              0.0    70.00000  \n",
       " 490            0.0      160184.51              0.0  1191.29157  \n",
       " 493            0.0       45658.43              0.0   389.60901  \n",
       " 497            0.0           0.00              0.0    70.00000  \n",
       " \n",
       " [161 rows x 19 columns])"
      ]
     },
     "execution_count": 27,
     "metadata": {},
     "output_type": "execute_result"
    }
   ],
   "source": [
    "data_surf_all = data_combined[data_combined['plan']=='surf']\n",
    "data_ultimate_all = data_combined[data_combined['plan']=='ultimate']\n",
    "data_surf_all, data_ultimate_all"
   ]
  },
  {
   "cell_type": "markdown",
   "metadata": {
    "colab_type": "text",
    "id": "DCu5fqGv74d1"
   },
   "source": [
    "Separated surf and ultimate users into different data sets (df_surf_all, df_ultimate_all)"
   ]
  },
  {
   "cell_type": "markdown",
   "metadata": {
    "colab_type": "text",
    "id": "NESEPOqR5H_Z"
   },
   "source": [
    "**Statistical Data Analysis**\n",
    "Calculate the mean, dispersion, and standard deviation. Plot histograms. Describe the distributions."
   ]
  },
  {
   "cell_type": "code",
   "execution_count": 28,
   "metadata": {
    "colab": {
     "base_uri": "https://localhost:8080/",
     "height": 496
    },
    "colab_type": "code",
    "id": "Y_YX4e1vApjq",
    "outputId": "6dd977d5-9e24-4dd4-fa7e-452a19b8c289"
   },
   "outputs": [
    {
     "data": {
      "text/plain": [
       "(     minutes    data_mb  msg_count     profit\n",
       " 1    1640.46   80437.94      207.0   709.7032\n",
       " 2     777.13   40293.33       88.0   278.7872\n",
       " 3    1041.00   27044.14       50.0   153.0714\n",
       " 4    2618.95  156352.81      177.0  1497.3066\n",
       " 5     470.22   17140.17       11.0    37.8017\n",
       " ..       ...        ...        ...        ...\n",
       " 494  2672.66   91389.19      174.0   849.1917\n",
       " 495  1666.41   98890.96        0.0   890.3019\n",
       " 496  1376.21   64268.64       65.0   535.8227\n",
       " 498  3029.97  227525.13        0.0  2217.5504\n",
       " 499  1450.31   71350.23        0.0   608.4116\n",
       " \n",
       " [339 rows x 4 columns],\n",
       "      minutes    data_mb  msg_count      profit\n",
       " 0     116.83    1901.47       11.0    70.00000\n",
       " 6      64.11   34187.19      154.0    94.27033\n",
       " 8    1473.31   55473.04       84.0   243.27128\n",
       " 11   2744.87  131778.60      371.0   777.41020\n",
       " 13    203.37   20113.92       16.0    70.00000\n",
       " ..       ...        ...        ...         ...\n",
       " 482   786.62   20806.13       94.0    70.00000\n",
       " 487   392.71   13992.39       66.0    70.00000\n",
       " 490  2123.33  190904.51        0.0  1191.29157\n",
       " 493  2197.37   76378.43        0.0   389.60901\n",
       " 497   276.53   11106.55       50.0    70.00000\n",
       " \n",
       " [161 rows x 4 columns])"
      ]
     },
     "execution_count": 28,
     "metadata": {},
     "output_type": "execute_result"
    }
   ],
   "source": [
    "data_surf = data_surf_all[['minutes','data_mb','msg_count','profit']]\n",
    "\n",
    "data_ultimate = data_ultimate_all[['minutes','data_mb','msg_count','profit']]\n",
    "data_surf, data_ultimate"
   ]
  },
  {
   "cell_type": "code",
   "execution_count": 29,
   "metadata": {
    "colab": {
     "base_uri": "https://localhost:8080/",
     "height": 105
    },
    "colab_type": "code",
    "id": "cvdQh0UvNll6",
    "outputId": "f4badad6-806d-4d46-c17c-34f42437878e"
   },
   "outputs": [
    {
     "data": {
      "text/plain": [
       "minutes      1.266250\n",
       "data_mb      0.967353\n",
       "msg_count    2.377384\n",
       "profit       1.006265\n",
       "dtype: float64"
      ]
     },
     "execution_count": 29,
     "metadata": {},
     "output_type": "execute_result"
    }
   ],
   "source": [
    "data_surf.skew()"
   ]
  },
  {
   "cell_type": "code",
   "execution_count": 30,
   "metadata": {
    "colab": {
     "base_uri": "https://localhost:8080/",
     "height": 105
    },
    "colab_type": "code",
    "id": "Jbm48dfKWwdE",
    "outputId": "3e75653e-b22a-415b-ef7e-a64ab9a4ce14"
   },
   "outputs": [
    {
     "data": {
      "text/plain": [
       "minutes      1.299556\n",
       "data_mb      1.537525\n",
       "msg_count    1.989396\n",
       "profit       1.811428\n",
       "dtype: float64"
      ]
     },
     "execution_count": 30,
     "metadata": {},
     "output_type": "execute_result"
    }
   ],
   "source": [
    "data_ultimate.skew()"
   ]
  },
  {
   "cell_type": "markdown",
   "metadata": {
    "colab_type": "text",
    "id": "YIM6Qz-mAP9T"
   },
   "source": [
    "Skew value is high for minutes and message count in surf users, it is high in minutes, data usage and message count for ultimate users."
   ]
  },
  {
   "cell_type": "code",
   "execution_count": 31,
   "metadata": {
    "colab": {
     "base_uri": "https://localhost:8080/",
     "height": 478
    },
    "colab_type": "code",
    "id": "bA2yGj6qNsfY",
    "outputId": "ad044e21-f339-4b12-f6c6-8e8dd254ab4b"
   },
   "outputs": [
    {
     "name": "stdout",
     "output_type": "stream",
     "text": [
      "minutes       2112.50500\n",
      "data_mb      88654.57500\n",
      "msg_count      197.50000\n",
      "profit         939.71545\n",
      "dtype: float64 minutes       -2548.682500\n",
      "data_mb     -104752.937500\n",
      "msg_count      -285.250000\n",
      "profit        -1254.655875\n",
      "dtype: float64 minutes        5901.337500\n",
      "data_mb      249865.362500\n",
      "msg_count       504.750000\n",
      "profit         2504.205925\n",
      "dtype: float64\n",
      "minutes       2017.80000\n",
      "data_mb      81563.72000\n",
      "msg_count      227.00000\n",
      "profit         532.75334\n",
      "dtype: float64 minutes      -2396.12000\n",
      "data_mb     -97302.92000\n",
      "msg_count     -323.50000\n",
      "profit        -729.13001\n",
      "dtype: float64 minutes        5675.08000\n",
      "data_mb      228951.96000\n",
      "msg_count       584.50000\n",
      "profit         1401.88335\n",
      "dtype: float64\n"
     ]
    }
   ],
   "source": [
    "#Get IQR for each variable in the dataset\n",
    "Q1 = data_surf.quantile(0.25)\n",
    "Q3 = data_surf.quantile(0.75)\n",
    "IQR = Q3 - Q1\n",
    "fence_low = Q1 - IQR * 1.5\n",
    "fence_high = Q3 + IQR * 1.5\n",
    "print(IQR,fence_low, fence_high)\n",
    "\n",
    "Q1U = data_ultimate.quantile(0.25)\n",
    "Q3U = data_ultimate.quantile(0.75)\n",
    "IQRU = Q3U - Q1U\n",
    "fence_lowU = Q1U - IQRU * 1.5\n",
    "fence_highU = Q3U + IQRU * 1.5\n",
    "print(IQRU,fence_lowU, fence_highU)"
   ]
  },
  {
   "cell_type": "code",
   "execution_count": 32,
   "metadata": {
    "colab": {
     "base_uri": "https://localhost:8080/",
     "height": 230
    },
    "colab_type": "code",
    "id": "9T7nDgfYQxb0",
    "outputId": "9d8751a3-94bb-4e17-ba69-b037392e6f3a"
   },
   "outputs": [
    {
     "name": "stdout",
     "output_type": "stream",
     "text": [
      "Outliers data_mb  : 3\n",
      "3\n",
      "Outliers msg_count  : 17\n",
      "17\n",
      "Outliers minutes  : 8\n",
      "8\n",
      "Outliers data_mb  : 5\n",
      "5\n",
      "Outliers msg_count  : 6\n",
      "6\n",
      "Outliers minutes  : 6\n",
      "6\n"
     ]
    }
   ],
   "source": [
    "def check_outlier(df_in, col_name,f_low,f_high):\n",
    "\n",
    " #   df_out = df_in.loc[(df_in[col_name] >= f_low) & (df_in[col_name] <= f_high)]\n",
    "    df_outliers = df_in[(df_in[col_name] < f_low) | (df_in[col_name] > f_high)]\n",
    "    \n",
    "    print('Outliers '+ col_name, ' :', len(df_outliers))\n",
    "    print(len(df_outliers))\n",
    "    df_out = df_in  # I decided not to remove outliers since we have only 500 records\n",
    "    return df_out\n",
    "\n",
    "data_surf = check_outlier(data_surf,'data_mb',fence_low['data_mb'],fence_high['data_mb'])\n",
    "data_surf = check_outlier(data_surf,'msg_count',fence_low['msg_count'],fence_high['msg_count'])\n",
    "data_surf = check_outlier(data_surf,'minutes',fence_low['minutes'],fence_high['minutes'])\n",
    "\n",
    "data_ultimate = check_outlier(data_ultimate,'data_mb',fence_lowU['data_mb'],fence_highU['data_mb'])\n",
    "data_ultimate = check_outlier(data_ultimate,'msg_count',fence_lowU['msg_count'],fence_highU['msg_count'])\n",
    "data_ultimate = check_outlier(data_ultimate,'minutes',fence_lowU['minutes'],fence_highU['minutes'])"
   ]
  },
  {
   "cell_type": "markdown",
   "metadata": {
    "colab_type": "text",
    "id": "JI08IAvQlMIV"
   },
   "source": [
    "I decided not to remove outliers since we have only 500 records. There are 45 outlier records. I decided to keep them because in a mobile calling plan, we will always have few extensive users of the plans."
   ]
  },
  {
   "cell_type": "code",
   "execution_count": 33,
   "metadata": {
    "colab": {
     "base_uri": "https://localhost:8080/",
     "height": 407
    },
    "colab_type": "code",
    "id": "Uqwl-Ngcbaa8",
    "outputId": "e764a31e-8da8-480c-8069-9c1c37b38e39"
   },
   "outputs": [
    {
     "data": {
      "text/html": [
       "<div>\n",
       "<style scoped>\n",
       "    .dataframe tbody tr th:only-of-type {\n",
       "        vertical-align: middle;\n",
       "    }\n",
       "\n",
       "    .dataframe tbody tr th {\n",
       "        vertical-align: top;\n",
       "    }\n",
       "\n",
       "    .dataframe thead th {\n",
       "        text-align: right;\n",
       "    }\n",
       "</style>\n",
       "<table border=\"1\" class=\"dataframe\">\n",
       "  <thead>\n",
       "    <tr style=\"text-align: right;\">\n",
       "      <th></th>\n",
       "      <th>minutes</th>\n",
       "      <th>data_mb</th>\n",
       "      <th>msg_count</th>\n",
       "      <th>profit</th>\n",
       "    </tr>\n",
       "  </thead>\n",
       "  <tbody>\n",
       "    <tr>\n",
       "      <td>Median_surf</td>\n",
       "      <td>1.413010e+03</td>\n",
       "      <td>6.216801e+04</td>\n",
       "      <td>81.000000</td>\n",
       "      <td>516.543700</td>\n",
       "    </tr>\n",
       "    <tr>\n",
       "      <td>Mean_surf</td>\n",
       "      <td>1.878145e+03</td>\n",
       "      <td>7.683239e+04</td>\n",
       "      <td>144.584071</td>\n",
       "      <td>691.030701</td>\n",
       "    </tr>\n",
       "    <tr>\n",
       "      <td>STD_surf</td>\n",
       "      <td>1.628815e+03</td>\n",
       "      <td>6.016594e+04</td>\n",
       "      <td>182.593936</td>\n",
       "      <td>627.812568</td>\n",
       "    </tr>\n",
       "    <tr>\n",
       "      <td>Var_surf</td>\n",
       "      <td>2.653038e+06</td>\n",
       "      <td>3.619940e+09</td>\n",
       "      <td>33340.545426</td>\n",
       "      <td>394148.620451</td>\n",
       "    </tr>\n",
       "    <tr>\n",
       "      <td>range95Lo</td>\n",
       "      <td>-5.304199e+06</td>\n",
       "      <td>-7.239803e+09</td>\n",
       "      <td>-66536.506781</td>\n",
       "      <td>-787606.210201</td>\n",
       "    </tr>\n",
       "    <tr>\n",
       "      <td>range95Hi</td>\n",
       "      <td>5.307955e+06</td>\n",
       "      <td>7.239956e+09</td>\n",
       "      <td>66825.674923</td>\n",
       "      <td>788988.271604</td>\n",
       "    </tr>\n",
       "    <tr>\n",
       "      <td>Median_ultimate</td>\n",
       "      <td>1.279240e+03</td>\n",
       "      <td>5.858160e+04</td>\n",
       "      <td>96.000000</td>\n",
       "      <td>265.031200</td>\n",
       "    </tr>\n",
       "    <tr>\n",
       "      <td>Mean_ultimate</td>\n",
       "      <td>1.816516e+03</td>\n",
       "      <td>7.698499e+04</td>\n",
       "      <td>167.931677</td>\n",
       "      <td>428.109478</td>\n",
       "    </tr>\n",
       "    <tr>\n",
       "      <td>STD_ultimate</td>\n",
       "      <td>1.610143e+03</td>\n",
       "      <td>6.685827e+04</td>\n",
       "      <td>198.523145</td>\n",
       "      <td>443.396755</td>\n",
       "    </tr>\n",
       "    <tr>\n",
       "      <td>Var_ultimate</td>\n",
       "      <td>2.592559e+06</td>\n",
       "      <td>4.470028e+09</td>\n",
       "      <td>39411.439053</td>\n",
       "      <td>196600.682672</td>\n",
       "    </tr>\n",
       "    <tr>\n",
       "      <td>range95Lo</td>\n",
       "      <td>-1.403769e+03</td>\n",
       "      <td>-5.673154e+04</td>\n",
       "      <td>-229.114613</td>\n",
       "      <td>-458.684033</td>\n",
       "    </tr>\n",
       "    <tr>\n",
       "      <td>range95Hi</td>\n",
       "      <td>5.036801e+03</td>\n",
       "      <td>2.107015e+05</td>\n",
       "      <td>564.977967</td>\n",
       "      <td>1314.902989</td>\n",
       "    </tr>\n",
       "  </tbody>\n",
       "</table>\n",
       "</div>"
      ],
      "text/plain": [
       "                      minutes       data_mb     msg_count         profit\n",
       "Median_surf      1.413010e+03  6.216801e+04     81.000000     516.543700\n",
       "Mean_surf        1.878145e+03  7.683239e+04    144.584071     691.030701\n",
       "STD_surf         1.628815e+03  6.016594e+04    182.593936     627.812568\n",
       "Var_surf         2.653038e+06  3.619940e+09  33340.545426  394148.620451\n",
       "range95Lo       -5.304199e+06 -7.239803e+09 -66536.506781 -787606.210201\n",
       "range95Hi        5.307955e+06  7.239956e+09  66825.674923  788988.271604\n",
       "Median_ultimate  1.279240e+03  5.858160e+04     96.000000     265.031200\n",
       "Mean_ultimate    1.816516e+03  7.698499e+04    167.931677     428.109478\n",
       "STD_ultimate     1.610143e+03  6.685827e+04    198.523145     443.396755\n",
       "Var_ultimate     2.592559e+06  4.470028e+09  39411.439053  196600.682672\n",
       "range95Lo       -1.403769e+03 -5.673154e+04   -229.114613    -458.684033\n",
       "range95Hi        5.036801e+03  2.107015e+05    564.977967    1314.902989"
      ]
     },
     "execution_count": 33,
     "metadata": {},
     "output_type": "execute_result"
    }
   ],
   "source": [
    "#SDA for surf users\n",
    "\n",
    "data_surf_stats = pd.DataFrame([data_surf.median(),data_surf.mean(), data_surf.std(), \n",
    "                                data_surf.var(),data_surf.mean() - 2* data_surf.var(),data_surf.mean() + 2* data_surf.var()], \n",
    "                               index=['Median_surf','Mean_surf','STD_surf', 'Var_surf','range95Lo','range95Hi'])\n",
    "\n",
    "#SDA for ultimate users (used different methods just to learn how we can do in different ways)\n",
    "data_ultimate_stats = pd.DataFrame()\n",
    "data_ultimate_stats['Median_ultimate']  = data_ultimate.median()\n",
    "data_ultimate_stats['Mean_ultimate']  = data_ultimate.mean()\n",
    "#Standard Deviation of surf\n",
    "data_ultimate_stats['STD_ultimate'] = data_ultimate.std()\n",
    "#Variance of ultimate \n",
    "data_ultimate_stats['Var_ultimate'] = data_ultimate.var()\n",
    "data_ultimate_stats['range95Lo'] = data_ultimate_stats['Mean_ultimate'] - 2 * data_ultimate_stats['STD_ultimate']\n",
    "data_ultimate_stats['range95Hi'] = data_ultimate_stats['Mean_ultimate'] + 2 * data_ultimate_stats['STD_ultimate']\n",
    "data_ultimate_stats = data_ultimate_stats.T #Transposing the ultimate stats so that mean, median, surf, var etc shown on left.\n",
    "\n",
    "#Concatenate SDA stats for surf and ultimate users\n",
    "data_all_stats = pd.concat([data_surf_stats,data_ultimate_stats])\n",
    "data_all_stats"
   ]
  },
  {
   "cell_type": "markdown",
   "metadata": {
    "colab_type": "text",
    "id": "9pOUa0vqLRdb"
   },
   "source": [
    "**CONCLUSION**\n",
    "\n",
    "The above values for Median, Mean, Standard Deviation and Variance (Dispersion) show that the Mean is higher than the Median for Minutes used, Data used, Messages used and Profit.\n",
    "This implies that the distribution  is skewed to the right (that is, bunched up toward the left and with a \"tail\" stretching toward the right).\n",
    "It is not a symmetrical distribution because in a symmetrical distribution, mean and median are same.\n",
    "\n",
    "For skewed distributions, the standard deviation will not give information on the asymmetry.\n",
    "\n",
    "It is better to use the first and third quartiles4, since these will give some sense of the asymmetry of the distribution. This will also become clearer in the histogram and density plots below."
   ]
  },
  {
   "cell_type": "markdown",
   "metadata": {
    "colab_type": "text",
    "id": "tXIaIk13fNsz"
   },
   "source": [
    "The range95Hi, range95Lo show the 2*sigma range = 95% fall within 2 Standard Deviations. (u +- 2 * sigma).\n",
    "\n",
    "The 95% range shows the negative values for the low range (range95Lo). \n",
    "Since the negative values for minutes, data, message count is not possible, all those values will cause the right skew."
   ]
  },
  {
   "cell_type": "markdown",
   "metadata": {
    "colab_type": "text",
    "id": "SZLsaOTuBn7L"
   },
   "source": [
    "**Heatmap**\n",
    "\n",
    "Heatmap to see correlation between profit and minutes, messages, data used for surf and ultimate plan users."
   ]
  },
  {
   "cell_type": "code",
   "execution_count": 34,
   "metadata": {
    "colab": {
     "base_uri": "https://localhost:8080/",
     "height": 287
    },
    "colab_type": "code",
    "id": "TZEpeJ3Qx_cJ",
    "outputId": "02612812-1c76-4612-ead3-d3f4f1d7d401"
   },
   "outputs": [
    {
     "data": {
      "image/png": "[encoded data removed]",
      "text/plain": [
       "<Figure size 432x288 with 2 Axes>"
      ]
     },
     "metadata": {
      "needs_background": "light"
     },
     "output_type": "display_data"
    }
   ],
   "source": [
    "heatmap = sns.heatmap(data_surf.corr(), vmin=-1, vmax=1, annot=True)\n",
    "# Give a title to the heatmap. Pad defines the distance of the title from the top of the heatmap.\n",
    "heatmap.set_title('Correlation Heatmap Surf Plan users', fontdict={'fontsize':12}, pad=12);"
   ]
  },
  {
   "cell_type": "markdown",
   "metadata": {},
   "source": [
    "<div style=\"border:solid green 4px; padding: 20px\">Beautiful!</div>"
   ]
  },
  {
   "cell_type": "code",
   "execution_count": 35,
   "metadata": {
    "colab": {
     "base_uri": "https://localhost:8080/",
     "height": 158
    },
    "colab_type": "code",
    "id": "V8gtMp2ZdCoC",
    "outputId": "b90c5ba9-5224-4115-c59d-abfcfb2c1f91"
   },
   "outputs": [
    {
     "data": {
      "text/plain": [
       "data_mb    msg_count    0.340066\n",
       "msg_count  profit       0.360584\n",
       "minutes    msg_count    0.426545\n",
       "           data_mb      0.742279\n",
       "           profit       0.775631\n",
       "data_mb    profit       0.997223\n",
       "minutes    minutes      1.000000\n",
       "dtype: float64"
      ]
     },
     "execution_count": 35,
     "metadata": {},
     "output_type": "execute_result"
    }
   ],
   "source": [
    "data_surf.corr().unstack().sort_values().drop_duplicates()"
   ]
  },
  {
   "cell_type": "markdown",
   "metadata": {
    "colab_type": "text",
    "id": "CTULMsqoc1C8"
   },
   "source": [
    "The Surf Plan users heatmap depicts that the Profit is strongly related with Minutes, Data_mb. Total number of messages is slightly less correlated with profits."
   ]
  },
  {
   "cell_type": "code",
   "execution_count": 36,
   "metadata": {
    "colab": {
     "base_uri": "https://localhost:8080/",
     "height": 287
    },
    "colab_type": "code",
    "id": "CK4X8usZztL_",
    "outputId": "b839c3b1-89aa-4d7c-e556-4c35ea41b153"
   },
   "outputs": [
    {
     "data": {
      "image/png": "[encoded data removed]",
      "text/plain": [
       "<Figure size 432x288 with 2 Axes>"
      ]
     },
     "metadata": {
      "needs_background": "light"
     },
     "output_type": "display_data"
    }
   ],
   "source": [
    "heatmap = sns.heatmap(data_ultimate.corr(), vmin=-1, vmax=1, annot=True)\n",
    "# Give a title to the heatmap. Pad defines the distance of the title from the top of the heatmap.\n",
    "heatmap.set_title('Correlation Heatmap Ultimate Plan users', fontdict={'fontsize':12}, pad=12);"
   ]
  },
  {
   "cell_type": "code",
   "execution_count": 37,
   "metadata": {
    "colab": {
     "base_uri": "https://localhost:8080/",
     "height": 158
    },
    "colab_type": "code",
    "id": "bS6WrB97eNqa",
    "outputId": "85d036f7-604c-4e63-9753-5a0571770b12"
   },
   "outputs": [
    {
     "data": {
      "text/plain": [
       "minutes    msg_count    0.482516\n",
       "msg_count  profit       0.553785\n",
       "data_mb    msg_count    0.561852\n",
       "minutes    profit       0.641107\n",
       "           data_mb      0.656433\n",
       "data_mb    profit       0.993229\n",
       "minutes    minutes      1.000000\n",
       "dtype: float64"
      ]
     },
     "execution_count": 37,
     "metadata": {},
     "output_type": "execute_result"
    }
   ],
   "source": [
    "data_ultimate.corr().unstack().sort_values().drop_duplicates()"
   ]
  },
  {
   "cell_type": "markdown",
   "metadata": {
    "colab_type": "text",
    "id": "FnkuAlDQeKs-"
   },
   "source": [
    "The Ultimate Plan users heatmap depicts that the Profit is strongly related with Minutes, Data_mb. Total number of messages also is has an impact on profits (lesser extent than minutes and data)."
   ]
  },
  {
   "cell_type": "code",
   "execution_count": 38,
   "metadata": {
    "colab": {
     "base_uri": "https://localhost:8080/",
     "height": 302
    },
    "colab_type": "code",
    "id": "-5aKgSkWy0iV",
    "outputId": "255487d6-27ae-473d-cceb-553764e7423d"
   },
   "outputs": [
    {
     "data": {
      "image/png": "[encoded data removed]",
      "text/plain": [
       "<Figure size 432x288 with 2 Axes>"
      ]
     },
     "metadata": {
      "needs_background": "light"
     },
     "output_type": "display_data"
    }
   ],
   "source": [
    "#plt.figure(figsize=(8, 12))\n",
    "heatmap = sns.heatmap(data_surf.corr()[['profit']].sort_values(by='profit', ascending=False), vmin=-1, vmax=1, annot=True, cmap='BrBG')\n",
    "heatmap.set_title('Features Correlating with profit for Surf Plan Users', fontdict={'fontsize':18}, pad=16);"
   ]
  },
  {
   "cell_type": "markdown",
   "metadata": {
    "colab_type": "text",
    "id": "ndHd_Id0e35V"
   },
   "source": [
    "The Surf plan users result in profit with strong correlation of data used, minutes used and messages. Maybe the plan should decrease the total number of free messages offered in the plan to increase the profits on messages.\n",
    "The plan may also want to increase the cost for more data and more minutes."
   ]
  },
  {
   "cell_type": "code",
   "execution_count": 39,
   "metadata": {
    "colab": {
     "base_uri": "https://localhost:8080/",
     "height": 302
    },
    "colab_type": "code",
    "id": "wbFBsWY_ziS5",
    "outputId": "b6b24455-1445-4e6f-faf4-01f9785ce276"
   },
   "outputs": [
    {
     "data": {
      "image/png": "[encoded data removed]",
      "text/plain": [
       "<Figure size 432x288 with 2 Axes>"
      ]
     },
     "metadata": {
      "needs_background": "light"
     },
     "output_type": "display_data"
    }
   ],
   "source": [
    "heatmap = sns.heatmap(data_ultimate.corr()[['profit']].sort_values(by='profit', ascending=False), vmin=-1, vmax=1, annot=True, cmap='BrBG')\n",
    "heatmap.set_title('Features Correlating with profit for Ultimate Plan Users', fontdict={'fontsize':18}, pad=16);"
   ]
  },
  {
   "cell_type": "markdown",
   "metadata": {
    "colab_type": "text",
    "id": "0lzPmk4iesfV"
   },
   "source": [
    "The Ultimate plan users result in profit with strong correlation of data used, minutes used and messages.  Maybe the plan should decrease the total number of free messages offered in the plan to increase the profits on messages.\n",
    "The plan may also want to increase the cost for more data and more minutes."
   ]
  },
  {
   "cell_type": "markdown",
   "metadata": {
    "colab_type": "text",
    "id": "3ID_1oREB4t6"
   },
   "source": [
    "**Distplots and Histograms**\n",
    "\n",
    "Histograms for Surf and Ultimate Plan users"
   ]
  },
  {
   "cell_type": "code",
   "execution_count": 40,
   "metadata": {
    "colab": {
     "base_uri": "https://localhost:8080/",
     "height": 301
    },
    "colab_type": "code",
    "id": "UdLUnLCf3vWH",
    "outputId": "1e777ef7-b7c2-4e21-b442-c7fd144fb750"
   },
   "outputs": [
    {
     "data": {
      "text/plain": [
       "<matplotlib.axes._subplots.AxesSubplot at 0x7f7ab6e1e650>"
      ]
     },
     "execution_count": 40,
     "metadata": {},
     "output_type": "execute_result"
    },
    {
     "data": {
      "image/png": "[encoded data removed]",
      "text/plain": [
       "<Figure size 432x288 with 1 Axes>"
      ]
     },
     "metadata": {
      "needs_background": "light"
     },
     "output_type": "display_data"
    }
   ],
   "source": [
    "#Histograms for both plans (surf, ultimate)\n",
    "\n",
    "sns.distplot(data_surf['profit'], hist = False,kde = True,kde_kws = {'shade': True, 'linewidth': 3},label = 'surf')\n",
    "sns.distplot(data_ultimate['profit'], hist = False,kde = True,kde_kws = {'shade': True, 'linewidth': 3},label = 'ultimate')\n",
    "sns.distplot(data_combined['profit'], hist = False,kde = True,kde_kws = {'shade': True, 'linewidth': 3},label = 'combined')"
   ]
  },
  {
   "cell_type": "code",
   "execution_count": 41,
   "metadata": {
    "colab": {
     "base_uri": "https://localhost:8080/",
     "height": 308
    },
    "colab_type": "code",
    "id": "oKsrWchXY-Ks",
    "outputId": "3c286113-c719-432b-cbbf-205280acf3cd"
   },
   "outputs": [
    {
     "data": {
      "text/plain": [
       "<matplotlib.axes._subplots.AxesSubplot at 0x7f7ab7aa4e10>"
      ]
     },
     "execution_count": 41,
     "metadata": {},
     "output_type": "execute_result"
    },
    {
     "data": {
      "image/png": "[encoded data removed]",
      "text/plain": [
       "<Figure size 432x288 with 1 Axes>"
      ]
     },
     "metadata": {
      "needs_background": "light"
     },
     "output_type": "display_data"
    }
   ],
   "source": [
    "sns.distplot(data_surf['data_mb'], hist = False,kde = True,kde_kws = {'shade': True, 'linewidth': 3},label = 'surf')\n",
    "sns.distplot(data_ultimate['data_mb'], hist = False,kde = True,kde_kws = {'shade': True, 'linewidth': 3},label = 'ultimate')\n",
    "sns.distplot(data_combined['data_mb'], hist = False,kde = True,kde_kws = {'shade': True, 'linewidth': 3},label = 'combined')"
   ]
  },
  {
   "cell_type": "code",
   "execution_count": 42,
   "metadata": {
    "colab": {
     "base_uri": "https://localhost:8080/",
     "height": 296
    },
    "colab_type": "code",
    "id": "Qd5q27NEZKCi",
    "outputId": "438e9755-559d-4859-e7f7-ab42180080f2"
   },
   "outputs": [
    {
     "data": {
      "text/plain": [
       "<matplotlib.axes._subplots.AxesSubplot at 0x7f7ab6cd9b50>"
      ]
     },
     "execution_count": 42,
     "metadata": {},
     "output_type": "execute_result"
    },
    {
     "data": {
      "image/png": "[encoded data removed]",
      "text/plain": [
       "<Figure size 432x288 with 1 Axes>"
      ]
     },
     "metadata": {
      "needs_background": "light"
     },
     "output_type": "display_data"
    }
   ],
   "source": [
    "sns.distplot(data_surf['minutes'], hist = False,kde = True,kde_kws = {'shade': True, 'linewidth': 3},label = 'surf')\n",
    "sns.distplot(data_ultimate['minutes'], hist = False,kde = True,kde_kws = {'shade': True, 'linewidth': 3},label = 'ultimate')\n",
    "sns.distplot(data_combined['minutes'], hist = False,kde = True,kde_kws = {'shade': True, 'linewidth': 3},label = 'combined')"
   ]
  },
  {
   "cell_type": "code",
   "execution_count": 43,
   "metadata": {
    "colab": {
     "base_uri": "https://localhost:8080/",
     "height": 300
    },
    "colab_type": "code",
    "id": "9Tf51IFSaM8j",
    "outputId": "3b8d3a58-13aa-466b-ff8e-50984d71d2be"
   },
   "outputs": [
    {
     "data": {
      "text/plain": [
       "<matplotlib.axes._subplots.AxesSubplot at 0x7f7ab6f920d0>"
      ]
     },
     "execution_count": 43,
     "metadata": {},
     "output_type": "execute_result"
    },
    {
     "data": {
      "image/png": "[encoded data removed]",
      "text/plain": [
       "<Figure size 432x288 with 1 Axes>"
      ]
     },
     "metadata": {
      "needs_background": "light"
     },
     "output_type": "display_data"
    }
   ],
   "source": [
    "sns.distplot(data_surf['msg_count'], hist = False,kde = True,kde_kws = {'shade': True, 'linewidth': 3},label = 'surf')\n",
    "sns.distplot(data_ultimate['msg_count'], hist = False,kde = True,kde_kws = {'shade': True, 'linewidth': 3},label = 'ultimate')\n",
    "sns.distplot(data_combined['msg_count'], hist = False,kde = True,kde_kws = {'shade': True, 'linewidth': 3},label = 'combined')"
   ]
  },
  {
   "cell_type": "markdown",
   "metadata": {
    "colab_type": "text",
    "id": "Xv21zNO3ljNL"
   },
   "source": [
    "**CONCLUSION**\n",
    "\n",
    "The above distplots display distribution of minutes, data used, messages, and profit against the density distribution. All plots are skewed to the right as we had inferred from the values of mean, median, STD and 95% fall within 2sigmas. \n",
    "\n",
    "Since the Mobile plan data that has a lower bound (it cannot be less than zero), the maps is skewed to the right. The lowerbound is zero (0) in this plan information. The mobile plan information generates positive data only. "
   ]
  },
  {
   "cell_type": "code",
   "execution_count": 44,
   "metadata": {
    "colab": {
     "base_uri": "https://localhost:8080/",
     "height": 374
    },
    "colab_type": "code",
    "id": "T1rrkz9IBAQF",
    "outputId": "f25e5994-3bb0-4a58-aa58-5a283994b1ee"
   },
   "outputs": [
    {
     "name": "stderr",
     "output_type": "stream",
     "text": [
      "/opt/conda/lib/python3.7/site-packages/numpy/core/_asarray.py:83: VisibleDeprecationWarning: Creating an ndarray from ragged nested sequences (which is a list-or-tuple of lists-or-tuples-or ndarrays with different lengths or shapes) is deprecated. If you meant to do this, you must specify 'dtype=object' when creating the ndarray\n",
      "  return array(a, dtype, copy=False, order=order)\n"
     ]
    },
    {
     "data": {
      "image/png": "[encoded data removed]",
      "text/plain": [
       "<Figure size 720x432 with 1 Axes>"
      ]
     },
     "metadata": {
      "needs_background": "light"
     },
     "output_type": "display_data"
    }
   ],
   "source": [
    "fig = plt.figure(figsize=(10,6)) \n",
    "ax = fig.add_subplot()\n",
    "col='profit'\n",
    "ax.hist([data_surf[col], data_ultimate[col]], label=( col + ' surf',  col + ' ultimate'), bins=25)\n",
    "ax.legend();"
   ]
  },
  {
   "cell_type": "code",
   "execution_count": 45,
   "metadata": {
    "colab": {
     "base_uri": "https://localhost:8080/",
     "height": 878
    },
    "colab_type": "code",
    "id": "_AeblMGkDGUx",
    "outputId": "93591e20-476d-443e-d9ab-00ee252fb664"
   },
   "outputs": [
    {
     "data": {
      "image/png": "[encoded data removed]",
      "text/plain": [
       "<Figure size 1080x1080 with 4 Axes>"
      ]
     },
     "metadata": {
      "needs_background": "light"
     },
     "output_type": "display_data"
    }
   ],
   "source": [
    "df1 = data_surf\n",
    "\n",
    "length=4\n",
    "axes = data_surf.hist(  figsize=(15,15),bins=25, label='surf')\n",
    "data_ultimate.hist(ax=axes.ravel()[:length], figsize=(15,15), bins=25, label='profit',color='r')\n",
    "plt.legend();\n"
   ]
  },
  {
   "cell_type": "markdown",
   "metadata": {
    "colab_type": "text",
    "id": "EHqiEF2VbNTk"
   },
   "source": [
    "**CONCLUSION**\n",
    "\n",
    "All the histograms were drawn for both Surf Plan and Ultimate Plan users. All histograms show skewness to the right. This implies that most of the users used fewer minutes, data, and messages. Only a few users used a lot of data, minutes, and messages. \n",
    "In my opinion, right skew of the data is a correct representation of the Calling plan.\n",
    "We always will have a few people who will use the calling plan minutes, messages and text a lot. Maybe they travel a lot, or are studying abroad and use the mobile plan extensively."
   ]
  },
  {
   "cell_type": "markdown",
   "metadata": {
    "colab_type": "text",
    "id": "D3x3hajjCQQM"
   },
   "source": [
    "**Boxplots**\n",
    "\n",
    "Boxplots to show the values above the Interquartile range"
   ]
  },
  {
   "cell_type": "code",
   "execution_count": 46,
   "metadata": {
    "colab": {
     "base_uri": "https://localhost:8080/",
     "height": 265
    },
    "colab_type": "code",
    "id": "9uBVPu9n10BX",
    "outputId": "fbaa89e3-3fdc-4a01-e717-d56e97dbb5cc"
   },
   "outputs": [
    {
     "data": {
      "image/png": "[encoded data removed]",
      "text/plain": [
       "<Figure size 432x288 with 1 Axes>"
      ]
     },
     "metadata": {
      "needs_background": "light"
     },
     "output_type": "display_data"
    }
   ],
   "source": [
    "data_surf[['data_mb']].boxplot();"
   ]
  },
  {
   "cell_type": "code",
   "execution_count": 47,
   "metadata": {
    "colab": {
     "base_uri": "https://localhost:8080/",
     "height": 264
    },
    "colab_type": "code",
    "id": "D13erxJE2hD5",
    "outputId": "ecfa8dac-33f2-4acf-98ce-e85c7f88c594"
   },
   "outputs": [
    {
     "data": {
      "image/png": "[encoded data removed]",
      "text/plain": [
       "<Figure size 432x288 with 1 Axes>"
      ]
     },
     "metadata": {
      "needs_background": "light"
     },
     "output_type": "display_data"
    }
   ],
   "source": [
    "data_surf[['minutes']].boxplot();"
   ]
  },
  {
   "cell_type": "code",
   "execution_count": 48,
   "metadata": {
    "colab": {
     "base_uri": "https://localhost:8080/",
     "height": 283
    },
    "colab_type": "code",
    "id": "7ZX5I3Qlz8Xi",
    "outputId": "922363dd-6fcb-42c4-937e-5370b6469c3f"
   },
   "outputs": [
    {
     "data": {
      "text/plain": [
       "<matplotlib.axes._subplots.AxesSubplot at 0x7f7ab63e20d0>"
      ]
     },
     "execution_count": 48,
     "metadata": {},
     "output_type": "execute_result"
    },
    {
     "data": {
      "image/png": "[encoded data removed]",
      "text/plain": [
       "<Figure size 432x288 with 1 Axes>"
      ]
     },
     "metadata": {
      "needs_background": "light"
     },
     "output_type": "display_data"
    }
   ],
   "source": [
    "data_surf[['msg_count']].boxplot()"
   ]
  },
  {
   "cell_type": "code",
   "execution_count": 49,
   "metadata": {
    "colab": {
     "base_uri": "https://localhost:8080/",
     "height": 282
    },
    "colab_type": "code",
    "id": "Ifru-rZh2tQW",
    "outputId": "93dfd31b-15f9-45aa-de3c-68663e6c12a2"
   },
   "outputs": [
    {
     "data": {
      "text/plain": [
       "<matplotlib.axes._subplots.AxesSubplot at 0x7f7ab632fa90>"
      ]
     },
     "execution_count": 49,
     "metadata": {},
     "output_type": "execute_result"
    },
    {
     "data": {
      "image/png": "[encoded data removed]",
      "text/plain": [
       "<Figure size 432x288 with 1 Axes>"
      ]
     },
     "metadata": {
      "needs_background": "light"
     },
     "output_type": "display_data"
    }
   ],
   "source": [
    "data_surf[['profit']].boxplot()"
   ]
  },
  {
   "cell_type": "markdown",
   "metadata": {
    "colab_type": "text",
    "id": "IXGUrOg9nAUl"
   },
   "source": [
    "**CONCLUSION**\n",
    "\n",
    "The box plots show a good number of values above the whiskers. These resulted in median value to be lower than the mean.\n",
    "Reasons are obvious - there are a few very heavy users of the plan, and they are resulting in heavy profits. "
   ]
  },
  {
   "cell_type": "markdown",
   "metadata": {
    "colab_type": "text",
    "id": "ZS8bzPpsCn9q"
   },
   "source": [
    "**Step 4. Test the hypotheses**\n",
    "\n",
    "1. The average profit from users of Ultimate and Surf calling plans differs.\n",
    "2. The average profit from users in NY-NJ area is different from that of the users from other regions."
   ]
  },
  {
   "cell_type": "code",
   "execution_count": 50,
   "metadata": {
    "colab": {
     "base_uri": "https://localhost:8080/",
     "height": 52
    },
    "colab_type": "code",
    "id": "ueCuCYSJ21dg",
    "outputId": "0aef7178-c789-427f-9ea1-83b687c9cee9",
    "scrolled": true
   },
   "outputs": [
    {
     "name": "stdout",
     "output_type": "stream",
     "text": [
      "p-value:  [1.19872148e-07]\n",
      "We reject the null hypothesis\n"
     ]
    }
   ],
   "source": [
    "#Hypthesis 0 (Null Hypothesis)  The average profit from users of Ultimate and Surf calling plans differs.\n",
    "profit_surf = data_surf[['profit']]\n",
    "profit_ultimate = data_ultimate[['profit']]\n",
    "\n",
    "alpha = .05 # critical statistical significance level\n",
    "                        # if the p-value is less than alpha, we reject the hypothesis\n",
    "\n",
    "results = st.ttest_ind(\n",
    "        profit_surf, \n",
    "        profit_ultimate,equal_var=False) #equal_var is False because we are considering that the average profit from users of two different plans differs\n",
    "\n",
    "p_value = results.pvalue\n",
    "print('p-value: ', p_value)\n",
    "\n",
    "if (p_value < alpha):\n",
    "    print(\"We reject the null hypothesis\")\n",
    "else:\n",
    "    print(\"We can't reject the null hypothesis\")"
   ]
  },
  {
   "cell_type": "markdown",
   "metadata": {
    "colab_type": "text",
    "id": "R_1pDCdIJNVA"
   },
   "source": [
    "**CONCLUSION**\n",
    "\n",
    "As we see in profits, the Ultimate plan and surf plan have different profits.\n",
    "\n",
    "Hence our null hypothesis - profits from Surf plan and Ultimate plan differ.\n",
    "\n",
    "In order to test our hypothesis that the means of the two calling plans differ based on samples taken from them, we apply the method scipy.stats.ttest_ind (array1, array2, equal_var).\n",
    "We pass these parameters to the method:\n",
    "array1, array2 are arrays containing the samples\n",
    "equal_var (from equal variance) is an parameter that specifies whether or not the variances of the samples should be considered equal. It’s passed as “equal_var = True” or “equal_var = False” (True means we consider the variances equal, False means we don't).\n",
    "\n",
    "#As per the results, p_value is less than alpha (0.05). Hence we reject the Null Hypothesis that the profits from Surf plan and Ultimate plan differ."
   ]
  },
  {
   "cell_type": "markdown",
   "metadata": {
    "colab_type": "text",
    "id": "gWUZkb4rPH8g"
   },
   "source": [
    "**Hypthesis 0 (Null Hypothesis)**\n",
    "\n",
    "The average profit from users in NY-NJ area is different from that of the users from other regions."
   ]
  },
  {
   "cell_type": "code",
   "execution_count": 51,
   "metadata": {
    "colab": {
     "base_uri": "https://localhost:8080/",
     "height": 230
    },
    "colab_type": "code",
    "id": "3dCX4J6xO-it",
    "outputId": "d22ef391-7b5b-4366-8ad2-37e7fd64c1b4"
   },
   "outputs": [
    {
     "data": {
      "text/plain": [
       "14       41.68850\n",
       "22     1298.23790\n",
       "24       20.90060\n",
       "27      833.63810\n",
       "31      505.06176\n",
       "          ...    \n",
       "469     227.50020\n",
       "482      70.00000\n",
       "494     849.19170\n",
       "495     890.30190\n",
       "498    2217.55040\n",
       "Name: profit, Length: 80, dtype: float64"
      ]
     },
     "execution_count": 51,
     "metadata": {},
     "output_type": "execute_result"
    }
   ],
   "source": [
    "#Hypthesis 0 (Null Hypothesis)  The average profit from users in NY-NJ area is different from that of the users from other regions.\n",
    "profit_NYNJ = data_combined[data_combined['NYNJ']==True]['profit']\n",
    "profit_NYNJ"
   ]
  },
  {
   "cell_type": "code",
   "execution_count": 52,
   "metadata": {
    "colab": {
     "base_uri": "https://localhost:8080/",
     "height": 230
    },
    "colab_type": "code",
    "id": "qClSJYPnO-u_",
    "outputId": "22699e56-466d-4448-a52f-7eaf6a93ea52"
   },
   "outputs": [
    {
     "data": {
      "text/plain": [
       "0        70.00000\n",
       "1       709.70320\n",
       "2       278.78720\n",
       "3       153.07140\n",
       "4      1497.30660\n",
       "          ...    \n",
       "492     291.48340\n",
       "493     389.60901\n",
       "496     535.82270\n",
       "497      70.00000\n",
       "499     608.41160\n",
       "Name: profit, Length: 420, dtype: float64"
      ]
     },
     "execution_count": 52,
     "metadata": {},
     "output_type": "execute_result"
    }
   ],
   "source": [
    "profit_others = data_combined[data_combined['NYNJ']==False]['profit']\n",
    "profit_others"
   ]
  },
  {
   "cell_type": "code",
   "execution_count": 53,
   "metadata": {
    "colab": {
     "base_uri": "https://localhost:8080/",
     "height": 52
    },
    "colab_type": "code",
    "id": "a6BUEoXBPrh8",
    "outputId": "3b020c18-e930-4c9b-98f5-3d9061985971"
   },
   "outputs": [
    {
     "name": "stdout",
     "output_type": "stream",
     "text": [
      "mean NYNJ 675.1601605\n",
      "mean others 593.2671926904761\n"
     ]
    }
   ],
   "source": [
    "mean_NYNJ = profit_NYNJ.mean()\n",
    "mean_others = profit_others.mean()\n",
    "print ('mean NYNJ',mean_NYNJ)\n",
    "print('mean others', mean_others)"
   ]
  },
  {
   "cell_type": "markdown",
   "metadata": {
    "colab_type": "text",
    "id": "CtX9WaMYns9b"
   },
   "source": [
    "**CONCLUSION**\n",
    "\n",
    "My hypothesis for NYNJ users vs others is that NYNJ users lead to a higher profit than all the other users. Hence my null-hypothesis - Profit from NY-NJ area is different from users of other regions."
   ]
  },
  {
   "cell_type": "code",
   "execution_count": 54,
   "metadata": {
    "colab": {
     "base_uri": "https://localhost:8080/",
     "height": 52
    },
    "colab_type": "code",
    "id": "b1EgMkW7D4Np",
    "outputId": "fa8073c8-d1d8-4ef2-e692-6cc73e900ed2"
   },
   "outputs": [
    {
     "name": "stdout",
     "output_type": "stream",
     "text": [
      "p-value:  0.2705733346912571\n",
      "We can't reject the null hypothesis\n"
     ]
    }
   ],
   "source": [
    "#Hypthesis 0 (Null Hypothesis)  The average profit from users in NY-NJ area is different from that of the users from other regions.\n",
    "\n",
    "alpha = .05 # critical statistical significance level\n",
    "                       \n",
    "results = st.ttest_ind(\n",
    "        profit_NYNJ, \n",
    "        profit_others,\n",
    "        equal_var = False)  #False because we are considering that the NY-NJ area residents have different profit from users of other regions\n",
    "\n",
    "p_value = results.pvalue\n",
    "print('p-value: ', p_value)\n",
    "\n",
    " # if the p-value is less than alpha, we reject the hypothesis\n",
    "if (p_value < alpha):\n",
    "    print(\"We reject the null hypothesis\")\n",
    "else:\n",
    "    print(\"We can't reject the null hypothesis\")"
   ]
  },
  {
   "cell_type": "code",
   "execution_count": 55,
   "metadata": {
    "colab": {
     "base_uri": "https://localhost:8080/",
     "height": 296
    },
    "colab_type": "code",
    "id": "cpR0ScI6ZvxT",
    "outputId": "3f35a635-06bb-4ee3-dbed-3943c14a6ab8"
   },
   "outputs": [
    {
     "data": {
      "text/plain": [
       "<matplotlib.axes._subplots.AxesSubplot at 0x7f7ab56623d0>"
      ]
     },
     "execution_count": 55,
     "metadata": {},
     "output_type": "execute_result"
    },
    {
     "data": {
      "image/png": "[encoded data removed]",
      "text/plain": [
       "<Figure size 432x288 with 1 Axes>"
      ]
     },
     "metadata": {
      "needs_background": "light"
     },
     "output_type": "display_data"
    }
   ],
   "source": [
    "sns.distplot(profit_NYNJ, hist = False,kde = True,kde_kws = {'shade': True, 'linewidth': 3},label = 'NYNJ')\n",
    "sns.distplot(profit_others, hist = False,kde = True,kde_kws = {'shade': True, 'linewidth': 3},label = 'others')\n",
    "sns.distplot(data_combined['profit'], hist = False,kde = True,kde_kws = {'shade': True, 'linewidth': 3},label = 'combined')"
   ]
  },
  {
   "cell_type": "markdown",
   "metadata": {
    "colab_type": "text",
    "id": "Y2IxEpGrPwah"
   },
   "source": [
    "**CONCLUSION**\n",
    "\n",
    "p-value is 0.27 and is higher than alpha. Hence we cannot reject the null hypothesis that the NY-NJ area residents have different profit than users from other regions. We also calculated the Mean profit of NYNJ residents vs other areas and found out that NYNJ had a much higher profit (675.16) vs other area (593.26). "
   ]
  },
  {
   "cell_type": "markdown",
   "metadata": {
    "colab_type": "text",
    "id": "QRUKCMe3S42U"
   },
   "source": [
    "\n",
    "Intuitively, a data distribution with more values to the right of the mean than to the left (as in the distribution pictured above) is said to skew to the right. This is often called positive skew."
   ]
  },
  {
   "cell_type": "markdown",
   "metadata": {
    "colab_type": "text",
    "id": "IBU_jzx0FJ2V"
   },
   "source": [
    "# Overall Conclusion\n",
    "\n",
    "There were two mobile plans to which users could subscribe: Surf and Ultimate\n",
    "Surf is a 20USD per month plan\n",
    "Ultimate is a 70USD per month plan, with higher inclusion limits than surf plan\n",
    "\n",
    "There are 500 users for which the mobile plan data was available - phone calls, call minutes (duration), messages, data used.\n",
    "\n",
    "There are 339 Surf plan users\n",
    "There are 161 Ultimate plan users\n",
    "\n",
    "Some of the mobile usage (eg call data, message data, internet usage data) information was missing for some users. I replaced the missing information with zeros.\n",
    "\n",
    "Most users (427) went above the plan limits of their mobile plan.\n",
    "\n",
    "There were 275 Surf plan users who used the plan beyond the Ultimate plan (70USD) limit. \n",
    "\n",
    "There are 113 users who are paying more than 1000USD per month for the plan, \n",
    "98 of these are surf users, 15 are ultimate plan users.\n",
    "Their extra usage of data is the main reason for these high costs.\n",
    "\n",
    "There were around 45 outliers with most (23 - 50 percent) in the message usage. I didn't remove these outliers because it can depict the true situation where most users use the plan within certain ranges but few are very heavy users.\n",
    "\n",
    "The distributions depicted data was skewed right, with a tail on the right side of the plots. This is expected of a Mobile plan because the lower bound is zero (we cannot have negative usage of minutes, messages or data).\n",
    "\n",
    "\n",
    "Total and Mean Profit generated by Surf plan users is (USD): 234259.40, 691.030701\n",
    "Total and Mean Profit generated by Ultimate plan users is (USD): 12394583.78, 428.10\n",
    "\n",
    "\n",
    "This depicted that Surf plan users generated higher profit than Ultimate plan users. I tested this hypothesis that the two plans differed in the profit generation. The hypothesis failed.\n",
    "\n",
    "Mean Profit generated by NYNJ users is: 675.16\n",
    "Mean Profit generated by all others users is: 593.26\n",
    "This depicted that NYNJ users generated higher profit than non NYNJ users. I tested this hypothesis that the NYNJ users had different profit than other users. The hypothesis can not rejected. Hence we cannot fail the hypothesis that the profit from NYNJ users is different from users of other locations.\n",
    "\n",
    "Based on the above observations, I would recommend the following:\n",
    "\n",
    "a. The company introduce a new plan \"Infinite plan\" for users who are paying above 1000USD per month. The monthly charges for the plan will be much higher than the ultimate plan, but it will give the company a constant stream of revenue.\n",
    "\n",
    "b The company may also want to recommend to the surf plan users who go beyond the 70USD rate to change plans to \"ultimate\" or \"infinite\".\n",
    "\n",
    "c.The mobile company should also evaluate if the extreme users (> 1000USD per month charge) will be able to pay their bills."
   ]
  },
  {
   "cell_type": "markdown",
   "metadata": {
    "colab_type": "text",
    "id": "ryGTlBiTiQHb"
   },
   "source": [
    "### Project completion checklist\n",
    "\n",
    "Mark the completed tasks with 'x'. Then press Shift+Enter."
   ]
  },
  {
   "cell_type": "markdown",
   "metadata": {
    "colab_type": "text",
    "id": "QkaDgPCfvZRG"
   },
   "source": [
    "- [x]  file opened\n",
    "- [X]  files explored (first rows printed, info() method)\n",
    "- [x]  clarification of the discovered values provided (call duration 0.0 minutes)\n",
    "- [X]  data types converted (dates)\n",
    "- [x]  explanation of which columns had the data types changed and why\n",
    "- [X]  calculated and displayed: messages used per user\n",
    "- [X]  calculated and displayed : data used per user\n",
    "- [X]  calculated and displayed: number of calls and minutes per user\n",
    "- [X]  calculated and displayed: mean, median, Standard deviation, variance, 95% with 2sigma.\n",
    "- [x]  the following parameters investigated: messages, data used, minutes used, calling plans, profit\n",
    "- [x]  biggest profit generators identified\n",
    "- [X]  histograms, dist plots, box plots for each parameter created\n",
    "- [X]  Observation and findings based on histogram, distplots and box plots\n",
    "- [x]  task completed: \"the null hypothesis for difference in profit of surf and ultimate plan users\"\n",
    "- [x]  task completed: \"the null hypothesis for difference in profit of NYNJ vs other users\"\n",
    "- [x]  task completed: \"Which factors have had the biggest influence on the profit generation.\n",
    "- [x]  each stage has a conclusion\n",
    "- [x]  overall conclusion drawn and recommendation given"
   ]
  },
  {
   "cell_type": "markdown",
   "metadata": {},
   "source": [
    "Looking forward to your feedback."
   ]
  }
 ],
 "metadata": {
  "kernelspec": {
   "display_name": "Python 3",
   "language": "python",
   "name": "python3"
  },
  "language_info": {
   "codemirror_mode": {
    "name": "ipython",
    "version": 3
   },
   "file_extension": ".py",
   "mimetype": "text/x-python",
   "name": "python",
   "nbconvert_exporter": "python",
   "pygments_lexer": "ipython3",
   "version": "3.7.8"
  },
  "toc": {
   "base_numbering": 1,
   "nav_menu": {},
   "number_sections": true,
   "sideBar": true,
   "skip_h1_title": true,
   "title_cell": "Table of Contents",
   "title_sidebar": "Contents",
   "toc_cell": false,
   "toc_position": {},
   "toc_section_display": true,
   "toc_window_display": false
  }
 },
 "nbformat": 4,
 "nbformat_minor": 2
}
